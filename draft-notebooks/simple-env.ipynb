{
 "cells": [
  {
   "cell_type": "code",
   "execution_count": 2,
   "metadata": {},
   "outputs": [],
   "source": [
    "import sys\n",
    "sys.path.append(\"..\")\n",
    "from utils import append_derivatives_to_dataframe\n",
    "from estimators.frequency import EIVSin\n",
    "import numpy as np\n",
    "from scipy.integrate import odeint, solve_ivp\n",
    "from simulation.excitation_signals import sinusoidal_fun,  sweep_fun\n",
    "import time\n",
    "import matplotlib.pyplot as plt\n",
    "from collections import Counter\n",
    "import math\n",
    "import pandas as pd"
   ]
  },
  {
   "cell_type": "code",
   "execution_count": 51,
   "metadata": {},
   "outputs": [],
   "source": [
    "config = { \"K\": [[4300, 430],\n",
    "          [430, 4300]],\n",
    "    \"C\": [[40, 5],\n",
    "          [5, 40]],\n",
    "    \"t\" : 2,\n",
    "    \"f\" : 4,\n",
    "    \"dt\" : 0.0001}\n"
   ]
  },
  {
   "cell_type": "code",
   "execution_count": 52,
   "metadata": {},
   "outputs": [],
   "source": [
    "class SimpleSystem:\n",
    "    metadata = {'render.modes': ['human']}\n",
    "\n",
    "    def __init__(self):\n",
    "        \"\"\"\n",
    "        Define basic variables and constants\n",
    "\n",
    "        - gravity\n",
    "        - mass (of the axis)\n",
    "        - inertia : moment of inertia\n",
    "        - radius: tha radius of the axis at point A and B\n",
    "        - bearing constant: the constant of the magnetic bearing (Fm = bearing_constant*i^2/d^2)\n",
    "        - L : the distance between the center of mass of the axis and the magnetic bearing action point\n",
    "        - dt : the time between iterations\n",
    "\n",
    "        \"\"\"\n",
    "\n",
    "        self.reset_count = 1\n",
    "        self.gravity = 9.80665\n",
    "        self.gravity = 0\n",
    "        self.mass = 1  # axis mass\n",
    "\n",
    "        self.dt = 0.000001\n",
    "        self.q = np.array([[0],\n",
    "                           [0]])\n",
    "        self.q_dot = np.array([[0],\n",
    "                           [0]])\n",
    "        \n",
    "        self.M = np.array([[1, 0],\n",
    "                           [0, 1]])\n",
    "        self.K = np.array([[0, 0],\n",
    "                           [0, 0]])\n",
    "        self.C = np.array([[0, 0],\n",
    "                           [0, 0]])\n",
    "\n",
    "    def solve(self, dt, t, force_fun):\n",
    "        \n",
    "        \"\"\"\n",
    "        \n",
    "        \n",
    "        Returns de solution\n",
    "        \n",
    "        \"\"\"\n",
    "        t_eval = np.arange(0, t, step=dt)\n",
    "        y = np.concatenate([self.q.flatten(), self.q_dot.flatten()], axis=0).flatten()\n",
    "        sol = solve_ivp(fun=self.dynamics_fn, t_span=[0, t], y0=y, method='RK45',\n",
    "                        args=(force_fun,), t_eval=t_eval)\n",
    "\n",
    "        \n",
    "        \n",
    "        if sol['success']:\n",
    "            \n",
    "            f = np.array(list(map(force_fun, sol[\"t\"])))\n",
    "            y = sol[\"y\"]\n",
    "        \n",
    "            return {\n",
    "                \"t\" : sol[\"t\"],\n",
    "                \"x\" : y[0, :],\n",
    "                \"y\" : y[1, :],\n",
    "                \"fx\" : f[:, 0],\n",
    "                \"fy\" : f[:, 1]\n",
    "            }\n",
    "            \n",
    "        else:\n",
    "            raise ValueError('Solver error')\n",
    "\n",
    "\n",
    "    def dynamics_fn(self, t, y, f):\n",
    "        \"\"\"\n",
    "\n",
    "        :param t: time\n",
    "        :param y:  array of shape (12,) with position and velocity\n",
    "        :param f:  force\n",
    "        :param mass: mass\n",
    "        :param gravity: gravity\n",
    "        :param Icm:\n",
    "        :return:\n",
    "        \"\"\"\n",
    "        q, q_dot = y[:2], y[2:]\n",
    "\n",
    "        \n",
    "\n",
    "        \n",
    "        q = q.reshape((-1, 1))\n",
    "        q_dot = q_dot.reshape((-1, 1))\n",
    "\n",
    "\n",
    "        bearing_force = self.K @ q + self.C @ q_dot\n",
    "\n",
    "        q_dot2 =  np.linalg.inv(self.M) @ ( - bearing_force + f(t).reshape((2, 1)) )\n",
    "        \n",
    "        dydt = np.concatenate([q_dot.flatten(), q_dot2.flatten()], axis=0)\n",
    "\n",
    "        return dydt"
   ]
  },
  {
   "cell_type": "code",
   "execution_count": 62,
   "metadata": {},
   "outputs": [
    {
     "name": "stdout",
     "output_type": "stream",
     "text": [
      "0.0001\n",
      "0.0001\n"
     ]
    }
   ],
   "source": [
    "\n",
    "\n",
    "def get_data(config, axis=\"x\"):\n",
    "    \n",
    "    dt = config[\"dt\"]\n",
    "    t  = config[\"t\"]\n",
    "    f = config[\"f\"]\n",
    "\n",
    "    env = SimpleSystem()\n",
    "    env.K = config[\"K\"]\n",
    "    env.C = config[\"C\"]\n",
    "\n",
    "    _force_fun = sinusoidal_fun(f, axis=axis)\n",
    "    #_force_fun = sweep_fun(T=1, f1=4, f2=49, axis=axis)\n",
    "    def force_fun(t):\n",
    "    #    t = t % 1\n",
    "        return 10*_force_fun(t)[:2]\n",
    "    print(dt)\n",
    "    res = env.solve(dt=dt, t=t, force_fun=force_fun)\n",
    "    return pd.DataFrame(res)\n",
    "\n",
    "df_x = get_data(config, axis=\"x\")\n",
    "df_x[\"episode\"] = 0\n",
    "df_y = get_data(config, axis=\"y\")\n",
    "df_y[\"episode\"] = 0"
   ]
  },
  {
   "cell_type": "code",
   "execution_count": 63,
   "metadata": {},
   "outputs": [
    {
     "data": {
      "text/html": [
       "<div>\n",
       "<style scoped>\n",
       "    .dataframe tbody tr th:only-of-type {\n",
       "        vertical-align: middle;\n",
       "    }\n",
       "\n",
       "    .dataframe tbody tr th {\n",
       "        vertical-align: top;\n",
       "    }\n",
       "\n",
       "    .dataframe thead th {\n",
       "        text-align: right;\n",
       "    }\n",
       "</style>\n",
       "<table border=\"1\" class=\"dataframe\">\n",
       "  <thead>\n",
       "    <tr style=\"text-align: right;\">\n",
       "      <th></th>\n",
       "      <th>t</th>\n",
       "      <th>x</th>\n",
       "      <th>y</th>\n",
       "      <th>fx</th>\n",
       "      <th>fy</th>\n",
       "      <th>episode</th>\n",
       "    </tr>\n",
       "  </thead>\n",
       "  <tbody>\n",
       "    <tr>\n",
       "      <th>0</th>\n",
       "      <td>0.0000</td>\n",
       "      <td>0.000000e+00</td>\n",
       "      <td>0.000000e+00</td>\n",
       "      <td>0.000000</td>\n",
       "      <td>0.0</td>\n",
       "      <td>0</td>\n",
       "    </tr>\n",
       "    <tr>\n",
       "      <th>1</th>\n",
       "      <td>0.0001</td>\n",
       "      <td>4.184595e-11</td>\n",
       "      <td>-5.236593e-15</td>\n",
       "      <td>0.025133</td>\n",
       "      <td>0.0</td>\n",
       "      <td>0</td>\n",
       "    </tr>\n",
       "    <tr>\n",
       "      <th>2</th>\n",
       "      <td>0.0002</td>\n",
       "      <td>3.343813e-10</td>\n",
       "      <td>-8.485956e-14</td>\n",
       "      <td>0.050265</td>\n",
       "      <td>0.0</td>\n",
       "      <td>0</td>\n",
       "    </tr>\n",
       "    <tr>\n",
       "      <th>3</th>\n",
       "      <td>0.0003</td>\n",
       "      <td>1.127424e-09</td>\n",
       "      <td>-4.275431e-13</td>\n",
       "      <td>0.075398</td>\n",
       "      <td>0.0</td>\n",
       "      <td>0</td>\n",
       "    </tr>\n",
       "    <tr>\n",
       "      <th>4</th>\n",
       "      <td>0.0004</td>\n",
       "      <td>2.669822e-09</td>\n",
       "      <td>-1.346490e-12</td>\n",
       "      <td>0.100529</td>\n",
       "      <td>0.0</td>\n",
       "      <td>0</td>\n",
       "    </tr>\n",
       "    <tr>\n",
       "      <th>...</th>\n",
       "      <td>...</td>\n",
       "      <td>...</td>\n",
       "      <td>...</td>\n",
       "      <td>...</td>\n",
       "      <td>...</td>\n",
       "      <td>...</td>\n",
       "    </tr>\n",
       "    <tr>\n",
       "      <th>19995</th>\n",
       "      <td>1.9995</td>\n",
       "      <td>-7.357788e-04</td>\n",
       "      <td>8.161687e-05</td>\n",
       "      <td>-0.125660</td>\n",
       "      <td>-0.0</td>\n",
       "      <td>0</td>\n",
       "    </tr>\n",
       "    <tr>\n",
       "      <th>19996</th>\n",
       "      <td>1.9996</td>\n",
       "      <td>-7.293361e-04</td>\n",
       "      <td>8.085422e-05</td>\n",
       "      <td>-0.100529</td>\n",
       "      <td>-0.0</td>\n",
       "      <td>0</td>\n",
       "    </tr>\n",
       "    <tr>\n",
       "      <th>19997</th>\n",
       "      <td>1.9997</td>\n",
       "      <td>-7.228887e-04</td>\n",
       "      <td>8.009105e-05</td>\n",
       "      <td>-0.075398</td>\n",
       "      <td>-0.0</td>\n",
       "      <td>0</td>\n",
       "    </tr>\n",
       "    <tr>\n",
       "      <th>19998</th>\n",
       "      <td>1.9998</td>\n",
       "      <td>-7.164368e-04</td>\n",
       "      <td>7.932737e-05</td>\n",
       "      <td>-0.050265</td>\n",
       "      <td>-0.0</td>\n",
       "      <td>0</td>\n",
       "    </tr>\n",
       "    <tr>\n",
       "      <th>19999</th>\n",
       "      <td>1.9999</td>\n",
       "      <td>-7.099804e-04</td>\n",
       "      <td>7.856320e-05</td>\n",
       "      <td>-0.025133</td>\n",
       "      <td>-0.0</td>\n",
       "      <td>0</td>\n",
       "    </tr>\n",
       "  </tbody>\n",
       "</table>\n",
       "<p>20000 rows × 6 columns</p>\n",
       "</div>"
      ],
      "text/plain": [
       "            t             x             y        fx   fy  episode\n",
       "0      0.0000  0.000000e+00  0.000000e+00  0.000000  0.0        0\n",
       "1      0.0001  4.184595e-11 -5.236593e-15  0.025133  0.0        0\n",
       "2      0.0002  3.343813e-10 -8.485956e-14  0.050265  0.0        0\n",
       "3      0.0003  1.127424e-09 -4.275431e-13  0.075398  0.0        0\n",
       "4      0.0004  2.669822e-09 -1.346490e-12  0.100529  0.0        0\n",
       "...       ...           ...           ...       ...  ...      ...\n",
       "19995  1.9995 -7.357788e-04  8.161687e-05 -0.125660 -0.0        0\n",
       "19996  1.9996 -7.293361e-04  8.085422e-05 -0.100529 -0.0        0\n",
       "19997  1.9997 -7.228887e-04  8.009105e-05 -0.075398 -0.0        0\n",
       "19998  1.9998 -7.164368e-04  7.932737e-05 -0.050265 -0.0        0\n",
       "19999  1.9999 -7.099804e-04  7.856320e-05 -0.025133 -0.0        0\n",
       "\n",
       "[20000 rows x 6 columns]"
      ]
     },
     "execution_count": 63,
     "metadata": {},
     "output_type": "execute_result"
    }
   ],
   "source": [
    "df_x"
   ]
  },
  {
   "cell_type": "code",
   "execution_count": 64,
   "metadata": {},
   "outputs": [],
   "source": [
    "df_x = append_derivatives_to_dataframe(df_x, \"x\", dt=config[\"dt\"])\n",
    "df_x = append_derivatives_to_dataframe(df_x, \"y\", dt=config[\"dt\"])\n",
    "df_y = append_derivatives_to_dataframe(df_y, \"x\", dt=config[\"dt\"])\n",
    "df_y = append_derivatives_to_dataframe(df_y, \"y\", dt=config[\"dt\"])"
   ]
  },
  {
   "cell_type": "code",
   "execution_count": 65,
   "metadata": {},
   "outputs": [
    {
     "data": {
      "text/plain": [
       "array([[  40.0139799 ,    5.00308672],\n",
       "       [   5.00308672,   40.0139799 ],\n",
       "       [4300.14448065,  430.03667779],\n",
       "       [ 430.03667779, 4300.14448065]])"
      ]
     },
     "execution_count": 65,
     "metadata": {},
     "output_type": "execute_result"
    }
   ],
   "source": [
    "df = pd.concat([df_x, df_y])\n",
    "X = df[[\"x_dot\", \"y_dot\", \"x\", \"y\"]].values\n",
    "df[\"fx_\"] = df[\"fx\"] - 1*df[\"x_dot2\"]\n",
    "df[\"fy_\"] = df[\"fy\"] - 1*df[\"y_dot2\"]\n",
    "Y = df[[\"fx_\", \"fy_\"]].values\n",
    "params = np.linalg.inv( X.transpose() @ X ) @ X.transpose() @ Y\n",
    "params"
   ]
  },
  {
   "cell_type": "code",
   "execution_count": 66,
   "metadata": {},
   "outputs": [
    {
     "data": {
      "text/plain": [
       "array([[ 9.97672685e-01, -8.12681747e-04],\n",
       "       [-8.12681747e-04,  9.97672685e-01],\n",
       "       [ 4.00151516e+01,  5.00349705e+00],\n",
       "       [ 5.00349705e+00,  4.00151516e+01],\n",
       "       [ 4.29866616e+03,  4.29522117e+02],\n",
       "       [ 4.29522117e+02,  4.29866616e+03]])"
      ]
     },
     "execution_count": 66,
     "metadata": {},
     "output_type": "execute_result"
    }
   ],
   "source": [
    "df = pd.concat([df_x, df_y])\n",
    "X = df[[\"x_dot2\", \"y_dot2\", \"x_dot\", \"y_dot\", \"x\", \"y\"]].values\n",
    "\n",
    "Y = df[[\"fx\", \"fy\"]].values\n",
    "params = np.linalg.inv( X.transpose() @ X ) @ X.transpose() @ Y\n",
    "params"
   ]
  },
  {
   "cell_type": "code",
   "execution_count": 67,
   "metadata": {},
   "outputs": [
    {
     "name": "stdout",
     "output_type": "stream",
     "text": [
      "Freq 4.0000000000004405 , length (1,)\n"
     ]
    },
    {
     "data": {
      "text/plain": [
       "{'freq': 4.0000000000004405,\n",
       " 'G': array([[3671.33018855+1020.57626257j,  430.44715669 +124.38370083j],\n",
       "        [ 430.44715669 +124.38370083j, 3671.33018855+1020.57626257j]]),\n",
       " 'C': array([[40.60743925,  4.94907021],\n",
       "        [ 4.94907021, 40.60743925]]),\n",
       " 'K': array([[4302.98487022,  430.44715669],\n",
       "        [ 430.44715669, 4302.98487022]])}"
      ]
     },
     "execution_count": 67,
     "metadata": {},
     "output_type": "execute_result"
    }
   ],
   "source": [
    "estimator = EIVSin()\n",
    "estimator.estimate(df_x=df_x,\n",
    "                   df_y=df_y,\n",
    "                   freq=config[\"f\"])"
   ]
  },
  {
   "cell_type": "code",
   "execution_count": 68,
   "metadata": {},
   "outputs": [],
   "source": [
    "estimator = EIVSin()\n",
    "df_xf = estimator.get_frequency_domain_data(df_x, freq=config[\"f\"], dt=config[\"dt\"])\n",
    "df_yf = estimator.get_frequency_domain_data(df_y, freq=config[\"f\"], dt=config[\"dt\"])"
   ]
  },
  {
   "cell_type": "code",
   "execution_count": 69,
   "metadata": {},
   "outputs": [
    {
     "data": {
      "text/html": [
       "<div>\n",
       "<style scoped>\n",
       "    .dataframe tbody tr th:only-of-type {\n",
       "        vertical-align: middle;\n",
       "    }\n",
       "\n",
       "    .dataframe tbody tr th {\n",
       "        vertical-align: top;\n",
       "    }\n",
       "\n",
       "    .dataframe thead th {\n",
       "        text-align: right;\n",
       "    }\n",
       "</style>\n",
       "<table border=\"1\" class=\"dataframe\">\n",
       "  <thead>\n",
       "    <tr style=\"text-align: right;\">\n",
       "      <th></th>\n",
       "      <th>xf</th>\n",
       "      <th>yf</th>\n",
       "      <th>fyf</th>\n",
       "      <th>fxf</th>\n",
       "      <th>freqs</th>\n",
       "    </tr>\n",
       "  </thead>\n",
       "  <tbody>\n",
       "    <tr>\n",
       "      <th>10008</th>\n",
       "      <td>-7.119859-25.640657j</td>\n",
       "      <td>0.806500+3.023277j</td>\n",
       "      <td>0.000000+0.000000j</td>\n",
       "      <td>0.000000-100000.000000j</td>\n",
       "      <td>4.0</td>\n",
       "    </tr>\n",
       "    <tr>\n",
       "      <th>10008</th>\n",
       "      <td>0.806500+3.023277j</td>\n",
       "      <td>-7.119859-25.640657j</td>\n",
       "      <td>0.000000-100000.000000j</td>\n",
       "      <td>0.000000+0.000000j</td>\n",
       "      <td>4.0</td>\n",
       "    </tr>\n",
       "  </tbody>\n",
       "</table>\n",
       "</div>"
      ],
      "text/plain": [
       "                        xf                   yf                      fyf  \\\n",
       "10008 -7.119859-25.640657j   0.806500+3.023277j       0.000000+0.000000j   \n",
       "10008   0.806500+3.023277j -7.119859-25.640657j  0.000000-100000.000000j   \n",
       "\n",
       "                           fxf  freqs  \n",
       "10008  0.000000-100000.000000j    4.0  \n",
       "10008       0.000000+0.000000j    4.0  "
      ]
     },
     "execution_count": 69,
     "metadata": {},
     "output_type": "execute_result"
    }
   ],
   "source": [
    "df = pd.concat([df_xf, df_yf], ignore_index=False)\n",
    "\n",
    "\n",
    "def get_frequency_of_interest(df, freq):\n",
    "    # Apenas frequencia de interesse\n",
    "    sel_df = df[(df[\"freqs\"] > freq - 1e-1) & (df[\"freqs\"] < freq + 1e-1)].sort_index()\n",
    "    # Apenas indices que exisitam no dataframe x e y\n",
    "    inds = list(map(lambda x: x[0], (filter(lambda x: x[1] == 2, Counter(df.index).most_common()))))\n",
    "    \n",
    "    return sel_df\n",
    "\n",
    "\n",
    "\n",
    "get_frequency_of_interest(df, config[\"f\"])"
   ]
  },
  {
   "cell_type": "code",
   "execution_count": 70,
   "metadata": {},
   "outputs": [
    {
     "data": {
      "image/png": "[encoded data removed]",
      "text/plain": [
       "<Figure size 864x576 with 2 Axes>"
      ]
     },
     "metadata": {
      "needs_background": "light"
     },
     "output_type": "display_data"
    }
   ],
   "source": [
    "fig, ax1 = plt.subplots(figsize=(12,8))\n",
    "ax2 = ax1.twinx()\n",
    "ax2.plot(df_x[\"fx\"], color=\"red\", alpha=0.1)\n",
    "ax1.plot(df_x[\"x\"])\n",
    "ax1.plot(df_x[\"y\"])\n",
    "\n",
    "fig.show()\n",
    "#plt.xlim((.4, 1))\n",
    "#plt.ylim(-1e-3, 1e-3)"
   ]
  },
  {
   "cell_type": "code",
   "execution_count": 49,
   "metadata": {},
   "outputs": [
    {
     "ename": "NameError",
     "evalue": "name 'force_fun' is not defined",
     "output_type": "error",
     "traceback": [
      "\u001b[0;31m---------------------------------------------------------------------------\u001b[0m",
      "\u001b[0;31mNameError\u001b[0m                                 Traceback (most recent call last)",
      "\u001b[0;32m<ipython-input-49-3500d4f5602c>\u001b[0m in \u001b[0;36m<module>\u001b[0;34m\u001b[0m\n\u001b[0;32m----> 1\u001b[0;31m \u001b[0mf\u001b[0m \u001b[0;34m=\u001b[0m \u001b[0mnp\u001b[0m\u001b[0;34m.\u001b[0m\u001b[0marray\u001b[0m\u001b[0;34m(\u001b[0m\u001b[0mlist\u001b[0m\u001b[0;34m(\u001b[0m\u001b[0mmap\u001b[0m\u001b[0;34m(\u001b[0m\u001b[0mforce_fun\u001b[0m\u001b[0;34m,\u001b[0m \u001b[0mt\u001b[0m\u001b[0;34m)\u001b[0m\u001b[0;34m)\u001b[0m\u001b[0;34m)\u001b[0m\u001b[0;34m\u001b[0m\u001b[0;34m\u001b[0m\u001b[0m\n\u001b[0m",
      "\u001b[0;31mNameError\u001b[0m: name 'force_fun' is not defined"
     ]
    }
   ],
   "source": [
    "f = np.array(list(map(force_fun, t)))"
   ]
  },
  {
   "cell_type": "code",
   "execution_count": 50,
   "metadata": {},
   "outputs": [
    {
     "ename": "NameError",
     "evalue": "name 't' is not defined",
     "output_type": "error",
     "traceback": [
      "\u001b[0;31m---------------------------------------------------------------------------\u001b[0m",
      "\u001b[0;31mNameError\u001b[0m                                 Traceback (most recent call last)",
      "\u001b[0;32m<ipython-input-50-c8990816c342>\u001b[0m in \u001b[0;36m<module>\u001b[0;34m\u001b[0m\n\u001b[1;32m      1\u001b[0m \u001b[0mfig\u001b[0m\u001b[0;34m,\u001b[0m \u001b[0max1\u001b[0m \u001b[0;34m=\u001b[0m \u001b[0mplt\u001b[0m\u001b[0;34m.\u001b[0m\u001b[0msubplots\u001b[0m\u001b[0;34m(\u001b[0m\u001b[0;34m)\u001b[0m\u001b[0;34m\u001b[0m\u001b[0;34m\u001b[0m\u001b[0m\n\u001b[1;32m      2\u001b[0m \u001b[0max2\u001b[0m \u001b[0;34m=\u001b[0m \u001b[0max1\u001b[0m\u001b[0;34m.\u001b[0m\u001b[0mtwinx\u001b[0m\u001b[0;34m(\u001b[0m\u001b[0;34m)\u001b[0m\u001b[0;34m\u001b[0m\u001b[0;34m\u001b[0m\u001b[0m\n\u001b[0;32m----> 3\u001b[0;31m \u001b[0max1\u001b[0m\u001b[0;34m.\u001b[0m\u001b[0mplot\u001b[0m\u001b[0;34m(\u001b[0m\u001b[0mt\u001b[0m\u001b[0;34m,\u001b[0m \u001b[0my\u001b[0m\u001b[0;34m[\u001b[0m\u001b[0;34m:\u001b[0m\u001b[0;34m,\u001b[0m \u001b[0;36m0\u001b[0m\u001b[0;34m]\u001b[0m\u001b[0;34m)\u001b[0m\u001b[0;34m\u001b[0m\u001b[0;34m\u001b[0m\u001b[0m\n\u001b[0m\u001b[1;32m      4\u001b[0m \u001b[0max2\u001b[0m\u001b[0;34m.\u001b[0m\u001b[0mplot\u001b[0m\u001b[0;34m(\u001b[0m\u001b[0mt\u001b[0m\u001b[0;34m,\u001b[0m \u001b[0mf\u001b[0m\u001b[0;34m[\u001b[0m\u001b[0;34m:\u001b[0m\u001b[0;34m,\u001b[0m \u001b[0;36m0\u001b[0m\u001b[0;34m]\u001b[0m\u001b[0;34m,\u001b[0m \u001b[0mcolor\u001b[0m\u001b[0;34m=\u001b[0m\u001b[0;34m\"red\"\u001b[0m\u001b[0;34m,\u001b[0m \u001b[0malpha\u001b[0m\u001b[0;34m=\u001b[0m\u001b[0;36m0.1\u001b[0m\u001b[0;34m)\u001b[0m\u001b[0;34m\u001b[0m\u001b[0;34m\u001b[0m\u001b[0m\n\u001b[1;32m      5\u001b[0m \u001b[0mfig\u001b[0m\u001b[0;34m.\u001b[0m\u001b[0mshow\u001b[0m\u001b[0;34m(\u001b[0m\u001b[0;34m)\u001b[0m\u001b[0;34m\u001b[0m\u001b[0;34m\u001b[0m\u001b[0m\n",
      "\u001b[0;31mNameError\u001b[0m: name 't' is not defined"
     ]
    },
    {
     "data": {
      "image/png": "[encoded data removed]",
      "text/plain": [
       "<Figure size 432x288 with 2 Axes>"
      ]
     },
     "metadata": {
      "needs_background": "light"
     },
     "output_type": "display_data"
    }
   ],
   "source": [
    "fig, ax1 = plt.subplots()\n",
    "ax2 = ax1.twinx()\n",
    "ax1.plot(t, y[:, 0])\n",
    "ax2.plot(t, f[:, 0], color=\"red\", alpha=0.1)\n",
    "fig.show()\n",
    "#plt.xlim((.4, 1))\n",
    "#plt.ylim(-1e-3, 1e-3)"
   ]
  },
  {
   "cell_type": "code",
   "execution_count": 175,
   "metadata": {},
   "outputs": [
    {
     "data": {
      "text/plain": [
       "-4.3655745685100557e-16"
      ]
     },
     "execution_count": 175,
     "metadata": {},
     "output_type": "execute_result"
    }
   ],
   "source": [
    "np.mean(f[:, 0])"
   ]
  },
  {
   "cell_type": "code",
   "execution_count": 43,
   "metadata": {},
   "outputs": [
    {
     "data": {
      "text/plain": [
       "array([0. , 0.5, 1. , 1.5])"
      ]
     },
     "execution_count": 43,
     "metadata": {},
     "output_type": "execute_result"
    }
   ],
   "source": [
    "np.arange(0, 2, 0.5)"
   ]
  },
  {
   "cell_type": "code",
   "execution_count": null,
   "metadata": {},
   "outputs": [],
   "source": []
  }
 ],
 "metadata": {
  "kernelspec": {
   "display_name": "Python 3",
   "language": "python",
   "name": "python3"
  },
  "language_info": {
   "codemirror_mode": {
    "name": "ipython",
    "version": 3
   },
   "file_extension": ".py",
   "mimetype": "text/x-python",
   "name": "python",
   "nbconvert_exporter": "python",
   "pygments_lexer": "ipython3",
   "version": "3.8.2"
  }
 },
 "nbformat": 4,
 "nbformat_minor": 4
}
