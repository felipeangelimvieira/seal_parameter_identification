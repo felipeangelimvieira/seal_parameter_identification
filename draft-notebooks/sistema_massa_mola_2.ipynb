{
 "cells": [
  {
   "cell_type": "code",
   "execution_count": 1,
   "metadata": {
    "colab": {},
    "colab_type": "code",
    "id": "O126CQSeiJdR"
   },
   "outputs": [],
   "source": [
    "import numpy as np\n",
    "from scipy.integrate import solve_ivp\n",
    "import matplotlib.pyplot as plt\n",
    "from tqdm.notebook import tqdm\n"
   ]
  },
  {
   "cell_type": "code",
   "execution_count": 22,
   "metadata": {},
   "outputs": [
    {
     "name": "stdout",
     "output_type": "stream",
     "text": [
      "Enabling notebook extension jupyter-js-widgets/extension...\n",
      "      - Validating: \u001b[32mOK\u001b[0m\n",
      "Building jupyterlab assets (build:prod:minimize)\n"
     ]
    }
   ],
   "source": [
    "!jupyter nbextension enable --py --sys-prefix widgetsnbextension\n",
    "!jupyter labextension install @jupyter-widgets/jupyterlab-manager"
   ]
  },
  {
   "cell_type": "code",
   "execution_count": 19,
   "metadata": {},
   "outputs": [
    {
     "name": "stdout",
     "output_type": "stream",
     "text": [
      "Hit:1 http://security.debian.org/debian-security buster/updates InRelease\n",
      "Hit:2 http://deb.debian.org/debian buster InRelease\n",
      "Hit:3 http://deb.debian.org/debian buster-updates InRelease\n",
      "Reading package lists... Done\n",
      "Reading package lists... Done\n",
      "Building dependency tree       \n",
      "Reading state information... Done\n",
      "The following additional packages will be installed:\n",
      "  libatomic1 libbrotli1 libc-ares2 libicu63 libnode64 libuv1 nodejs-doc\n",
      "Suggested packages:\n",
      "  npm\n",
      "The following NEW packages will be installed:\n",
      "  libatomic1 libbrotli1 libc-ares2 libicu63 libnode64 libuv1 nodejs nodejs-doc\n",
      "0 upgraded, 8 newly installed, 0 to remove and 0 not upgraded.\n",
      "Need to get 15.5 MB of archives.\n",
      "After this operation, 64.3 MB of additional disk space will be used.\n",
      "Get:1 http://security.debian.org/debian-security buster/updates/main amd64 libnode64 amd64 10.21.0~dfsg-1~deb10u1 [5629 kB]\n",
      "Get:2 http://deb.debian.org/debian buster/main amd64 libatomic1 amd64 8.3.0-6 [9032 B]\n",
      "Get:3 http://deb.debian.org/debian buster/main amd64 libbrotli1 amd64 1.0.7-2 [270 kB]\n",
      "Get:4 http://deb.debian.org/debian buster/main amd64 libc-ares2 amd64 1.14.0-1 [85.8 kB]\n",
      "Get:5 http://deb.debian.org/debian buster/main amd64 libicu63 amd64 63.1-6+deb10u1 [8300 kB]\n",
      "Get:6 http://deb.debian.org/debian buster/main amd64 libuv1 amd64 1.24.1-1 [110 kB]\n",
      "Get:7 http://security.debian.org/debian-security buster/updates/main amd64 nodejs-doc all 10.21.0~dfsg-1~deb10u1 [973 kB]\n",
      "Get:8 http://security.debian.org/debian-security buster/updates/main amd64 nodejs amd64 10.21.0~dfsg-1~deb10u1 [87.0 kB]\n",
      "Fetched 15.5 MB in 1s (24.9 MB/s)\n",
      "debconf: delaying package configuration, since apt-utils is not installed\n",
      "Selecting previously unselected package libatomic1:amd64.\n",
      "(Reading database ... 6829 files and directories currently installed.)\n",
      "Preparing to unpack .../0-libatomic1_8.3.0-6_amd64.deb ...\n",
      "Unpacking libatomic1:amd64 (8.3.0-6) ...\n",
      "Selecting previously unselected package libbrotli1:amd64.\n",
      "Preparing to unpack .../1-libbrotli1_1.0.7-2_amd64.deb ...\n",
      "Unpacking libbrotli1:amd64 (1.0.7-2) ...\n",
      "Selecting previously unselected package libc-ares2:amd64.\n",
      "Preparing to unpack .../2-libc-ares2_1.14.0-1_amd64.deb ...\n",
      "Unpacking libc-ares2:amd64 (1.14.0-1) ...\n",
      "Selecting previously unselected package libicu63:amd64.\n",
      "Preparing to unpack .../3-libicu63_63.1-6+deb10u1_amd64.deb ...\n",
      "Unpacking libicu63:amd64 (63.1-6+deb10u1) ...\n",
      "Selecting previously unselected package libuv1:amd64.\n",
      "Preparing to unpack .../4-libuv1_1.24.1-1_amd64.deb ...\n",
      "Unpacking libuv1:amd64 (1.24.1-1) ...\n",
      "Selecting previously unselected package libnode64:amd64.\n",
      "Preparing to unpack .../5-libnode64_10.21.0~dfsg-1~deb10u1_amd64.deb ...\n",
      "Unpacking libnode64:amd64 (10.21.0~dfsg-1~deb10u1) ...\n",
      "Selecting previously unselected package nodejs-doc.\n",
      "Preparing to unpack .../6-nodejs-doc_10.21.0~dfsg-1~deb10u1_all.deb ...\n",
      "Unpacking nodejs-doc (10.21.0~dfsg-1~deb10u1) ...\n",
      "Selecting previously unselected package nodejs.\n",
      "Preparing to unpack .../7-nodejs_10.21.0~dfsg-1~deb10u1_amd64.deb ...\n",
      "Unpacking nodejs (10.21.0~dfsg-1~deb10u1) ...\n",
      "Setting up libbrotli1:amd64 (1.0.7-2) ...\n",
      "Setting up libc-ares2:amd64 (1.14.0-1) ...\n",
      "Setting up libicu63:amd64 (63.1-6+deb10u1) ...\n",
      "Setting up libuv1:amd64 (1.24.1-1) ...\n",
      "Setting up libatomic1:amd64 (8.3.0-6) ...\n",
      "Setting up nodejs-doc (10.21.0~dfsg-1~deb10u1) ...\n",
      "Setting up libnode64:amd64 (10.21.0~dfsg-1~deb10u1) ...\n",
      "Setting up nodejs (10.21.0~dfsg-1~deb10u1) ...\n",
      "update-alternatives: using /usr/bin/nodejs to provide /usr/bin/js (js) in auto mode\n",
      "update-alternatives: warning: skip creation of /usr/share/man/man1/js.1.gz because associated file /usr/share/man/man1/nodejs.1.gz (of link group js) doesn't exist\n",
      "Processing triggers for libc-bin (2.28-10) ...\n"
     ]
    }
   ],
   "source": [
    "! apt-get update && apt-get install -y nodejs"
   ]
  },
  {
   "cell_type": "code",
   "execution_count": 21,
   "metadata": {
    "scrolled": true
   },
   "outputs": [
    {
     "name": "stdout",
     "output_type": "stream",
     "text": [
      "Reading package lists... Done\n",
      "Building dependency tree       \n",
      "Reading state information... Done\n",
      "The following additional packages will be installed:\n",
      "  binutils binutils-common binutils-x86-64-linux-gnu build-essential bzip2 cpp\n",
      "  cpp-8 dirmngr dpkg-dev fakeroot file g++ g++-8 gcc gcc-8 gnupg gnupg-l10n\n",
      "  gnupg-utils gpg gpg-agent gpg-wks-client gpg-wks-server gpgconf gpgsm gyp\n",
      "  javascript-common libalgorithm-diff-perl libalgorithm-diff-xs-perl\n",
      "  libalgorithm-merge-perl libasan5 libassuan0 libbinutils libc-dev-bin\n",
      "  libc6-dev libcc1-0 libdpkg-perl libfakeroot libfile-fcntllock-perl\n",
      "  libgcc-8-dev libgdbm-compat4 libgomp1 libisl19 libitm1 libjs-inherits\n",
      "  libjs-is-typedarray libksba8 libldap-2.4-2 libldap-common\n",
      "  liblocale-gettext-perl liblsan0 libmagic-mgc libmagic1 libmpc3 libmpfr6\n",
      "  libmpx2 libnode-dev libnpth0 libperl5.28 libpython-stdlib libpython2-stdlib\n",
      "  libpython2.7-minimal libpython2.7-stdlib libquadmath0 libsasl2-2\n",
      "  libsasl2-modules libsasl2-modules-db libssl-dev libstdc++-8-dev libtsan0\n",
      "  libubsan1 libuv1-dev linux-libc-dev lsb-base make manpages manpages-dev\n",
      "  mime-support node-abbrev node-ajv node-ansi node-ansi-align node-ansi-regex\n",
      "  node-ansi-styles node-ansistyles node-aproba node-archy\n",
      "  node-are-we-there-yet node-asn1 node-assert-plus node-asynckit\n",
      "  node-aws-sign2 node-aws4 node-balanced-match node-bcrypt-pbkdf node-bluebird\n",
      "  node-boxen node-brace-expansion node-builtin-modules node-builtins\n",
      "  node-cacache node-call-limit node-camelcase node-caseless node-chalk\n",
      "  node-chownr node-cli-boxes node-cliui node-clone node-co node-color-convert\n",
      "  node-color-name node-combined-stream node-concat-map node-concat-stream\n",
      "  node-config-chain node-console-control-strings node-copy-concurrently\n",
      "  node-core-util-is node-cross-spawn node-cyclist node-dashdash\n",
      "  node-decamelize node-decompress-response node-deep-extend node-defaults\n",
      "  node-delayed-stream node-delegates node-detect-indent node-detect-newline\n",
      "  node-duplexer3 node-duplexify node-ecc-jsbn node-editor node-encoding\n",
      "  node-end-of-stream node-errno node-escape-string-regexp node-execa\n",
      "  node-extend node-extsprintf node-find-up node-flush-write-stream\n",
      "  node-forever-agent node-form-data node-from2 node-fs-vacuum\n",
      "  node-fs-write-stream-atomic node-fs.realpath node-gauge node-get-caller-file\n",
      "  node-get-stream node-getpass node-glob node-got node-graceful-fs node-gyp\n",
      "  node-har-schema node-har-validator node-has-flag node-has-symbol-support-x\n",
      "  node-has-to-string-tag-x node-has-unicode node-hosted-git-info\n",
      "  node-http-signature node-iconv-lite node-iferr node-import-lazy\n",
      "  node-imurmurhash node-inflight node-inherits node-ini node-invert-kv\n",
      "  node-is-builtin-module node-is-npm node-is-object node-is-plain-obj\n",
      "  node-is-retry-allowed node-is-stream node-is-typedarray node-isarray\n",
      "  node-isexe node-isstream node-isurl node-jsbn node-json-parse-better-errors\n",
      "  node-json-schema node-json-stable-stringify node-json-stringify-safe\n",
      "  node-jsonify node-jsonparse node-jsonstream node-jsprim node-latest-version\n",
      "  node-lazy-property node-lcid node-libnpx node-locate-path node-lockfile\n",
      "  node-lowercase-keys node-lru-cache node-mem node-mime-types node-mimic-fn\n",
      "  node-mimic-response node-minimatch node-minimist node-mississippi\n",
      "  node-mkdirp node-move-concurrently node-mute-stream node-node-uuid node-nopt\n",
      "  node-normalize-package-data node-npm-package-arg node-npm-run-path\n",
      "  node-npmlog node-oauth-sign node-object-assign node-once node-opener\n",
      "  node-os-locale node-osenv node-p-cancelable node-p-finally node-p-limit\n",
      "  node-p-locate node-p-timeout node-package-json node-parallel-transform\n",
      "  node-path-exists node-path-is-absolute node-path-is-inside\n",
      "  node-performance-now node-prepend-http node-process-nextick-args\n",
      "  node-promise-inflight node-promzard node-proto-list node-prr node-pump\n",
      "  node-pumpify node-punycode node-qs node-qw node-rc node-read\n",
      "  node-read-package-json node-readable-stream node-registry-auth-token\n",
      "  node-registry-url node-request node-require-directory\n",
      "  node-require-main-filename node-resolve-from node-retry node-rimraf\n",
      "  node-run-queue node-safe-buffer node-semver node-semver-diff\n",
      "  node-set-blocking node-sha node-shebang-command node-shebang-regex\n",
      "  node-signal-exit node-slash node-slide node-sorted-object node-spdx-correct\n",
      "  node-spdx-expression-parse node-spdx-license-ids node-sshpk node-ssri\n",
      "  node-stream-each node-stream-iterate node-stream-shift node-string-decoder\n",
      "  node-string-width node-strip-ansi node-strip-eof node-strip-json-comments\n",
      "  node-supports-color node-tar node-term-size node-text-table node-through\n",
      "  node-through2 node-timed-out node-tough-cookie node-tunnel-agent\n",
      "  node-tweetnacl node-typedarray node-uid-number node-unique-filename\n",
      "  node-unpipe node-url-parse-lax node-url-to-options node-util-deprecate\n",
      "  node-uuid node-validate-npm-package-license node-validate-npm-package-name\n",
      "  node-verror node-wcwidth.js node-which node-which-module node-wide-align\n",
      "  node-widest-line node-wrap-ansi node-wrappy node-write-file-atomic\n",
      "  node-xdg-basedir node-xtend node-y18n node-yallist node-yargs\n",
      "  node-yargs-parser patch perl perl-modules-5.28 pinentry-curses python\n",
      "  python-minimal python-pkg-resources python2 python2-minimal python2.7\n",
      "  python2.7-minimal xz-utils\n",
      "Suggested packages:\n",
      "  binutils-doc bzip2-doc cpp-doc gcc-8-locales dbus-user-session\n",
      "  libpam-systemd pinentry-gnome3 tor debian-keyring g++-multilib\n",
      "  g++-8-multilib gcc-8-doc libstdc++6-8-dbg gcc-multilib autoconf automake\n",
      "  libtool flex bison gdb gcc-doc gcc-8-multilib libgcc1-dbg libgomp1-dbg\n",
      "  libitm1-dbg libatomic1-dbg libasan5-dbg liblsan0-dbg libtsan0-dbg\n",
      "  libubsan1-dbg libmpx2-dbg libquadmath0-dbg parcimonie xloadimage scdaemon\n",
      "  apache2 | lighttpd | httpd glibc-doc sensible-utils git bzr\n",
      "  libsasl2-modules-gssapi-mit | libsasl2-modules-gssapi-heimdal\n",
      "  libsasl2-modules-ldap libsasl2-modules-otp libsasl2-modules-sql libssl-doc\n",
      "  libstdc++-8-doc make-doc man-browser ed diffutils-doc perl-doc\n",
      "  libterm-readline-gnu-perl | libterm-readline-perl-perl libb-debug-perl\n",
      "  liblocale-codes-perl pinentry-doc python-doc python-tk python-setuptools\n",
      "  python2-doc python2.7-doc binfmt-support\n",
      "The following NEW packages will be installed:\n",
      "  binutils binutils-common binutils-x86-64-linux-gnu build-essential bzip2 cpp\n",
      "  cpp-8 dirmngr dpkg-dev fakeroot file g++ g++-8 gcc gcc-8 gnupg gnupg-l10n\n",
      "  gnupg-utils gpg gpg-agent gpg-wks-client gpg-wks-server gpgconf gpgsm gyp\n",
      "  javascript-common libalgorithm-diff-perl libalgorithm-diff-xs-perl\n",
      "  libalgorithm-merge-perl libasan5 libassuan0 libbinutils libc-dev-bin\n",
      "  libc6-dev libcc1-0 libdpkg-perl libfakeroot libfile-fcntllock-perl\n",
      "  libgcc-8-dev libgdbm-compat4 libgomp1 libisl19 libitm1 libjs-inherits\n",
      "  libjs-is-typedarray libksba8 libldap-2.4-2 libldap-common\n",
      "  liblocale-gettext-perl liblsan0 libmagic-mgc libmagic1 libmpc3 libmpfr6\n",
      "  libmpx2 libnode-dev libnpth0 libperl5.28 libpython-stdlib libpython2-stdlib\n",
      "  libpython2.7-minimal libpython2.7-stdlib libquadmath0 libsasl2-2\n",
      "  libsasl2-modules libsasl2-modules-db libssl-dev libstdc++-8-dev libtsan0\n",
      "  libubsan1 libuv1-dev linux-libc-dev lsb-base make manpages manpages-dev\n",
      "  mime-support node-abbrev node-ajv node-ansi node-ansi-align node-ansi-regex\n",
      "  node-ansi-styles node-ansistyles node-aproba node-archy\n",
      "  node-are-we-there-yet node-asn1 node-assert-plus node-asynckit\n",
      "  node-aws-sign2 node-aws4 node-balanced-match node-bcrypt-pbkdf node-bluebird\n",
      "  node-boxen node-brace-expansion node-builtin-modules node-builtins\n",
      "  node-cacache node-call-limit node-camelcase node-caseless node-chalk\n",
      "  node-chownr node-cli-boxes node-cliui node-clone node-co node-color-convert\n",
      "  node-color-name node-combined-stream node-concat-map node-concat-stream\n",
      "  node-config-chain node-console-control-strings node-copy-concurrently\n",
      "  node-core-util-is node-cross-spawn node-cyclist node-dashdash\n",
      "  node-decamelize node-decompress-response node-deep-extend node-defaults\n",
      "  node-delayed-stream node-delegates node-detect-indent node-detect-newline\n",
      "  node-duplexer3 node-duplexify node-ecc-jsbn node-editor node-encoding\n",
      "  node-end-of-stream node-errno node-escape-string-regexp node-execa\n",
      "  node-extend node-extsprintf node-find-up node-flush-write-stream\n",
      "  node-forever-agent node-form-data node-from2 node-fs-vacuum\n",
      "  node-fs-write-stream-atomic node-fs.realpath node-gauge node-get-caller-file\n",
      "  node-get-stream node-getpass node-glob node-got node-graceful-fs node-gyp\n",
      "  node-har-schema node-har-validator node-has-flag node-has-symbol-support-x\n",
      "  node-has-to-string-tag-x node-has-unicode node-hosted-git-info\n",
      "  node-http-signature node-iconv-lite node-iferr node-import-lazy\n",
      "  node-imurmurhash node-inflight node-inherits node-ini node-invert-kv\n",
      "  node-is-builtin-module node-is-npm node-is-object node-is-plain-obj\n",
      "  node-is-retry-allowed node-is-stream node-is-typedarray node-isarray\n",
      "  node-isexe node-isstream node-isurl node-jsbn node-json-parse-better-errors\n",
      "  node-json-schema node-json-stable-stringify node-json-stringify-safe\n",
      "  node-jsonify node-jsonparse node-jsonstream node-jsprim node-latest-version\n",
      "  node-lazy-property node-lcid node-libnpx node-locate-path node-lockfile\n",
      "  node-lowercase-keys node-lru-cache node-mem node-mime-types node-mimic-fn\n",
      "  node-mimic-response node-minimatch node-minimist node-mississippi\n",
      "  node-mkdirp node-move-concurrently node-mute-stream node-node-uuid node-nopt\n",
      "  node-normalize-package-data node-npm-package-arg node-npm-run-path\n",
      "  node-npmlog node-oauth-sign node-object-assign node-once node-opener\n",
      "  node-os-locale node-osenv node-p-cancelable node-p-finally node-p-limit\n",
      "  node-p-locate node-p-timeout node-package-json node-parallel-transform\n",
      "  node-path-exists node-path-is-absolute node-path-is-inside\n",
      "  node-performance-now node-prepend-http node-process-nextick-args\n",
      "  node-promise-inflight node-promzard node-proto-list node-prr node-pump\n",
      "  node-pumpify node-punycode node-qs node-qw node-rc node-read\n",
      "  node-read-package-json node-readable-stream node-registry-auth-token\n",
      "  node-registry-url node-request node-require-directory\n",
      "  node-require-main-filename node-resolve-from node-retry node-rimraf\n",
      "  node-run-queue node-safe-buffer node-semver node-semver-diff\n",
      "  node-set-blocking node-sha node-shebang-command node-shebang-regex\n",
      "  node-signal-exit node-slash node-slide node-sorted-object node-spdx-correct\n",
      "  node-spdx-expression-parse node-spdx-license-ids node-sshpk node-ssri\n",
      "  node-stream-each node-stream-iterate node-stream-shift node-string-decoder\n",
      "  node-string-width node-strip-ansi node-strip-eof node-strip-json-comments\n",
      "  node-supports-color node-tar node-term-size node-text-table node-through\n",
      "  node-through2 node-timed-out node-tough-cookie node-tunnel-agent\n",
      "  node-tweetnacl node-typedarray node-uid-number node-unique-filename\n",
      "  node-unpipe node-url-parse-lax node-url-to-options node-util-deprecate\n",
      "  node-uuid node-validate-npm-package-license node-validate-npm-package-name\n",
      "  node-verror node-wcwidth.js node-which node-which-module node-wide-align\n",
      "  node-widest-line node-wrap-ansi node-wrappy node-write-file-atomic\n",
      "  node-xdg-basedir node-xtend node-y18n node-yallist node-yargs\n",
      "  node-yargs-parser npm patch perl perl-modules-5.28 pinentry-curses python\n",
      "  python-minimal python-pkg-resources python2 python2-minimal python2.7\n",
      "  python2.7-minimal xz-utils\n",
      "0 upgraded, 329 newly installed, 0 to remove and 0 not upgraded.\n",
      "Need to get 76.0 MB of archives.\n",
      "After this operation, 302 MB of additional disk space will be used.\n",
      "Get:1 http://deb.debian.org/debian buster/main amd64 perl-modules-5.28 all 5.28.1-6 [2873 kB]\n",
      "Get:2 http://security.debian.org/debian-security buster/updates/main amd64 linux-libc-dev amd64 4.19.118-2+deb10u1 [1354 kB]\n",
      "Get:3 http://security.debian.org/debian-security buster/updates/main amd64 libnode-dev amd64 10.21.0~dfsg-1~deb10u1 [396 kB]\n",
      "Get:4 http://deb.debian.org/debian buster/main amd64 libgdbm-compat4 amd64 1.18.1-4 [44.1 kB]\n",
      "Get:5 http://deb.debian.org/debian buster/main amd64 libperl5.28 amd64 5.28.1-6 [3883 kB]\n",
      "Get:6 http://deb.debian.org/debian buster/main amd64 perl amd64 5.28.1-6 [204 kB]\n",
      "Get:7 http://deb.debian.org/debian buster/main amd64 libpython2.7-minimal amd64 2.7.16-2+deb10u1 [395 kB]\n",
      "Get:8 http://deb.debian.org/debian buster/main amd64 python2.7-minimal amd64 2.7.16-2+deb10u1 [1369 kB]\n",
      "Get:9 http://deb.debian.org/debian buster/main amd64 python2-minimal amd64 2.7.16-1 [41.4 kB]\n",
      "Get:10 http://deb.debian.org/debian buster/main amd64 python-minimal amd64 2.7.16-1 [21.0 kB]\n",
      "Get:11 http://deb.debian.org/debian buster/main amd64 mime-support all 3.62 [37.2 kB]\n",
      "Get:12 http://deb.debian.org/debian buster/main amd64 libpython2.7-stdlib amd64 2.7.16-2+deb10u1 [1912 kB]\n",
      "Get:13 http://deb.debian.org/debian buster/main amd64 python2.7 amd64 2.7.16-2+deb10u1 [305 kB]\n",
      "Get:14 http://deb.debian.org/debian buster/main amd64 libpython2-stdlib amd64 2.7.16-1 [20.8 kB]\n",
      "Get:15 http://deb.debian.org/debian buster/main amd64 libpython-stdlib amd64 2.7.16-1 [20.8 kB]\n",
      "Get:16 http://deb.debian.org/debian buster/main amd64 python2 amd64 2.7.16-1 [41.6 kB]\n",
      "Get:17 http://deb.debian.org/debian buster/main amd64 python amd64 2.7.16-1 [22.8 kB]\n",
      "Get:18 http://deb.debian.org/debian buster/main amd64 liblocale-gettext-perl amd64 1.07-3+b4 [18.9 kB]\n",
      "Get:19 http://deb.debian.org/debian buster/main amd64 bzip2 amd64 1.0.6-9.2~deb10u1 [48.4 kB]\n",
      "Get:20 http://deb.debian.org/debian buster/main amd64 libmagic-mgc amd64 1:5.35-4+deb10u1 [242 kB]\n",
      "Get:21 http://deb.debian.org/debian buster/main amd64 libmagic1 amd64 1:5.35-4+deb10u1 [117 kB]\n",
      "Get:22 http://deb.debian.org/debian buster/main amd64 file amd64 1:5.35-4+deb10u1 [66.4 kB]\n",
      "Get:23 http://deb.debian.org/debian buster/main amd64 manpages all 4.16-2 [1295 kB]\n",
      "Get:24 http://deb.debian.org/debian buster/main amd64 xz-utils amd64 5.2.4-1 [183 kB]\n",
      "Get:25 http://deb.debian.org/debian buster/main amd64 binutils-common amd64 2.31.1-16 [2073 kB]\n",
      "Get:26 http://deb.debian.org/debian buster/main amd64 libbinutils amd64 2.31.1-16 [478 kB]\n",
      "Get:27 http://deb.debian.org/debian buster/main amd64 binutils-x86-64-linux-gnu amd64 2.31.1-16 [1823 kB]\n",
      "Get:28 http://deb.debian.org/debian buster/main amd64 binutils amd64 2.31.1-16 [56.8 kB]\n",
      "Get:29 http://deb.debian.org/debian buster/main amd64 libc-dev-bin amd64 2.28-10 [275 kB]\n",
      "Get:30 http://deb.debian.org/debian buster/main amd64 libc6-dev amd64 2.28-10 [2691 kB]\n",
      "Get:31 http://deb.debian.org/debian buster/main amd64 libisl19 amd64 0.20-2 [587 kB]\n",
      "Get:32 http://deb.debian.org/debian buster/main amd64 libmpfr6 amd64 4.0.2-1 [775 kB]\n",
      "Get:33 http://deb.debian.org/debian buster/main amd64 libmpc3 amd64 1.1.0-1 [41.3 kB]\n",
      "Get:34 http://deb.debian.org/debian buster/main amd64 cpp-8 amd64 8.3.0-6 [8914 kB]\n",
      "Get:35 http://deb.debian.org/debian buster/main amd64 cpp amd64 4:8.3.0-1 [19.4 kB]\n",
      "Get:36 http://deb.debian.org/debian buster/main amd64 libcc1-0 amd64 8.3.0-6 [46.6 kB]\n",
      "Get:37 http://deb.debian.org/debian buster/main amd64 libgomp1 amd64 8.3.0-6 [75.8 kB]\n",
      "Get:38 http://deb.debian.org/debian buster/main amd64 libitm1 amd64 8.3.0-6 [27.7 kB]\n",
      "Get:39 http://deb.debian.org/debian buster/main amd64 libasan5 amd64 8.3.0-6 [362 kB]\n",
      "Get:40 http://deb.debian.org/debian buster/main amd64 liblsan0 amd64 8.3.0-6 [131 kB]\n",
      "Get:41 http://deb.debian.org/debian buster/main amd64 libtsan0 amd64 8.3.0-6 [283 kB]\n",
      "Get:42 http://deb.debian.org/debian buster/main amd64 libubsan1 amd64 8.3.0-6 [120 kB]\n",
      "Get:43 http://deb.debian.org/debian buster/main amd64 libmpx2 amd64 8.3.0-6 [11.4 kB]\n",
      "Get:44 http://deb.debian.org/debian buster/main amd64 libquadmath0 amd64 8.3.0-6 [133 kB]\n",
      "Get:45 http://deb.debian.org/debian buster/main amd64 libgcc-8-dev amd64 8.3.0-6 [2298 kB]\n",
      "Get:46 http://deb.debian.org/debian buster/main amd64 gcc-8 amd64 8.3.0-6 [9452 kB]\n",
      "Get:47 http://deb.debian.org/debian buster/main amd64 gcc amd64 4:8.3.0-1 [5196 B]\n",
      "Get:48 http://deb.debian.org/debian buster/main amd64 libstdc++-8-dev amd64 8.3.0-6 [1532 kB]\n",
      "Get:49 http://deb.debian.org/debian buster/main amd64 g++-8 amd64 8.3.0-6 [9752 kB]\n",
      "Get:50 http://deb.debian.org/debian buster/main amd64 g++ amd64 4:8.3.0-1 [1644 B]\n",
      "Get:51 http://deb.debian.org/debian buster/main amd64 make amd64 4.2.1-1.2 [341 kB]\n",
      "Get:52 http://deb.debian.org/debian buster/main amd64 libdpkg-perl all 1.19.7 [1414 kB]\n",
      "Get:53 http://deb.debian.org/debian buster/main amd64 patch amd64 2.7.6-3+deb10u1 [126 kB]\n",
      "Get:54 http://deb.debian.org/debian buster/main amd64 dpkg-dev all 1.19.7 [1773 kB]\n",
      "Get:55 http://deb.debian.org/debian buster/main amd64 build-essential amd64 12.6 [7576 B]\n",
      "Get:56 http://deb.debian.org/debian buster/main amd64 libassuan0 amd64 2.5.2-1 [49.4 kB]\n",
      "Get:57 http://deb.debian.org/debian buster/main amd64 gpgconf amd64 2.2.12-1+deb10u1 [510 kB]\n",
      "Get:58 http://deb.debian.org/debian buster/main amd64 lsb-base all 10.2019051400 [28.4 kB]\n",
      "Get:59 http://deb.debian.org/debian buster/main amd64 libksba8 amd64 1.3.5-2 [99.7 kB]\n",
      "Get:60 http://deb.debian.org/debian buster/main amd64 libsasl2-modules-db amd64 2.1.27+dfsg-1+deb10u1 [69.1 kB]\n",
      "Get:61 http://deb.debian.org/debian buster/main amd64 libsasl2-2 amd64 2.1.27+dfsg-1+deb10u1 [106 kB]\n",
      "Get:62 http://deb.debian.org/debian buster/main amd64 libldap-common all 2.4.47+dfsg-3+deb10u2 [89.7 kB]\n",
      "Get:63 http://deb.debian.org/debian buster/main amd64 libldap-2.4-2 amd64 2.4.47+dfsg-3+deb10u2 [224 kB]\n",
      "Get:64 http://deb.debian.org/debian buster/main amd64 libnpth0 amd64 1.6-1 [18.4 kB]\n",
      "Get:65 http://deb.debian.org/debian buster/main amd64 dirmngr amd64 2.2.12-1+deb10u1 [712 kB]\n",
      "Get:66 http://deb.debian.org/debian buster/main amd64 libfakeroot amd64 1.23-1 [45.9 kB]\n",
      "Get:67 http://deb.debian.org/debian buster/main amd64 fakeroot amd64 1.23-1 [85.8 kB]\n",
      "Get:68 http://deb.debian.org/debian buster/main amd64 gnupg-l10n all 2.2.12-1+deb10u1 [1010 kB]\n",
      "Get:69 http://deb.debian.org/debian buster/main amd64 gnupg-utils amd64 2.2.12-1+deb10u1 [861 kB]\n",
      "Get:70 http://deb.debian.org/debian buster/main amd64 gpg amd64 2.2.12-1+deb10u1 [865 kB]\n",
      "Get:71 http://deb.debian.org/debian buster/main amd64 pinentry-curses amd64 1.1.0-2 [64.5 kB]\n",
      "Get:72 http://deb.debian.org/debian buster/main amd64 gpg-agent amd64 2.2.12-1+deb10u1 [617 kB]\n",
      "Get:73 http://deb.debian.org/debian buster/main amd64 gpg-wks-client amd64 2.2.12-1+deb10u1 [485 kB]\n",
      "Get:74 http://deb.debian.org/debian buster/main amd64 gpg-wks-server amd64 2.2.12-1+deb10u1 [478 kB]\n",
      "Get:75 http://deb.debian.org/debian buster/main amd64 gpgsm amd64 2.2.12-1+deb10u1 [604 kB]\n",
      "Get:76 http://deb.debian.org/debian buster/main amd64 gnupg all 2.2.12-1+deb10u1 [715 kB]\n",
      "Get:77 http://deb.debian.org/debian buster/main amd64 python-pkg-resources all 40.8.0-1 [182 kB]\n",
      "Get:78 http://deb.debian.org/debian buster/main amd64 gyp all 0.1+20180428git4d467626-3 [238 kB]\n",
      "Get:79 http://deb.debian.org/debian buster/main amd64 javascript-common all 11 [6120 B]\n",
      "Get:80 http://deb.debian.org/debian buster/main amd64 libalgorithm-diff-perl all 1.19.03-2 [47.9 kB]\n",
      "Get:81 http://deb.debian.org/debian buster/main amd64 libalgorithm-diff-xs-perl amd64 0.04-5+b1 [11.8 kB]\n",
      "Get:82 http://deb.debian.org/debian buster/main amd64 libalgorithm-merge-perl all 0.08-3 [12.7 kB]\n",
      "Get:83 http://deb.debian.org/debian buster/main amd64 libfile-fcntllock-perl amd64 0.22-3+b5 [35.4 kB]\n",
      "Get:84 http://deb.debian.org/debian buster/main amd64 libjs-inherits all 2.0.3-1 [2762 B]\n",
      "Get:85 http://deb.debian.org/debian buster/main amd64 libjs-is-typedarray all 1.0.0-2 [2876 B]\n",
      "Get:86 http://deb.debian.org/debian buster/main amd64 libssl-dev amd64 1.1.1d-0+deb10u3 [1793 kB]\n",
      "Get:87 http://deb.debian.org/debian buster/main amd64 libuv1-dev amd64 1.24.1-1 [130 kB]\n",
      "Get:88 http://deb.debian.org/debian buster/main amd64 libsasl2-modules amd64 2.1.27+dfsg-1+deb10u1 [104 kB]\n",
      "Get:89 http://deb.debian.org/debian buster/main amd64 manpages-dev all 4.16-2 [2232 kB]\n",
      "Get:90 http://deb.debian.org/debian buster/main amd64 node-abbrev all 1.1.1-1 [4352 B]\n",
      "Get:91 http://deb.debian.org/debian buster/main amd64 node-jsonify all 0.0.0-1 [5408 B]\n",
      "Get:92 http://deb.debian.org/debian buster/main amd64 node-json-stable-stringify all 1.0.1-1 [4450 B]\n",
      "Get:93 http://deb.debian.org/debian buster/main amd64 node-co all 4.6.0-1 [7550 B]\n",
      "Get:94 http://deb.debian.org/debian buster/main amd64 node-ajv all 5.0.0-1 [64.9 kB]\n",
      "Get:95 http://deb.debian.org/debian buster/main amd64 node-ansi all 0.3.0-3 [9068 B]\n",
      "Get:96 http://deb.debian.org/debian buster/main amd64 node-clone all 2.1.2-1 [7880 B]\n",
      "Get:97 http://deb.debian.org/debian buster/main amd64 node-defaults all 1.0.3-1 [3108 B]\n",
      "Get:98 http://deb.debian.org/debian buster/main amd64 node-wcwidth.js all 1.0.0-1 [6408 B]\n",
      "Get:99 http://deb.debian.org/debian buster/main amd64 node-ansi-regex all 3.0.0-1 [3658 B]\n",
      "Get:100 http://deb.debian.org/debian buster/main amd64 node-strip-ansi all 4.0.0-1 [3078 B]\n",
      "Get:101 http://deb.debian.org/debian buster/main amd64 node-string-width all 2.1.1-1 [3992 B]\n",
      "Get:102 http://deb.debian.org/debian buster/main amd64 node-ansi-align all 2.0.0-1 [4704 B]\n",
      "Get:103 http://deb.debian.org/debian buster/main amd64 node-color-name all 1.1.3-1 [4090 B]\n",
      "Get:104 http://deb.debian.org/debian buster/main amd64 node-color-convert all 1.9.0-3 [10.1 kB]\n",
      "Get:105 http://deb.debian.org/debian buster/main amd64 node-ansi-styles all 3.2.1-1 [5684 B]\n",
      "Get:106 http://deb.debian.org/debian buster/main amd64 node-ansistyles all 0.1.3-1 [4026 B]\n",
      "Get:107 http://deb.debian.org/debian buster/main amd64 node-aproba all 1.2.0-1 [5008 B]\n",
      "Get:108 http://deb.debian.org/debian buster/main amd64 node-archy all 1.0.0-2 [4340 B]\n",
      "Get:109 http://deb.debian.org/debian buster/main amd64 node-delegates all 1.0.0-1 [3864 B]\n",
      "Get:110 http://deb.debian.org/debian buster/main amd64 node-are-we-there-yet all 1.1.4-1 [7662 B]\n",
      "Get:111 http://deb.debian.org/debian buster/main amd64 node-asn1 all 0.2.3-1 [6880 B]\n",
      "Get:112 http://deb.debian.org/debian buster/main amd64 node-assert-plus all 1.0.0-1 [6162 B]\n",
      "Get:113 http://deb.debian.org/debian buster/main amd64 node-asynckit all 0.4.0-2 [10.4 kB]\n",
      "Get:114 http://deb.debian.org/debian buster/main amd64 node-aws-sign2 all 0.7.1-1 [3716 B]\n",
      "Get:115 http://deb.debian.org/debian buster/main amd64 node-aws4 all 1.8.0-1 [11.7 kB]\n",
      "Get:116 http://deb.debian.org/debian buster/main amd64 node-balanced-match all 0.4.2-1 [3982 B]\n",
      "Get:117 http://deb.debian.org/debian buster/main amd64 node-tweetnacl all 0.14.5+dfsg-3 [21.1 kB]\n",
      "Get:118 http://deb.debian.org/debian buster/main amd64 node-bcrypt-pbkdf all 1.0.1-1 [10.4 kB]\n",
      "Get:119 http://deb.debian.org/debian buster/main amd64 node-bluebird all 3.5.1+dfsg2-2 [36.4 kB]\n",
      "Get:120 http://deb.debian.org/debian buster/main amd64 node-camelcase all 5.0.0-1 [3964 B]\n",
      "Get:121 http://deb.debian.org/debian buster/main amd64 node-escape-string-regexp all 1.0.5-1 [3218 B]\n",
      "Get:122 http://deb.debian.org/debian buster/main amd64 node-has-flag all 2.0.0-1 [3172 B]\n",
      "Get:123 http://deb.debian.org/debian buster/main amd64 node-supports-color all 4.4.0-2 [4742 B]\n",
      "Get:124 http://deb.debian.org/debian buster/main amd64 node-chalk all 2.3.0-2 [11.2 kB]\n",
      "Get:125 http://deb.debian.org/debian buster/main amd64 node-cli-boxes all 1.0.0-1 [3252 B]\n",
      "Get:126 http://deb.debian.org/debian buster/main amd64 node-yallist all 3.0.3-1 [6052 B]\n",
      "Get:127 http://deb.debian.org/debian buster/main amd64 node-lru-cache all 5.1.1-4 [8320 B]\n",
      "Get:128 http://deb.debian.org/debian buster/main amd64 node-isexe all 2.0.0-4 [4404 B]\n",
      "Get:129 http://deb.debian.org/debian buster/main amd64 node-which all 1.3.0-2 [5804 B]\n",
      "Get:130 http://deb.debian.org/debian buster/main amd64 node-shebang-regex all 2.0.0-1 [2742 B]\n",
      "Get:131 http://deb.debian.org/debian buster/main amd64 node-shebang-command all 1.2.0-1 [2900 B]\n",
      "Get:132 http://deb.debian.org/debian buster/main amd64 node-cross-spawn all 5.1.0-2 [8732 B]\n",
      "Get:133 http://deb.debian.org/debian buster/main amd64 node-get-stream all 3.0.0-1 [4724 B]\n",
      "Get:134 http://deb.debian.org/debian buster/main amd64 node-is-stream all 1.1.0-1 [2998 B]\n",
      "Get:135 http://deb.debian.org/debian buster/main amd64 node-npm-run-path all 2.0.2-2 [4412 B]\n",
      "Get:136 http://deb.debian.org/debian buster/main amd64 node-p-finally all 1.0.0-2 [3230 B]\n",
      "Get:137 http://deb.debian.org/debian buster/main amd64 node-signal-exit all 3.0.2-1 [5648 B]\n",
      "Get:138 http://deb.debian.org/debian buster/main amd64 node-strip-eof all 1.0.0-2 [3010 B]\n",
      "Get:139 http://deb.debian.org/debian buster/main amd64 node-execa all 0.10.0+dfsg-1 [8936 B]\n",
      "Get:140 http://deb.debian.org/debian buster/main amd64 node-term-size all 1.2.0+dfsg-2 [3944 B]\n",
      "Get:141 http://deb.debian.org/debian buster/main amd64 node-widest-line all 1.2.2-1 [3360 B]\n",
      "Get:142 http://deb.debian.org/debian buster/main amd64 node-boxen all 1.2.2-1 [4764 B]\n",
      "Get:143 http://deb.debian.org/debian buster/main amd64 node-concat-map all 0.0.1-1 [3462 B]\n",
      "Get:144 http://deb.debian.org/debian buster/main amd64 node-brace-expansion all 1.1.8-1 [5798 B]\n",
      "Get:145 http://deb.debian.org/debian buster/main amd64 node-builtin-modules all 3.0.0-1 [3780 B]\n",
      "Get:146 http://deb.debian.org/debian buster/main amd64 node-builtins all 1.0.3-1 [2970 B]\n",
      "Get:147 http://deb.debian.org/debian buster/main amd64 node-chownr all 1.1.1-1 [3432 B]\n",
      "Get:148 http://deb.debian.org/debian buster/main amd64 node-minimatch all 3.0.4-3 [13.4 kB]\n",
      "Get:149 http://deb.debian.org/debian buster/main amd64 node-inherits all 2.0.3-1 [3744 B]\n",
      "Get:150 http://deb.debian.org/debian buster/main amd64 node-wrappy all 1.0.2-1 [3114 B]\n",
      "Get:151 http://deb.debian.org/debian buster/main amd64 node-once all 1.4.0-3 [4344 B]\n",
      "Get:152 http://deb.debian.org/debian buster/main amd64 node-fs.realpath all 1.0.0-1 [5522 B]\n",
      "Get:153 http://deb.debian.org/debian buster/main amd64 node-inflight all 1.0.6-1 [3334 B]\n",
      "Get:154 http://deb.debian.org/debian buster/main amd64 node-path-is-absolute all 1.0.0-1 [3266 B]\n",
      "Get:155 http://deb.debian.org/debian buster/main amd64 node-glob all 7.1.3-2 [19.1 kB]\n",
      "Get:156 http://deb.debian.org/debian buster/main amd64 node-graceful-fs all 4.1.11-1 [10.8 kB]\n",
      "Get:157 http://deb.debian.org/debian buster/main amd64 node-typedarray all 0.0.6-1 [8202 B]\n",
      "Get:158 http://deb.debian.org/debian buster/main amd64 node-concat-stream all 1.6.2-1 [5644 B]\n",
      "Get:159 http://deb.debian.org/debian buster/main amd64 node-end-of-stream all 1.4.1-1 [3980 B]\n",
      "Get:160 http://deb.debian.org/debian buster/main amd64 node-core-util-is all 1.0.2-1 [3410 B]\n",
      "Get:161 http://deb.debian.org/debian buster/main amd64 node-safe-buffer all 5.1.2-1 [12.2 kB]\n",
      "Get:162 http://deb.debian.org/debian buster/main amd64 node-string-decoder all 1.2.0-1 [6432 B]\n",
      "Get:163 http://deb.debian.org/debian buster/main amd64 node-process-nextick-args all 2.0.0-1 [3388 B]\n",
      "Get:164 http://deb.debian.org/debian buster/main amd64 node-util-deprecate all 1.0.2-1 [3866 B]\n",
      "Get:165 http://deb.debian.org/debian buster/main amd64 node-isarray all 2.0.4-1 [3768 B]\n",
      "Get:166 http://deb.debian.org/debian buster/main amd64 node-readable-stream all 2.3.6-1 [21.6 kB]\n",
      "Get:167 http://deb.debian.org/debian buster/main amd64 node-stream-shift all 1.0.0-1 [2850 B]\n",
      "Get:168 http://deb.debian.org/debian buster/main amd64 node-duplexify all 3.6.1-1 [5492 B]\n",
      "Get:169 http://deb.debian.org/debian buster/main amd64 node-flush-write-stream all 1.0.3-1 [3984 B]\n",
      "Get:170 http://deb.debian.org/debian buster/main amd64 node-from2 all 2.3.0-1 [4338 B]\n",
      "Get:171 http://deb.debian.org/debian buster/main amd64 node-cyclist all 1.0.1-2 [3612 B]\n",
      "Get:172 http://deb.debian.org/debian buster/main amd64 node-parallel-transform all 1.1.0-2 [4136 B]\n",
      "Get:173 http://deb.debian.org/debian buster/main amd64 node-pump all 3.0.0-1 [4936 B]\n",
      "Get:174 http://deb.debian.org/debian buster/main amd64 node-pumpify all 1.5.1-1 [4316 B]\n",
      "Get:175 http://deb.debian.org/debian buster/main amd64 node-stream-each all 1.2.2-2 [3808 B]\n",
      "Get:176 http://deb.debian.org/debian buster/main amd64 node-xtend all 4.0.1-2 [3560 B]\n",
      "Get:177 http://deb.debian.org/debian buster/main amd64 node-through2 all 2.0.5-2 [6524 B]\n",
      "Get:178 http://deb.debian.org/debian buster/main amd64 node-mississippi all 3.0.0-1 [8108 B]\n",
      "Get:179 http://deb.debian.org/debian buster/main amd64 node-mkdirp all 0.5.1-1 [4708 B]\n",
      "Get:180 http://deb.debian.org/debian buster/main amd64 node-run-queue all 1.0.3-1 [4416 B]\n",
      "Get:181 http://deb.debian.org/debian buster/main amd64 node-rimraf all 2.6.2-1 [8112 B]\n",
      "Get:182 http://deb.debian.org/debian buster/main amd64 node-imurmurhash all 0.1.4-1 [8154 B]\n",
      "Get:183 http://deb.debian.org/debian buster/main amd64 node-iferr all 1.0.2-1 [3496 B]\n",
      "Get:184 http://deb.debian.org/debian buster/main amd64 node-fs-write-stream-atomic all 1.0.10-4 [4820 B]\n",
      "Get:185 http://deb.debian.org/debian buster/main amd64 node-copy-concurrently all 1.0.5-4 [6516 B]\n",
      "Get:186 http://deb.debian.org/debian buster/main amd64 node-move-concurrently all 1.0.1-2 [4644 B]\n",
      "Get:187 http://deb.debian.org/debian buster/main amd64 node-promise-inflight all 1.0.1-1 [3104 B]\n",
      "Get:188 http://deb.debian.org/debian buster/main amd64 node-ssri all 5.2.4-2 [14.1 kB]\n",
      "Get:189 http://deb.debian.org/debian buster/main amd64 node-unique-filename all 1.1.0+ds-2 [4416 B]\n",
      "Get:190 http://deb.debian.org/debian buster/main amd64 node-y18n all 3.2.1-2 [4708 B]\n",
      "Get:191 http://deb.debian.org/debian buster/main amd64 node-cacache all 11.3.2-2 [29.5 kB]\n",
      "Get:192 http://deb.debian.org/debian buster/main amd64 node-call-limit all 1.1.0-1 [3576 B]\n",
      "Get:193 http://deb.debian.org/debian buster/main amd64 node-caseless all 0.12.0-1 [3334 B]\n",
      "Get:194 http://deb.debian.org/debian buster/main amd64 node-wrap-ansi all 4.0.0-1 [5444 B]\n",
      "Get:195 http://deb.debian.org/debian buster/main amd64 node-cliui all 4.1.0-1 [7832 B]\n",
      "Get:196 http://deb.debian.org/debian buster/main amd64 node-delayed-stream all 0.0.5-1 [4482 B]\n",
      "Get:197 http://deb.debian.org/debian buster/main amd64 node-combined-stream all 1.0.7-1 [6024 B]\n",
      "Get:198 http://deb.debian.org/debian buster/main amd64 node-proto-list all 1.2.4-1 [3046 B]\n",
      "Get:199 http://deb.debian.org/debian buster/main amd64 node-ini all 1.3.5-1 [5736 B]\n",
      "Get:200 http://deb.debian.org/debian buster/main amd64 node-config-chain all 1.1.11-1 [7612 B]\n",
      "Get:201 http://deb.debian.org/debian buster/main amd64 node-console-control-strings all 1.1.0-1 [4906 B]\n",
      "Get:202 http://deb.debian.org/debian buster/main amd64 node-dashdash all 1.14.1-2 [22.2 kB]\n",
      "Get:203 http://deb.debian.org/debian buster/main amd64 node-decamelize all 1.2.0-1 [3044 B]\n",
      "Get:204 http://deb.debian.org/debian buster/main amd64 node-mimic-response all 1.0.0-1 [3302 B]\n",
      "Get:205 http://deb.debian.org/debian buster/main amd64 node-decompress-response all 3.3.0-1 [3262 B]\n",
      "Get:206 http://deb.debian.org/debian buster/main amd64 node-deep-extend all 0.4.1-2 [5000 B]\n",
      "Get:207 http://deb.debian.org/debian buster/main amd64 node-detect-indent all 5.0.0-1 [4392 B]\n",
      "Get:208 http://deb.debian.org/debian buster/main amd64 node-detect-newline all 2.1.0-1 [2972 B]\n",
      "Get:209 http://deb.debian.org/debian buster/main amd64 node-duplexer3 all 0.1.4-4 [4844 B]\n",
      "Get:210 http://deb.debian.org/debian buster/main amd64 node-jsbn all 1.1.0-1 [13.5 kB]\n",
      "Get:211 http://deb.debian.org/debian buster/main amd64 node-ecc-jsbn all 0.1.1-1 [8832 B]\n",
      "Get:212 http://deb.debian.org/debian buster/main amd64 node-editor all 1.0.0-1 [3296 B]\n",
      "Get:213 http://deb.debian.org/debian buster/main amd64 node-iconv-lite all 0.4.13-2 [122 kB]\n",
      "Get:214 http://deb.debian.org/debian buster/main amd64 node-encoding all 0.1.12-2 [4262 B]\n",
      "Get:215 http://deb.debian.org/debian buster/main amd64 node-prr all 1.0.1-1 [3682 B]\n",
      "Get:216 http://deb.debian.org/debian buster/main amd64 node-errno all 0.1.4-1 [6572 B]\n",
      "Get:217 http://deb.debian.org/debian buster/main amd64 node-extend all 3.0.2-1 [6744 B]\n",
      "Get:218 http://deb.debian.org/debian buster/main amd64 node-extsprintf all 1.3.0-1 [4452 B]\n",
      "Get:219 http://deb.debian.org/debian buster/main amd64 node-p-limit all 1.1.0-1 [3382 B]\n",
      "Get:220 http://deb.debian.org/debian buster/main amd64 node-p-locate all 2.0.0-1 [3986 B]\n",
      "Get:221 http://deb.debian.org/debian buster/main amd64 node-path-exists all 3.0.0-1 [3154 B]\n",
      "Get:222 http://deb.debian.org/debian buster/main amd64 node-locate-path all 2.0.0-1 [3816 B]\n",
      "Get:223 http://deb.debian.org/debian buster/main amd64 node-find-up all 2.1.0-1 [3652 B]\n",
      "Get:224 http://deb.debian.org/debian buster/main amd64 node-forever-agent all 0.6.1-1 [3536 B]\n",
      "Get:225 http://deb.debian.org/debian buster/main amd64 node-mime-types all 2.1.21-1 [16.5 kB]\n",
      "Get:226 http://deb.debian.org/debian buster/main amd64 node-form-data all 2.3.2-2 [10.0 kB]\n",
      "Get:227 http://deb.debian.org/debian buster/main amd64 node-path-is-inside all 1.0.2-1 [3940 B]\n",
      "Get:228 http://deb.debian.org/debian buster/main amd64 node-fs-vacuum all 1.2.10-2 [4232 B]\n",
      "Get:229 http://deb.debian.org/debian buster/main amd64 node-object-assign all 4.1.1-2 [4336 B]\n",
      "Get:230 http://deb.debian.org/debian buster/main amd64 node-has-unicode all 2.0.1-2 [3442 B]\n",
      "Get:231 http://deb.debian.org/debian buster/main amd64 node-wide-align all 1.1.0-1 [3438 B]\n",
      "Get:232 http://deb.debian.org/debian buster/main amd64 node-gauge all 2.7.4-1 [25.1 kB]\n",
      "Get:233 http://deb.debian.org/debian buster/main amd64 node-get-caller-file all 1.0.2-1 [2814 B]\n",
      "Get:234 http://deb.debian.org/debian buster/main amd64 node-getpass all 0.1.7-1 [4142 B]\n",
      "Get:235 http://deb.debian.org/debian buster/main amd64 node-is-retry-allowed all 1.1.0-1 [3296 B]\n",
      "Get:236 http://deb.debian.org/debian buster/main amd64 node-p-cancelable all 0.3.0-1 [4322 B]\n",
      "Get:237 http://deb.debian.org/debian buster/main amd64 node-p-timeout all 1.2.0-1 [3642 B]\n",
      "Get:238 http://deb.debian.org/debian buster/main amd64 node-is-plain-obj all 1.1.0-1 [2918 B]\n",
      "Get:239 http://deb.debian.org/debian buster/main amd64 node-url-to-options all 1.0.1-1 [3152 B]\n",
      "Get:240 http://deb.debian.org/debian buster/main amd64 node-timed-out all 4.0.1-4 [3972 B]\n",
      "Get:241 http://deb.debian.org/debian buster/main amd64 node-lowercase-keys all 1.0.0-2 [3108 B]\n",
      "Get:242 http://deb.debian.org/debian buster/main amd64 node-is-object all 1.0.1-1 [3288 B]\n",
      "Get:243 http://deb.debian.org/debian buster/main amd64 node-has-symbol-support-x all 1.4.1+dfsg-1 [3948 B]\n",
      "Get:244 http://deb.debian.org/debian buster/main amd64 node-has-to-string-tag-x all 1.4.1+dfsg-1 [4066 B]\n",
      "Get:245 http://deb.debian.org/debian buster/main amd64 node-isurl all 1.0.0-1 [3598 B]\n",
      "Get:246 http://deb.debian.org/debian buster/main amd64 node-prepend-http all 2.0.0-1 [3292 B]\n",
      "Get:247 http://deb.debian.org/debian buster/main amd64 node-url-parse-lax all 1.0.0-1 [3222 B]\n",
      "Get:248 http://deb.debian.org/debian buster/main amd64 node-got all 7.1.0-1 [11.7 kB]\n",
      "Get:249 http://deb.debian.org/debian buster/main amd64 node-nopt all 3.0.6-3 [9538 B]\n",
      "Get:250 http://deb.debian.org/debian buster/main amd64 node-set-blocking all 2.0.0-1 [3806 B]\n",
      "Get:251 http://deb.debian.org/debian buster/main amd64 node-npmlog all 4.1.2-1 [8592 B]\n",
      "Get:252 http://deb.debian.org/debian buster/main amd64 node-osenv all 0.1.5-1 [4332 B]\n",
      "Get:253 http://deb.debian.org/debian buster/main amd64 node-har-schema all 2.0.0-1 [5254 B]\n",
      "Get:254 http://deb.debian.org/debian buster/main amd64 node-har-validator all 5.1.0-1 [4548 B]\n",
      "Get:255 http://deb.debian.org/debian buster/main amd64 node-json-schema all 0.2.3-1 [6996 B]\n",
      "Get:256 http://deb.debian.org/debian buster/main amd64 node-verror all 1.10.0-1 [13.9 kB]\n",
      "Get:257 http://deb.debian.org/debian buster/main amd64 node-jsprim all 1.4.0-1 [13.2 kB]\n",
      "Get:258 http://deb.debian.org/debian buster/main amd64 node-sshpk all 1.13.1+dfsg-2 [44.4 kB]\n",
      "Get:259 http://deb.debian.org/debian buster/main amd64 node-http-signature all 1.2.0-1 [11.1 kB]\n",
      "Get:260 http://deb.debian.org/debian buster/main amd64 node-is-typedarray all 1.0.0-2 [2422 B]\n",
      "Get:261 http://deb.debian.org/debian buster/main amd64 node-isstream all 0.1.2+dfsg-1 [3546 B]\n",
      "Get:262 http://deb.debian.org/debian buster/main amd64 node-json-stringify-safe all 5.0.1-1 [4124 B]\n",
      "Get:263 http://deb.debian.org/debian buster/main amd64 node-oauth-sign all 0.9.0-1 [3676 B]\n",
      "Get:264 http://deb.debian.org/debian buster/main amd64 node-performance-now all 2.1.0+debian-1 [4442 B]\n",
      "Get:265 http://deb.debian.org/debian buster/main amd64 node-qs all 6.5.2-1 [16.4 kB]\n",
      "Get:266 http://deb.debian.org/debian buster/main amd64 node-punycode all 2.1.1-2 [9404 B]\n",
      "Get:267 http://deb.debian.org/debian buster/main amd64 node-tough-cookie all 2.3.4+dfsg-1 [56.1 kB]\n",
      "Get:268 http://deb.debian.org/debian buster/main amd64 node-tunnel-agent all 0.6.1-1 [4288 B]\n",
      "Get:269 http://deb.debian.org/debian buster/main amd64 node-uuid all 3.3.2-2 [18.2 kB]\n",
      "Get:270 http://deb.debian.org/debian buster/main amd64 node-node-uuid all 3.3.2-2 [5744 B]\n",
      "Get:271 http://deb.debian.org/debian buster/main amd64 node-request all 2.88.1-2 [53.8 kB]\n",
      "Get:272 http://deb.debian.org/debian buster/main amd64 node-semver all 5.5.1-1 [23.9 kB]\n",
      "Get:273 http://deb.debian.org/debian buster/main amd64 node-tar all 4.4.6+ds1-3 [31.8 kB]\n",
      "Get:274 http://deb.debian.org/debian buster/main amd64 node-gyp all 3.8.0-6 [36.9 kB]\n",
      "Get:275 http://deb.debian.org/debian buster/main amd64 node-hosted-git-info all 2.7.1-1 [8288 B]\n",
      "Get:276 http://deb.debian.org/debian buster/main amd64 node-import-lazy all 3.0.0.REALLY.2.1.0-1 [4000 B]\n",
      "Get:277 http://deb.debian.org/debian buster/main amd64 node-invert-kv all 1.0.0-1 [2862 B]\n",
      "Get:278 http://deb.debian.org/debian buster/main amd64 node-is-builtin-module all 2.0.0-1 [3156 B]\n",
      "Get:279 http://deb.debian.org/debian buster/main amd64 node-is-npm all 1.0.0-1 [2836 B]\n",
      "Get:280 http://deb.debian.org/debian buster/main amd64 node-json-parse-better-errors all 1.0.2-2 [5080 B]\n",
      "Get:281 http://deb.debian.org/debian buster/main amd64 node-jsonparse all 1.3.1-6 [7012 B]\n",
      "Get:282 http://deb.debian.org/debian buster/main amd64 node-through all 2.3.8-1 [4182 B]\n",
      "Get:283 http://deb.debian.org/debian buster/main amd64 node-jsonstream all 1.3.2-1 [8092 B]\n",
      "Get:284 http://deb.debian.org/debian buster/main amd64 node-minimist all 1.2.0-1 [5588 B]\n",
      "Get:285 http://deb.debian.org/debian buster/main amd64 node-strip-json-comments all 2.0.1-2 [4016 B]\n",
      "Get:286 http://deb.debian.org/debian buster/main amd64 node-rc all 1.1.6-2 [6058 B]\n",
      "Get:287 http://deb.debian.org/debian buster/main amd64 node-registry-url all 3.1.0-1 [3172 B]\n",
      "Get:288 http://deb.debian.org/debian buster/main amd64 node-registry-auth-token all 3.3.1-1 [5642 B]\n",
      "Get:289 http://deb.debian.org/debian buster/main amd64 node-package-json all 4.0.1-1 [4180 B]\n",
      "Get:290 http://deb.debian.org/debian buster/main amd64 node-latest-version all 3.1.0-1 [3128 B]\n",
      "Get:291 http://deb.debian.org/debian buster/main amd64 node-lazy-property all 1.0.0-3 [3556 B]\n",
      "Get:292 http://deb.debian.org/debian buster/main amd64 node-lcid all 1.0.0-1 [4232 B]\n",
      "Get:293 http://deb.debian.org/debian buster/main amd64 node-validate-npm-package-name all 3.0.0-1 [4432 B]\n",
      "Get:294 http://deb.debian.org/debian buster/main amd64 node-npm-package-arg all 6.0.0-2 [6752 B]\n",
      "Get:295 http://deb.debian.org/debian buster/main amd64 node-require-directory all 2.1.1-1 [5364 B]\n",
      "Get:296 http://deb.debian.org/debian buster/main amd64 node-require-main-filename all 1.0.1-1 [3152 B]\n",
      "Get:297 http://deb.debian.org/debian buster/main amd64 node-which-module all 2.0.0-1 [3792 B]\n",
      "Get:298 http://deb.debian.org/debian buster/main amd64 node-mimic-fn all 1.1.0-1 [3070 B]\n",
      "Get:299 http://deb.debian.org/debian buster/main amd64 node-mem all 1.1.0-1 [4076 B]\n",
      "Get:300 http://deb.debian.org/debian buster/main amd64 node-os-locale all 2.0.0-1 [3702 B]\n",
      "Get:301 http://deb.debian.org/debian buster/main amd64 node-yargs-parser all 11.1.1-1+deb10u1 [16.7 kB]\n",
      "Get:302 http://deb.debian.org/debian buster/main amd64 node-yargs all 10.0.3-2 [57.1 kB]\n",
      "Get:303 http://deb.debian.org/debian buster/main amd64 node-libnpx all 10.2.0+repack-1 [41.8 kB]\n",
      "Get:304 http://deb.debian.org/debian buster/main amd64 node-lockfile all 1.0.4-1 [7272 B]\n",
      "Get:305 http://deb.debian.org/debian buster/main amd64 node-mute-stream all 0.0.8-1 [4608 B]\n",
      "Get:306 http://deb.debian.org/debian buster/main amd64 node-spdx-license-ids all 1.2.2-1 [4754 B]\n",
      "Get:307 http://deb.debian.org/debian buster/main amd64 node-spdx-correct all 1.0.2-1 [3678 B]\n",
      "Get:308 http://deb.debian.org/debian buster/main amd64 node-spdx-expression-parse all 1.0.4-1 [12.1 kB]\n",
      "Get:309 http://deb.debian.org/debian buster/main amd64 node-validate-npm-package-license all 3.0.1-1 [3442 B]\n",
      "Get:310 http://deb.debian.org/debian buster/main amd64 node-normalize-package-data all 2.4.0-1 [10.8 kB]\n",
      "Get:311 http://deb.debian.org/debian buster/main amd64 node-opener all 1.4.3-1 [4094 B]\n",
      "Get:312 http://deb.debian.org/debian buster/main amd64 node-read all 1.0.7-1 [4540 B]\n",
      "Get:313 http://deb.debian.org/debian buster/main amd64 node-promzard all 0.3.0-1 [8964 B]\n",
      "Get:314 http://deb.debian.org/debian buster/main amd64 node-qw all 1.0.1-1 [3080 B]\n",
      "Get:315 http://deb.debian.org/debian buster/main amd64 node-slash all 1.0.0-1 [2976 B]\n",
      "Get:316 http://deb.debian.org/debian buster/main amd64 node-read-package-json all 2.0.13-1 [8388 B]\n",
      "Get:317 http://deb.debian.org/debian buster/main amd64 node-resolve-from all 4.0.0-1 [3684 B]\n",
      "Get:318 http://deb.debian.org/debian buster/main amd64 node-retry all 0.10.1-1 [7980 B]\n",
      "Get:319 http://deb.debian.org/debian buster/main amd64 node-semver-diff all 2.1.0-2 [3356 B]\n",
      "Get:320 http://deb.debian.org/debian buster/main amd64 node-sha all 2.0.1-1 [4336 B]\n",
      "Get:321 http://deb.debian.org/debian buster/main amd64 node-slide all 1.1.6-2 [6292 B]\n",
      "Get:322 http://deb.debian.org/debian buster/main amd64 node-sorted-object all 2.0.1-1 [3686 B]\n",
      "Get:323 http://deb.debian.org/debian buster/main amd64 node-stream-iterate all 1.2.0-4 [3736 B]\n",
      "Get:324 http://deb.debian.org/debian buster/main amd64 node-text-table all 0.2.0-2 [4308 B]\n",
      "Get:325 http://deb.debian.org/debian buster/main amd64 node-uid-number all 0.0.6-1 [3068 B]\n",
      "Get:326 http://deb.debian.org/debian buster/main amd64 node-unpipe all 1.0.0-1 [3582 B]\n",
      "Get:327 http://deb.debian.org/debian buster/main amd64 node-write-file-atomic all 2.3.0-1 [4878 B]\n",
      "Get:328 http://deb.debian.org/debian buster/main amd64 node-xdg-basedir all 3.0.0-1 [3660 B]\n",
      "Get:329 http://deb.debian.org/debian buster/main amd64 npm all 5.8.0+ds6-4+deb10u1 [1017 kB]\n",
      "Fetched 76.0 MB in 3s (24.3 MB/s)\n",
      "debconf: delaying package configuration, since apt-utils is not installed\n",
      "Selecting previously unselected package perl-modules-5.28.\n",
      "(Reading database ... 7003 files and directories currently installed.)\n",
      "Preparing to unpack .../00-perl-modules-5.28_5.28.1-6_all.deb ...\n",
      "Unpacking perl-modules-5.28 (5.28.1-6) ...\n",
      "Selecting previously unselected package libgdbm-compat4:amd64.\n",
      "Preparing to unpack .../01-libgdbm-compat4_1.18.1-4_amd64.deb ...\n",
      "Unpacking libgdbm-compat4:amd64 (1.18.1-4) ...\n",
      "Selecting previously unselected package libperl5.28:amd64.\n",
      "Preparing to unpack .../02-libperl5.28_5.28.1-6_amd64.deb ...\n",
      "Unpacking libperl5.28:amd64 (5.28.1-6) ...\n",
      "Selecting previously unselected package perl.\n",
      "Preparing to unpack .../03-perl_5.28.1-6_amd64.deb ...\n",
      "Unpacking perl (5.28.1-6) ...\n",
      "Selecting previously unselected package libpython2.7-minimal:amd64.\n",
      "Preparing to unpack .../04-libpython2.7-minimal_2.7.16-2+deb10u1_amd64.deb ...\n",
      "Unpacking libpython2.7-minimal:amd64 (2.7.16-2+deb10u1) ...\n",
      "Selecting previously unselected package python2.7-minimal.\n",
      "Preparing to unpack .../05-python2.7-minimal_2.7.16-2+deb10u1_amd64.deb ...\n",
      "Unpacking python2.7-minimal (2.7.16-2+deb10u1) ...\n",
      "Selecting previously unselected package python2-minimal.\n",
      "Preparing to unpack .../06-python2-minimal_2.7.16-1_amd64.deb ...\n",
      "Unpacking python2-minimal (2.7.16-1) ...\n",
      "Selecting previously unselected package python-minimal.\n",
      "Preparing to unpack .../07-python-minimal_2.7.16-1_amd64.deb ...\n",
      "Unpacking python-minimal (2.7.16-1) ...\n",
      "Selecting previously unselected package mime-support.\n",
      "Preparing to unpack .../08-mime-support_3.62_all.deb ...\n",
      "Unpacking mime-support (3.62) ...\n",
      "Selecting previously unselected package libpython2.7-stdlib:amd64.\n",
      "Preparing to unpack .../09-libpython2.7-stdlib_2.7.16-2+deb10u1_amd64.deb ...\n",
      "Unpacking libpython2.7-stdlib:amd64 (2.7.16-2+deb10u1) ...\n",
      "Selecting previously unselected package python2.7.\n",
      "Preparing to unpack .../10-python2.7_2.7.16-2+deb10u1_amd64.deb ...\n",
      "Unpacking python2.7 (2.7.16-2+deb10u1) ...\n",
      "Selecting previously unselected package libpython2-stdlib:amd64.\n",
      "Preparing to unpack .../11-libpython2-stdlib_2.7.16-1_amd64.deb ...\n",
      "Unpacking libpython2-stdlib:amd64 (2.7.16-1) ...\n",
      "Selecting previously unselected package libpython-stdlib:amd64.\n",
      "Preparing to unpack .../12-libpython-stdlib_2.7.16-1_amd64.deb ...\n",
      "Unpacking libpython-stdlib:amd64 (2.7.16-1) ...\n",
      "Setting up libpython2.7-minimal:amd64 (2.7.16-2+deb10u1) ...\n",
      "Setting up python2.7-minimal (2.7.16-2+deb10u1) ...\n",
      "Linking and byte-compiling packages for runtime python2.7...\n",
      "Setting up python2-minimal (2.7.16-1) ...\n",
      "Selecting previously unselected package python2.\n",
      "(Reading database ... 9728 files and directories currently installed.)\n",
      "Preparing to unpack .../python2_2.7.16-1_amd64.deb ...\n",
      "Unpacking python2 (2.7.16-1) ...\n",
      "Setting up python-minimal (2.7.16-1) ...\n",
      "Selecting previously unselected package python.\n",
      "(Reading database ... 9761 files and directories currently installed.)\n",
      "Preparing to unpack .../000-python_2.7.16-1_amd64.deb ...\n",
      "Unpacking python (2.7.16-1) ...\n",
      "Selecting previously unselected package liblocale-gettext-perl.\n",
      "Preparing to unpack .../001-liblocale-gettext-perl_1.07-3+b4_amd64.deb ...\n",
      "Unpacking liblocale-gettext-perl (1.07-3+b4) ...\n",
      "Selecting previously unselected package bzip2.\n",
      "Preparing to unpack .../002-bzip2_1.0.6-9.2~deb10u1_amd64.deb ...\n",
      "Unpacking bzip2 (1.0.6-9.2~deb10u1) ...\n",
      "Selecting previously unselected package libmagic-mgc.\n",
      "Preparing to unpack .../003-libmagic-mgc_1%3a5.35-4+deb10u1_amd64.deb ...\n",
      "Unpacking libmagic-mgc (1:5.35-4+deb10u1) ...\n",
      "Selecting previously unselected package libmagic1:amd64.\n",
      "Preparing to unpack .../004-libmagic1_1%3a5.35-4+deb10u1_amd64.deb ...\n",
      "Unpacking libmagic1:amd64 (1:5.35-4+deb10u1) ...\n",
      "Selecting previously unselected package file.\n",
      "Preparing to unpack .../005-file_1%3a5.35-4+deb10u1_amd64.deb ...\n",
      "Unpacking file (1:5.35-4+deb10u1) ...\n",
      "Selecting previously unselected package manpages.\n",
      "Preparing to unpack .../006-manpages_4.16-2_all.deb ...\n",
      "Unpacking manpages (4.16-2) ...\n",
      "Selecting previously unselected package xz-utils.\n",
      "Preparing to unpack .../007-xz-utils_5.2.4-1_amd64.deb ...\n",
      "Unpacking xz-utils (5.2.4-1) ...\n",
      "Selecting previously unselected package binutils-common:amd64.\n",
      "Preparing to unpack .../008-binutils-common_2.31.1-16_amd64.deb ...\n",
      "Unpacking binutils-common:amd64 (2.31.1-16) ...\n",
      "Selecting previously unselected package libbinutils:amd64.\n",
      "Preparing to unpack .../009-libbinutils_2.31.1-16_amd64.deb ...\n",
      "Unpacking libbinutils:amd64 (2.31.1-16) ...\n",
      "Selecting previously unselected package binutils-x86-64-linux-gnu.\n",
      "Preparing to unpack .../010-binutils-x86-64-linux-gnu_2.31.1-16_amd64.deb ...\n",
      "Unpacking binutils-x86-64-linux-gnu (2.31.1-16) ...\n",
      "Selecting previously unselected package binutils.\n",
      "Preparing to unpack .../011-binutils_2.31.1-16_amd64.deb ...\n",
      "Unpacking binutils (2.31.1-16) ...\n",
      "Selecting previously unselected package libc-dev-bin.\n",
      "Preparing to unpack .../012-libc-dev-bin_2.28-10_amd64.deb ...\n",
      "Unpacking libc-dev-bin (2.28-10) ...\n",
      "Selecting previously unselected package linux-libc-dev:amd64.\n",
      "Preparing to unpack .../013-linux-libc-dev_4.19.118-2+deb10u1_amd64.deb ...\n",
      "Unpacking linux-libc-dev:amd64 (4.19.118-2+deb10u1) ...\n",
      "Selecting previously unselected package libc6-dev:amd64.\n",
      "Preparing to unpack .../014-libc6-dev_2.28-10_amd64.deb ...\n",
      "Unpacking libc6-dev:amd64 (2.28-10) ...\n",
      "Selecting previously unselected package libisl19:amd64.\n",
      "Preparing to unpack .../015-libisl19_0.20-2_amd64.deb ...\n",
      "Unpacking libisl19:amd64 (0.20-2) ...\n",
      "Selecting previously unselected package libmpfr6:amd64.\n",
      "Preparing to unpack .../016-libmpfr6_4.0.2-1_amd64.deb ...\n",
      "Unpacking libmpfr6:amd64 (4.0.2-1) ...\n",
      "Selecting previously unselected package libmpc3:amd64.\n",
      "Preparing to unpack .../017-libmpc3_1.1.0-1_amd64.deb ...\n",
      "Unpacking libmpc3:amd64 (1.1.0-1) ...\n",
      "Selecting previously unselected package cpp-8.\n",
      "Preparing to unpack .../018-cpp-8_8.3.0-6_amd64.deb ...\n",
      "Unpacking cpp-8 (8.3.0-6) ...\n",
      "Selecting previously unselected package cpp.\n",
      "Preparing to unpack .../019-cpp_4%3a8.3.0-1_amd64.deb ...\n",
      "Unpacking cpp (4:8.3.0-1) ...\n",
      "Selecting previously unselected package libcc1-0:amd64.\n",
      "Preparing to unpack .../020-libcc1-0_8.3.0-6_amd64.deb ...\n",
      "Unpacking libcc1-0:amd64 (8.3.0-6) ...\n",
      "Selecting previously unselected package libgomp1:amd64.\n",
      "Preparing to unpack .../021-libgomp1_8.3.0-6_amd64.deb ...\n",
      "Unpacking libgomp1:amd64 (8.3.0-6) ...\n",
      "Selecting previously unselected package libitm1:amd64.\n",
      "Preparing to unpack .../022-libitm1_8.3.0-6_amd64.deb ...\n",
      "Unpacking libitm1:amd64 (8.3.0-6) ...\n",
      "Selecting previously unselected package libasan5:amd64.\n",
      "Preparing to unpack .../023-libasan5_8.3.0-6_amd64.deb ...\n",
      "Unpacking libasan5:amd64 (8.3.0-6) ...\n",
      "Selecting previously unselected package liblsan0:amd64.\n",
      "Preparing to unpack .../024-liblsan0_8.3.0-6_amd64.deb ...\n",
      "Unpacking liblsan0:amd64 (8.3.0-6) ...\n",
      "Selecting previously unselected package libtsan0:amd64.\n",
      "Preparing to unpack .../025-libtsan0_8.3.0-6_amd64.deb ...\n",
      "Unpacking libtsan0:amd64 (8.3.0-6) ...\n",
      "Selecting previously unselected package libubsan1:amd64.\n",
      "Preparing to unpack .../026-libubsan1_8.3.0-6_amd64.deb ...\n",
      "Unpacking libubsan1:amd64 (8.3.0-6) ...\n",
      "Selecting previously unselected package libmpx2:amd64.\n",
      "Preparing to unpack .../027-libmpx2_8.3.0-6_amd64.deb ...\n",
      "Unpacking libmpx2:amd64 (8.3.0-6) ...\n",
      "Selecting previously unselected package libquadmath0:amd64.\n",
      "Preparing to unpack .../028-libquadmath0_8.3.0-6_amd64.deb ...\n",
      "Unpacking libquadmath0:amd64 (8.3.0-6) ...\n",
      "Selecting previously unselected package libgcc-8-dev:amd64.\n",
      "Preparing to unpack .../029-libgcc-8-dev_8.3.0-6_amd64.deb ...\n",
      "Unpacking libgcc-8-dev:amd64 (8.3.0-6) ...\n",
      "Selecting previously unselected package gcc-8.\n",
      "Preparing to unpack .../030-gcc-8_8.3.0-6_amd64.deb ...\n",
      "Unpacking gcc-8 (8.3.0-6) ...\n",
      "Selecting previously unselected package gcc.\n",
      "Preparing to unpack .../031-gcc_4%3a8.3.0-1_amd64.deb ...\n",
      "Unpacking gcc (4:8.3.0-1) ...\n",
      "Selecting previously unselected package libstdc++-8-dev:amd64.\n",
      "Preparing to unpack .../032-libstdc++-8-dev_8.3.0-6_amd64.deb ...\n",
      "Unpacking libstdc++-8-dev:amd64 (8.3.0-6) ...\n",
      "Selecting previously unselected package g++-8.\n",
      "Preparing to unpack .../033-g++-8_8.3.0-6_amd64.deb ...\n",
      "Unpacking g++-8 (8.3.0-6) ...\n",
      "Selecting previously unselected package g++.\n",
      "Preparing to unpack .../034-g++_4%3a8.3.0-1_amd64.deb ...\n",
      "Unpacking g++ (4:8.3.0-1) ...\n",
      "Selecting previously unselected package make.\n",
      "Preparing to unpack .../035-make_4.2.1-1.2_amd64.deb ...\n",
      "Unpacking make (4.2.1-1.2) ...\n",
      "Selecting previously unselected package libdpkg-perl.\n",
      "Preparing to unpack .../036-libdpkg-perl_1.19.7_all.deb ...\n",
      "Unpacking libdpkg-perl (1.19.7) ...\n",
      "Selecting previously unselected package patch.\n",
      "Preparing to unpack .../037-patch_2.7.6-3+deb10u1_amd64.deb ...\n",
      "Unpacking patch (2.7.6-3+deb10u1) ...\n",
      "Selecting previously unselected package dpkg-dev.\n",
      "Preparing to unpack .../038-dpkg-dev_1.19.7_all.deb ...\n",
      "Unpacking dpkg-dev (1.19.7) ...\n",
      "Selecting previously unselected package build-essential.\n",
      "Preparing to unpack .../039-build-essential_12.6_amd64.deb ...\n",
      "Unpacking build-essential (12.6) ...\n",
      "Selecting previously unselected package libassuan0:amd64.\n",
      "Preparing to unpack .../040-libassuan0_2.5.2-1_amd64.deb ...\n",
      "Unpacking libassuan0:amd64 (2.5.2-1) ...\n",
      "Selecting previously unselected package gpgconf.\n",
      "Preparing to unpack .../041-gpgconf_2.2.12-1+deb10u1_amd64.deb ...\n",
      "Unpacking gpgconf (2.2.12-1+deb10u1) ...\n",
      "Selecting previously unselected package lsb-base.\n",
      "Preparing to unpack .../042-lsb-base_10.2019051400_all.deb ...\n",
      "Unpacking lsb-base (10.2019051400) ...\n",
      "Selecting previously unselected package libksba8:amd64.\n",
      "Preparing to unpack .../043-libksba8_1.3.5-2_amd64.deb ...\n",
      "Unpacking libksba8:amd64 (1.3.5-2) ...\n",
      "Selecting previously unselected package libsasl2-modules-db:amd64.\n",
      "Preparing to unpack .../044-libsasl2-modules-db_2.1.27+dfsg-1+deb10u1_amd64.deb ...\n",
      "Unpacking libsasl2-modules-db:amd64 (2.1.27+dfsg-1+deb10u1) ...\n",
      "Selecting previously unselected package libsasl2-2:amd64.\n",
      "Preparing to unpack .../045-libsasl2-2_2.1.27+dfsg-1+deb10u1_amd64.deb ...\n",
      "Unpacking libsasl2-2:amd64 (2.1.27+dfsg-1+deb10u1) ...\n",
      "Selecting previously unselected package libldap-common.\n",
      "Preparing to unpack .../046-libldap-common_2.4.47+dfsg-3+deb10u2_all.deb ...\n",
      "Unpacking libldap-common (2.4.47+dfsg-3+deb10u2) ...\n",
      "Selecting previously unselected package libldap-2.4-2:amd64.\n",
      "Preparing to unpack .../047-libldap-2.4-2_2.4.47+dfsg-3+deb10u2_amd64.deb ...\n",
      "Unpacking libldap-2.4-2:amd64 (2.4.47+dfsg-3+deb10u2) ...\n",
      "Selecting previously unselected package libnpth0:amd64.\n",
      "Preparing to unpack .../048-libnpth0_1.6-1_amd64.deb ...\n",
      "Unpacking libnpth0:amd64 (1.6-1) ...\n",
      "Selecting previously unselected package dirmngr.\n",
      "Preparing to unpack .../049-dirmngr_2.2.12-1+deb10u1_amd64.deb ...\n",
      "Unpacking dirmngr (2.2.12-1+deb10u1) ...\n",
      "Selecting previously unselected package libfakeroot:amd64.\n",
      "Preparing to unpack .../050-libfakeroot_1.23-1_amd64.deb ...\n",
      "Unpacking libfakeroot:amd64 (1.23-1) ...\n",
      "Selecting previously unselected package fakeroot.\n",
      "Preparing to unpack .../051-fakeroot_1.23-1_amd64.deb ...\n",
      "Unpacking fakeroot (1.23-1) ...\n",
      "Selecting previously unselected package gnupg-l10n.\n",
      "Preparing to unpack .../052-gnupg-l10n_2.2.12-1+deb10u1_all.deb ...\n",
      "Unpacking gnupg-l10n (2.2.12-1+deb10u1) ...\n",
      "Selecting previously unselected package gnupg-utils.\n",
      "Preparing to unpack .../053-gnupg-utils_2.2.12-1+deb10u1_amd64.deb ...\n",
      "Unpacking gnupg-utils (2.2.12-1+deb10u1) ...\n",
      "Selecting previously unselected package gpg.\n",
      "Preparing to unpack .../054-gpg_2.2.12-1+deb10u1_amd64.deb ...\n",
      "Unpacking gpg (2.2.12-1+deb10u1) ...\n",
      "Selecting previously unselected package pinentry-curses.\n",
      "Preparing to unpack .../055-pinentry-curses_1.1.0-2_amd64.deb ...\n",
      "Unpacking pinentry-curses (1.1.0-2) ...\n",
      "Selecting previously unselected package gpg-agent.\n",
      "Preparing to unpack .../056-gpg-agent_2.2.12-1+deb10u1_amd64.deb ...\n",
      "Unpacking gpg-agent (2.2.12-1+deb10u1) ...\n",
      "Selecting previously unselected package gpg-wks-client.\n",
      "Preparing to unpack .../057-gpg-wks-client_2.2.12-1+deb10u1_amd64.deb ...\n",
      "Unpacking gpg-wks-client (2.2.12-1+deb10u1) ...\n",
      "Selecting previously unselected package gpg-wks-server.\n",
      "Preparing to unpack .../058-gpg-wks-server_2.2.12-1+deb10u1_amd64.deb ...\n",
      "Unpacking gpg-wks-server (2.2.12-1+deb10u1) ...\n",
      "Selecting previously unselected package gpgsm.\n",
      "Preparing to unpack .../059-gpgsm_2.2.12-1+deb10u1_amd64.deb ...\n",
      "Unpacking gpgsm (2.2.12-1+deb10u1) ...\n",
      "Selecting previously unselected package gnupg.\n",
      "Preparing to unpack .../060-gnupg_2.2.12-1+deb10u1_all.deb ...\n",
      "Unpacking gnupg (2.2.12-1+deb10u1) ...\n",
      "Selecting previously unselected package python-pkg-resources.\n",
      "Preparing to unpack .../061-python-pkg-resources_40.8.0-1_all.deb ...\n",
      "Unpacking python-pkg-resources (40.8.0-1) ...\n",
      "Selecting previously unselected package gyp.\n",
      "Preparing to unpack .../062-gyp_0.1+20180428git4d467626-3_all.deb ...\n",
      "Unpacking gyp (0.1+20180428git4d467626-3) ...\n",
      "Selecting previously unselected package javascript-common.\n",
      "Preparing to unpack .../063-javascript-common_11_all.deb ...\n",
      "Unpacking javascript-common (11) ...\n",
      "Selecting previously unselected package libalgorithm-diff-perl.\n",
      "Preparing to unpack .../064-libalgorithm-diff-perl_1.19.03-2_all.deb ...\n",
      "Unpacking libalgorithm-diff-perl (1.19.03-2) ...\n",
      "Selecting previously unselected package libalgorithm-diff-xs-perl.\n",
      "Preparing to unpack .../065-libalgorithm-diff-xs-perl_0.04-5+b1_amd64.deb ...\n",
      "Unpacking libalgorithm-diff-xs-perl (0.04-5+b1) ...\n",
      "Selecting previously unselected package libalgorithm-merge-perl.\n",
      "Preparing to unpack .../066-libalgorithm-merge-perl_0.08-3_all.deb ...\n",
      "Unpacking libalgorithm-merge-perl (0.08-3) ...\n",
      "Selecting previously unselected package libfile-fcntllock-perl.\n",
      "Preparing to unpack .../067-libfile-fcntllock-perl_0.22-3+b5_amd64.deb ...\n",
      "Unpacking libfile-fcntllock-perl (0.22-3+b5) ...\n",
      "Selecting previously unselected package libjs-inherits.\n",
      "Preparing to unpack .../068-libjs-inherits_2.0.3-1_all.deb ...\n",
      "Unpacking libjs-inherits (2.0.3-1) ...\n",
      "Selecting previously unselected package libjs-is-typedarray.\n",
      "Preparing to unpack .../069-libjs-is-typedarray_1.0.0-2_all.deb ...\n",
      "Unpacking libjs-is-typedarray (1.0.0-2) ...\n",
      "Selecting previously unselected package libssl-dev:amd64.\n",
      "Preparing to unpack .../070-libssl-dev_1.1.1d-0+deb10u3_amd64.deb ...\n",
      "Unpacking libssl-dev:amd64 (1.1.1d-0+deb10u3) ...\n",
      "Selecting previously unselected package libuv1-dev:amd64.\n",
      "Preparing to unpack .../071-libuv1-dev_1.24.1-1_amd64.deb ...\n",
      "Unpacking libuv1-dev:amd64 (1.24.1-1) ...\n",
      "Selecting previously unselected package libnode-dev:amd64.\n",
      "Preparing to unpack .../072-libnode-dev_10.21.0~dfsg-1~deb10u1_amd64.deb ...\n",
      "Unpacking libnode-dev:amd64 (10.21.0~dfsg-1~deb10u1) ...\n",
      "Selecting previously unselected package libsasl2-modules:amd64.\n",
      "Preparing to unpack .../073-libsasl2-modules_2.1.27+dfsg-1+deb10u1_amd64.deb ...\n",
      "Unpacking libsasl2-modules:amd64 (2.1.27+dfsg-1+deb10u1) ...\n",
      "Selecting previously unselected package manpages-dev.\n",
      "Preparing to unpack .../074-manpages-dev_4.16-2_all.deb ...\n",
      "Unpacking manpages-dev (4.16-2) ...\n",
      "Selecting previously unselected package node-abbrev.\n",
      "Preparing to unpack .../075-node-abbrev_1.1.1-1_all.deb ...\n",
      "Unpacking node-abbrev (1.1.1-1) ...\n",
      "Selecting previously unselected package node-jsonify.\n",
      "Preparing to unpack .../076-node-jsonify_0.0.0-1_all.deb ...\n",
      "Unpacking node-jsonify (0.0.0-1) ...\n",
      "Selecting previously unselected package node-json-stable-stringify.\n",
      "Preparing to unpack .../077-node-json-stable-stringify_1.0.1-1_all.deb ...\n",
      "Unpacking node-json-stable-stringify (1.0.1-1) ...\n",
      "Selecting previously unselected package node-co.\n",
      "Preparing to unpack .../078-node-co_4.6.0-1_all.deb ...\n",
      "Unpacking node-co (4.6.0-1) ...\n",
      "Selecting previously unselected package node-ajv.\n",
      "Preparing to unpack .../079-node-ajv_5.0.0-1_all.deb ...\n",
      "Unpacking node-ajv (5.0.0-1) ...\n",
      "Selecting previously unselected package node-ansi.\n",
      "Preparing to unpack .../080-node-ansi_0.3.0-3_all.deb ...\n",
      "Unpacking node-ansi (0.3.0-3) ...\n",
      "Selecting previously unselected package node-clone.\n",
      "Preparing to unpack .../081-node-clone_2.1.2-1_all.deb ...\n",
      "Unpacking node-clone (2.1.2-1) ...\n",
      "Selecting previously unselected package node-defaults.\n",
      "Preparing to unpack .../082-node-defaults_1.0.3-1_all.deb ...\n",
      "Unpacking node-defaults (1.0.3-1) ...\n",
      "Selecting previously unselected package node-wcwidth.js.\n",
      "Preparing to unpack .../083-node-wcwidth.js_1.0.0-1_all.deb ...\n",
      "Unpacking node-wcwidth.js (1.0.0-1) ...\n",
      "Selecting previously unselected package node-ansi-regex.\n",
      "Preparing to unpack .../084-node-ansi-regex_3.0.0-1_all.deb ...\n",
      "Unpacking node-ansi-regex (3.0.0-1) ...\n",
      "Selecting previously unselected package node-strip-ansi.\n",
      "Preparing to unpack .../085-node-strip-ansi_4.0.0-1_all.deb ...\n",
      "Unpacking node-strip-ansi (4.0.0-1) ...\n",
      "Selecting previously unselected package node-string-width.\n",
      "Preparing to unpack .../086-node-string-width_2.1.1-1_all.deb ...\n",
      "Unpacking node-string-width (2.1.1-1) ...\n",
      "Selecting previously unselected package node-ansi-align.\n",
      "Preparing to unpack .../087-node-ansi-align_2.0.0-1_all.deb ...\n",
      "Unpacking node-ansi-align (2.0.0-1) ...\n",
      "Selecting previously unselected package node-color-name.\n",
      "Preparing to unpack .../088-node-color-name_1.1.3-1_all.deb ...\n",
      "Unpacking node-color-name (1.1.3-1) ...\n",
      "Selecting previously unselected package node-color-convert.\n",
      "Preparing to unpack .../089-node-color-convert_1.9.0-3_all.deb ...\n",
      "Unpacking node-color-convert (1.9.0-3) ...\n",
      "Selecting previously unselected package node-ansi-styles.\n",
      "Preparing to unpack .../090-node-ansi-styles_3.2.1-1_all.deb ...\n",
      "Unpacking node-ansi-styles (3.2.1-1) ...\n",
      "Selecting previously unselected package node-ansistyles.\n",
      "Preparing to unpack .../091-node-ansistyles_0.1.3-1_all.deb ...\n",
      "Unpacking node-ansistyles (0.1.3-1) ...\n",
      "Selecting previously unselected package node-aproba.\n",
      "Preparing to unpack .../092-node-aproba_1.2.0-1_all.deb ...\n",
      "Unpacking node-aproba (1.2.0-1) ...\n",
      "Selecting previously unselected package node-archy.\n",
      "Preparing to unpack .../093-node-archy_1.0.0-2_all.deb ...\n",
      "Unpacking node-archy (1.0.0-2) ...\n",
      "Selecting previously unselected package node-delegates.\n",
      "Preparing to unpack .../094-node-delegates_1.0.0-1_all.deb ...\n",
      "Unpacking node-delegates (1.0.0-1) ...\n",
      "Selecting previously unselected package node-are-we-there-yet.\n",
      "Preparing to unpack .../095-node-are-we-there-yet_1.1.4-1_all.deb ...\n",
      "Unpacking node-are-we-there-yet (1.1.4-1) ...\n",
      "Selecting previously unselected package node-asn1.\n",
      "Preparing to unpack .../096-node-asn1_0.2.3-1_all.deb ...\n",
      "Unpacking node-asn1 (0.2.3-1) ...\n",
      "Selecting previously unselected package node-assert-plus.\n",
      "Preparing to unpack .../097-node-assert-plus_1.0.0-1_all.deb ...\n",
      "Unpacking node-assert-plus (1.0.0-1) ...\n",
      "Selecting previously unselected package node-asynckit.\n",
      "Preparing to unpack .../098-node-asynckit_0.4.0-2_all.deb ...\n",
      "Unpacking node-asynckit (0.4.0-2) ...\n",
      "Selecting previously unselected package node-aws-sign2.\n",
      "Preparing to unpack .../099-node-aws-sign2_0.7.1-1_all.deb ...\n",
      "Unpacking node-aws-sign2 (0.7.1-1) ...\n",
      "Selecting previously unselected package node-aws4.\n",
      "Preparing to unpack .../100-node-aws4_1.8.0-1_all.deb ...\n",
      "Unpacking node-aws4 (1.8.0-1) ...\n",
      "Selecting previously unselected package node-balanced-match.\n",
      "Preparing to unpack .../101-node-balanced-match_0.4.2-1_all.deb ...\n",
      "Unpacking node-balanced-match (0.4.2-1) ...\n",
      "Selecting previously unselected package node-tweetnacl.\n",
      "Preparing to unpack .../102-node-tweetnacl_0.14.5+dfsg-3_all.deb ...\n",
      "Unpacking node-tweetnacl (0.14.5+dfsg-3) ...\n",
      "Selecting previously unselected package node-bcrypt-pbkdf.\n",
      "Preparing to unpack .../103-node-bcrypt-pbkdf_1.0.1-1_all.deb ...\n",
      "Unpacking node-bcrypt-pbkdf (1.0.1-1) ...\n",
      "Selecting previously unselected package node-bluebird.\n",
      "Preparing to unpack .../104-node-bluebird_3.5.1+dfsg2-2_all.deb ...\n",
      "Unpacking node-bluebird (3.5.1+dfsg2-2) ...\n",
      "Selecting previously unselected package node-camelcase.\n",
      "Preparing to unpack .../105-node-camelcase_5.0.0-1_all.deb ...\n",
      "Unpacking node-camelcase (5.0.0-1) ...\n",
      "Selecting previously unselected package node-escape-string-regexp.\n",
      "Preparing to unpack .../106-node-escape-string-regexp_1.0.5-1_all.deb ...\n",
      "Unpacking node-escape-string-regexp (1.0.5-1) ...\n",
      "Selecting previously unselected package node-has-flag.\n",
      "Preparing to unpack .../107-node-has-flag_2.0.0-1_all.deb ...\n",
      "Unpacking node-has-flag (2.0.0-1) ...\n",
      "Selecting previously unselected package node-supports-color.\n",
      "Preparing to unpack .../108-node-supports-color_4.4.0-2_all.deb ...\n",
      "Unpacking node-supports-color (4.4.0-2) ...\n",
      "Selecting previously unselected package node-chalk.\n",
      "Preparing to unpack .../109-node-chalk_2.3.0-2_all.deb ...\n",
      "Unpacking node-chalk (2.3.0-2) ...\n",
      "Selecting previously unselected package node-cli-boxes.\n",
      "Preparing to unpack .../110-node-cli-boxes_1.0.0-1_all.deb ...\n",
      "Unpacking node-cli-boxes (1.0.0-1) ...\n",
      "Selecting previously unselected package node-yallist.\n",
      "Preparing to unpack .../111-node-yallist_3.0.3-1_all.deb ...\n",
      "Unpacking node-yallist (3.0.3-1) ...\n",
      "Selecting previously unselected package node-lru-cache.\n",
      "Preparing to unpack .../112-node-lru-cache_5.1.1-4_all.deb ...\n",
      "Unpacking node-lru-cache (5.1.1-4) ...\n",
      "Selecting previously unselected package node-isexe.\n",
      "Preparing to unpack .../113-node-isexe_2.0.0-4_all.deb ...\n",
      "Unpacking node-isexe (2.0.0-4) ...\n",
      "Selecting previously unselected package node-which.\n",
      "Preparing to unpack .../114-node-which_1.3.0-2_all.deb ...\n",
      "Unpacking node-which (1.3.0-2) ...\n",
      "Selecting previously unselected package node-shebang-regex.\n",
      "Preparing to unpack .../115-node-shebang-regex_2.0.0-1_all.deb ...\n",
      "Unpacking node-shebang-regex (2.0.0-1) ...\n",
      "Selecting previously unselected package node-shebang-command.\n",
      "Preparing to unpack .../116-node-shebang-command_1.2.0-1_all.deb ...\n",
      "Unpacking node-shebang-command (1.2.0-1) ...\n",
      "Selecting previously unselected package node-cross-spawn.\n",
      "Preparing to unpack .../117-node-cross-spawn_5.1.0-2_all.deb ...\n",
      "Unpacking node-cross-spawn (5.1.0-2) ...\n",
      "Selecting previously unselected package node-get-stream.\n",
      "Preparing to unpack .../118-node-get-stream_3.0.0-1_all.deb ...\n",
      "Unpacking node-get-stream (3.0.0-1) ...\n",
      "Selecting previously unselected package node-is-stream.\n",
      "Preparing to unpack .../119-node-is-stream_1.1.0-1_all.deb ...\n",
      "Unpacking node-is-stream (1.1.0-1) ...\n",
      "Selecting previously unselected package node-npm-run-path.\n",
      "Preparing to unpack .../120-node-npm-run-path_2.0.2-2_all.deb ...\n",
      "Unpacking node-npm-run-path (2.0.2-2) ...\n",
      "Selecting previously unselected package node-p-finally.\n",
      "Preparing to unpack .../121-node-p-finally_1.0.0-2_all.deb ...\n",
      "Unpacking node-p-finally (1.0.0-2) ...\n",
      "Selecting previously unselected package node-signal-exit.\n",
      "Preparing to unpack .../122-node-signal-exit_3.0.2-1_all.deb ...\n",
      "Unpacking node-signal-exit (3.0.2-1) ...\n",
      "Selecting previously unselected package node-strip-eof.\n",
      "Preparing to unpack .../123-node-strip-eof_1.0.0-2_all.deb ...\n",
      "Unpacking node-strip-eof (1.0.0-2) ...\n",
      "Selecting previously unselected package node-execa.\n",
      "Preparing to unpack .../124-node-execa_0.10.0+dfsg-1_all.deb ...\n",
      "Unpacking node-execa (0.10.0+dfsg-1) ...\n",
      "Selecting previously unselected package node-term-size.\n",
      "Preparing to unpack .../125-node-term-size_1.2.0+dfsg-2_all.deb ...\n",
      "Unpacking node-term-size (1.2.0+dfsg-2) ...\n",
      "Selecting previously unselected package node-widest-line.\n",
      "Preparing to unpack .../126-node-widest-line_1.2.2-1_all.deb ...\n",
      "Unpacking node-widest-line (1.2.2-1) ...\n",
      "Selecting previously unselected package node-boxen.\n",
      "Preparing to unpack .../127-node-boxen_1.2.2-1_all.deb ...\n",
      "Unpacking node-boxen (1.2.2-1) ...\n",
      "Selecting previously unselected package node-concat-map.\n",
      "Preparing to unpack .../128-node-concat-map_0.0.1-1_all.deb ...\n",
      "Unpacking node-concat-map (0.0.1-1) ...\n",
      "Selecting previously unselected package node-brace-expansion.\n",
      "Preparing to unpack .../129-node-brace-expansion_1.1.8-1_all.deb ...\n",
      "Unpacking node-brace-expansion (1.1.8-1) ...\n",
      "Selecting previously unselected package node-builtin-modules.\n",
      "Preparing to unpack .../130-node-builtin-modules_3.0.0-1_all.deb ...\n",
      "Unpacking node-builtin-modules (3.0.0-1) ...\n",
      "Selecting previously unselected package node-builtins.\n",
      "Preparing to unpack .../131-node-builtins_1.0.3-1_all.deb ...\n",
      "Unpacking node-builtins (1.0.3-1) ...\n",
      "Selecting previously unselected package node-chownr.\n",
      "Preparing to unpack .../132-node-chownr_1.1.1-1_all.deb ...\n",
      "Unpacking node-chownr (1.1.1-1) ...\n",
      "Selecting previously unselected package node-minimatch.\n",
      "Preparing to unpack .../133-node-minimatch_3.0.4-3_all.deb ...\n",
      "Unpacking node-minimatch (3.0.4-3) ...\n",
      "Selecting previously unselected package node-inherits.\n",
      "Preparing to unpack .../134-node-inherits_2.0.3-1_all.deb ...\n",
      "Unpacking node-inherits (2.0.3-1) ...\n",
      "Selecting previously unselected package node-wrappy.\n",
      "Preparing to unpack .../135-node-wrappy_1.0.2-1_all.deb ...\n",
      "Unpacking node-wrappy (1.0.2-1) ...\n",
      "Selecting previously unselected package node-once.\n",
      "Preparing to unpack .../136-node-once_1.4.0-3_all.deb ...\n",
      "Unpacking node-once (1.4.0-3) ...\n",
      "Selecting previously unselected package node-fs.realpath.\n",
      "Preparing to unpack .../137-node-fs.realpath_1.0.0-1_all.deb ...\n",
      "Unpacking node-fs.realpath (1.0.0-1) ...\n",
      "Selecting previously unselected package node-inflight.\n",
      "Preparing to unpack .../138-node-inflight_1.0.6-1_all.deb ...\n",
      "Unpacking node-inflight (1.0.6-1) ...\n",
      "Selecting previously unselected package node-path-is-absolute.\n",
      "Preparing to unpack .../139-node-path-is-absolute_1.0.0-1_all.deb ...\n",
      "Unpacking node-path-is-absolute (1.0.0-1) ...\n",
      "Selecting previously unselected package node-glob.\n",
      "Preparing to unpack .../140-node-glob_7.1.3-2_all.deb ...\n",
      "Unpacking node-glob (7.1.3-2) ...\n",
      "Selecting previously unselected package node-graceful-fs.\n",
      "Preparing to unpack .../141-node-graceful-fs_4.1.11-1_all.deb ...\n",
      "Unpacking node-graceful-fs (4.1.11-1) ...\n",
      "Selecting previously unselected package node-typedarray.\n",
      "Preparing to unpack .../142-node-typedarray_0.0.6-1_all.deb ...\n",
      "Unpacking node-typedarray (0.0.6-1) ...\n",
      "Selecting previously unselected package node-concat-stream.\n",
      "Preparing to unpack .../143-node-concat-stream_1.6.2-1_all.deb ...\n",
      "Unpacking node-concat-stream (1.6.2-1) ...\n",
      "Selecting previously unselected package node-end-of-stream.\n",
      "Preparing to unpack .../144-node-end-of-stream_1.4.1-1_all.deb ...\n",
      "Unpacking node-end-of-stream (1.4.1-1) ...\n",
      "Selecting previously unselected package node-core-util-is.\n",
      "Preparing to unpack .../145-node-core-util-is_1.0.2-1_all.deb ...\n",
      "Unpacking node-core-util-is (1.0.2-1) ...\n",
      "Selecting previously unselected package node-safe-buffer.\n",
      "Preparing to unpack .../146-node-safe-buffer_5.1.2-1_all.deb ...\n",
      "Unpacking node-safe-buffer (5.1.2-1) ...\n",
      "Selecting previously unselected package node-string-decoder.\n",
      "Preparing to unpack .../147-node-string-decoder_1.2.0-1_all.deb ...\n",
      "Unpacking node-string-decoder (1.2.0-1) ...\n",
      "Selecting previously unselected package node-process-nextick-args.\n",
      "Preparing to unpack .../148-node-process-nextick-args_2.0.0-1_all.deb ...\n",
      "Unpacking node-process-nextick-args (2.0.0-1) ...\n",
      "Selecting previously unselected package node-util-deprecate.\n",
      "Preparing to unpack .../149-node-util-deprecate_1.0.2-1_all.deb ...\n",
      "Unpacking node-util-deprecate (1.0.2-1) ...\n",
      "Selecting previously unselected package node-isarray.\n",
      "Preparing to unpack .../150-node-isarray_2.0.4-1_all.deb ...\n",
      "Unpacking node-isarray (2.0.4-1) ...\n",
      "Selecting previously unselected package node-readable-stream.\n",
      "Preparing to unpack .../151-node-readable-stream_2.3.6-1_all.deb ...\n",
      "Unpacking node-readable-stream (2.3.6-1) ...\n",
      "Selecting previously unselected package node-stream-shift.\n",
      "Preparing to unpack .../152-node-stream-shift_1.0.0-1_all.deb ...\n",
      "Unpacking node-stream-shift (1.0.0-1) ...\n",
      "Selecting previously unselected package node-duplexify.\n",
      "Preparing to unpack .../153-node-duplexify_3.6.1-1_all.deb ...\n",
      "Unpacking node-duplexify (3.6.1-1) ...\n",
      "Selecting previously unselected package node-flush-write-stream.\n",
      "Preparing to unpack .../154-node-flush-write-stream_1.0.3-1_all.deb ...\n",
      "Unpacking node-flush-write-stream (1.0.3-1) ...\n",
      "Selecting previously unselected package node-from2.\n",
      "Preparing to unpack .../155-node-from2_2.3.0-1_all.deb ...\n",
      "Unpacking node-from2 (2.3.0-1) ...\n",
      "Selecting previously unselected package node-cyclist.\n",
      "Preparing to unpack .../156-node-cyclist_1.0.1-2_all.deb ...\n",
      "Unpacking node-cyclist (1.0.1-2) ...\n",
      "Selecting previously unselected package node-parallel-transform.\n",
      "Preparing to unpack .../157-node-parallel-transform_1.1.0-2_all.deb ...\n",
      "Unpacking node-parallel-transform (1.1.0-2) ...\n",
      "Selecting previously unselected package node-pump.\n",
      "Preparing to unpack .../158-node-pump_3.0.0-1_all.deb ...\n",
      "Unpacking node-pump (3.0.0-1) ...\n",
      "Selecting previously unselected package node-pumpify.\n",
      "Preparing to unpack .../159-node-pumpify_1.5.1-1_all.deb ...\n",
      "Unpacking node-pumpify (1.5.1-1) ...\n",
      "Selecting previously unselected package node-stream-each.\n",
      "Preparing to unpack .../160-node-stream-each_1.2.2-2_all.deb ...\n",
      "Unpacking node-stream-each (1.2.2-2) ...\n",
      "Selecting previously unselected package node-xtend.\n",
      "Preparing to unpack .../161-node-xtend_4.0.1-2_all.deb ...\n",
      "Unpacking node-xtend (4.0.1-2) ...\n",
      "Selecting previously unselected package node-through2.\n",
      "Preparing to unpack .../162-node-through2_2.0.5-2_all.deb ...\n",
      "Unpacking node-through2 (2.0.5-2) ...\n",
      "Selecting previously unselected package node-mississippi.\n",
      "Preparing to unpack .../163-node-mississippi_3.0.0-1_all.deb ...\n",
      "Unpacking node-mississippi (3.0.0-1) ...\n",
      "Selecting previously unselected package node-mkdirp.\n",
      "Preparing to unpack .../164-node-mkdirp_0.5.1-1_all.deb ...\n",
      "Unpacking node-mkdirp (0.5.1-1) ...\n",
      "Selecting previously unselected package node-run-queue.\n",
      "Preparing to unpack .../165-node-run-queue_1.0.3-1_all.deb ...\n",
      "Unpacking node-run-queue (1.0.3-1) ...\n",
      "Selecting previously unselected package node-rimraf.\n",
      "Preparing to unpack .../166-node-rimraf_2.6.2-1_all.deb ...\n",
      "Unpacking node-rimraf (2.6.2-1) ...\n",
      "Selecting previously unselected package node-imurmurhash.\n",
      "Preparing to unpack .../167-node-imurmurhash_0.1.4-1_all.deb ...\n",
      "Unpacking node-imurmurhash (0.1.4-1) ...\n",
      "Selecting previously unselected package node-iferr.\n",
      "Preparing to unpack .../168-node-iferr_1.0.2-1_all.deb ...\n",
      "Unpacking node-iferr (1.0.2-1) ...\n",
      "Selecting previously unselected package node-fs-write-stream-atomic.\n",
      "Preparing to unpack .../169-node-fs-write-stream-atomic_1.0.10-4_all.deb ...\n",
      "Unpacking node-fs-write-stream-atomic (1.0.10-4) ...\n",
      "Selecting previously unselected package node-copy-concurrently.\n",
      "Preparing to unpack .../170-node-copy-concurrently_1.0.5-4_all.deb ...\n",
      "Unpacking node-copy-concurrently (1.0.5-4) ...\n",
      "Selecting previously unselected package node-move-concurrently.\n",
      "Preparing to unpack .../171-node-move-concurrently_1.0.1-2_all.deb ...\n",
      "Unpacking node-move-concurrently (1.0.1-2) ...\n",
      "Selecting previously unselected package node-promise-inflight.\n",
      "Preparing to unpack .../172-node-promise-inflight_1.0.1-1_all.deb ...\n",
      "Unpacking node-promise-inflight (1.0.1-1) ...\n",
      "Selecting previously unselected package node-ssri.\n",
      "Preparing to unpack .../173-node-ssri_5.2.4-2_all.deb ...\n",
      "Unpacking node-ssri (5.2.4-2) ...\n",
      "Selecting previously unselected package node-unique-filename.\n",
      "Preparing to unpack .../174-node-unique-filename_1.1.0+ds-2_all.deb ...\n",
      "Unpacking node-unique-filename (1.1.0+ds-2) ...\n",
      "Selecting previously unselected package node-y18n.\n",
      "Preparing to unpack .../175-node-y18n_3.2.1-2_all.deb ...\n",
      "Unpacking node-y18n (3.2.1-2) ...\n",
      "Selecting previously unselected package node-cacache.\n",
      "Preparing to unpack .../176-node-cacache_11.3.2-2_all.deb ...\n",
      "Unpacking node-cacache (11.3.2-2) ...\n",
      "Selecting previously unselected package node-call-limit.\n",
      "Preparing to unpack .../177-node-call-limit_1.1.0-1_all.deb ...\n",
      "Unpacking node-call-limit (1.1.0-1) ...\n",
      "Selecting previously unselected package node-caseless.\n",
      "Preparing to unpack .../178-node-caseless_0.12.0-1_all.deb ...\n",
      "Unpacking node-caseless (0.12.0-1) ...\n",
      "Selecting previously unselected package node-wrap-ansi.\n",
      "Preparing to unpack .../179-node-wrap-ansi_4.0.0-1_all.deb ...\n",
      "Unpacking node-wrap-ansi (4.0.0-1) ...\n",
      "Selecting previously unselected package node-cliui.\n",
      "Preparing to unpack .../180-node-cliui_4.1.0-1_all.deb ...\n",
      "Unpacking node-cliui (4.1.0-1) ...\n",
      "Selecting previously unselected package node-delayed-stream.\n",
      "Preparing to unpack .../181-node-delayed-stream_0.0.5-1_all.deb ...\n",
      "Unpacking node-delayed-stream (0.0.5-1) ...\n",
      "Selecting previously unselected package node-combined-stream.\n",
      "Preparing to unpack .../182-node-combined-stream_1.0.7-1_all.deb ...\n",
      "Unpacking node-combined-stream (1.0.7-1) ...\n",
      "Selecting previously unselected package node-proto-list.\n",
      "Preparing to unpack .../183-node-proto-list_1.2.4-1_all.deb ...\n",
      "Unpacking node-proto-list (1.2.4-1) ...\n",
      "Selecting previously unselected package node-ini.\n",
      "Preparing to unpack .../184-node-ini_1.3.5-1_all.deb ...\n",
      "Unpacking node-ini (1.3.5-1) ...\n",
      "Selecting previously unselected package node-config-chain.\n",
      "Preparing to unpack .../185-node-config-chain_1.1.11-1_all.deb ...\n",
      "Unpacking node-config-chain (1.1.11-1) ...\n",
      "Selecting previously unselected package node-console-control-strings.\n",
      "Preparing to unpack .../186-node-console-control-strings_1.1.0-1_all.deb ...\n",
      "Unpacking node-console-control-strings (1.1.0-1) ...\n",
      "Selecting previously unselected package node-dashdash.\n",
      "Preparing to unpack .../187-node-dashdash_1.14.1-2_all.deb ...\n",
      "Unpacking node-dashdash (1.14.1-2) ...\n",
      "Selecting previously unselected package node-decamelize.\n",
      "Preparing to unpack .../188-node-decamelize_1.2.0-1_all.deb ...\n",
      "Unpacking node-decamelize (1.2.0-1) ...\n",
      "Selecting previously unselected package node-mimic-response.\n",
      "Preparing to unpack .../189-node-mimic-response_1.0.0-1_all.deb ...\n",
      "Unpacking node-mimic-response (1.0.0-1) ...\n",
      "Selecting previously unselected package node-decompress-response.\n",
      "Preparing to unpack .../190-node-decompress-response_3.3.0-1_all.deb ...\n",
      "Unpacking node-decompress-response (3.3.0-1) ...\n",
      "Selecting previously unselected package node-deep-extend.\n",
      "Preparing to unpack .../191-node-deep-extend_0.4.1-2_all.deb ...\n",
      "Unpacking node-deep-extend (0.4.1-2) ...\n",
      "Selecting previously unselected package node-detect-indent.\n",
      "Preparing to unpack .../192-node-detect-indent_5.0.0-1_all.deb ...\n",
      "Unpacking node-detect-indent (5.0.0-1) ...\n",
      "Selecting previously unselected package node-detect-newline.\n",
      "Preparing to unpack .../193-node-detect-newline_2.1.0-1_all.deb ...\n",
      "Unpacking node-detect-newline (2.1.0-1) ...\n",
      "Selecting previously unselected package node-duplexer3.\n",
      "Preparing to unpack .../194-node-duplexer3_0.1.4-4_all.deb ...\n",
      "Unpacking node-duplexer3 (0.1.4-4) ...\n",
      "Selecting previously unselected package node-jsbn.\n",
      "Preparing to unpack .../195-node-jsbn_1.1.0-1_all.deb ...\n",
      "Unpacking node-jsbn (1.1.0-1) ...\n",
      "Selecting previously unselected package node-ecc-jsbn.\n",
      "Preparing to unpack .../196-node-ecc-jsbn_0.1.1-1_all.deb ...\n",
      "Unpacking node-ecc-jsbn (0.1.1-1) ...\n",
      "Selecting previously unselected package node-editor.\n",
      "Preparing to unpack .../197-node-editor_1.0.0-1_all.deb ...\n",
      "Unpacking node-editor (1.0.0-1) ...\n",
      "Selecting previously unselected package node-iconv-lite.\n",
      "Preparing to unpack .../198-node-iconv-lite_0.4.13-2_all.deb ...\n",
      "Unpacking node-iconv-lite (0.4.13-2) ...\n",
      "Selecting previously unselected package node-encoding.\n",
      "Preparing to unpack .../199-node-encoding_0.1.12-2_all.deb ...\n",
      "Unpacking node-encoding (0.1.12-2) ...\n",
      "Selecting previously unselected package node-prr.\n",
      "Preparing to unpack .../200-node-prr_1.0.1-1_all.deb ...\n",
      "Unpacking node-prr (1.0.1-1) ...\n",
      "Selecting previously unselected package node-errno.\n",
      "Preparing to unpack .../201-node-errno_0.1.4-1_all.deb ...\n",
      "Unpacking node-errno (0.1.4-1) ...\n",
      "Selecting previously unselected package node-extend.\n",
      "Preparing to unpack .../202-node-extend_3.0.2-1_all.deb ...\n",
      "Unpacking node-extend (3.0.2-1) ...\n",
      "Selecting previously unselected package node-extsprintf.\n",
      "Preparing to unpack .../203-node-extsprintf_1.3.0-1_all.deb ...\n",
      "Unpacking node-extsprintf (1.3.0-1) ...\n",
      "Selecting previously unselected package node-p-limit.\n",
      "Preparing to unpack .../204-node-p-limit_1.1.0-1_all.deb ...\n",
      "Unpacking node-p-limit (1.1.0-1) ...\n",
      "Selecting previously unselected package node-p-locate.\n",
      "Preparing to unpack .../205-node-p-locate_2.0.0-1_all.deb ...\n",
      "Unpacking node-p-locate (2.0.0-1) ...\n",
      "Selecting previously unselected package node-path-exists.\n",
      "Preparing to unpack .../206-node-path-exists_3.0.0-1_all.deb ...\n",
      "Unpacking node-path-exists (3.0.0-1) ...\n",
      "Selecting previously unselected package node-locate-path.\n",
      "Preparing to unpack .../207-node-locate-path_2.0.0-1_all.deb ...\n",
      "Unpacking node-locate-path (2.0.0-1) ...\n",
      "Selecting previously unselected package node-find-up.\n",
      "Preparing to unpack .../208-node-find-up_2.1.0-1_all.deb ...\n",
      "Unpacking node-find-up (2.1.0-1) ...\n",
      "Selecting previously unselected package node-forever-agent.\n",
      "Preparing to unpack .../209-node-forever-agent_0.6.1-1_all.deb ...\n",
      "Unpacking node-forever-agent (0.6.1-1) ...\n",
      "Selecting previously unselected package node-mime-types.\n",
      "Preparing to unpack .../210-node-mime-types_2.1.21-1_all.deb ...\n",
      "Unpacking node-mime-types (2.1.21-1) ...\n",
      "Selecting previously unselected package node-form-data.\n",
      "Preparing to unpack .../211-node-form-data_2.3.2-2_all.deb ...\n",
      "Unpacking node-form-data (2.3.2-2) ...\n",
      "Selecting previously unselected package node-path-is-inside.\n",
      "Preparing to unpack .../212-node-path-is-inside_1.0.2-1_all.deb ...\n",
      "Unpacking node-path-is-inside (1.0.2-1) ...\n",
      "Selecting previously unselected package node-fs-vacuum.\n",
      "Preparing to unpack .../213-node-fs-vacuum_1.2.10-2_all.deb ...\n",
      "Unpacking node-fs-vacuum (1.2.10-2) ...\n",
      "Selecting previously unselected package node-object-assign.\n",
      "Preparing to unpack .../214-node-object-assign_4.1.1-2_all.deb ...\n",
      "Unpacking node-object-assign (4.1.1-2) ...\n",
      "Selecting previously unselected package node-has-unicode.\n",
      "Preparing to unpack .../215-node-has-unicode_2.0.1-2_all.deb ...\n",
      "Unpacking node-has-unicode (2.0.1-2) ...\n",
      "Selecting previously unselected package node-wide-align.\n",
      "Preparing to unpack .../216-node-wide-align_1.1.0-1_all.deb ...\n",
      "Unpacking node-wide-align (1.1.0-1) ...\n",
      "Selecting previously unselected package node-gauge.\n",
      "Preparing to unpack .../217-node-gauge_2.7.4-1_all.deb ...\n",
      "Unpacking node-gauge (2.7.4-1) ...\n",
      "Selecting previously unselected package node-get-caller-file.\n",
      "Preparing to unpack .../218-node-get-caller-file_1.0.2-1_all.deb ...\n",
      "Unpacking node-get-caller-file (1.0.2-1) ...\n",
      "Selecting previously unselected package node-getpass.\n",
      "Preparing to unpack .../219-node-getpass_0.1.7-1_all.deb ...\n",
      "Unpacking node-getpass (0.1.7-1) ...\n",
      "Selecting previously unselected package node-is-retry-allowed.\n",
      "Preparing to unpack .../220-node-is-retry-allowed_1.1.0-1_all.deb ...\n",
      "Unpacking node-is-retry-allowed (1.1.0-1) ...\n",
      "Selecting previously unselected package node-p-cancelable.\n",
      "Preparing to unpack .../221-node-p-cancelable_0.3.0-1_all.deb ...\n",
      "Unpacking node-p-cancelable (0.3.0-1) ...\n",
      "Selecting previously unselected package node-p-timeout.\n",
      "Preparing to unpack .../222-node-p-timeout_1.2.0-1_all.deb ...\n",
      "Unpacking node-p-timeout (1.2.0-1) ...\n",
      "Selecting previously unselected package node-is-plain-obj.\n",
      "Preparing to unpack .../223-node-is-plain-obj_1.1.0-1_all.deb ...\n",
      "Unpacking node-is-plain-obj (1.1.0-1) ...\n",
      "Selecting previously unselected package node-url-to-options.\n",
      "Preparing to unpack .../224-node-url-to-options_1.0.1-1_all.deb ...\n",
      "Unpacking node-url-to-options (1.0.1-1) ...\n",
      "Selecting previously unselected package node-timed-out.\n",
      "Preparing to unpack .../225-node-timed-out_4.0.1-4_all.deb ...\n",
      "Unpacking node-timed-out (4.0.1-4) ...\n",
      "Selecting previously unselected package node-lowercase-keys.\n",
      "Preparing to unpack .../226-node-lowercase-keys_1.0.0-2_all.deb ...\n",
      "Unpacking node-lowercase-keys (1.0.0-2) ...\n",
      "Selecting previously unselected package node-is-object.\n",
      "Preparing to unpack .../227-node-is-object_1.0.1-1_all.deb ...\n",
      "Unpacking node-is-object (1.0.1-1) ...\n",
      "Selecting previously unselected package node-has-symbol-support-x.\n",
      "Preparing to unpack .../228-node-has-symbol-support-x_1.4.1+dfsg-1_all.deb ...\n",
      "Unpacking node-has-symbol-support-x (1.4.1+dfsg-1) ...\n",
      "Selecting previously unselected package node-has-to-string-tag-x.\n",
      "Preparing to unpack .../229-node-has-to-string-tag-x_1.4.1+dfsg-1_all.deb ...\n",
      "Unpacking node-has-to-string-tag-x (1.4.1+dfsg-1) ...\n",
      "Selecting previously unselected package node-isurl.\n",
      "Preparing to unpack .../230-node-isurl_1.0.0-1_all.deb ...\n",
      "Unpacking node-isurl (1.0.0-1) ...\n",
      "Selecting previously unselected package node-prepend-http.\n",
      "Preparing to unpack .../231-node-prepend-http_2.0.0-1_all.deb ...\n",
      "Unpacking node-prepend-http (2.0.0-1) ...\n",
      "Selecting previously unselected package node-url-parse-lax.\n",
      "Preparing to unpack .../232-node-url-parse-lax_1.0.0-1_all.deb ...\n",
      "Unpacking node-url-parse-lax (1.0.0-1) ...\n",
      "Selecting previously unselected package node-got.\n",
      "Preparing to unpack .../233-node-got_7.1.0-1_all.deb ...\n",
      "Unpacking node-got (7.1.0-1) ...\n",
      "Selecting previously unselected package node-nopt.\n",
      "Preparing to unpack .../234-node-nopt_3.0.6-3_all.deb ...\n",
      "Unpacking node-nopt (3.0.6-3) ...\n",
      "Selecting previously unselected package node-set-blocking.\n",
      "Preparing to unpack .../235-node-set-blocking_2.0.0-1_all.deb ...\n",
      "Unpacking node-set-blocking (2.0.0-1) ...\n",
      "Selecting previously unselected package node-npmlog.\n",
      "Preparing to unpack .../236-node-npmlog_4.1.2-1_all.deb ...\n",
      "Unpacking node-npmlog (4.1.2-1) ...\n",
      "Selecting previously unselected package node-osenv.\n",
      "Preparing to unpack .../237-node-osenv_0.1.5-1_all.deb ...\n",
      "Unpacking node-osenv (0.1.5-1) ...\n",
      "Selecting previously unselected package node-har-schema.\n",
      "Preparing to unpack .../238-node-har-schema_2.0.0-1_all.deb ...\n",
      "Unpacking node-har-schema (2.0.0-1) ...\n",
      "Selecting previously unselected package node-har-validator.\n",
      "Preparing to unpack .../239-node-har-validator_5.1.0-1_all.deb ...\n",
      "Unpacking node-har-validator (5.1.0-1) ...\n",
      "Selecting previously unselected package node-json-schema.\n",
      "Preparing to unpack .../240-node-json-schema_0.2.3-1_all.deb ...\n",
      "Unpacking node-json-schema (0.2.3-1) ...\n",
      "Selecting previously unselected package node-verror.\n",
      "Preparing to unpack .../241-node-verror_1.10.0-1_all.deb ...\n",
      "Unpacking node-verror (1.10.0-1) ...\n",
      "Selecting previously unselected package node-jsprim.\n",
      "Preparing to unpack .../242-node-jsprim_1.4.0-1_all.deb ...\n",
      "Unpacking node-jsprim (1.4.0-1) ...\n",
      "Selecting previously unselected package node-sshpk.\n",
      "Preparing to unpack .../243-node-sshpk_1.13.1+dfsg-2_all.deb ...\n",
      "Unpacking node-sshpk (1.13.1+dfsg-2) ...\n",
      "Selecting previously unselected package node-http-signature.\n",
      "Preparing to unpack .../244-node-http-signature_1.2.0-1_all.deb ...\n",
      "Unpacking node-http-signature (1.2.0-1) ...\n",
      "Selecting previously unselected package node-is-typedarray.\n",
      "Preparing to unpack .../245-node-is-typedarray_1.0.0-2_all.deb ...\n",
      "Unpacking node-is-typedarray (1.0.0-2) ...\n",
      "Selecting previously unselected package node-isstream.\n",
      "Preparing to unpack .../246-node-isstream_0.1.2+dfsg-1_all.deb ...\n",
      "Unpacking node-isstream (0.1.2+dfsg-1) ...\n",
      "Selecting previously unselected package node-json-stringify-safe.\n",
      "Preparing to unpack .../247-node-json-stringify-safe_5.0.1-1_all.deb ...\n",
      "Unpacking node-json-stringify-safe (5.0.1-1) ...\n",
      "Selecting previously unselected package node-oauth-sign.\n",
      "Preparing to unpack .../248-node-oauth-sign_0.9.0-1_all.deb ...\n",
      "Unpacking node-oauth-sign (0.9.0-1) ...\n",
      "Selecting previously unselected package node-performance-now.\n",
      "Preparing to unpack .../249-node-performance-now_2.1.0+debian-1_all.deb ...\n",
      "Unpacking node-performance-now (2.1.0+debian-1) ...\n",
      "Selecting previously unselected package node-qs.\n",
      "Preparing to unpack .../250-node-qs_6.5.2-1_all.deb ...\n",
      "Unpacking node-qs (6.5.2-1) ...\n",
      "Selecting previously unselected package node-punycode.\n",
      "Preparing to unpack .../251-node-punycode_2.1.1-2_all.deb ...\n",
      "Unpacking node-punycode (2.1.1-2) ...\n",
      "Selecting previously unselected package node-tough-cookie.\n",
      "Preparing to unpack .../252-node-tough-cookie_2.3.4+dfsg-1_all.deb ...\n",
      "Unpacking node-tough-cookie (2.3.4+dfsg-1) ...\n",
      "Selecting previously unselected package node-tunnel-agent.\n",
      "Preparing to unpack .../253-node-tunnel-agent_0.6.1-1_all.deb ...\n",
      "Unpacking node-tunnel-agent (0.6.1-1) ...\n",
      "Selecting previously unselected package node-uuid.\n",
      "Preparing to unpack .../254-node-uuid_3.3.2-2_all.deb ...\n",
      "Unpacking node-uuid (3.3.2-2) ...\n",
      "Selecting previously unselected package node-node-uuid.\n",
      "Preparing to unpack .../255-node-node-uuid_3.3.2-2_all.deb ...\n",
      "Unpacking node-node-uuid (3.3.2-2) ...\n",
      "Selecting previously unselected package node-request.\n",
      "Preparing to unpack .../256-node-request_2.88.1-2_all.deb ...\n",
      "Unpacking node-request (2.88.1-2) ...\n",
      "Selecting previously unselected package node-semver.\n",
      "Preparing to unpack .../257-node-semver_5.5.1-1_all.deb ...\n",
      "Unpacking node-semver (5.5.1-1) ...\n",
      "Selecting previously unselected package node-tar.\n",
      "Preparing to unpack .../258-node-tar_4.4.6+ds1-3_all.deb ...\n",
      "Unpacking node-tar (4.4.6+ds1-3) ...\n",
      "Selecting previously unselected package node-gyp.\n",
      "Preparing to unpack .../259-node-gyp_3.8.0-6_all.deb ...\n",
      "Unpacking node-gyp (3.8.0-6) ...\n",
      "Selecting previously unselected package node-hosted-git-info.\n",
      "Preparing to unpack .../260-node-hosted-git-info_2.7.1-1_all.deb ...\n",
      "Unpacking node-hosted-git-info (2.7.1-1) ...\n",
      "Selecting previously unselected package node-import-lazy.\n",
      "Preparing to unpack .../261-node-import-lazy_3.0.0.REALLY.2.1.0-1_all.deb ...\n",
      "Unpacking node-import-lazy (3.0.0.REALLY.2.1.0-1) ...\n",
      "Selecting previously unselected package node-invert-kv.\n",
      "Preparing to unpack .../262-node-invert-kv_1.0.0-1_all.deb ...\n",
      "Unpacking node-invert-kv (1.0.0-1) ...\n",
      "Selecting previously unselected package node-is-builtin-module.\n",
      "Preparing to unpack .../263-node-is-builtin-module_2.0.0-1_all.deb ...\n",
      "Unpacking node-is-builtin-module (2.0.0-1) ...\n",
      "Selecting previously unselected package node-is-npm.\n",
      "Preparing to unpack .../264-node-is-npm_1.0.0-1_all.deb ...\n",
      "Unpacking node-is-npm (1.0.0-1) ...\n",
      "Selecting previously unselected package node-json-parse-better-errors.\n",
      "Preparing to unpack .../265-node-json-parse-better-errors_1.0.2-2_all.deb ...\n",
      "Unpacking node-json-parse-better-errors (1.0.2-2) ...\n",
      "Selecting previously unselected package node-jsonparse.\n",
      "Preparing to unpack .../266-node-jsonparse_1.3.1-6_all.deb ...\n",
      "Unpacking node-jsonparse (1.3.1-6) ...\n",
      "Selecting previously unselected package node-through.\n",
      "Preparing to unpack .../267-node-through_2.3.8-1_all.deb ...\n",
      "Unpacking node-through (2.3.8-1) ...\n",
      "Selecting previously unselected package node-jsonstream.\n",
      "Preparing to unpack .../268-node-jsonstream_1.3.2-1_all.deb ...\n",
      "Unpacking node-jsonstream (1.3.2-1) ...\n",
      "Selecting previously unselected package node-minimist.\n",
      "Preparing to unpack .../269-node-minimist_1.2.0-1_all.deb ...\n",
      "Unpacking node-minimist (1.2.0-1) ...\n",
      "Selecting previously unselected package node-strip-json-comments.\n",
      "Preparing to unpack .../270-node-strip-json-comments_2.0.1-2_all.deb ...\n",
      "Unpacking node-strip-json-comments (2.0.1-2) ...\n",
      "Selecting previously unselected package node-rc.\n",
      "Preparing to unpack .../271-node-rc_1.1.6-2_all.deb ...\n",
      "Unpacking node-rc (1.1.6-2) ...\n",
      "Selecting previously unselected package node-registry-url.\n",
      "Preparing to unpack .../272-node-registry-url_3.1.0-1_all.deb ...\n",
      "Unpacking node-registry-url (3.1.0-1) ...\n",
      "Selecting previously unselected package node-registry-auth-token.\n",
      "Preparing to unpack .../273-node-registry-auth-token_3.3.1-1_all.deb ...\n",
      "Unpacking node-registry-auth-token (3.3.1-1) ...\n",
      "Selecting previously unselected package node-package-json.\n",
      "Preparing to unpack .../274-node-package-json_4.0.1-1_all.deb ...\n",
      "Unpacking node-package-json (4.0.1-1) ...\n",
      "Selecting previously unselected package node-latest-version.\n",
      "Preparing to unpack .../275-node-latest-version_3.1.0-1_all.deb ...\n",
      "Unpacking node-latest-version (3.1.0-1) ...\n",
      "Selecting previously unselected package node-lazy-property.\n",
      "Preparing to unpack .../276-node-lazy-property_1.0.0-3_all.deb ...\n",
      "Unpacking node-lazy-property (1.0.0-3) ...\n",
      "Selecting previously unselected package node-lcid.\n",
      "Preparing to unpack .../277-node-lcid_1.0.0-1_all.deb ...\n",
      "Unpacking node-lcid (1.0.0-1) ...\n",
      "Selecting previously unselected package node-validate-npm-package-name.\n",
      "Preparing to unpack .../278-node-validate-npm-package-name_3.0.0-1_all.deb ...\n",
      "Unpacking node-validate-npm-package-name (3.0.0-1) ...\n",
      "Selecting previously unselected package node-npm-package-arg.\n",
      "Preparing to unpack .../279-node-npm-package-arg_6.0.0-2_all.deb ...\n",
      "Unpacking node-npm-package-arg (6.0.0-2) ...\n",
      "Selecting previously unselected package node-require-directory.\n",
      "Preparing to unpack .../280-node-require-directory_2.1.1-1_all.deb ...\n",
      "Unpacking node-require-directory (2.1.1-1) ...\n",
      "Selecting previously unselected package node-require-main-filename.\n",
      "Preparing to unpack .../281-node-require-main-filename_1.0.1-1_all.deb ...\n",
      "Unpacking node-require-main-filename (1.0.1-1) ...\n",
      "Selecting previously unselected package node-which-module.\n",
      "Preparing to unpack .../282-node-which-module_2.0.0-1_all.deb ...\n",
      "Unpacking node-which-module (2.0.0-1) ...\n",
      "Selecting previously unselected package node-mimic-fn.\n",
      "Preparing to unpack .../283-node-mimic-fn_1.1.0-1_all.deb ...\n",
      "Unpacking node-mimic-fn (1.1.0-1) ...\n",
      "Selecting previously unselected package node-mem.\n",
      "Preparing to unpack .../284-node-mem_1.1.0-1_all.deb ...\n",
      "Unpacking node-mem (1.1.0-1) ...\n",
      "Selecting previously unselected package node-os-locale.\n",
      "Preparing to unpack .../285-node-os-locale_2.0.0-1_all.deb ...\n",
      "Unpacking node-os-locale (2.0.0-1) ...\n",
      "Selecting previously unselected package node-yargs-parser.\n",
      "Preparing to unpack .../286-node-yargs-parser_11.1.1-1+deb10u1_all.deb ...\n",
      "Unpacking node-yargs-parser (11.1.1-1+deb10u1) ...\n",
      "Selecting previously unselected package node-yargs.\n",
      "Preparing to unpack .../287-node-yargs_10.0.3-2_all.deb ...\n",
      "Unpacking node-yargs (10.0.3-2) ...\n",
      "Selecting previously unselected package node-libnpx.\n",
      "Preparing to unpack .../288-node-libnpx_10.2.0+repack-1_all.deb ...\n",
      "Unpacking node-libnpx (10.2.0+repack-1) ...\n",
      "Selecting previously unselected package node-lockfile.\n",
      "Preparing to unpack .../289-node-lockfile_1.0.4-1_all.deb ...\n",
      "Unpacking node-lockfile (1.0.4-1) ...\n",
      "Selecting previously unselected package node-mute-stream.\n",
      "Preparing to unpack .../290-node-mute-stream_0.0.8-1_all.deb ...\n",
      "Unpacking node-mute-stream (0.0.8-1) ...\n",
      "Selecting previously unselected package node-spdx-license-ids.\n",
      "Preparing to unpack .../291-node-spdx-license-ids_1.2.2-1_all.deb ...\n",
      "Unpacking node-spdx-license-ids (1.2.2-1) ...\n",
      "Selecting previously unselected package node-spdx-correct.\n",
      "Preparing to unpack .../292-node-spdx-correct_1.0.2-1_all.deb ...\n",
      "Unpacking node-spdx-correct (1.0.2-1) ...\n",
      "Selecting previously unselected package node-spdx-expression-parse.\n",
      "Preparing to unpack .../293-node-spdx-expression-parse_1.0.4-1_all.deb ...\n",
      "Unpacking node-spdx-expression-parse (1.0.4-1) ...\n",
      "Selecting previously unselected package node-validate-npm-package-license.\n",
      "Preparing to unpack .../294-node-validate-npm-package-license_3.0.1-1_all.deb ...\n",
      "Unpacking node-validate-npm-package-license (3.0.1-1) ...\n",
      "Selecting previously unselected package node-normalize-package-data.\n",
      "Preparing to unpack .../295-node-normalize-package-data_2.4.0-1_all.deb ...\n",
      "Unpacking node-normalize-package-data (2.4.0-1) ...\n",
      "Selecting previously unselected package node-opener.\n",
      "Preparing to unpack .../296-node-opener_1.4.3-1_all.deb ...\n",
      "Unpacking node-opener (1.4.3-1) ...\n",
      "Selecting previously unselected package node-read.\n",
      "Preparing to unpack .../297-node-read_1.0.7-1_all.deb ...\n",
      "Unpacking node-read (1.0.7-1) ...\n",
      "Selecting previously unselected package node-promzard.\n",
      "Preparing to unpack .../298-node-promzard_0.3.0-1_all.deb ...\n",
      "Unpacking node-promzard (0.3.0-1) ...\n",
      "Selecting previously unselected package node-qw.\n",
      "Preparing to unpack .../299-node-qw_1.0.1-1_all.deb ...\n",
      "Unpacking node-qw (1.0.1-1) ...\n",
      "Selecting previously unselected package node-slash.\n",
      "Preparing to unpack .../300-node-slash_1.0.0-1_all.deb ...\n",
      "Unpacking node-slash (1.0.0-1) ...\n",
      "Selecting previously unselected package node-read-package-json.\n",
      "Preparing to unpack .../301-node-read-package-json_2.0.13-1_all.deb ...\n",
      "Unpacking node-read-package-json (2.0.13-1) ...\n",
      "Selecting previously unselected package node-resolve-from.\n",
      "Preparing to unpack .../302-node-resolve-from_4.0.0-1_all.deb ...\n",
      "Unpacking node-resolve-from (4.0.0-1) ...\n",
      "Selecting previously unselected package node-retry.\n",
      "Preparing to unpack .../303-node-retry_0.10.1-1_all.deb ...\n",
      "Unpacking node-retry (0.10.1-1) ...\n",
      "Selecting previously unselected package node-semver-diff.\n",
      "Preparing to unpack .../304-node-semver-diff_2.1.0-2_all.deb ...\n",
      "Unpacking node-semver-diff (2.1.0-2) ...\n",
      "Selecting previously unselected package node-sha.\n",
      "Preparing to unpack .../305-node-sha_2.0.1-1_all.deb ...\n",
      "Unpacking node-sha (2.0.1-1) ...\n",
      "Selecting previously unselected package node-slide.\n",
      "Preparing to unpack .../306-node-slide_1.1.6-2_all.deb ...\n",
      "Unpacking node-slide (1.1.6-2) ...\n",
      "Selecting previously unselected package node-sorted-object.\n",
      "Preparing to unpack .../307-node-sorted-object_2.0.1-1_all.deb ...\n",
      "Unpacking node-sorted-object (2.0.1-1) ...\n",
      "Selecting previously unselected package node-stream-iterate.\n",
      "Preparing to unpack .../308-node-stream-iterate_1.2.0-4_all.deb ...\n",
      "Unpacking node-stream-iterate (1.2.0-4) ...\n",
      "Selecting previously unselected package node-text-table.\n",
      "Preparing to unpack .../309-node-text-table_0.2.0-2_all.deb ...\n",
      "Unpacking node-text-table (0.2.0-2) ...\n",
      "Selecting previously unselected package node-uid-number.\n",
      "Preparing to unpack .../310-node-uid-number_0.0.6-1_all.deb ...\n",
      "Unpacking node-uid-number (0.0.6-1) ...\n",
      "Selecting previously unselected package node-unpipe.\n",
      "Preparing to unpack .../311-node-unpipe_1.0.0-1_all.deb ...\n",
      "Unpacking node-unpipe (1.0.0-1) ...\n",
      "Selecting previously unselected package node-write-file-atomic.\n",
      "Preparing to unpack .../312-node-write-file-atomic_2.3.0-1_all.deb ...\n",
      "Unpacking node-write-file-atomic (2.3.0-1) ...\n",
      "Selecting previously unselected package node-xdg-basedir.\n",
      "Preparing to unpack .../313-node-xdg-basedir_3.0.0-1_all.deb ...\n",
      "Unpacking node-xdg-basedir (3.0.0-1) ...\n",
      "Selecting previously unselected package npm.\n",
      "Preparing to unpack .../314-npm_5.8.0+ds6-4+deb10u1_all.deb ...\n",
      "Unpacking npm (5.8.0+ds6-4+deb10u1) ...\n",
      "Setting up node-forever-agent (0.6.1-1) ...\n",
      "Setting up perl-modules-5.28 (5.28.1-6) ...\n",
      "Setting up node-unpipe (1.0.0-1) ...\n",
      "Setting up libksba8:amd64 (1.3.5-2) ...\n",
      "Setting up node-qs (6.5.2-1) ...\n",
      "Setting up node-slide (1.1.6-2) ...\n",
      "Setting up node-delayed-stream (0.0.5-1) ...\n",
      "Setting up node-isstream (0.1.2+dfsg-1) ...\n",
      "Setting up node-builtins (1.0.3-1) ...\n",
      "Setting up node-stream-shift (1.0.0-1) ...\n",
      "Setting up javascript-common (11) ...\n",
      "Setting up libuv1-dev:amd64 (1.24.1-1) ...\n",
      "Setting up node-fs.realpath (1.0.0-1) ...\n",
      "Setting up lsb-base (10.2019051400) ...\n",
      "Setting up node-oauth-sign (0.9.0-1) ...\n",
      "Setting up node-url-to-options (1.0.1-1) ...\n",
      "Setting up node-jsbn (1.1.0-1) ...\n",
      "Setting up node-object-assign (4.1.1-2) ...\n",
      "Setting up node-extsprintf (1.3.0-1) ...\n",
      "Setting up node-abbrev (1.1.1-1) ...\n",
      "Setting up node-path-is-inside (1.0.2-1) ...\n",
      "Setting up node-invert-kv (1.0.0-1) ...\n",
      "Setting up node-p-limit (1.1.0-1) ...\n",
      "Setting up node-yallist (3.0.3-1) ...\n",
      "Setting up mime-support (3.62) ...\n",
      "Setting up libjs-inherits (2.0.3-1) ...\n",
      "Setting up node-p-cancelable (0.3.0-1) ...\n",
      "Setting up node-ansi-regex (3.0.0-1) ...\n",
      "Setting up node-timed-out (4.0.1-4) ...\n",
      "Setting up node-strip-json-comments (2.0.1-2) ...\n",
      "Setting up node-slash (1.0.0-1) ...\n",
      "Setting up node-util-deprecate (1.0.2-1) ...\n",
      "Setting up node-editor (1.0.0-1) ...\n",
      "Setting up libmagic-mgc (1:5.35-4+deb10u1) ...\n",
      "Setting up node-retry (0.10.1-1) ...\n",
      "Setting up node-get-caller-file (1.0.2-1) ...\n",
      "Setting up node-require-main-filename (1.0.1-1) ...\n",
      "Setting up node-concat-map (0.0.1-1) ...\n",
      "Setting up node-import-lazy (3.0.0.REALLY.2.1.0-1) ...\n",
      "Setting up node-is-retry-allowed (1.1.0-1) ...\n",
      "Setting up manpages (4.16-2) ...\n",
      "Setting up node-assert-plus (1.0.0-1) ...\n",
      "Setting up node-ansistyles (0.1.3-1) ...\n",
      "Setting up node-delegates (1.0.0-1) ...\n",
      "Setting up node-xdg-basedir (3.0.0-1) ...\n",
      "Setting up node-co (4.6.0-1) ...\n",
      "Setting up node-isexe (2.0.0-4) ...\n",
      "Setting up node-jsonparse (1.3.1-6) ...\n",
      "Setting up libsasl2-modules:amd64 (2.1.27+dfsg-1+deb10u1) ...\n",
      "Setting up node-path-exists (3.0.0-1) ...\n",
      "Setting up node-qw (1.0.1-1) ...\n",
      "Setting up node-tweetnacl (0.14.5+dfsg-3) ...\n",
      "Setting up node-escape-string-regexp (1.0.5-1) ...\n",
      "Setting up node-are-we-there-yet (1.1.4-1) ...\n",
      "Setting up node-through (2.3.8-1) ...\n",
      "Setting up binutils-common:amd64 (2.31.1-16) ...\n",
      "Setting up node-p-locate (2.0.0-1) ...\n",
      "Setting up node-which-module (2.0.0-1) ...\n",
      "Setting up libmagic1:amd64 (1:5.35-4+deb10u1) ...\n",
      "Setting up node-decamelize (1.2.0-1) ...\n",
      "Setting up linux-libc-dev:amd64 (4.19.118-2+deb10u1) ...\n",
      "Setting up node-aws-sign2 (0.7.1-1) ...\n",
      "Setting up node-color-name (1.1.3-1) ...\n",
      "Setting up node-bluebird (3.5.1+dfsg2-2) ...\n",
      "Setting up node-console-control-strings (1.1.0-1) ...\n",
      "Setting up libnpth0:amd64 (1.6-1) ...\n",
      "Setting up node-camelcase (5.0.0-1) ...\n",
      "Setting up file (1:5.35-4+deb10u1) ...\n",
      "Setting up node-uuid (3.3.2-2) ...\n",
      "Setting up libassuan0:amd64 (2.5.2-1) ...\n",
      "Setting up node-extend (3.0.2-1) ...\n",
      "Setting up node-jsonstream (1.3.2-1) ...\n",
      "Setting up libgomp1:amd64 (8.3.0-6) ...\n",
      "Setting up node-lazy-property (1.0.0-3) ...\n",
      "Setting up bzip2 (1.0.6-9.2~deb10u1) ...\n",
      "Setting up node-minimist (1.2.0-1) ...\n",
      "Setting up libldap-common (2.4.47+dfsg-3+deb10u2) ...\n",
      "Setting up node-aws4 (1.8.0-1) ...\n",
      "Setting up node-yargs-parser (11.1.1-1+deb10u1) ...\n",
      "Setting up node-prepend-http (2.0.0-1) ...\n",
      "Setting up node-typedarray (0.0.6-1) ...\n",
      "Setting up libfakeroot:amd64 (1.23-1) ...\n",
      "Setting up node-dashdash (1.14.1-2) ...\n",
      "Setting up node-clone (2.1.2-1) ...\n",
      "Setting up node-iferr (1.0.2-1) ...\n",
      "Setting up node-chownr (1.1.1-1) ...\n",
      "Setting up node-has-flag (2.0.0-1) ...\n",
      "Setting up node-validate-npm-package-name (3.0.0-1) ...\n",
      "Setting up libsasl2-modules-db:amd64 (2.1.27+dfsg-1+deb10u1) ...\n",
      "Setting up libpython2.7-stdlib:amd64 (2.7.16-2+deb10u1) ...\n",
      "Setting up fakeroot (1.23-1) ...\n",
      "update-alternatives: using /usr/bin/fakeroot-sysv to provide /usr/bin/fakeroot (fakeroot) in auto mode\n",
      "update-alternatives: warning: skip creation of /usr/share/man/man1/fakeroot.1.gz because associated file /usr/share/man/man1/fakeroot-sysv.1.gz (of link group fakeroot) doesn't exist\n",
      "update-alternatives: warning: skip creation of /usr/share/man/man1/faked.1.gz because associated file /usr/share/man/man1/faked-sysv.1.gz (of link group fakeroot) doesn't exist\n",
      "update-alternatives: warning: skip creation of /usr/share/man/es/man1/fakeroot.1.gz because associated file /usr/share/man/es/man1/fakeroot-sysv.1.gz (of link group fakeroot) doesn't exist\n",
      "update-alternatives: warning: skip creation of /usr/share/man/es/man1/faked.1.gz because associated file /usr/share/man/es/man1/faked-sysv.1.gz (of link group fakeroot) doesn't exist\n",
      "update-alternatives: warning: skip creation of /usr/share/man/fr/man1/fakeroot.1.gz because associated file /usr/share/man/fr/man1/fakeroot-sysv.1.gz (of link group fakeroot) doesn't exist\n",
      "update-alternatives: warning: skip creation of /usr/share/man/fr/man1/faked.1.gz because associated file /usr/share/man/fr/man1/faked-sysv.1.gz (of link group fakeroot) doesn't exist\n",
      "update-alternatives: warning: skip creation of /usr/share/man/sv/man1/fakeroot.1.gz because associated file /usr/share/man/sv/man1/fakeroot-sysv.1.gz (of link group fakeroot) doesn't exist\n",
      "update-alternatives: warning: skip creation of /usr/share/man/sv/man1/faked.1.gz because associated file /usr/share/man/sv/man1/faked-sysv.1.gz (of link group fakeroot) doesn't exist\n",
      "Setting up node-inherits (2.0.3-1) ...\n",
      "Setting up node-builtin-modules (3.0.0-1) ...\n",
      "Setting up node-path-is-absolute (1.0.0-1) ...\n",
      "Setting up node-locate-path (2.0.0-1) ...\n",
      "Setting up libasan5:amd64 (8.3.0-6) ...\n",
      "Setting up node-ini (1.3.5-1) ...\n",
      "Setting up node-iconv-lite (0.4.13-2) ...\n",
      "Setting up node-is-npm (1.0.0-1) ...\n",
      "Setting up node-ecc-jsbn (0.1.1-1) ...\n",
      "Setting up node-safe-buffer (5.1.2-1) ...\n",
      "Setting up node-promise-inflight (1.0.1-1) ...\n",
      "Setting up node-combined-stream (1.0.7-1) ...\n",
      "Setting up node-json-stringify-safe (5.0.1-1) ...\n",
      "Setting up node-json-parse-better-errors (1.0.2-2) ...\n",
      "Setting up node-y18n (3.2.1-2) ...\n",
      "Setting up node-detect-newline (2.1.0-1) ...\n",
      "Setting up node-shebang-regex (2.0.0-1) ...\n",
      "Setting up node-har-schema (2.0.0-1) ...\n",
      "Setting up node-mime-types (2.1.21-1) ...\n",
      "Setting up node-performance-now (2.1.0+debian-1) ...\n",
      "Setting up node-resolve-from (4.0.0-1) ...\n",
      "Setting up make (4.2.1-1.2) ...\n",
      "Setting up libmpfr6:amd64 (4.0.2-1) ...\n",
      "Setting up gnupg-l10n (2.2.12-1+deb10u1) ...\n",
      "Setting up node-balanced-match (0.4.2-1) ...\n",
      "Setting up node-ansi (0.3.0-3) ...\n",
      "Setting up node-brace-expansion (1.1.8-1) ...\n",
      "Setting up node-is-object (1.0.1-1) ...\n",
      "Setting up node-is-stream (1.1.0-1) ...\n",
      "Setting up node-deep-extend (0.4.1-2) ...\n",
      "Setting up xz-utils (5.2.4-1) ...\n",
      "update-alternatives: using /usr/bin/xz to provide /usr/bin/lzma (lzma) in auto mode\n",
      "update-alternatives: warning: skip creation of /usr/share/man/man1/lzma.1.gz because associated file /usr/share/man/man1/xz.1.gz (of link group lzma) doesn't exist\n",
      "update-alternatives: warning: skip creation of /usr/share/man/man1/unlzma.1.gz because associated file /usr/share/man/man1/unxz.1.gz (of link group lzma) doesn't exist\n",
      "update-alternatives: warning: skip creation of /usr/share/man/man1/lzcat.1.gz because associated file /usr/share/man/man1/xzcat.1.gz (of link group lzma) doesn't exist\n",
      "update-alternatives: warning: skip creation of /usr/share/man/man1/lzmore.1.gz because associated file /usr/share/man/man1/xzmore.1.gz (of link group lzma) doesn't exist\n",
      "update-alternatives: warning: skip creation of /usr/share/man/man1/lzless.1.gz because associated file /usr/share/man/man1/xzless.1.gz (of link group lzma) doesn't exist\n",
      "update-alternatives: warning: skip creation of /usr/share/man/man1/lzdiff.1.gz because associated file /usr/share/man/man1/xzdiff.1.gz (of link group lzma) doesn't exist\n",
      "update-alternatives: warning: skip creation of /usr/share/man/man1/lzcmp.1.gz because associated file /usr/share/man/man1/xzcmp.1.gz (of link group lzma) doesn't exist\n",
      "update-alternatives: warning: skip creation of /usr/share/man/man1/lzgrep.1.gz because associated file /usr/share/man/man1/xzgrep.1.gz (of link group lzma) doesn't exist\n",
      "update-alternatives: warning: skip creation of /usr/share/man/man1/lzegrep.1.gz because associated file /usr/share/man/man1/xzegrep.1.gz (of link group lzma) doesn't exist\n",
      "update-alternatives: warning: skip creation of /usr/share/man/man1/lzfgrep.1.gz because associated file /usr/share/man/man1/xzfgrep.1.gz (of link group lzma) doesn't exist\n",
      "Setting up node-p-finally (1.0.0-2) ...\n",
      "Setting up node-get-stream (3.0.0-1) ...\n",
      "Setting up libquadmath0:amd64 (8.3.0-6) ...\n",
      "Setting up node-strip-ansi (4.0.0-1) ...\n",
      "Setting up node-set-blocking (2.0.0-1) ...\n",
      "Setting up node-prr (1.0.1-1) ...\n",
      "Setting up libssl-dev:amd64 (1.1.1d-0+deb10u3) ...\n",
      "Setting up libmpc3:amd64 (1.1.0-1) ...\n",
      "Setting up node-tunnel-agent (0.6.1-1) ...\n",
      "Setting up patch (2.7.6-3+deb10u1) ...\n",
      "Setting up node-uid-number (0.0.6-1) ...\n",
      "Setting up node-signal-exit (3.0.2-1) ...\n",
      "Setting up libgdbm-compat4:amd64 (1.18.1-4) ...\n",
      "Setting up node-spdx-expression-parse (1.0.4-1) ...\n",
      "Setting up node-cyclist (1.0.1-2) ...\n",
      "Setting up node-which (1.3.0-2) ...\n",
      "Setting up node-lcid (1.0.0-1) ...\n",
      "Setting up node-wrappy (1.0.2-1) ...\n",
      "Setting up node-text-table (0.2.0-2) ...\n",
      "Setting up libsasl2-2:amd64 (2.1.27+dfsg-1+deb10u1) ...\n",
      "Setting up node-asynckit (0.4.0-2) ...\n",
      "Setting up node-proto-list (1.2.4-1) ...\n",
      "Setting up libperl5.28:amd64 (5.28.1-6) ...\n",
      "Setting up node-require-directory (2.1.1-1) ...\n",
      "Setting up node-punycode (2.1.1-2) ...\n",
      "Setting up libmpx2:amd64 (8.3.0-6) ...\n",
      "Setting up node-concat-stream (1.6.2-1) ...\n",
      "Setting up libubsan1:amd64 (8.3.0-6) ...\n",
      "Setting up node-defaults (1.0.3-1) ...\n",
      "Setting up node-mute-stream (0.0.8-1) ...\n",
      "Setting up node-mimic-response (1.0.0-1) ...\n",
      "Setting up libisl19:amd64 (0.20-2) ...\n",
      "Setting up node-duplexer3 (0.1.4-4) ...\n",
      "Setting up node-stream-iterate (1.2.0-4) ...\n",
      "Setting up node-graceful-fs (4.1.11-1) ...\n",
      "Setting up node-node-uuid (3.3.2-2) ...\n",
      "Setting up node-jsonify (0.0.0-1) ...\n",
      "Setting up node-json-stable-stringify (1.0.1-1) ...\n",
      "Setting up node-hosted-git-info (2.7.1-1) ...\n",
      "Setting up node-aproba (1.2.0-1) ...\n",
      "Setting up gpgconf (2.2.12-1+deb10u1) ...\n",
      "Setting up node-tough-cookie (2.3.4+dfsg-1) ...\n",
      "Setting up node-mimic-fn (1.1.0-1) ...\n",
      "Setting up node-rc (1.1.6-2) ...\n",
      "Setting up node-spdx-license-ids (1.2.2-1) ...\n",
      "Setting up node-string-decoder (1.2.0-1) ...\n",
      "Setting up node-mkdirp (0.5.1-1) ...\n",
      "Setting up node-run-queue (1.0.3-1) ...\n",
      "Setting up node-call-limit (1.1.0-1) ...\n",
      "Setting up node-core-util-is (1.0.2-1) ...\n",
      "Setting up node-json-schema (0.2.3-1) ...\n",
      "Setting up node-minimatch (3.0.4-3) ...\n",
      "Setting up node-is-builtin-module (2.0.0-1) ...\n",
      "Setting up node-cli-boxes (1.0.0-1) ...\n",
      "Setting up node-opener (1.4.3-1) ...\n",
      "Setting up node-archy (1.0.0-2) ...\n",
      "Setting up libbinutils:amd64 (2.31.1-16) ...\n",
      "Setting up cpp-8 (8.3.0-6) ...\n",
      "Setting up node-caseless (0.12.0-1) ...\n",
      "Setting up node-imurmurhash (0.1.4-1) ...\n",
      "Setting up node-xtend (4.0.1-2) ...\n",
      "Setting up node-p-timeout (1.2.0-1) ...\n",
      "Setting up node-verror (1.10.0-1) ...\n",
      "Setting up node-getpass (0.1.7-1) ...\n",
      "Setting up libc-dev-bin (2.28-10) ...\n",
      "Setting up node-encoding (0.1.12-2) ...\n",
      "Setting up node-config-chain (1.1.11-1) ...\n",
      "Setting up node-read (1.0.7-1) ...\n",
      "Setting up node-detect-indent (5.0.0-1) ...\n",
      "Setting up node-nopt (3.0.6-3) ...\n",
      "Setting up node-npm-run-path (2.0.2-2) ...\n",
      "Setting up node-asn1 (0.2.3-1) ...\n",
      "Setting up node-has-symbol-support-x (1.4.1+dfsg-1) ...\n",
      "Setting up node-sorted-object (2.0.1-1) ...\n",
      "Setting up node-color-convert (1.9.0-3) ...\n",
      "Setting up libcc1-0:amd64 (8.3.0-6) ...\n",
      "Setting up liblocale-gettext-perl (1.07-3+b4) ...\n",
      "Setting up gpg (2.2.12-1+deb10u1) ...\n",
      "Setting up liblsan0:amd64 (8.3.0-6) ...\n",
      "Setting up libitm1:amd64 (8.3.0-6) ...\n",
      "Setting up node-isarray (2.0.4-1) ...\n",
      "Setting up node-osenv (0.1.5-1) ...\n",
      "Setting up node-is-plain-obj (1.1.0-1) ...\n",
      "Setting up node-shebang-command (1.2.0-1) ...\n",
      "Setting up gnupg-utils (2.2.12-1+deb10u1) ...\n",
      "Setting up libjs-is-typedarray (1.0.0-2) ...\n",
      "Setting up binutils-x86-64-linux-gnu (2.31.1-16) ...\n",
      "Setting up node-lowercase-keys (1.0.0-2) ...\n",
      "Setting up node-decompress-response (3.3.0-1) ...\n",
      "Setting up libtsan0:amd64 (8.3.0-6) ...\n",
      "Setting up node-strip-eof (1.0.0-2) ...\n",
      "Setting up node-process-nextick-args (2.0.0-1) ...\n",
      "Setting up node-semver (5.5.1-1) ...\n",
      "Setting up node-has-unicode (2.0.1-2) ...\n",
      "Setting up node-fs-write-stream-atomic (1.0.10-4) ...\n",
      "Setting up pinentry-curses (1.1.0-2) ...\n",
      "Setting up node-readable-stream (2.3.6-1) ...\n",
      "Setting up node-ssri (5.2.4-2) ...\n",
      "Setting up manpages-dev (4.16-2) ...\n",
      "Setting up node-through2 (2.0.5-2) ...\n",
      "Setting up node-lru-cache (5.1.1-4) ...\n",
      "Setting up node-bcrypt-pbkdf (1.0.1-1) ...\n",
      "Setting up node-mem (1.1.0-1) ...\n",
      "Setting up node-supports-color (4.4.0-2) ...\n",
      "Setting up gpg-agent (2.2.12-1+deb10u1) ...\n",
      "Setting up python2.7 (2.7.16-2+deb10u1) ...\n",
      "Setting up node-once (1.4.0-3) ...\n",
      "Setting up node-write-file-atomic (2.3.0-1) ...\n",
      "Setting up libnode-dev:amd64 (10.21.0~dfsg-1~deb10u1) ...\n",
      "Setting up libpython2-stdlib:amd64 (2.7.16-1) ...\n",
      "Setting up node-jsprim (1.4.0-1) ...\n",
      "Setting up node-sha (2.0.1-1) ...\n",
      "Setting up node-url-parse-lax (1.0.0-1) ...\n",
      "Setting up node-flush-write-stream (1.0.3-1) ...\n",
      "Setting up node-ajv (5.0.0-1) ...\n",
      "Setting up gpgsm (2.2.12-1+deb10u1) ...\n",
      "Setting up node-errno (0.1.4-1) ...\n",
      "Setting up node-find-up (2.1.0-1) ...\n",
      "Setting up libldap-2.4-2:amd64 (2.4.47+dfsg-3+deb10u2) ...\n",
      "Setting up node-semver-diff (2.1.0-2) ...\n",
      "Setting up binutils (2.31.1-16) ...\n",
      "Setting up node-from2 (2.3.0-1) ...\n",
      "Setting up python2 (2.7.16-1) ...\n",
      "Setting up node-promzard (0.3.0-1) ...\n",
      "Setting up node-wcwidth.js (1.0.0-1) ...\n",
      "Setting up dirmngr (2.2.12-1+deb10u1) ...\n",
      "Setting up libpython-stdlib:amd64 (2.7.16-1) ...\n",
      "Setting up node-spdx-correct (1.0.2-1) ...\n",
      "Setting up perl (5.28.1-6) ...\n",
      "Setting up node-unique-filename (1.1.0+ds-2) ...\n",
      "Setting up node-cross-spawn (5.1.0-2) ...\n",
      "Setting up node-ansi-styles (3.2.1-1) ...\n",
      "Setting up node-form-data (2.3.2-2) ...\n",
      "Setting up node-lockfile (1.0.4-1) ...\n",
      "Setting up node-chalk (2.3.0-2) ...\n",
      "Setting up node-parallel-transform (1.1.0-2) ...\n",
      "Setting up libdpkg-perl (1.19.7) ...\n",
      "Setting up libgcc-8-dev:amd64 (8.3.0-6) ...\n",
      "Setting up node-registry-url (3.1.0-1) ...\n",
      "Setting up gpg-wks-server (2.2.12-1+deb10u1) ...\n",
      "Setting up node-is-typedarray (1.0.0-2) ...\n",
      "Setting up node-registry-auth-token (3.3.1-1) ...\n",
      "Setting up node-tar (4.4.6+ds1-3) ...\n",
      "Setting up node-inflight (1.0.6-1) ...\n",
      "Setting up cpp (4:8.3.0-1) ...\n",
      "Setting up node-has-to-string-tag-x (1.4.1+dfsg-1) ...\n",
      "Setting up libc6-dev:amd64 (2.28-10) ...\n",
      "Setting up node-npm-package-arg (6.0.0-2) ...\n",
      "Setting up node-isurl (1.0.0-1) ...\n",
      "Setting up python (2.7.16-1) ...\n",
      "Setting up libstdc++-8-dev:amd64 (8.3.0-6) ...\n",
      "Setting up node-string-width (2.1.1-1) ...\n",
      "Setting up node-sshpk (1.13.1+dfsg-2) ...\n",
      "Setting up node-har-validator (5.1.0-1) ...\n",
      "Setting up node-validate-npm-package-license (3.0.1-1) ...\n",
      "Setting up gcc-8 (8.3.0-6) ...\n",
      "Setting up node-end-of-stream (1.4.1-1) ...\n",
      "Setting up node-execa (0.10.0+dfsg-1) ...\n",
      "Setting up gpg-wks-client (2.2.12-1+deb10u1) ...\n",
      "Setting up node-pump (3.0.0-1) ...\n",
      "Setting up libfile-fcntllock-perl (0.22-3+b5) ...\n",
      "Setting up libalgorithm-diff-perl (1.19.03-2) ...\n",
      "Setting up python-pkg-resources (40.8.0-1) ...\n",
      "Setting up node-term-size (1.2.0+dfsg-2) ...\n",
      "Setting up node-os-locale (2.0.0-1) ...\n",
      "Setting up gcc (4:8.3.0-1) ...\n",
      "Setting up node-http-signature (1.2.0-1) ...\n",
      "Setting up dpkg-dev (1.19.7) ...\n",
      "Setting up node-duplexify (3.6.1-1) ...\n",
      "Setting up node-wrap-ansi (4.0.0-1) ...\n",
      "Setting up node-normalize-package-data (2.4.0-1) ...\n",
      "Setting up node-glob (7.1.3-2) ...\n",
      "Setting up node-pumpify (1.5.1-1) ...\n",
      "Setting up node-widest-line (1.2.2-1) ...\n",
      "Setting up node-got (7.1.0-1) ...\n",
      "Setting up node-package-json (4.0.1-1) ...\n",
      "Setting up g++-8 (8.3.0-6) ...\n",
      "Setting up node-latest-version (3.1.0-1) ...\n",
      "Setting up gnupg (2.2.12-1+deb10u1) ...\n",
      "Setting up node-wide-align (1.1.0-1) ...\n",
      "Setting up node-ansi-align (2.0.0-1) ...\n",
      "Setting up libalgorithm-diff-xs-perl (0.04-5+b1) ...\n",
      "Setting up node-request (2.88.1-2) ...\n",
      "Setting up node-cliui (4.1.0-1) ...\n",
      "Setting up node-rimraf (2.6.2-1) ...\n",
      "Setting up libalgorithm-merge-perl (0.08-3) ...\n",
      "Setting up gyp (0.1+20180428git4d467626-3) ...\n",
      "Setting up node-stream-each (1.2.2-2) ...\n",
      "Setting up node-yargs (10.0.3-2) ...\n",
      "Setting up node-mississippi (3.0.0-1) ...\n",
      "Setting up node-read-package-json (2.0.13-1) ...\n",
      "Setting up node-copy-concurrently (1.0.5-4) ...\n",
      "Setting up node-move-concurrently (1.0.1-2) ...\n",
      "Setting up node-fs-vacuum (1.2.10-2) ...\n",
      "Setting up node-gauge (2.7.4-1) ...\n",
      "Setting up node-boxen (1.2.2-1) ...\n",
      "Setting up g++ (4:8.3.0-1) ...\n",
      "update-alternatives: using /usr/bin/g++ to provide /usr/bin/c++ (c++) in auto mode\n",
      "Setting up node-libnpx (10.2.0+repack-1) ...\n",
      "Setting up build-essential (12.6) ...\n",
      "Setting up node-npmlog (4.1.2-1) ...\n",
      "Setting up node-cacache (11.3.2-2) ...\n",
      "Setting up node-gyp (3.8.0-6) ...\n",
      "Setting up npm (5.8.0+ds6-4+deb10u1) ...\n",
      "Processing triggers for libc-bin (2.28-10) ...\n"
     ]
    }
   ],
   "source": [
    "!apt-get install -y npm"
   ]
  },
  {
   "cell_type": "markdown",
   "metadata": {
    "colab_type": "text",
    "id": "5J_ooN0BiEpO"
   },
   "source": [
    "# Sistema de duas massas suportadas verticalmente e em série por amortecedores e molas.\n",
    "\n",
    "\n",
    "$ M\\ddot{x} + C\\dot{x} + Kx = F $"
   ]
  },
  {
   "cell_type": "code",
   "execution_count": 2,
   "metadata": {
    "colab": {},
    "colab_type": "code",
    "id": "3qVl08_CiSRy"
   },
   "outputs": [],
   "source": [
    "\n",
    "def k_matrix(k):\n",
    "    return np.array([[k[0] - k[1], k[1]],\n",
    "                    [-k[1], k[1]]])\n",
    "\n",
    "def c_matrix(c):\n",
    "    return np.array([[c[0] -c[1], c[1]],\n",
    "                    [-c[1], c[1]]])\n",
    "  \n",
    "def m_matrix(m):\n",
    "    return np.array([[m[0], 0],\n",
    "                    [0, m[1]]])\n",
    "  \n",
    "def system_fun(m, k, c, g):\n",
    "\n",
    "    K = k_matrix(k)\n",
    "    C = c_matrix(c)\n",
    "    M = m_matrix(m)\n",
    "\n",
    "    print(K)\n",
    "    print(C)\n",
    "    print(M)\n",
    "    def dxdt(t, x, F):\n",
    "        x, x_dot = x.reshape((2, -1))\n",
    "        x = x.reshape((-1, 1))\n",
    "        x_dot = x_dot.reshape((-1, 1))\n",
    "\n",
    "\n",
    "        x_dot2 = np.linalg.inv(M) @ ( F(t).reshape((-1,1)) - K @ x - C @ x_dot) + g*np.array([[1], [1]])\n",
    "        return np.array([x_dot.reshape((-1,)), x_dot2.reshape((-1,))]).reshape((-1,))\n",
    "\n",
    "    return dxdt\n",
    "\n",
    "\n",
    "def get_position_and_force(m=1,k=2,c=1,g=9.81, dt=0.01, f=np.sin, steps=10000):\n",
    "\n",
    "    dxdt = system_fun(m,k,c,g)\n",
    "\n",
    "    y_buffer = []\n",
    "    f_buffer = [[0,0]]\n",
    "    y0 = np.array([0, 1, 0, 0])\n",
    "\n",
    "    y_buffer.append(y0)\n",
    "\n",
    "\n",
    "    for i in tqdm(range(steps)):\n",
    "        sol = solve_ivp(dxdt, t_span=(dt*i,dt*(i+1)), y0=y0, args=(f,), t_eval=[dt*(i+1)])\n",
    "        y0 = np.squeeze(sol[\"y\"])\n",
    "        y_buffer.append(y0)\n",
    "        f_buffer.append(f(dt*(i+1)) + np.random.normal()*0)\n",
    "  \n",
    "    return np.array(y_buffer), np.array(f_buffer)\n",
    "\n",
    "def f(t):\n",
    "    return np.array([1, 1])*5*np.sin(2*np.pi*0.01*(t//1)**2*t)*np.sin(2*np.pi*0.004*(t//1)**2*t)\n",
    "  #return np.array([0, 10*np.sin(2*np.pi*0.1*(t//1)**2*t)])\n",
    "\n",
    "dt = 0.0001\n",
    "m=[30, 60]\n",
    "k=[5, 22]\n",
    "c=[100, 52]"
   ]
  },
  {
   "cell_type": "code",
   "execution_count": 3,
   "metadata": {
    "colab": {
     "base_uri": "https://localhost:8080/",
     "height": 35
    },
    "colab_type": "code",
    "id": "9VPzjQZPtUQQ",
    "outputId": "9ab0fd06-381c-43c9-d27d-f6e2a854fc63"
   },
   "outputs": [
    {
     "data": {
      "text/plain": [
       "array([1.53346333, 1.53346333])"
      ]
     },
     "execution_count": 3,
     "metadata": {},
     "output_type": "execute_result"
    }
   ],
   "source": [
    "f(7)"
   ]
  },
  {
   "cell_type": "code",
   "execution_count": 4,
   "metadata": {
    "colab": {
     "base_uri": "https://localhost:8080/",
     "height": 502,
     "referenced_widgets": [
      "d0cd986a2ec4427993dfa06009ddcb03",
      "6476fefebd7346c69f12634c5d02b175",
      "79fec358ceaa4a2698bb63e0f2828474",
      "55c84e11c2824997b0b6f77eecc7db8d",
      "f8631d7b4c5847ae8e9562d103eacb51",
      "ad279cd507aa44418272862851e02dea",
      "ae01a4bd0d694861b7e1a9577f1e4947",
      "2742b913747345fa818285e209808ed9"
     ]
    },
    "colab_type": "code",
    "id": "ORq27Qlul5CR",
    "outputId": "807d16b2-1547-46d4-9d23-5828c8bdb153"
   },
   "outputs": [
    {
     "name": "stdout",
     "output_type": "stream",
     "text": [
      "[[-17  22]\n",
      " [-22  22]]\n",
      "[[ 48  52]\n",
      " [-52  52]]\n",
      "[[30  0]\n",
      " [ 0 60]]\n"
     ]
    },
    {
     "data": {
      "application/vnd.jupyter.widget-view+json": {
       "model_id": "717cfe39ff684663abcdbb75649df06b",
       "version_major": 2,
       "version_minor": 0
      },
      "text/plain": [
       "HBox(children=(FloatProgress(value=0.0, max=200000.0), HTML(value='')))"
      ]
     },
     "metadata": {},
     "output_type": "display_data"
    },
    {
     "name": "stdout",
     "output_type": "stream",
     "text": [
      "\n"
     ]
    },
    {
     "data": {
      "image/png": "[encoded data removed]",
      "text/plain": [
       "<Figure size 432x288 with 1 Axes>"
      ]
     },
     "metadata": {
      "needs_background": "light"
     },
     "output_type": "display_data"
    },
    {
     "data": {
      "image/png": "[encoded data removed]",
      "text/plain": [
       "<Figure size 432x288 with 1 Axes>"
      ]
     },
     "metadata": {
      "needs_background": "light"
     },
     "output_type": "display_data"
    }
   ],
   "source": [
    "_positions, forces = get_position_and_force(m=m, k=k, c=c,f=f, dt=dt, steps=int(2e5))\n",
    "positions = _positions[:, :2]\n",
    "plt.plot(positions)\n",
    "plt.show()\n",
    "plt.plot(forces)\n",
    "plt.show()"
   ]
  },
  {
   "cell_type": "code",
   "execution_count": 5,
   "metadata": {
    "colab": {},
    "colab_type": "code",
    "id": "B73kvUEFmNJp"
   },
   "outputs": [],
   "source": [
    "def second_order_diff(x, dt):\n",
    "\n",
    "    diff = []\n",
    "    for dim in x:\n",
    "        diff.append(np.convolve(dim, np.array([1, - 2, 1]), mode=\"same\")[1:-1]/(dt**2))\n",
    "    return np.array(diff)\n",
    "\n",
    "def first_order_diff(x, dt):\n",
    "\n",
    "    diff = []\n",
    "    for dim in x:\n",
    "        diff.append(np.convolve(dim,  np.array([1, -1]), mode=\"same\")[1:-1]/dt)\n",
    "    return np.array(diff)\n",
    "\n",
    "\n",
    "def build_dataset(x, f, dt):\n",
    "    x_dot = first_order_diff(x.transpose(), dt).transpose()\n",
    "    x_dot2 = second_order_diff(x.transpose(), dt).transpose()\n",
    "    return x[1:-1], x_dot, x_dot2, f[1:-1]\n",
    "\n",
    "x, x_dot, x_dot2, f = build_dataset(positions, forces, dt)"
   ]
  },
  {
   "cell_type": "code",
   "execution_count": 6,
   "metadata": {
    "colab": {},
    "colab_type": "code",
    "id": "davmfRbwUIF7"
   },
   "outputs": [],
   "source": [
    "cc = np.concatenate([x, x_dot], axis=-1)"
   ]
  },
  {
   "cell_type": "code",
   "execution_count": 7,
   "metadata": {
    "colab": {
     "base_uri": "https://localhost:8080/",
     "height": 336
    },
    "colab_type": "code",
    "id": "VHoLe1HdTn_O",
    "outputId": "66698260-20ca-4cd1-8e50-576f1d7d77b3"
   },
   "outputs": [
    {
     "data": {
      "text/plain": [
       "[<matplotlib.lines.Line2D at 0x7f25ee412390>,\n",
       " <matplotlib.lines.Line2D at 0x7f25ee400210>,\n",
       " <matplotlib.lines.Line2D at 0x7f25ee412490>,\n",
       " <matplotlib.lines.Line2D at 0x7f25ee412550>]"
      ]
     },
     "execution_count": 7,
     "metadata": {},
     "output_type": "execute_result"
    },
    {
     "data": {
      "image/png": "[encoded data removed]",
      "text/plain": [
       "<Figure size 432x288 with 1 Axes>"
      ]
     },
     "metadata": {
      "needs_background": "light"
     },
     "output_type": "display_data"
    }
   ],
   "source": [
    "plt.plot(_positions[1:-1] - cc)"
   ]
  },
  {
   "cell_type": "code",
   "execution_count": 8,
   "metadata": {
    "colab": {
     "base_uri": "https://localhost:8080/",
     "height": 141
    },
    "colab_type": "code",
    "id": "p9SYJpd5nhZ2",
    "outputId": "08c9a97a-7bde-4780-bcf2-5cdb0e3863e0"
   },
   "outputs": [
    {
     "data": {
      "text/plain": [
       "array([[-4.14865924,  5.69304541],\n",
       "       [-4.14892157,  5.69270274],\n",
       "       [-4.14918385,  5.69236003],\n",
       "       ...,\n",
       "       [-1.04916644, -1.04622971],\n",
       "       [-1.04917251, -1.04622966],\n",
       "       [-1.04917858, -1.04622962]])"
      ]
     },
     "execution_count": 8,
     "metadata": {},
     "output_type": "execute_result"
    }
   ],
   "source": [
    "_positions[1:-1][20000:,2:]"
   ]
  },
  {
   "cell_type": "code",
   "execution_count": 9,
   "metadata": {
    "colab": {
     "base_uri": "https://localhost:8080/",
     "height": 141
    },
    "colab_type": "code",
    "id": "GH6dVzqdndeT",
    "outputId": "107075fa-b145-442b-f806-fff1cc229f9b"
   },
   "outputs": [
    {
     "data": {
      "text/plain": [
       "array([[-4.14852807,  5.69321674],\n",
       "       [-4.14879041,  5.69287408],\n",
       "       [-4.14905271,  5.69253139],\n",
       "       ...,\n",
       "       [-1.04916341, -1.04622973],\n",
       "       [-1.04916948, -1.04622968],\n",
       "       [-1.04917555, -1.04622964]])"
      ]
     },
     "execution_count": 9,
     "metadata": {},
     "output_type": "execute_result"
    }
   ],
   "source": [
    "x_dot[20000:]"
   ]
  },
  {
   "cell_type": "markdown",
   "metadata": {
    "colab_type": "text",
    "id": "W1c7EIlBDn_x"
   },
   "source": [
    "# Jax"
   ]
  },
  {
   "cell_type": "code",
   "execution_count": 10,
   "metadata": {
    "colab": {},
    "colab_type": "code",
    "id": "RFCEOHS0-Hnb"
   },
   "outputs": [
    {
     "name": "stderr",
     "output_type": "stream",
     "text": [
      "/usr/local/lib/python3.7/site-packages/jax/lib/xla_bridge.py:130: UserWarning: No GPU/TPU found, falling back to CPU.\n",
      "  warnings.warn('No GPU/TPU found, falling back to CPU.')\n"
     ]
    }
   ],
   "source": [
    "import jax\n",
    "import jax.numpy as np\n",
    "import numpy as onp\n",
    "from jax import grad, jit, vmap, value_and_grad, jacfwd, jacrev, jacobian, hessian\n",
    "from jax import random\n",
    "from jax.experimental import stax\n",
    "from jax.experimental.optimizers import adam, sgd\n",
    "\n",
    "\n",
    "# Generate key which is used to generate random numbers\n",
    "key = random.PRNGKey(1)"
   ]
  },
  {
   "cell_type": "markdown",
   "metadata": {
    "colab_type": "text",
    "id": "7gOwhE1eFII0"
   },
   "source": [
    "A equação do sistema é a seguinte:\n",
    "\n",
    "$m\\ddot{x} + c\\dot{x} + kx = f - mg$\n",
    "\n",
    "Queremos encontrar os parâmetros m, c e k."
   ]
  },
  {
   "cell_type": "markdown",
   "metadata": {
    "colab_type": "text",
    "id": "hI3TNXonhYjK"
   },
   "source": [
    "## Modelo físico sem Lagrange"
   ]
  },
  {
   "cell_type": "code",
   "execution_count": 11,
   "metadata": {
    "colab": {},
    "colab_type": "code",
    "id": "qjyjdEq9D_DJ"
   },
   "outputs": [],
   "source": [
    "def initialize_params(key, dims):\n",
    "    \"\"\" Inicializa massa m, k e c \"\"\"\n",
    "    keys = random.split(key, 3)\n",
    "    params = [random.normal(keys[i], [dims, dims]) for i in range(3)]\n",
    "    params[2] = np.tril(params[2])\n",
    "    return params\n",
    "    \n",
    "def forward_pass(params, x, x_dot, x_dot2, f):\n",
    "  \"\"\" \n",
    "  Uma instancia de x é do formato [x, x_dot] \n",
    "  Um forward pass estima a aceleração do sistema\n",
    "\n",
    "  \"\"\"\n",
    "  x = x.reshape((-1, 1))\n",
    "  x_dot = x_dot.reshape((-1, 1))\n",
    "  x_dot2 = x_dot2.reshape((-1, 1))\n",
    "  f = f.reshape((-1, 1))\n",
    "  params[2] = np.tril(params[2]) \n",
    "  M_inv = np.linalg.pinv(params[2] @ params[2].transpose())\n",
    "  C = params[1] @ x_dot \n",
    "  K = params[0] @ x\n",
    "  return np.squeeze(M_inv @ (f - C - K) + 9.81, -1)\n",
    "\n",
    "\n",
    "def mse(y_true, y_pred):\n",
    "  diff = y_true - y_pred\n",
    "  return np.mean(np.square(diff))\n",
    "\n",
    "@jit\n",
    "def loss(params, x, x_dot, x_dot2, f):\n",
    "    pred = batch_forward_pass(params, x, x_dot, x_dot2, f)\n",
    "    return mse(x_dot2, pred)\n",
    "\n",
    "batch_forward_pass = vmap(forward_pass, in_axes=(None, 0, 0, 0, 0), out_axes=0)\n",
    "params = initialize_params(key, 2)\n"
   ]
  },
  {
   "cell_type": "code",
   "execution_count": 12,
   "metadata": {
    "colab": {
     "base_uri": "https://localhost:8080/",
     "height": 35
    },
    "colab_type": "code",
    "id": "5KVZvj_nNI-v",
    "outputId": "531b6b17-2b77-4094-99dc-feff7c35546a"
   },
   "outputs": [
    {
     "data": {
      "text/plain": [
       "DeviceArray([14.067913 , -1.7778721], dtype=float32)"
      ]
     },
     "execution_count": 12,
     "metadata": {},
     "output_type": "execute_result"
    }
   ],
   "source": [
    "forward_pass(params, x[0], x_dot[0], x_dot2[0], f[0])"
   ]
  },
  {
   "cell_type": "code",
   "execution_count": 13,
   "metadata": {
    "colab": {
     "base_uri": "https://localhost:8080/",
     "height": 195
    },
    "colab_type": "code",
    "id": "9Vlcqdh_UN9o",
    "outputId": "e5ce2bfc-7767-4a17-c534-e8297c291591"
   },
   "outputs": [
    {
     "data": {
      "text/plain": [
       "DeviceArray([[14.067913 , -1.7778711],\n",
       "             [14.0729885, -1.7921925],\n",
       "             [14.078062 , -1.8065081],\n",
       "             [14.083135 , -1.8208227],\n",
       "             [14.088207 , -1.8351345],\n",
       "             [14.093277 , -1.8494425],\n",
       "             [14.098347 , -1.8637476],\n",
       "             [14.1034155, -1.8780508],\n",
       "             [14.108484 , -1.8923502],\n",
       "             [14.11355  , -1.9066477]], dtype=float32)"
      ]
     },
     "execution_count": 13,
     "metadata": {},
     "output_type": "execute_result"
    }
   ],
   "source": [
    "batch_forward_pass(params, x[:10], x_dot[:10], x_dot2[:10], f[:10])"
   ]
  },
  {
   "cell_type": "code",
   "execution_count": null,
   "metadata": {
    "colab": {
     "base_uri": "https://localhost:8080/",
     "height": 195
    },
    "colab_type": "code",
    "id": "BR-GCZsoXh_b",
    "outputId": "fbc216f3-739a-4679-a2da-890f0e9e8f6e"
   },
   "outputs": [
    {
     "data": {
      "text/plain": [
       "DeviceArray([[14.067917 , -1.7778788],\n",
       "             [14.072992 , -1.7922001],\n",
       "             [14.078068 , -1.8065233],\n",
       "             [14.083143 , -1.8208427],\n",
       "             [14.088219 , -1.835165 ],\n",
       "             [14.093294 , -1.8494844],\n",
       "             [14.098369 , -1.8638048],\n",
       "             [14.103443 , -1.8781233],\n",
       "             [14.108517 , -1.8924417],\n",
       "             [14.113592 , -1.9067621]], dtype=float32)"
      ]
     },
     "execution_count": 17,
     "metadata": {
      "tags": []
     },
     "output_type": "execute_result"
    }
   ],
   "source": [
    "batch_forward_pass(params, x[:10], x_dot[:10], x_dot2[:10], f[:10])"
   ]
  },
  {
   "cell_type": "code",
   "execution_count": 14,
   "metadata": {
    "colab": {
     "base_uri": "https://localhost:8080/",
     "height": 35
    },
    "colab_type": "code",
    "id": "nvBFIowlXWuu",
    "outputId": "99181469-8d6b-43f8-d273-b4dffe717edd"
   },
   "outputs": [
    {
     "data": {
      "text/plain": [
       "DeviceArray(76.33733, dtype=float32)"
      ]
     },
     "execution_count": 14,
     "metadata": {},
     "output_type": "execute_result"
    }
   ],
   "source": [
    "loss(params, x[:10], x_dot[:10], x_dot2[:10], f[:10])"
   ]
  },
  {
   "cell_type": "code",
   "execution_count": 15,
   "metadata": {
    "colab": {},
    "colab_type": "code",
    "id": "mwFdh5zXkaLU"
   },
   "outputs": [],
   "source": [
    "true_params = [np.array(k_matrix(k), dtype=np.float32), np.array(c_matrix(c), dtype=np.float32), np.array(m_matrix(m), dtype=np.float32)]"
   ]
  },
  {
   "cell_type": "code",
   "execution_count": 16,
   "metadata": {
    "colab": {},
    "colab_type": "code",
    "id": "ZBQcW7K4FQzZ"
   },
   "outputs": [],
   "source": [
    "indexes = [i for i in range(len(x))]\n",
    "onp.random.shuffle(indexes)\n",
    "indexes\n",
    "\n",
    "x = x[indexes]\n",
    "x_dot = x_dot[indexes]\n",
    "x_dot2 = x_dot2[indexes]\n",
    "f = f[indexes]"
   ]
  },
  {
   "cell_type": "code",
   "execution_count": 17,
   "metadata": {
    "colab": {},
    "colab_type": "code",
    "id": "4Q2D7elSIkOG"
   },
   "outputs": [],
   "source": [
    "undo_shuffle = onp.argsort(indexes)"
   ]
  },
  {
   "cell_type": "markdown",
   "metadata": {
    "colab_type": "text",
    "id": "JZschSADoBOK"
   },
   "source": [
    "Logo, se o modelo encontrar os bons parametros, teremos um MSE baixo\n",
    "\n",
    "### Treinando"
   ]
  },
  {
   "cell_type": "code",
   "execution_count": null,
   "metadata": {
    "colab": {
     "base_uri": "https://localhost:8080/",
     "height": 1000,
     "referenced_widgets": [
      "3bc600338ee64c7ab9dc9c4ed8d8f3ca",
      "4f2c2d159d2a4ed2812bef65bc25d3c1",
      "74576346693e4e7da39ab93f51d523ad",
      "08fd050f0ba44c73b7b8e8c89bde091c",
      "ba0b9be83113483c9bb15393c1cbc6b2",
      "f0406c0e1e9b4c35a22a7ea173ea61f3",
      "52bb9aef473d43eea5e044f311ef6c42",
      "7f39956c8b434fbfae4cd2cd662ac5fb",
      "a2bd01d8e9a8436e8ca6362d7b2ee6c9",
      "69e2c345929645bbba35fa9a5dfb916f",
      "730f7fedc8ff42418f89027aa381d0f3",
      "7273532b92a041e88ed0fde1b659cc01",
      "14bf61970f42460187f727123848fae6",
      "9f9103d987484d779db6be0c80be0e33",
      "798ebfa41e49445b851d94b30819bcb0",
      "12bb27fc07794f4d8ec0f44e257face5",
      "b509fe767cf745af86567cd13e78347b",
      "b9fe672f9d0844dda5400d7de0bea1b9",
      "df26201e84ed4564857c0653395a9912",
      "ae2e52049b474985a604725631fa6dbd",
      "0822409b83f04176ab1a5ca3395b0cc2",
      "4653b3cd55a6430db78b29d3150626d1",
      "ae2463447a9849b3be2605f94438c7bd",
      "44cef954696a41f0937e80f915de2eae",
      "64e598432517435591688f9ae522303e",
      "0a83e469ecdd4ff6a7fe4fe4f9433b68",
      "c1a135587eb149cc99d45cfae84e0521",
      "c2be4515e0044b0090c5bc4cf31f864e",
      "bb7bcbb113c744c8b5ffc729eb62dccb",
      "d2976c209546473d9620a1f1979d0187",
      "ebf11833350f4d8da255beb6ba54d901",
      "696addf9e6d64c92be583c2e08666f77"
     ]
    },
    "colab_type": "code",
    "id": "gA1VN_keop0G",
    "outputId": "c0a34fd1-2d99-4a45-ffa7-d40b622510bb"
   },
   "outputs": [
    {
     "name": "stdout",
     "output_type": "stream",
     "text": [
      "True params: [DeviceArray([[-17.,  22.],\n",
      "             [-22.,  22.]], dtype=float32), DeviceArray([[ 48.,  52.],\n",
      "             [-52.,  52.]], dtype=float32), array([[5.477226, 0.      ],\n",
      "       [0.      , 7.745967]], dtype=float32)]\n",
      "Params 0: 20.651405\n",
      "Params 1: 51.022114\n",
      "Params 2: 2.4950104\n",
      "Epoch 0\n"
     ]
    },
    {
     "data": {
      "application/vnd.jupyter.widget-view+json": {
       "model_id": "eca7313e4e1345b7b3e5cf041977cd44",
       "version_major": 2,
       "version_minor": 0
      },
      "text/plain": [
       "HBox(children=(FloatProgress(value=0.0, max=199999.0), HTML(value='')))"
      ]
     },
     "metadata": {},
     "output_type": "display_data"
    },
    {
     "name": "stdout",
     "output_type": "stream",
     "text": [
      "\n",
      "Epoch 0 , mean error: 1.6248229 , params: [[[-113.97032    150.05757  ]\n",
      "  [-166.219      162.8358   ]]\n",
      "\n",
      " [[ 369.62592    351.00055  ]\n",
      "  [-456.2691     380.23206  ]]\n",
      "\n",
      " [[ -14.7520895    0.       ]\n",
      "  [   1.6403877  -22.118227 ]]]\n",
      "Params 0: 101.00629\n",
      "Params 1: 276.53177\n",
      "Params 2: 180.12674\n",
      "Epoch 1\n"
     ]
    },
    {
     "data": {
      "application/vnd.jupyter.widget-view+json": {
       "model_id": "0cdd057252044f4e914bd2482aac6881",
       "version_major": 2,
       "version_minor": 0
      },
      "text/plain": [
       "HBox(children=(FloatProgress(value=0.0, max=199999.0), HTML(value='')))"
      ]
     },
     "metadata": {},
     "output_type": "display_data"
    },
    {
     "name": "stdout",
     "output_type": "stream",
     "text": [
      "\n",
      "Epoch 1 , mean error: 0.014054734 , params: [[[-182.95844    240.34126  ]\n",
      "  [-277.55603    272.17834  ]]\n",
      "\n",
      " [[ 586.1415     562.58813  ]\n",
      "  [-750.19885    637.6489   ]]\n",
      "\n",
      " [[ -18.652552     0.       ]\n",
      "  [   1.8203529  -28.53491  ]]]\n",
      "Params 0: 173.4232\n",
      "Params 1: 468.4973\n",
      "Params 2: 296.55087\n",
      "Epoch 2\n"
     ]
    },
    {
     "data": {
      "application/vnd.jupyter.widget-view+json": {
       "model_id": "e790a2e4bce64fb89d5e75feb75ec10c",
       "version_major": 2,
       "version_minor": 0
      },
      "text/plain": [
       "HBox(children=(FloatProgress(value=0.0, max=199999.0), HTML(value='')))"
      ]
     },
     "metadata": {},
     "output_type": "display_data"
    },
    {
     "name": "stdout",
     "output_type": "stream",
     "text": [
      "\n",
      "Epoch 2 , mean error: 0.0121231 , params: [[[ -242.17029     318.06314  ]\n",
      "  [ -373.65402     366.5849   ]]\n",
      "\n",
      " [[  773.7189      745.51917  ]\n",
      "  [-1005.42523     859.9796   ]]\n",
      "\n",
      " [[  -21.455631      0.       ]\n",
      "  [    2.0517783   -33.095997 ]]]\n",
      "Params 0: 235.85231\n",
      "Params 1: 634.7809\n",
      "Params 2: 397.67447\n",
      "Epoch 3\n"
     ]
    },
    {
     "data": {
      "application/vnd.jupyter.widget-view+json": {
       "model_id": "b2909be169d0460da366ff0e0eba65b5",
       "version_major": 2,
       "version_minor": 0
      },
      "text/plain": [
       "HBox(children=(FloatProgress(value=0.0, max=199999.0), HTML(value='')))"
      ]
     },
     "metadata": {},
     "output_type": "display_data"
    },
    {
     "name": "stdout",
     "output_type": "stream",
     "text": [
      "\n",
      "Epoch 3 , mean error: 0.011147624 , params: [[[ -296.21832     389.3009   ]\n",
      "  [ -461.51114     452.99142  ]]\n",
      "\n",
      " [[  945.8584      913.2321   ]\n",
      "  [-1239.9436     1063.7258   ]]\n",
      "\n",
      " [[  -23.722303      0.       ]\n",
      "  [    2.2845576   -36.74942  ]]]\n",
      "Params 0: 292.93024\n",
      "Params 1: 787.38196\n",
      "Params 2: 489.86462\n",
      "Epoch 4\n"
     ]
    },
    {
     "data": {
      "application/vnd.jupyter.widget-view+json": {
       "model_id": "2c7a4d900f21413496af52323e602666",
       "version_major": 2,
       "version_minor": 0
      },
      "text/plain": [
       "HBox(children=(FloatProgress(value=0.0, max=199999.0), HTML(value='')))"
      ]
     },
     "metadata": {},
     "output_type": "display_data"
    },
    {
     "name": "stdout",
     "output_type": "stream",
     "text": [
      "\n",
      "Epoch 4 , mean error: 0.010499186 , params: [[[ -346.756       456.26096  ]\n",
      "  [ -543.83856     534.34485  ]]\n",
      "\n",
      " [[ 1107.7493     1069.907    ]\n",
      "  [-1459.563      1254.8555   ]]\n",
      "\n",
      " [[  -25.639181      0.       ]\n",
      "  [    2.4509773   -39.841885 ]]]\n",
      "Params 0: 346.48486\n",
      "Params 1: 930.54193\n",
      "Params 2: 575.09216\n",
      "Epoch 5\n"
     ]
    },
    {
     "data": {
      "application/vnd.jupyter.widget-view+json": {
       "model_id": "344ca4c1d6d54b34817c5069dde0588f",
       "version_major": 2,
       "version_minor": 0
      },
      "text/plain": [
       "HBox(children=(FloatProgress(value=0.0, max=199999.0), HTML(value='')))"
      ]
     },
     "metadata": {},
     "output_type": "display_data"
    },
    {
     "name": "stdout",
     "output_type": "stream",
     "text": [
      "\n",
      "Epoch 5 , mean error: 0.010031914 , params: [[[ -394.76447     519.6943   ]\n",
      "  [ -622.327       611.6621   ]]\n",
      "\n",
      " [[ 1261.9152     1218.5436   ]\n",
      "  [-1667.8394     1436.8213   ]]\n",
      "\n",
      " [[  -27.320396      0.       ]\n",
      "  [    2.5471659   -42.57597  ]]]\n",
      "Params 0: 397.43842\n",
      "Params 1: 1066.6439\n",
      "Params 2: 655.4929\n",
      "Epoch 6\n"
     ]
    },
    {
     "data": {
      "application/vnd.jupyter.widget-view+json": {
       "model_id": "b44fb32dcfca42b8887aa89334057f21",
       "version_major": 2,
       "version_minor": 0
      },
      "text/plain": [
       "HBox(children=(FloatProgress(value=0.0, max=199999.0), HTML(value='')))"
      ]
     },
     "metadata": {},
     "output_type": "display_data"
    },
    {
     "name": "stdout",
     "output_type": "stream",
     "text": [
      "\n",
      "Epoch 6 , mean error: 0.009673936 , params: [[[ -440.81735    580.21173 ]\n",
      "  [ -697.7788     685.58136 ]]\n",
      "\n",
      " [[ 1409.7483    1360.9701  ]\n",
      "  [-1867.7104    1611.438   ]]\n",
      "\n",
      " [[  -28.84629      0.      ]\n",
      "  [    2.626503   -45.059666]]]\n",
      "Params 0: 446.29437\n",
      "Params 1: 1197.2241\n",
      "Params 2: 732.9805\n",
      "Epoch 7\n"
     ]
    },
    {
     "data": {
      "application/vnd.jupyter.widget-view+json": {
       "model_id": "c90fbeff24d042009c38d5b9d98e6535",
       "version_major": 2,
       "version_minor": 0
      },
      "text/plain": [
       "HBox(children=(FloatProgress(value=0.0, max=199999.0), HTML(value='')))"
      ]
     },
     "metadata": {},
     "output_type": "display_data"
    },
    {
     "name": "stdout",
     "output_type": "stream",
     "text": [
      "\n",
      "Epoch 7 , mean error: 0.009386494 , params: [[[ -485.23752     638.4438   ]\n",
      "  [ -770.6671      756.83234  ]]\n",
      "\n",
      " [[ 1552.2897     1498.2975   ]\n",
      "  [-2061.016      1779.9407   ]]\n",
      "\n",
      " [[  -30.254055      0.       ]\n",
      "  [    2.7156935   -47.34369  ]]]\n",
      "Params 0: 493.43427\n",
      "Params 1: 1323.3115\n",
      "Params 2: 808.26135\n",
      "Epoch 8\n"
     ]
    },
    {
     "data": {
      "application/vnd.jupyter.widget-view+json": {
       "model_id": "8de87df03ce84b63b0b77a56756f4c75",
       "version_major": 2,
       "version_minor": 0
      },
      "text/plain": [
       "HBox(children=(FloatProgress(value=0.0, max=199999.0), HTML(value='')))"
      ]
     },
     "metadata": {},
     "output_type": "display_data"
    },
    {
     "name": "stdout",
     "output_type": "stream",
     "text": [
      "\n",
      "Epoch 8 , mean error: 0.009148249 , params: [[[ -528.2423      694.826    ]\n",
      "  [ -841.33167     825.9199   ]]\n",
      "\n",
      " [[ 1690.3091     1631.2705   ]\n",
      "  [-2248.8218     1943.2039   ]]\n",
      "\n",
      " [[  -31.563154      0.       ]\n",
      "  [    2.8186557   -49.45977  ]]]\n",
      "Params 0: 539.1235\n",
      "Params 1: 1445.5837\n",
      "Params 2: 881.54724\n",
      "Epoch 9\n"
     ]
    },
    {
     "data": {
      "application/vnd.jupyter.widget-view+json": {
       "model_id": "f7832eeab39446dc9a2f34ac82ee1d39",
       "version_major": 2,
       "version_minor": 0
      },
      "text/plain": [
       "HBox(children=(FloatProgress(value=0.0, max=199999.0), HTML(value='')))"
      ]
     },
     "metadata": {},
     "output_type": "display_data"
    },
    {
     "name": "stdout",
     "output_type": "stream",
     "text": [
      "\n",
      "Epoch 9 , mean error: 0.00894682 , params: [[[ -570.0004      749.64374  ]\n",
      "  [ -910.0563      893.1816   ]]\n",
      "\n",
      " [[ 1824.4548     1760.439    ]\n",
      "  [-2431.9543     2101.9106   ]]\n",
      "\n",
      " [[  -32.787487      0.       ]\n",
      "  [    2.9324727   -51.43399  ]]]\n",
      "Params 0: 583.5596\n",
      "Params 1: 1564.58\n",
      "Params 2: 952.9999\n",
      "Epoch 10\n"
     ]
    },
    {
     "data": {
      "application/vnd.jupyter.widget-view+json": {
       "model_id": "8f14710b36e145008a8613b098ae60a4",
       "version_major": 2,
       "version_minor": 0
      },
      "text/plain": [
       "HBox(children=(FloatProgress(value=0.0, max=199999.0), HTML(value='')))"
      ]
     },
     "metadata": {},
     "output_type": "display_data"
    },
    {
     "name": "stdout",
     "output_type": "stream",
     "text": [
      "\n",
      "Epoch 10 , mean error: 0.008773242 , params: [[[ -610.65753     803.1013   ]\n",
      "  [ -977.0599      958.84247  ]]\n",
      "\n",
      " [[ 1955.211      1886.2487   ]\n",
      "  [-2610.949      2256.5852   ]]\n",
      "\n",
      " [[  -33.938255      0.       ]\n",
      "  [    3.0523288   -53.28699  ]]]\n",
      "Params 0: 626.88995\n",
      "Params 1: 1680.6863\n",
      "Params 2: 1022.7482\n",
      "Epoch 11\n"
     ]
    },
    {
     "data": {
      "application/vnd.jupyter.widget-view+json": {
       "model_id": "53a0bc70a5b845caba9b7ac0f8912b2f",
       "version_major": 2,
       "version_minor": 0
      },
      "text/plain": [
       "HBox(children=(FloatProgress(value=0.0, max=199999.0), HTML(value='')))"
      ]
     },
     "metadata": {},
     "output_type": "display_data"
    },
    {
     "name": "stdout",
     "output_type": "stream",
     "text": [
      "\n",
      "Epoch 11 , mean error: 0.008621115 , params: [[[ -650.32916    855.3465  ]\n",
      "  [-1042.5195    1023.05994 ]]\n",
      "\n",
      " [[ 2082.9836    2009.0596  ]\n",
      "  [-2786.306     2407.6453  ]]\n",
      "\n",
      " [[  -35.024925     0.      ]\n",
      "  [    3.174952   -55.035835]]]\n",
      "Params 0: 669.2272\n",
      "Params 1: 1794.2336\n",
      "Params 2: 1090.937\n",
      "Epoch 12\n"
     ]
    },
    {
     "data": {
      "application/vnd.jupyter.widget-view+json": {
       "model_id": "c639cb8fc0b4444fb24acab8dc1530fc",
       "version_major": 2,
       "version_minor": 0
      },
      "text/plain": [
       "HBox(children=(FloatProgress(value=0.0, max=199999.0), HTML(value='')))"
      ]
     },
     "metadata": {},
     "output_type": "display_data"
    },
    {
     "name": "stdout",
     "output_type": "stream",
     "text": [
      "\n",
      "Epoch 12 , mean error: 0.008486002 , params: [[[ -689.14276     906.5316   ]\n",
      "  [-1106.6091     1085.9952   ]]\n",
      "\n",
      " [[ 2208.1492     2129.2637   ]\n",
      "  [-2958.357      2555.5205   ]]\n",
      "\n",
      " [[  -36.05613       0.       ]\n",
      "  [    3.2974865   -56.69463  ]]]\n",
      "Params 0: 710.68677\n",
      "Params 1: 1905.5066\n",
      "Params 2: 1157.7177\n",
      "Epoch 13\n"
     ]
    },
    {
     "data": {
      "application/vnd.jupyter.widget-view+json": {
       "model_id": "b3f050b8b62d406081cfab5cdf12d26c",
       "version_major": 2,
       "version_minor": 0
      },
      "text/plain": [
       "HBox(children=(FloatProgress(value=0.0, max=199999.0), HTML(value='')))"
      ]
     },
     "metadata": {},
     "output_type": "display_data"
    },
    {
     "name": "stdout",
     "output_type": "stream",
     "text": [
      "\n",
      "Epoch 13 , mean error: 0.0083646765 , params: [[[ -727.16693     956.73334  ]\n",
      "  [-1169.4482     1147.7452   ]]\n",
      "\n",
      " [[ 2330.9214     2247.0813   ]\n",
      "  [-3127.4043     2700.4983   ]]\n",
      "\n",
      " [[  -37.0383        0.       ]\n",
      "  [    3.4182827   -58.274532 ]]]\n",
      "Params 0: 751.3401\n",
      "Params 1: 2014.706\n",
      "Params 2: 1223.2064\n",
      "Epoch 14\n"
     ]
    },
    {
     "data": {
      "application/vnd.jupyter.widget-view+json": {
       "model_id": "cdba9854f0d047b5b413537c73bdb196",
       "version_major": 2,
       "version_minor": 0
      },
      "text/plain": [
       "HBox(children=(FloatProgress(value=0.0, max=199999.0), HTML(value='')))"
      ]
     },
     "metadata": {},
     "output_type": "display_data"
    },
    {
     "name": "stdout",
     "output_type": "stream",
     "text": [
      "\n",
      "Epoch 14 , mean error: 0.008254735 , params: [[[ -764.4667     1006.0271   ]\n",
      "  [-1231.1632     1208.4128   ]]\n",
      "\n",
      " [[ 2451.5525     2362.7214   ]\n",
      "  [-3293.8306     2842.8748   ]]\n",
      "\n",
      " [[  -37.977264      0.       ]\n",
      "  [    3.5369997   -59.78562  ]]]\n",
      "Params 0: 791.2607\n",
      "Params 1: 2122.0645\n",
      "Params 2: 1287.5515\n",
      "Epoch 15\n"
     ]
    },
    {
     "data": {
      "application/vnd.jupyter.widget-view+json": {
       "model_id": "70b6566f7b3f4c46b53b12aa181d3d7c",
       "version_major": 2,
       "version_minor": 0
      },
      "text/plain": [
       "HBox(children=(FloatProgress(value=0.0, max=199999.0), HTML(value='')))"
      ]
     },
     "metadata": {},
     "output_type": "display_data"
    },
    {
     "name": "stdout",
     "output_type": "stream",
     "text": [
      "\n",
      "Epoch 15 , mean error: 0.008154291 , params: [[[ -801.1323     1054.5162   ]\n",
      "  [-1291.8225     1268.057    ]]\n",
      "\n",
      " [[ 2570.273      2476.4624   ]\n",
      "  [-3457.7124     2982.82     ]]\n",
      "\n",
      " [[  -38.878384      0.       ]\n",
      "  [    3.6522727   -61.23484  ]]]\n",
      "Params 0: 830.5029\n",
      "Params 1: 2227.7014\n",
      "Params 2: 1350.8362\n",
      "Epoch 16\n"
     ]
    },
    {
     "data": {
      "application/vnd.jupyter.widget-view+json": {
       "model_id": "7a5b9f7988394abab86e4b0d9aaee0bd",
       "version_major": 2,
       "version_minor": 0
      },
      "text/plain": [
       "HBox(children=(FloatProgress(value=0.0, max=199999.0), HTML(value='')))"
      ]
     },
     "metadata": {},
     "output_type": "display_data"
    },
    {
     "name": "stdout",
     "output_type": "stream",
     "text": [
      "\n",
      "Epoch 16 , mean error: 0.008061906 , params: [[[ -837.1991     1102.2334   ]\n",
      "  [-1351.5352     1326.7825   ]]\n",
      "\n",
      " [[ 2687.1187     2588.3992   ]\n",
      "  [-3619.1836     3120.5986   ]]\n",
      "\n",
      " [[  -39.744995      0.       ]\n",
      "  [    3.7628398   -62.62897  ]]]\n",
      "Params 0: 869.1292\n",
      "Params 1: 2331.725\n",
      "Params 2: 1413.1356\n",
      "Epoch 17\n"
     ]
    },
    {
     "data": {
      "application/vnd.jupyter.widget-view+json": {
       "model_id": "57e6148f227f4b1f95de09ea49466481",
       "version_major": 2,
       "version_minor": 0
      },
      "text/plain": [
       "HBox(children=(FloatProgress(value=0.0, max=199999.0), HTML(value='')))"
      ]
     },
     "metadata": {},
     "output_type": "display_data"
    },
    {
     "name": "stdout",
     "output_type": "stream",
     "text": [
      "\n",
      "Epoch 17 , mean error: 0.007976479 , params: [[[ -872.7104    1149.2308  ]\n",
      "  [-1410.3593    1384.6323  ]]\n",
      "\n",
      " [[ 2802.2854    2698.6697  ]\n",
      "  [-3778.471     3256.3364  ]]\n",
      "\n",
      " [[  -40.580723     0.      ]\n",
      "  [    3.869502   -63.973484]]]\n",
      "Params 0: 907.1755\n",
      "Params 1: 2434.2732\n",
      "Params 2: 1474.5447\n",
      "Epoch 18\n"
     ]
    },
    {
     "data": {
      "application/vnd.jupyter.widget-view+json": {
       "model_id": "efd4b33c19194c6fbcfad9d42c567153",
       "version_major": 2,
       "version_minor": 0
      },
      "text/plain": [
       "HBox(children=(FloatProgress(value=0.0, max=199999.0), HTML(value='')))"
      ]
     },
     "metadata": {},
     "output_type": "display_data"
    }
   ],
   "source": [
    "step_size = 1\n",
    "batch_size = 1\n",
    "epochs = 100\n",
    "init_fun, opt_update, get_params = adam(step_size=step_size)\n",
    "params = initialize_params(key, 2)\n",
    "true_params = [np.array(k_matrix(k), dtype=np.float32), np.array(c_matrix(c), dtype=np.float32), np.array(m_matrix(m), dtype=np.float32)]\n",
    "true_params[2] = onp.linalg.cholesky(true_params[2])\n",
    "#params=np.sqrt(true_params)\n",
    "#params = true_params.copy()\n",
    "#params = [ i + 0.5 for i in params]\n",
    "opt_state = init_fun(params)\n",
    "\n",
    "\n",
    "def train_step(x, x_dot, x_dot2, f, opt_state, opt_update):\n",
    "  params = get_params(opt_state)\n",
    "  mse, grad = value_and_grad(loss)(params, x, x_dot, x_dot2, f)\n",
    "  opt_state = opt_update(0, grad, opt_state)\n",
    "  params = get_params(opt_state)\n",
    "  \n",
    "  return get_params(opt_state), opt_state, mse\n",
    "\n",
    "\n",
    "epoch_errors = []\n",
    "\n",
    "print(\"True params:\", true_params)\n",
    "for epoch in range(epochs):\n",
    "\n",
    "  n_batchs = len(x)//batch_size\n",
    "  errors = []\n",
    "  \n",
    "  estimated_params = params.copy()\n",
    "\n",
    "\n",
    "  estimated_params[2] = np.tril(estimated_params[2]) @ np.tril(estimated_params[2]).transpose()\n",
    "\n",
    "  for i in range(len(true_params)):\n",
    "    print(f\"Params {i}:\", np.mean(np.abs(true_params[i] - np.tril(estimated_params[i]))))\n",
    "\n",
    "  \n",
    "  print(\"Epoch\", epoch)\n",
    "  for i in tqdm(range(n_batchs)):\n",
    "    x_batch = x[i*batch_size:((i+1)*batch_size)]\n",
    "    x_dot_batch = x_dot[i*batch_size:((i+1)*batch_size)]\n",
    "    x_dot2_batch = x_dot2[i*batch_size:((i+1)*batch_size)]\n",
    "    f_batch = f[i*batch_size:((i+1)*batch_size)]\n",
    "    params, opt_state, error = train_step(x_batch, x_dot_batch, x_dot2_batch, f_batch, opt_state, opt_update)\n",
    "    errors.append(error)\n",
    "  \n",
    "  mean_error = np.mean(np.array(errors))\n",
    "  print(\"Epoch\", epoch, \", mean error:\",mean_error, \", params:\", np.array(params))\n",
    "  \n",
    "  epoch_errors.append(mean_error)\n",
    "  "
   ]
  },
  {
   "cell_type": "code",
   "execution_count": 63,
   "metadata": {
    "colab": {
     "base_uri": "https://localhost:8080/",
     "height": 124
    },
    "colab_type": "code",
    "id": "yTYQI1ntWL9M",
    "outputId": "d6d1e2fa-68ce-4ad6-f38d-c36f65816888"
   },
   "outputs": [
    {
     "data": {
      "text/plain": [
       "[DeviceArray([[-31.111414,  41.297615],\n",
       "              [-34.85972 ,  33.193047]], dtype=float32),\n",
       " DeviceArray([[ 106.690315,   97.19048 ],\n",
       "              [-111.132416,   78.42623 ]], dtype=float32),\n",
       " DeviceArray([[ -7.8212013,   0.       ],\n",
       "              [  1.2441558, -10.407504 ]], dtype=float32)]"
      ]
     },
     "execution_count": 63,
     "metadata": {},
     "output_type": "execute_result"
    }
   ],
   "source": [
    "params"
   ]
  },
  {
   "cell_type": "code",
   "execution_count": 64,
   "metadata": {
    "colab": {
     "base_uri": "https://localhost:8080/",
     "height": 124
    },
    "colab_type": "code",
    "id": "zSfAV_TmXAE-",
    "outputId": "772653d1-0547-4409-e659-e860062b2101"
   },
   "outputs": [
    {
     "data": {
      "text/plain": [
       "[DeviceArray([[-30.467466,  40.55112 ],\n",
       "              [-33.442963,  31.778858]], dtype=float32),\n",
       " DeviceArray([[ 105.20385,   95.8488 ],\n",
       "              [-107.64059,   75.45428]], dtype=float32),\n",
       " DeviceArray([[ 60.112762,  -9.822801],\n",
       "              [ -9.822801, 106.315765]], dtype=float32)]"
      ]
     },
     "execution_count": 64,
     "metadata": {},
     "output_type": "execute_result"
    }
   ],
   "source": [
    "estimated_params"
   ]
  },
  {
   "cell_type": "code",
   "execution_count": 65,
   "metadata": {
    "colab": {
     "base_uri": "https://localhost:8080/",
     "height": 124
    },
    "colab_type": "code",
    "id": "UCD2lyvIaXVX",
    "outputId": "023a3941-6388-4bff-aeec-515e6e7a4bd9"
   },
   "outputs": [
    {
     "name": "stdout",
     "output_type": "stream",
     "text": [
      "[[ 13.467466 -18.55112 ]\n",
      " [ 11.442963  -9.778858]]\n",
      "[[-57.20385  -43.8488  ]\n",
      " [ 55.640587 -23.454277]]\n",
      "[[-54.635536   9.822801]\n",
      " [  9.822801 -98.5698  ]]\n"
     ]
    }
   ],
   "source": [
    "for i in range(len(true_params)):\n",
    "  print(true_params[i] - estimated_params[i])"
   ]
  },
  {
   "cell_type": "code",
   "execution_count": 66,
   "metadata": {
    "colab": {
     "base_uri": "https://localhost:8080/",
     "height": 177
    },
    "colab_type": "code",
    "id": "UVxzwfieSaSd",
    "outputId": "5f214e15-3575-40d4-b21e-c09021535ce5"
   },
   "outputs": [
    {
     "name": "stdout",
     "output_type": "stream",
     "text": [
      "[5, 22]\n",
      "[100, 52]\n",
      "[30, 60]\n",
      "[[-17.  22.]\n",
      " [-22.  22.]]\n",
      "[[ 48.  52.]\n",
      " [-52.  52.]]\n",
      "[[5.477226 0.      ]\n",
      " [0.       7.745967]]\n"
     ]
    }
   ],
   "source": [
    "print(k)\n",
    "print(c)\n",
    "print(m)\n",
    "for i in true_params:\n",
    "  print(i)"
   ]
  },
  {
   "cell_type": "code",
   "execution_count": 67,
   "metadata": {
    "colab": {
     "base_uri": "https://localhost:8080/",
     "height": 159
    },
    "colab_type": "code",
    "id": "62XgtwXjS9O8",
    "outputId": "eee4f575-a3d3-4dbd-f528-9f1bd29a6ef8"
   },
   "outputs": [
    {
     "name": "stdout",
     "output_type": "stream",
     "text": [
      "[DeviceArray(10.186201, dtype=float32), DeviceArray(41.297615, dtype=float32)]\n",
      "[DeviceArray(203.8808, dtype=float32), DeviceArray(97.19048, dtype=float32)]\n",
      "[[-31.111414  41.297615]\n",
      " [-34.85972   33.193047]]\n",
      "[[ 106.690315   97.19048 ]\n",
      " [-111.132416   78.42623 ]]\n",
      "[[ -7.8212013   0.       ]\n",
      " [  1.2441558 -10.407504 ]]\n"
     ]
    }
   ],
   "source": [
    "print([params[0][0,0] + params[0][0,1], params[0][0,1]])\n",
    "print([params[1][0,0] + params[1][0,1], params[1][0,1]])\n",
    "for i in params:\n",
    "  print(i)"
   ]
  },
  {
   "cell_type": "code",
   "execution_count": 68,
   "metadata": {
    "colab": {
     "base_uri": "https://localhost:8080/",
     "height": 283
    },
    "colab_type": "code",
    "id": "9bPm7q7qXCgu",
    "outputId": "c4071b2a-2ad7-4b87-b5b6-bcfc9e0cbe59"
   },
   "outputs": [
    {
     "data": {
      "text/plain": [
       "[<matplotlib.lines.Line2D at 0x7f25efa39890>]"
      ]
     },
     "execution_count": 68,
     "metadata": {},
     "output_type": "execute_result"
    },
    {
     "data": {
      "image/png": "[encoded data removed]",
      "text/plain": [
       "<Figure size 432x288 with 1 Axes>"
      ]
     },
     "metadata": {
      "needs_background": "light"
     },
     "output_type": "display_data"
    }
   ],
   "source": [
    "plt.plot(x[:,0][undo_shuffle])"
   ]
  },
  {
   "cell_type": "code",
   "execution_count": 69,
   "metadata": {
    "colab": {
     "base_uri": "https://localhost:8080/",
     "height": 500
    },
    "colab_type": "code",
    "id": "WAht7ZdDgmGZ",
    "outputId": "15c2f3d3-5a1e-4bbf-9e14-cb0ffc872969"
   },
   "outputs": [
    {
     "data": {
      "text/plain": [
       "[<matplotlib.lines.Line2D at 0x7f25eff61e10>]"
      ]
     },
     "execution_count": 69,
     "metadata": {},
     "output_type": "execute_result"
    },
    {
     "data": {
      "image/png": "[encoded data removed]",
      "text/plain": [
       "<Figure size 720x576 with 1 Axes>"
      ]
     },
     "metadata": {
      "needs_background": "light"
     },
     "output_type": "display_data"
    }
   ],
   "source": [
    "\n",
    "pred = batch_forward_pass(true_params, x, x_dot, x_dot2, f)[undo_shuffle]\n",
    "\n",
    "plt.figure(figsize=(10,8))\n",
    "plt.plot(x_dot2[:, 0][undo_shuffle], alpha=0.5)\n",
    "plt.plot(pred[:, 0], alpha=0.5)\n"
   ]
  },
  {
   "cell_type": "code",
   "execution_count": 70,
   "metadata": {
    "colab": {
     "base_uri": "https://localhost:8080/",
     "height": 936
    },
    "colab_type": "code",
    "id": "PUcXbUYOoqqX",
    "outputId": "96a684e4-1faa-400a-d866-de51fb602b7a"
   },
   "outputs": [
    {
     "data": {
      "text/plain": [
       "[<matplotlib.lines.Line2D at 0x7f25b0ed34d0>]"
      ]
     },
     "execution_count": 70,
     "metadata": {},
     "output_type": "execute_result"
    },
    {
     "data": {
      "image/png": "[encoded data removed]",
      "text/plain": [
       "<Figure size 1440x1152 with 1 Axes>"
      ]
     },
     "metadata": {
      "needs_background": "light"
     },
     "output_type": "display_data"
    }
   ],
   "source": [
    "pred = batch_forward_pass(params, x, x_dot, x_dot2, f)[undo_shuffle]\n",
    "\n",
    "plt.figure(figsize=(20,16))\n",
    "plt.plot(x_dot2[undo_shuffle][:, 0], alpha=0.5)\n",
    "plt.plot(pred[:, 0], alpha=0.5)\n"
   ]
  },
  {
   "cell_type": "code",
   "execution_count": 61,
   "metadata": {
    "colab": {
     "base_uri": "https://localhost:8080/",
     "height": 936
    },
    "colab_type": "code",
    "id": "8lyDLnImzNkU",
    "outputId": "cddea32e-e88f-4c96-c1cf-c5abf91e6f43"
   },
   "outputs": [
    {
     "data": {
      "text/plain": [
       "[<matplotlib.lines.Line2D at 0x7f25ee9926d0>]"
      ]
     },
     "execution_count": 61,
     "metadata": {},
     "output_type": "execute_result"
    },
    {
     "data": {
      "image/png": "[encoded data removed]",
      "text/plain": [
       "<Figure size 1440x1152 with 1 Axes>"
      ]
     },
     "metadata": {
      "needs_background": "light"
     },
     "output_type": "display_data"
    }
   ],
   "source": [
    "pred = batch_forward_pass(params, x, x_dot, x_dot2, f)[undo_shuffle]\n",
    "\n",
    "plt.figure(figsize=(20,16))\n",
    "plt.plot(x_dot2[undo_shuffle][:, 1], alpha=0.5)\n",
    "plt.plot(pred[:, 1], alpha=0.5)\n"
   ]
  },
  {
   "cell_type": "code",
   "execution_count": null,
   "metadata": {
    "colab": {
     "base_uri": "https://localhost:8080/",
     "height": 954
    },
    "colab_type": "code",
    "id": "2vLbKUb3Ozc6",
    "outputId": "671cc8c7-cf8c-43c3-d2f2-dffe73a1d611"
   },
   "outputs": [
    {
     "data": {
      "text/plain": [
       "[<matplotlib.lines.Line2D at 0x7fcce00c4668>,\n",
       " <matplotlib.lines.Line2D at 0x7fcce00c47b8>]"
      ]
     },
     "execution_count": 50,
     "metadata": {
      "tags": []
     },
     "output_type": "execute_result"
    },
    {
     "data": {
      "image/png": "[encoded data removed]",
      "text/plain": [
       "<Figure size 1440x1152 with 1 Axes>"
      ]
     },
     "metadata": {
      "needs_background": "light",
      "tags": []
     },
     "output_type": "display_data"
    }
   ],
   "source": [
    "plt.figure(figsize=(20,16))\n",
    "plt.plot(batch_forward_pass(true_params, x, x_dot, x_dot2, f)[undo_shuffle] - batch_forward_pass(params, x, x_dot, x_dot2, f)[undo_shuffle])"
   ]
  },
  {
   "cell_type": "code",
   "execution_count": null,
   "metadata": {
    "colab": {
     "base_uri": "https://localhost:8080/",
     "height": 954
    },
    "colab_type": "code",
    "id": "TTheIR_gy5rq",
    "outputId": "f23d00ec-89dc-4c56-df7a-5c661633dcbf"
   },
   "outputs": [
    {
     "data": {
      "text/plain": [
       "[<matplotlib.lines.Line2D at 0x7f857c094908>,\n",
       " <matplotlib.lines.Line2D at 0x7f857c094a20>]"
      ]
     },
     "execution_count": 148,
     "metadata": {
      "tags": []
     },
     "output_type": "execute_result"
    },
    {
     "data": {
      "image/png": "[encoded data removed]",
      "text/plain": [
       "<Figure size 1440x1152 with 1 Axes>"
      ]
     },
     "metadata": {
      "needs_background": "light",
      "tags": []
     },
     "output_type": "display_data"
    }
   ],
   "source": [
    "plt.figure(figsize=(20,16))\n",
    "plt.plot((batch_forward_pass(true_params, x, x_dot, x_dot2, f)[undo_shuffle] - batch_forward_pass(params, x, x_dot, x_dot2, f)[undo_shuffle])/batch_forward_pass(true_params, x, x_dot, x_dot2, f)[undo_shuffle])"
   ]
  },
  {
   "cell_type": "code",
   "execution_count": null,
   "metadata": {
    "colab": {
     "base_uri": "https://localhost:8080/",
     "height": 283
    },
    "colab_type": "code",
    "id": "IuhkLbkqsg0S",
    "outputId": "61e603cd-f4ec-4c14-e457-11e2d10b3411"
   },
   "outputs": [
    {
     "data": {
      "text/plain": [
       "[<matplotlib.lines.Line2D at 0x7fb9a3b77080>]"
      ]
     },
     "execution_count": 52,
     "metadata": {
      "tags": []
     },
     "output_type": "execute_result"
    },
    {
     "data": {
      "image/png": "[encoded data removed]",
      "text/plain": [
       "<Figure size 432x288 with 1 Axes>"
      ]
     },
     "metadata": {
      "needs_background": "light",
      "tags": []
     },
     "output_type": "display_data"
    }
   ],
   "source": [
    "pred = batch_forward_pass(true_params, x, x_dot, x_dot2, f)\n",
    "plt.plot(x_dot2[:, 0])\n",
    "plt.plot(pred[:, 0])\n"
   ]
  },
  {
   "cell_type": "code",
   "execution_count": null,
   "metadata": {
    "colab": {},
    "colab_type": "code",
    "id": "JvE2XRqt4-AN"
   },
   "outputs": [],
   "source": [
    "[i**2 for i in params]"
   ]
  },
  {
   "cell_type": "markdown",
   "metadata": {
    "colab_type": "text",
    "id": "hPg2J_ouh_rI"
   },
   "source": [
    "## Modelo com Lagrange"
   ]
  },
  {
   "cell_type": "markdown",
   "metadata": {
    "colab_type": "text",
    "id": "wtmtpPfyPdPG"
   },
   "source": [
    "## Lagrange (baseado no paper)"
   ]
  },
  {
   "cell_type": "code",
   "execution_count": null,
   "metadata": {
    "colab": {},
    "colab_type": "code",
    "id": "248-bH29PciP"
   },
   "outputs": [],
   "source": [
    "def neural_network_layer(key, dim_in, dim_out):\n",
    "    w_key, b_key = random.split(key, 2)\n",
    "    return random.normal(w_key, (dim_out, dim_in)), random.normal(b_key, (dim_out,))\n",
    "\n",
    "def neural_network_params(key, layers):\n",
    "\n",
    "    keys = random.split(key, len(layers))\n",
    "    return [neural_network_layer(keys[i], layers[i], layers[i+1]) for i in range(len(layers)-1)]\n",
    "\n",
    "def relu(x):\n",
    "    return np.maximum(x, 0)\n",
    "\n",
    "def forward_neural_network(layers, x, activation_fun=jax.nn.softplus):\n",
    "    for w, b in layers[:-1]:\n",
    "      x = np.dot(w, x) + b\n",
    "      x = activation_fun(x)\n",
    "    w, b = layers[-1]\n",
    "    return np.dot(w, x) + b\n",
    "\n",
    "def initialize_params(key, network_layers=[2, 300, 300, 1], damp_layers=[1, 300, 300, 1]):\n",
    "    \"\"\" \n",
    "    Inicializa massa m, k e c \n",
    "\n",
    "    Returns\n",
    "      params, list de tamanho 3, contendo arrays de tamanho <dims>\n",
    "      params[0] -> k\n",
    "      params[1] -> c\n",
    "      params[2] @ params[2] -> m\n",
    "\n",
    "    \"\"\"\n",
    "    params_l = neural_network_params(key, network_layers)\n",
    "    params_c = neural_network_params(key, damp_layers)\n",
    "    return [params_l, params_c]\n",
    "\n",
    "def lagrangian(params, x, x_dot):\n",
    "  x = np.concatenate([x, x_dot], axis=-1)\n",
    "  return np.squeeze(forward_neural_network(params[0], x), axis=-1)\n",
    "\n",
    "def forward_pass(params, x, x_dot, f):\n",
    "  \"\"\" \n",
    "  Uma instancia de x é do formato [x, x_dot] \n",
    "  Um forward pass estima a aceleração do sistema\n",
    "  \n",
    "  \"\"\"\n",
    "  H = hessian(lagrangian, 2)(params, x, x_dot)\n",
    "  H_inv = jax.numpy.linalg.pinv(H)\n",
    "\n",
    "  #damping_force= forward_neural_network(params[1], x_dot)\n",
    "\n",
    "  return H_inv @ (jacobian(lagrangian, 1)(params, x, x_dot) - jacobian(jacobian(lagrangian, 2), 1)(params, x, x_dot) @ x_dot)\n",
    "\n",
    "\n",
    "def mse(y_true, y_pred):\n",
    "  diff = y_true - y_pred\n",
    "  return np.mean(np.square(diff))\n",
    "\n",
    "@jit\n",
    "def loss(params, x, x_dot, x_dot2, f):\n",
    "    pred = batch_forward_pass(params, x, x_dot, f)\n",
    "    return mse(x_dot2, pred)\n",
    "\n",
    "\n",
    "batch_forward_pass = vmap(forward_pass, in_axes=(None, 0, 0, 0), out_axes=0)\n",
    "params = initialize_params(key)\n",
    "\n",
    "# To column vector\n",
    "x = np.expand_dims(x_in[:, 0], 1)\n",
    "x_dot = np.expand_dims(x_in[:, 1], 1)\n",
    "x_dot2 = x_out\n",
    "f =  np.expand_dims(x_in[:, 2], 1)\n"
   ]
  },
  {
   "cell_type": "code",
   "execution_count": null,
   "metadata": {
    "colab": {
     "base_uri": "https://localhost:8080/",
     "height": 34
    },
    "colab_type": "code",
    "id": "tVpGjBRfhWg-",
    "outputId": "f15f0932-282c-431a-d5ec-aa1dac86fdea"
   },
   "outputs": [
    {
     "data": {
      "text/plain": [
       "DeviceArray([[63.834743]], dtype=float32)"
      ]
     },
     "execution_count": 222,
     "metadata": {
      "tags": []
     },
     "output_type": "execute_result"
    }
   ],
   "source": [
    "hessian(lagrangian, 2)(params, np.array(x[0]), np.array(x_dot[0]))"
   ]
  },
  {
   "cell_type": "code",
   "execution_count": null,
   "metadata": {
    "colab": {},
    "colab_type": "code",
    "id": "9J60fejOf6dl"
   },
   "outputs": [],
   "source": []
  },
  {
   "cell_type": "code",
   "execution_count": null,
   "metadata": {
    "colab": {
     "base_uri": "https://localhost:8080/",
     "height": 34
    },
    "colab_type": "code",
    "id": "WT0ZRfWid0Wr",
    "outputId": "5515d71b-c063-437b-a2a4-7838968bd715"
   },
   "outputs": [
    {
     "data": {
      "text/plain": [
       "DeviceArray([[63.834743]], dtype=float32)"
      ]
     },
     "execution_count": 223,
     "metadata": {
      "tags": []
     },
     "output_type": "execute_result"
    }
   ],
   "source": [
    "hessian(lagrangian, 2)(params, x[0], x_dot[0])"
   ]
  },
  {
   "cell_type": "code",
   "execution_count": null,
   "metadata": {
    "colab": {
     "base_uri": "https://localhost:8080/",
     "height": 34
    },
    "colab_type": "code",
    "id": "UJ9upD0GUuE2",
    "outputId": "9c26a8cd-06a3-41ef-ce6f-a77b3d2863d5"
   },
   "outputs": [
    {
     "data": {
      "text/plain": [
       "DeviceArray([-92.79093], dtype=float32)"
      ]
     },
     "execution_count": 224,
     "metadata": {
      "tags": []
     },
     "output_type": "execute_result"
    }
   ],
   "source": [
    "forward_neural_network(params[0], np.concatenate([x[0], x_dot[0]], axis=-1))"
   ]
  },
  {
   "cell_type": "code",
   "execution_count": null,
   "metadata": {
    "colab": {
     "base_uri": "https://localhost:8080/",
     "height": 34
    },
    "colab_type": "code",
    "id": "6lELEjpKYhZB",
    "outputId": "530b054c-ab6f-47aa-878a-9c4275037769"
   },
   "outputs": [
    {
     "data": {
      "text/plain": [
       "DeviceArray([[[-189.57199]]], dtype=float32)"
      ]
     },
     "execution_count": 225,
     "metadata": {
      "tags": []
     },
     "output_type": "execute_result"
    }
   ],
   "source": [
    "hessian(forward_neural_network, 1)(params[1], x_dot[0])\n"
   ]
  },
  {
   "cell_type": "code",
   "execution_count": null,
   "metadata": {
    "colab": {
     "base_uri": "https://localhost:8080/",
     "height": 34
    },
    "colab_type": "code",
    "id": "yTfv89xRYsEd",
    "outputId": "9fd6d119-876c-4c46-9a8b-254f3bf7b5f0"
   },
   "outputs": [
    {
     "data": {
      "text/plain": [
       "DeviceArray([-2.1348817], dtype=float32)"
      ]
     },
     "execution_count": 226,
     "metadata": {
      "tags": []
     },
     "output_type": "execute_result"
    }
   ],
   "source": [
    "forward_pass(params, x[100], x_dot[100], f[100])"
   ]
  },
  {
   "cell_type": "code",
   "execution_count": null,
   "metadata": {
    "colab": {
     "base_uri": "https://localhost:8080/",
     "height": 34
    },
    "colab_type": "code",
    "id": "IvMZa5bzZqXw",
    "outputId": "40b84652-607c-45fc-9fc8-360f4638a42a"
   },
   "outputs": [
    {
     "data": {
      "text/plain": [
       "DeviceArray(-92.79093, dtype=float32)"
      ]
     },
     "execution_count": 227,
     "metadata": {
      "tags": []
     },
     "output_type": "execute_result"
    }
   ],
   "source": [
    "lagrangian(params, x[0], x_dot[0])"
   ]
  },
  {
   "cell_type": "code",
   "execution_count": null,
   "metadata": {
    "colab": {
     "base_uri": "https://localhost:8080/",
     "height": 34
    },
    "colab_type": "code",
    "id": "UnElowFpY37c",
    "outputId": "3a32e046-1981-467e-daca-fcf8e4c664c7"
   },
   "outputs": [
    {
     "data": {
      "text/plain": [
       "DeviceArray([[88.09747]], dtype=float32)"
      ]
     },
     "execution_count": 228,
     "metadata": {
      "tags": []
     },
     "output_type": "execute_result"
    }
   ],
   "source": [
    "hessian(lagrangian, 1)(params, x[0], x_dot[1])"
   ]
  },
  {
   "cell_type": "code",
   "execution_count": null,
   "metadata": {
    "colab": {
     "base_uri": "https://localhost:8080/",
     "height": 666,
     "referenced_widgets": [
      "4eef39f0a7db4f2abe9bf95e807dce3a",
      "61f616fedece4007ad0b03f7d9446116",
      "a71bbc9ce0824e7caca267593758061c",
      "03d612cb8e9346408b0f071e8ff434c4",
      "7d5b044f8557434e834d9c1a6c0db161",
      "157984d6e3554184a7567325b72d6b05",
      "bd2008e5f12842c782482c75974992a4",
      "ab5fc7dd05dc44dda15c007aa06117ad",
      "91f8b1a2404c4e08b632f94b64b951e8",
      "9af998a6cbd14a378bfcb621416f2d78",
      "49738d987c4445ec8729c691fe6d3e72",
      "72b06ad6f1ed46d69bb7b887797a56f5",
      "87b18a586f514287b77f0dca125aa301",
      "4b82352fe5e24c71a275f0323700d1b4",
      "874c718c473b4c349d6a5ff1ddae9ce4",
      "2c8d5d7fa8ce49ce920033413b625a6c",
      "9260e1b44c8a476fad8adbda0b3727a8",
      "85f219d4fe9f4247bc396a07aa19fff9",
      "0da29f4829384317a1108e56f2f25c41",
      "dedca716d26b4fcdaf084e7ada922298",
      "4b285a020423456b9a57c3f36fc4a30d",
      "72781b8617a3466f86669cd56c8e602e",
      "9d9edf4e42c349a59b4fc8ad77004794",
      "764052a671794d718278af07f4366456",
      "65698bcd0b5b403d836638592e76a1bc",
      "b6624063537c470ea7c0272e26b6b567",
      "6bfc8a8d6bfc43f68fb52b4802ffa6ef",
      "1e4656b3f5dd41bba7f3bd490708ff8b",
      "36a70a52b3b04151b1fc90d3dfcfbdc0",
      "6ded942b64d646b3aa00870be887a44d",
      "9449295f1ccd482394ce85025bd41258",
      "1152fb6ab7ce4aa683e875a803e4f367"
     ]
    },
    "colab_type": "code",
    "id": "7YoHTyesUaSo",
    "outputId": "578ea95c-0dc3-4a60-d8f6-c975e54e187f"
   },
   "outputs": [
    {
     "name": "stdout",
     "output_type": "stream",
     "text": [
      "Epoch 0\n"
     ]
    },
    {
     "data": {
      "application/vnd.jupyter.widget-view+json": {
       "model_id": "4eef39f0a7db4f2abe9bf95e807dce3a",
       "version_major": 2,
       "version_minor": 0
      },
      "text/plain": [
       "HBox(children=(FloatProgress(value=0.0, max=1562.0), HTML(value='')))"
      ]
     },
     "metadata": {
      "tags": []
     },
     "output_type": "display_data"
    },
    {
     "name": "stdout",
     "output_type": "stream",
     "text": [
      "\n",
      "Epoch 0 , mean error: 155222.86\n",
      "Epoch 1\n"
     ]
    },
    {
     "data": {
      "application/vnd.jupyter.widget-view+json": {
       "model_id": "91f8b1a2404c4e08b632f94b64b951e8",
       "version_major": 2,
       "version_minor": 0
      },
      "text/plain": [
       "HBox(children=(FloatProgress(value=0.0, max=1562.0), HTML(value='')))"
      ]
     },
     "metadata": {
      "tags": []
     },
     "output_type": "display_data"
    },
    {
     "name": "stdout",
     "output_type": "stream",
     "text": [
      "\n",
      "Epoch 1 , mean error: 288112.4\n",
      "Epoch 2\n"
     ]
    },
    {
     "data": {
      "application/vnd.jupyter.widget-view+json": {
       "model_id": "9260e1b44c8a476fad8adbda0b3727a8",
       "version_major": 2,
       "version_minor": 0
      },
      "text/plain": [
       "HBox(children=(FloatProgress(value=0.0, max=1562.0), HTML(value='')))"
      ]
     },
     "metadata": {
      "tags": []
     },
     "output_type": "display_data"
    },
    {
     "name": "stdout",
     "output_type": "stream",
     "text": [
      "\n",
      "Epoch 2 , mean error: 345316.47\n",
      "Epoch 3\n"
     ]
    },
    {
     "data": {
      "application/vnd.jupyter.widget-view+json": {
       "model_id": "65698bcd0b5b403d836638592e76a1bc",
       "version_major": 2,
       "version_minor": 0
      },
      "text/plain": [
       "HBox(children=(FloatProgress(value=0.0, max=1562.0), HTML(value='')))"
      ]
     },
     "metadata": {
      "tags": []
     },
     "output_type": "display_data"
    },
    {
     "ename": "KeyboardInterrupt",
     "evalue": "ignored",
     "output_type": "error",
     "traceback": [
      "\u001b[0;31m---------------------------------------------------------------------------\u001b[0m",
      "\u001b[0;31mKeyboardInterrupt\u001b[0m                         Traceback (most recent call last)",
      "\u001b[0;32m<ipython-input-229-3389067a9116>\u001b[0m in \u001b[0;36m<module>\u001b[0;34m()\u001b[0m\n\u001b[1;32m     31\u001b[0m     \u001b[0mx_dot2_batch\u001b[0m \u001b[0;34m=\u001b[0m \u001b[0mx_dot2\u001b[0m\u001b[0;34m[\u001b[0m\u001b[0mi\u001b[0m\u001b[0;34m*\u001b[0m\u001b[0mbatch_size\u001b[0m\u001b[0;34m:\u001b[0m\u001b[0;34m(\u001b[0m\u001b[0;34m(\u001b[0m\u001b[0mi\u001b[0m\u001b[0;34m+\u001b[0m\u001b[0;36m1\u001b[0m\u001b[0;34m)\u001b[0m\u001b[0;34m*\u001b[0m\u001b[0mbatch_size\u001b[0m\u001b[0;34m)\u001b[0m\u001b[0;34m]\u001b[0m\u001b[0;34m\u001b[0m\u001b[0;34m\u001b[0m\u001b[0m\n\u001b[1;32m     32\u001b[0m     \u001b[0mf_batch\u001b[0m \u001b[0;34m=\u001b[0m \u001b[0mf\u001b[0m\u001b[0;34m[\u001b[0m\u001b[0mi\u001b[0m\u001b[0;34m*\u001b[0m\u001b[0mbatch_size\u001b[0m\u001b[0;34m:\u001b[0m\u001b[0;34m(\u001b[0m\u001b[0;34m(\u001b[0m\u001b[0mi\u001b[0m\u001b[0;34m+\u001b[0m\u001b[0;36m1\u001b[0m\u001b[0;34m)\u001b[0m\u001b[0;34m*\u001b[0m\u001b[0mbatch_size\u001b[0m\u001b[0;34m)\u001b[0m\u001b[0;34m]\u001b[0m\u001b[0;34m\u001b[0m\u001b[0;34m\u001b[0m\u001b[0m\n\u001b[0;32m---> 33\u001b[0;31m     \u001b[0mparams\u001b[0m\u001b[0;34m,\u001b[0m \u001b[0mopt_state\u001b[0m\u001b[0;34m,\u001b[0m \u001b[0merror\u001b[0m \u001b[0;34m=\u001b[0m \u001b[0mtrain_step\u001b[0m\u001b[0;34m(\u001b[0m\u001b[0mparams\u001b[0m\u001b[0;34m,\u001b[0m \u001b[0mx_batch\u001b[0m\u001b[0;34m,\u001b[0m \u001b[0mx_dot_batch\u001b[0m\u001b[0;34m,\u001b[0m \u001b[0mx_dot2_batch\u001b[0m\u001b[0;34m,\u001b[0m \u001b[0mf_batch\u001b[0m\u001b[0;34m,\u001b[0m \u001b[0mopt_state\u001b[0m\u001b[0;34m,\u001b[0m \u001b[0mopt_update\u001b[0m\u001b[0;34m)\u001b[0m\u001b[0;34m\u001b[0m\u001b[0;34m\u001b[0m\u001b[0m\n\u001b[0m\u001b[1;32m     34\u001b[0m     \u001b[0merrors\u001b[0m\u001b[0;34m.\u001b[0m\u001b[0mappend\u001b[0m\u001b[0;34m(\u001b[0m\u001b[0merror\u001b[0m\u001b[0;34m)\u001b[0m\u001b[0;34m\u001b[0m\u001b[0;34m\u001b[0m\u001b[0m\n\u001b[1;32m     35\u001b[0m \u001b[0;34m\u001b[0m\u001b[0m\n",
      "\u001b[0;32m<ipython-input-229-3389067a9116>\u001b[0m in \u001b[0;36mtrain_step\u001b[0;34m(params, x, x_dot, x_dot2, f, opt_state, opt_update)\u001b[0m\n\u001b[1;32m     13\u001b[0m   \u001b[0mparams\u001b[0m \u001b[0;34m=\u001b[0m \u001b[0mget_params\u001b[0m\u001b[0;34m(\u001b[0m\u001b[0mopt_state\u001b[0m\u001b[0;34m)\u001b[0m\u001b[0;34m\u001b[0m\u001b[0;34m\u001b[0m\u001b[0m\n\u001b[1;32m     14\u001b[0m   \u001b[0mmse\u001b[0m\u001b[0;34m,\u001b[0m \u001b[0mgrad\u001b[0m \u001b[0;34m=\u001b[0m \u001b[0mvalue_and_grad\u001b[0m\u001b[0;34m(\u001b[0m\u001b[0mloss\u001b[0m\u001b[0;34m)\u001b[0m\u001b[0;34m(\u001b[0m\u001b[0mparams\u001b[0m\u001b[0;34m,\u001b[0m \u001b[0mx\u001b[0m\u001b[0;34m,\u001b[0m \u001b[0mx_dot\u001b[0m\u001b[0;34m,\u001b[0m \u001b[0mx_dot2\u001b[0m\u001b[0;34m,\u001b[0m \u001b[0mf\u001b[0m\u001b[0;34m)\u001b[0m\u001b[0;34m\u001b[0m\u001b[0;34m\u001b[0m\u001b[0m\n\u001b[0;32m---> 15\u001b[0;31m   \u001b[0mopt_state\u001b[0m \u001b[0;34m=\u001b[0m \u001b[0mopt_update\u001b[0m\u001b[0;34m(\u001b[0m\u001b[0;36m0\u001b[0m\u001b[0;34m,\u001b[0m \u001b[0mgrad\u001b[0m\u001b[0;34m,\u001b[0m \u001b[0mopt_state\u001b[0m\u001b[0;34m)\u001b[0m\u001b[0;34m\u001b[0m\u001b[0;34m\u001b[0m\u001b[0m\n\u001b[0m\u001b[1;32m     16\u001b[0m \u001b[0;34m\u001b[0m\u001b[0m\n\u001b[1;32m     17\u001b[0m   \u001b[0;32mreturn\u001b[0m \u001b[0mget_params\u001b[0m\u001b[0;34m(\u001b[0m\u001b[0mopt_state\u001b[0m\u001b[0;34m)\u001b[0m\u001b[0;34m,\u001b[0m \u001b[0mopt_state\u001b[0m\u001b[0;34m,\u001b[0m \u001b[0mmse\u001b[0m\u001b[0;34m\u001b[0m\u001b[0;34m\u001b[0m\u001b[0m\n",
      "\u001b[0;32m/usr/local/lib/python3.6/dist-packages/jax/experimental/optimizers.py\u001b[0m in \u001b[0;36mtree_update\u001b[0;34m(i, grad_tree, opt_state)\u001b[0m\n\u001b[1;32m    149\u001b[0m         \u001b[0;32mraise\u001b[0m \u001b[0mTypeError\u001b[0m\u001b[0;34m(\u001b[0m\u001b[0mmsg\u001b[0m\u001b[0;34m.\u001b[0m\u001b[0mformat\u001b[0m\u001b[0;34m(\u001b[0m\u001b[0mtree\u001b[0m\u001b[0;34m,\u001b[0m \u001b[0mtree2\u001b[0m\u001b[0;34m)\u001b[0m\u001b[0;34m)\u001b[0m\u001b[0;34m\u001b[0m\u001b[0;34m\u001b[0m\u001b[0m\n\u001b[1;32m    150\u001b[0m       \u001b[0mstates\u001b[0m \u001b[0;34m=\u001b[0m \u001b[0mmap\u001b[0m\u001b[0;34m(\u001b[0m\u001b[0mtree_unflatten\u001b[0m\u001b[0;34m,\u001b[0m \u001b[0msubtrees\u001b[0m\u001b[0;34m,\u001b[0m \u001b[0mstates_flat\u001b[0m\u001b[0;34m)\u001b[0m\u001b[0;34m\u001b[0m\u001b[0;34m\u001b[0m\u001b[0m\n\u001b[0;32m--> 151\u001b[0;31m       \u001b[0mnew_states\u001b[0m \u001b[0;34m=\u001b[0m \u001b[0mmap\u001b[0m\u001b[0;34m(\u001b[0m\u001b[0mpartial\u001b[0m\u001b[0;34m(\u001b[0m\u001b[0mupdate\u001b[0m\u001b[0;34m,\u001b[0m \u001b[0mi\u001b[0m\u001b[0;34m)\u001b[0m\u001b[0;34m,\u001b[0m \u001b[0mgrad_flat\u001b[0m\u001b[0;34m,\u001b[0m \u001b[0mstates\u001b[0m\u001b[0;34m)\u001b[0m\u001b[0;34m\u001b[0m\u001b[0;34m\u001b[0m\u001b[0m\n\u001b[0m\u001b[1;32m    152\u001b[0m       \u001b[0mnew_states_flat\u001b[0m\u001b[0;34m,\u001b[0m \u001b[0msubtrees2\u001b[0m \u001b[0;34m=\u001b[0m \u001b[0munzip2\u001b[0m\u001b[0;34m(\u001b[0m\u001b[0mmap\u001b[0m\u001b[0;34m(\u001b[0m\u001b[0mtree_flatten\u001b[0m\u001b[0;34m,\u001b[0m \u001b[0mnew_states\u001b[0m\u001b[0;34m)\u001b[0m\u001b[0;34m)\u001b[0m\u001b[0;34m\u001b[0m\u001b[0;34m\u001b[0m\u001b[0m\n\u001b[1;32m    153\u001b[0m       \u001b[0;32mfor\u001b[0m \u001b[0msubtree\u001b[0m\u001b[0;34m,\u001b[0m \u001b[0msubtree2\u001b[0m \u001b[0;32min\u001b[0m \u001b[0mzip\u001b[0m\u001b[0;34m(\u001b[0m\u001b[0msubtrees\u001b[0m\u001b[0;34m,\u001b[0m \u001b[0msubtrees2\u001b[0m\u001b[0;34m)\u001b[0m\u001b[0;34m:\u001b[0m\u001b[0;34m\u001b[0m\u001b[0;34m\u001b[0m\u001b[0m\n",
      "\u001b[0;32m/usr/local/lib/python3.6/dist-packages/jax/util.py\u001b[0m in \u001b[0;36msafe_map\u001b[0;34m(f, *args)\u001b[0m\n\u001b[1;32m     32\u001b[0m   \u001b[0;32mfor\u001b[0m \u001b[0marg\u001b[0m \u001b[0;32min\u001b[0m \u001b[0margs\u001b[0m\u001b[0;34m[\u001b[0m\u001b[0;36m1\u001b[0m\u001b[0;34m:\u001b[0m\u001b[0;34m]\u001b[0m\u001b[0;34m:\u001b[0m\u001b[0;34m\u001b[0m\u001b[0;34m\u001b[0m\u001b[0m\n\u001b[1;32m     33\u001b[0m     \u001b[0;32massert\u001b[0m \u001b[0mlen\u001b[0m\u001b[0;34m(\u001b[0m\u001b[0marg\u001b[0m\u001b[0;34m)\u001b[0m \u001b[0;34m==\u001b[0m \u001b[0mn\u001b[0m\u001b[0;34m,\u001b[0m \u001b[0;34m'length mismatch: {}'\u001b[0m\u001b[0;34m.\u001b[0m\u001b[0mformat\u001b[0m\u001b[0;34m(\u001b[0m\u001b[0mlist\u001b[0m\u001b[0;34m(\u001b[0m\u001b[0mmap\u001b[0m\u001b[0;34m(\u001b[0m\u001b[0mlen\u001b[0m\u001b[0;34m,\u001b[0m \u001b[0margs\u001b[0m\u001b[0;34m)\u001b[0m\u001b[0;34m)\u001b[0m\u001b[0;34m)\u001b[0m\u001b[0;34m\u001b[0m\u001b[0;34m\u001b[0m\u001b[0m\n\u001b[0;32m---> 34\u001b[0;31m   \u001b[0;32mreturn\u001b[0m \u001b[0mlist\u001b[0m\u001b[0;34m(\u001b[0m\u001b[0mmap\u001b[0m\u001b[0;34m(\u001b[0m\u001b[0mf\u001b[0m\u001b[0;34m,\u001b[0m \u001b[0;34m*\u001b[0m\u001b[0margs\u001b[0m\u001b[0;34m)\u001b[0m\u001b[0;34m)\u001b[0m\u001b[0;34m\u001b[0m\u001b[0;34m\u001b[0m\u001b[0m\n\u001b[0m\u001b[1;32m     35\u001b[0m \u001b[0;34m\u001b[0m\u001b[0m\n\u001b[1;32m     36\u001b[0m \u001b[0;32mdef\u001b[0m \u001b[0munzip2\u001b[0m\u001b[0;34m(\u001b[0m\u001b[0mxys\u001b[0m\u001b[0;34m)\u001b[0m\u001b[0;34m:\u001b[0m\u001b[0;34m\u001b[0m\u001b[0;34m\u001b[0m\u001b[0m\n",
      "\u001b[0;32m/usr/local/lib/python3.6/dist-packages/jax/experimental/optimizers.py\u001b[0m in \u001b[0;36mupdate\u001b[0;34m(i, g, state)\u001b[0m\n\u001b[1;32m    372\u001b[0m     \u001b[0mmhat\u001b[0m \u001b[0;34m=\u001b[0m \u001b[0mm\u001b[0m \u001b[0;34m/\u001b[0m \u001b[0;34m(\u001b[0m\u001b[0;36m1\u001b[0m \u001b[0;34m-\u001b[0m \u001b[0mb1\u001b[0m \u001b[0;34m**\u001b[0m \u001b[0;34m(\u001b[0m\u001b[0mi\u001b[0m \u001b[0;34m+\u001b[0m \u001b[0;36m1\u001b[0m\u001b[0;34m)\u001b[0m\u001b[0;34m)\u001b[0m  \u001b[0;31m# Bias correction.\u001b[0m\u001b[0;34m\u001b[0m\u001b[0;34m\u001b[0m\u001b[0m\n\u001b[1;32m    373\u001b[0m     \u001b[0mvhat\u001b[0m \u001b[0;34m=\u001b[0m \u001b[0mv\u001b[0m \u001b[0;34m/\u001b[0m \u001b[0;34m(\u001b[0m\u001b[0;36m1\u001b[0m \u001b[0;34m-\u001b[0m \u001b[0mb2\u001b[0m \u001b[0;34m**\u001b[0m \u001b[0;34m(\u001b[0m\u001b[0mi\u001b[0m \u001b[0;34m+\u001b[0m \u001b[0;36m1\u001b[0m\u001b[0;34m)\u001b[0m\u001b[0;34m)\u001b[0m\u001b[0;34m\u001b[0m\u001b[0;34m\u001b[0m\u001b[0m\n\u001b[0;32m--> 374\u001b[0;31m     \u001b[0mx\u001b[0m \u001b[0;34m=\u001b[0m \u001b[0mx\u001b[0m \u001b[0;34m-\u001b[0m \u001b[0mstep_size\u001b[0m\u001b[0;34m(\u001b[0m\u001b[0mi\u001b[0m\u001b[0;34m)\u001b[0m \u001b[0;34m*\u001b[0m \u001b[0mmhat\u001b[0m \u001b[0;34m/\u001b[0m \u001b[0;34m(\u001b[0m\u001b[0mjnp\u001b[0m\u001b[0;34m.\u001b[0m\u001b[0msqrt\u001b[0m\u001b[0;34m(\u001b[0m\u001b[0mvhat\u001b[0m\u001b[0;34m)\u001b[0m \u001b[0;34m+\u001b[0m \u001b[0meps\u001b[0m\u001b[0;34m)\u001b[0m\u001b[0;34m\u001b[0m\u001b[0;34m\u001b[0m\u001b[0m\n\u001b[0m\u001b[1;32m    375\u001b[0m     \u001b[0;32mreturn\u001b[0m \u001b[0mx\u001b[0m\u001b[0;34m,\u001b[0m \u001b[0mm\u001b[0m\u001b[0;34m,\u001b[0m \u001b[0mv\u001b[0m\u001b[0;34m\u001b[0m\u001b[0;34m\u001b[0m\u001b[0m\n\u001b[1;32m    376\u001b[0m   \u001b[0;32mdef\u001b[0m \u001b[0mget_params\u001b[0m\u001b[0;34m(\u001b[0m\u001b[0mstate\u001b[0m\u001b[0;34m)\u001b[0m\u001b[0;34m:\u001b[0m\u001b[0;34m\u001b[0m\u001b[0;34m\u001b[0m\u001b[0m\n",
      "\u001b[0;32m/usr/local/lib/python3.6/dist-packages/jax/numpy/lax_numpy.py\u001b[0m in \u001b[0;36mfn\u001b[0;34m(x)\u001b[0m\n\u001b[1;32m    323\u001b[0m     \u001b[0;32mdef\u001b[0m \u001b[0mfn\u001b[0m\u001b[0;34m(\u001b[0m\u001b[0mx\u001b[0m\u001b[0;34m)\u001b[0m\u001b[0;34m:\u001b[0m\u001b[0;34m\u001b[0m\u001b[0;34m\u001b[0m\u001b[0m\n\u001b[1;32m    324\u001b[0m       \u001b[0mx\u001b[0m \u001b[0;34m=\u001b[0m \u001b[0mlax\u001b[0m\u001b[0;34m.\u001b[0m\u001b[0mconvert_element_type\u001b[0m\u001b[0;34m(\u001b[0m\u001b[0mx\u001b[0m\u001b[0;34m,\u001b[0m \u001b[0m_to_inexact_dtype\u001b[0m\u001b[0;34m(\u001b[0m\u001b[0m_dtype\u001b[0m\u001b[0;34m(\u001b[0m\u001b[0mx\u001b[0m\u001b[0;34m)\u001b[0m\u001b[0;34m)\u001b[0m\u001b[0;34m)\u001b[0m\u001b[0;34m\u001b[0m\u001b[0;34m\u001b[0m\u001b[0m\n\u001b[0;32m--> 325\u001b[0;31m       \u001b[0;32mreturn\u001b[0m \u001b[0mlax_fn\u001b[0m\u001b[0;34m(\u001b[0m\u001b[0mx\u001b[0m\u001b[0;34m)\u001b[0m\u001b[0;34m\u001b[0m\u001b[0;34m\u001b[0m\u001b[0m\n\u001b[0m\u001b[1;32m    326\u001b[0m   \u001b[0;32melse\u001b[0m\u001b[0;34m:\u001b[0m\u001b[0;34m\u001b[0m\u001b[0;34m\u001b[0m\u001b[0m\n\u001b[1;32m    327\u001b[0m     \u001b[0mfn\u001b[0m \u001b[0;34m=\u001b[0m \u001b[0;32mlambda\u001b[0m \u001b[0mx\u001b[0m\u001b[0;34m:\u001b[0m \u001b[0mlax_fn\u001b[0m\u001b[0;34m(\u001b[0m\u001b[0mx\u001b[0m\u001b[0;34m)\u001b[0m\u001b[0;34m\u001b[0m\u001b[0;34m\u001b[0m\u001b[0m\n",
      "\u001b[0;32m/usr/local/lib/python3.6/dist-packages/jax/lax/lax.py\u001b[0m in \u001b[0;36msqrt\u001b[0;34m(x)\u001b[0m\n\u001b[1;32m    270\u001b[0m \u001b[0;32mdef\u001b[0m \u001b[0msqrt\u001b[0m\u001b[0;34m(\u001b[0m\u001b[0mx\u001b[0m\u001b[0;34m:\u001b[0m \u001b[0mArray\u001b[0m\u001b[0;34m)\u001b[0m \u001b[0;34m->\u001b[0m \u001b[0mArray\u001b[0m\u001b[0;34m:\u001b[0m\u001b[0;34m\u001b[0m\u001b[0;34m\u001b[0m\u001b[0m\n\u001b[1;32m    271\u001b[0m   \u001b[0;34mr\"\"\"Elementwise square root: :math:`\\sqrt{x}`.\"\"\"\u001b[0m\u001b[0;34m\u001b[0m\u001b[0;34m\u001b[0m\u001b[0m\n\u001b[0;32m--> 272\u001b[0;31m   \u001b[0;32mreturn\u001b[0m \u001b[0msqrt_p\u001b[0m\u001b[0;34m.\u001b[0m\u001b[0mbind\u001b[0m\u001b[0;34m(\u001b[0m\u001b[0mx\u001b[0m\u001b[0;34m)\u001b[0m\u001b[0;34m\u001b[0m\u001b[0;34m\u001b[0m\u001b[0m\n\u001b[0m\u001b[1;32m    273\u001b[0m \u001b[0;34m\u001b[0m\u001b[0m\n\u001b[1;32m    274\u001b[0m \u001b[0;32mdef\u001b[0m \u001b[0mrsqrt\u001b[0m\u001b[0;34m(\u001b[0m\u001b[0mx\u001b[0m\u001b[0;34m:\u001b[0m \u001b[0mArray\u001b[0m\u001b[0;34m)\u001b[0m \u001b[0;34m->\u001b[0m \u001b[0mArray\u001b[0m\u001b[0;34m:\u001b[0m\u001b[0;34m\u001b[0m\u001b[0;34m\u001b[0m\u001b[0m\n",
      "\u001b[0;32m/usr/local/lib/python3.6/dist-packages/jax/core.py\u001b[0m in \u001b[0;36mbind\u001b[0;34m(self, *args, **kwargs)\u001b[0m\n\u001b[1;32m    271\u001b[0m     \u001b[0mtop_trace\u001b[0m \u001b[0;34m=\u001b[0m \u001b[0mfind_top_trace\u001b[0m\u001b[0;34m(\u001b[0m\u001b[0margs\u001b[0m\u001b[0;34m)\u001b[0m\u001b[0;34m\u001b[0m\u001b[0;34m\u001b[0m\u001b[0m\n\u001b[1;32m    272\u001b[0m     \u001b[0;32mif\u001b[0m \u001b[0mtop_trace\u001b[0m \u001b[0;32mis\u001b[0m \u001b[0;32mNone\u001b[0m\u001b[0;34m:\u001b[0m\u001b[0;34m\u001b[0m\u001b[0;34m\u001b[0m\u001b[0m\n\u001b[0;32m--> 273\u001b[0;31m       \u001b[0;32mreturn\u001b[0m \u001b[0mself\u001b[0m\u001b[0;34m.\u001b[0m\u001b[0mimpl\u001b[0m\u001b[0;34m(\u001b[0m\u001b[0;34m*\u001b[0m\u001b[0margs\u001b[0m\u001b[0;34m,\u001b[0m \u001b[0;34m**\u001b[0m\u001b[0mkwargs\u001b[0m\u001b[0;34m)\u001b[0m\u001b[0;34m\u001b[0m\u001b[0;34m\u001b[0m\u001b[0m\n\u001b[0m\u001b[1;32m    274\u001b[0m \u001b[0;34m\u001b[0m\u001b[0m\n\u001b[1;32m    275\u001b[0m     \u001b[0mtracers\u001b[0m \u001b[0;34m=\u001b[0m \u001b[0mmap\u001b[0m\u001b[0;34m(\u001b[0m\u001b[0mtop_trace\u001b[0m\u001b[0;34m.\u001b[0m\u001b[0mfull_raise\u001b[0m\u001b[0;34m,\u001b[0m \u001b[0margs\u001b[0m\u001b[0;34m)\u001b[0m\u001b[0;34m\u001b[0m\u001b[0;34m\u001b[0m\u001b[0m\n",
      "\u001b[0;32m/usr/local/lib/python3.6/dist-packages/jax/interpreters/xla.py\u001b[0m in \u001b[0;36mapply_primitive\u001b[0;34m(prim, *args, **params)\u001b[0m\n\u001b[1;32m    227\u001b[0m   \u001b[0;34m\"\"\"Impl rule that compiles and runs a single primitive 'prim' using XLA.\"\"\"\u001b[0m\u001b[0;34m\u001b[0m\u001b[0;34m\u001b[0m\u001b[0m\n\u001b[1;32m    228\u001b[0m   \u001b[0mcompiled_fun\u001b[0m \u001b[0;34m=\u001b[0m \u001b[0mxla_primitive_callable\u001b[0m\u001b[0;34m(\u001b[0m\u001b[0mprim\u001b[0m\u001b[0;34m,\u001b[0m \u001b[0;34m*\u001b[0m\u001b[0munsafe_map\u001b[0m\u001b[0;34m(\u001b[0m\u001b[0marg_spec\u001b[0m\u001b[0;34m,\u001b[0m \u001b[0margs\u001b[0m\u001b[0;34m)\u001b[0m\u001b[0;34m,\u001b[0m \u001b[0;34m**\u001b[0m\u001b[0mparams\u001b[0m\u001b[0;34m)\u001b[0m\u001b[0;34m\u001b[0m\u001b[0;34m\u001b[0m\u001b[0m\n\u001b[0;32m--> 229\u001b[0;31m   \u001b[0;32mreturn\u001b[0m \u001b[0mcompiled_fun\u001b[0m\u001b[0;34m(\u001b[0m\u001b[0;34m*\u001b[0m\u001b[0margs\u001b[0m\u001b[0;34m)\u001b[0m\u001b[0;34m\u001b[0m\u001b[0;34m\u001b[0m\u001b[0m\n\u001b[0m\u001b[1;32m    230\u001b[0m \u001b[0;34m\u001b[0m\u001b[0m\n\u001b[1;32m    231\u001b[0m \u001b[0;34m@\u001b[0m\u001b[0mcache\u001b[0m\u001b[0;34m(\u001b[0m\u001b[0;34m)\u001b[0m\u001b[0;34m\u001b[0m\u001b[0;34m\u001b[0m\u001b[0m\n",
      "\u001b[0;32m/usr/local/lib/python3.6/dist-packages/jax/interpreters/xla.py\u001b[0m in \u001b[0;36m_execute_compiled_primitive\u001b[0;34m(prim, compiled, result_handler, *args)\u001b[0m\n\u001b[1;32m    327\u001b[0m   \u001b[0mdevice\u001b[0m\u001b[0;34m,\u001b[0m \u001b[0;34m=\u001b[0m \u001b[0mcompiled\u001b[0m\u001b[0;34m.\u001b[0m\u001b[0mlocal_devices\u001b[0m\u001b[0;34m(\u001b[0m\u001b[0;34m)\u001b[0m\u001b[0;34m\u001b[0m\u001b[0;34m\u001b[0m\u001b[0m\n\u001b[1;32m    328\u001b[0m   \u001b[0minput_bufs\u001b[0m \u001b[0;34m=\u001b[0m \u001b[0;34m[\u001b[0m\u001b[0mdevice_put\u001b[0m\u001b[0;34m(\u001b[0m\u001b[0mx\u001b[0m\u001b[0;34m,\u001b[0m \u001b[0mdevice\u001b[0m\u001b[0;34m)\u001b[0m \u001b[0;32mfor\u001b[0m \u001b[0mx\u001b[0m \u001b[0;32min\u001b[0m \u001b[0margs\u001b[0m \u001b[0;32mif\u001b[0m \u001b[0mx\u001b[0m \u001b[0;32mis\u001b[0m \u001b[0;32mnot\u001b[0m \u001b[0mtoken\u001b[0m\u001b[0;34m]\u001b[0m\u001b[0;34m\u001b[0m\u001b[0;34m\u001b[0m\u001b[0m\n\u001b[0;32m--> 329\u001b[0;31m   \u001b[0mout_bufs\u001b[0m \u001b[0;34m=\u001b[0m \u001b[0mcompiled\u001b[0m\u001b[0;34m.\u001b[0m\u001b[0mexecute\u001b[0m\u001b[0;34m(\u001b[0m\u001b[0minput_bufs\u001b[0m\u001b[0;34m)\u001b[0m\u001b[0;34m\u001b[0m\u001b[0;34m\u001b[0m\u001b[0m\n\u001b[0m\u001b[1;32m    330\u001b[0m   \u001b[0;32mif\u001b[0m \u001b[0mFLAGS\u001b[0m\u001b[0;34m.\u001b[0m\u001b[0mjax_debug_nans\u001b[0m\u001b[0;34m:\u001b[0m\u001b[0;34m\u001b[0m\u001b[0;34m\u001b[0m\u001b[0m\n\u001b[1;32m    331\u001b[0m     \u001b[0mcheck_nans\u001b[0m\u001b[0;34m(\u001b[0m\u001b[0mprim\u001b[0m\u001b[0;34m,\u001b[0m \u001b[0mout_bufs\u001b[0m\u001b[0;34m)\u001b[0m\u001b[0;34m\u001b[0m\u001b[0;34m\u001b[0m\u001b[0m\n",
      "\u001b[0;31mKeyboardInterrupt\u001b[0m: "
     ]
    }
   ],
   "source": [
    "\n",
    "step_size = 0.001\n",
    "batch_size = 128\n",
    "epochs = 50\n",
    "init_fun, opt_update, get_params = adam(step_size=step_size)\n",
    "params = initialize_params(key)\n",
    "true_params = np.array([k, c, m])\n",
    "#params=np.sqrt(true_params)\n",
    "opt_state = init_fun(params)\n",
    "\n",
    "\n",
    "def train_step(params, x, x_dot, x_dot2, f, opt_state, opt_update):\n",
    "  params = get_params(opt_state)\n",
    "  mse, grad = value_and_grad(loss)(params, x, x_dot, x_dot2, f)\n",
    "  opt_state = opt_update(0, grad, opt_state)\n",
    "\n",
    "  return get_params(opt_state), opt_state, mse\n",
    "\n",
    "\n",
    "epoch_errors = []\n",
    "\n",
    "for epoch in range(epochs):\n",
    "\n",
    "  n_batchs = len(x_in)//batch_size\n",
    "  errors = []\n",
    "  \n",
    "  print(\"Epoch\", epoch)\n",
    "  for i in tqdm(range(n_batchs)):\n",
    "    x_batch = x[i*batch_size:((i+1)*batch_size)]\n",
    "    x_dot_batch = x_dot[i*batch_size:((i+1)*batch_size)]\n",
    "    x_dot2_batch = x_dot2[i*batch_size:((i+1)*batch_size)]\n",
    "    f_batch = f[i*batch_size:((i+1)*batch_size)]\n",
    "    params, opt_state, error = train_step(params, x_batch, x_dot_batch, x_dot2_batch, f_batch, opt_state, opt_update)\n",
    "    errors.append(error)\n",
    "  \n",
    "  mean_error = np.mean(np.array(errors))\n",
    "  print(\"Epoch\", epoch, \", mean error:\",mean_error)\n",
    "  \n",
    "  epoch_errors.append(mean_error)\n",
    "  "
   ]
  },
  {
   "cell_type": "code",
   "execution_count": null,
   "metadata": {
    "colab": {
     "base_uri": "https://localhost:8080/",
     "height": 282
    },
    "colab_type": "code",
    "id": "uAPvZyiYq1Hi",
    "outputId": "45d66662-e60c-40c9-f968-b7b4ab4ca0ac"
   },
   "outputs": [
    {
     "data": {
      "text/plain": [
       "[<matplotlib.lines.Line2D at 0x7f6eeea0f1d0>]"
      ]
     },
     "execution_count": 214,
     "metadata": {
      "tags": []
     },
     "output_type": "execute_result"
    },
    {
     "data": {
      "image/png": "[encoded data removed]",
      "text/plain": [
       "<Figure size 432x288 with 1 Axes>"
      ]
     },
     "metadata": {
      "needs_background": "light",
      "tags": []
     },
     "output_type": "display_data"
    }
   ],
   "source": [
    "pred = batch_forward_pass(params, x, x_dot, f)\n",
    "plt.plot(x_dot2, alpha=0.4)\n",
    "plt.plot(pred, alpha=0.4)"
   ]
  },
  {
   "cell_type": "markdown",
   "metadata": {
    "colab_type": "text",
    "id": "ruqgT5sFPt4a"
   },
   "source": [
    "## Lagrange com imposição das variáveis"
   ]
  },
  {
   "cell_type": "code",
   "execution_count": null,
   "metadata": {
    "colab": {},
    "colab_type": "code",
    "id": "RW2HlbkDh7Qx"
   },
   "outputs": [],
   "source": [
    "def neural_network_layer(key, dim_in, dim_out):\n",
    "    w_key, b_key = random.split(key, 2)\n",
    "    return random.normal(w_key, (dim_out, dim_in)), random.normal(b_key, (dim_out,))\n",
    "\n",
    "def neural_network_params(key, layers):\n",
    "\n",
    "    keys = random.split(key, len(layers))\n",
    "    return [neural_network_layer(keys[i], layers[i], layers[i+1]) for i in range(len(layers)-1)]\n",
    "\n",
    "def relu(x):\n",
    "    return np.maximum(x, 0)\n",
    "\n",
    "def forward_neural_network(layers, x, activation_fun=relu):\n",
    "    for w, b in layers[:-1]:\n",
    "      x = np.dot(w, x) + b\n",
    "      x = activation_fun(x)\n",
    "    w, b = layers[-1]\n",
    "    return np.dot(w, x) + b\n",
    "\n",
    "def initialize_params(key, dims=1, potential_network_layers=[1, 100, 10, 1]):\n",
    "    \"\"\" \n",
    "    Inicializa massa m, k e c \n",
    "\n",
    "    Returns\n",
    "      params, list de tamanho 3, contendo arrays de tamanho <dims>\n",
    "      params[0] -> k\n",
    "      params[1] -> c\n",
    "      params[2] @ params[2] -> m\n",
    "\n",
    "    \"\"\"\n",
    "    assert(dims == potential_network_layers[0])\n",
    "\n",
    "    keys = random.split(key, 4)\n",
    "    params = [random.normal(keys[i], [dims, dims]) for i in range(3)]\n",
    "    params[2] = np.tril(params[2])\n",
    "\n",
    "    params.append(neural_network_params(keys[4], layers=potential_network_layers))\n",
    "    return params\n",
    "\n",
    "def lagrangian(params, x, x_dot):\n",
    "  V = x.transpose() @ params[0] @ x / 2 + params[2] @ forward_neural_network(params[3], x)\n",
    "  T = x_dot.transpose() @ (params[2] @ params[2]) @ x_dot / 2\n",
    "  return (T - V)[0]\n",
    "\n",
    "\n",
    "\n",
    "\n",
    "def forward_pass(params, x, x_dot, f):\n",
    "  \"\"\" \n",
    "  Uma instancia de x é do formato [x, x_dot] \n",
    "  Um forward pass estima a aceleração do sistema\n",
    "  \n",
    "  \"\"\"\n",
    "  H = hessian(lagrangian, 2)(params, x, x_dot)\n",
    "  H_inv = jax.numpy.linalg.pinv(H)\n",
    "\n",
    "  return H_inv @ (jacobian(lagrangian, 1)(params, x, x_dot) - jacobian(jacobian(lagrangian, 2), 1)(params, x, x_dot) @ x_dot + f - params[1] @ x_dot)\n",
    "\n",
    "\n",
    "def mse(y_true, y_pred):\n",
    "  diff = y_true - y_pred\n",
    "  return np.mean(np.square(diff))\n",
    "\n",
    "@jit\n",
    "def loss(params, x, x_dot, x_dot2, f):\n",
    "    pred = batch_forward_pass(params, x, x_dot, f)\n",
    "    return mse(x_dot2, pred)\n",
    "\n",
    "\n",
    "batch_forward_pass = vmap(forward_pass, in_axes=(None, 0, 0, 0), out_axes=0)\n",
    "params = initialize_params(key, dims=1)\n",
    "\n",
    "# To column vector\n",
    "x = np.expand_dims(x_in[:, 0], 1)\n",
    "x_dot = np.expand_dims(x_in[:, 1], 1)\n",
    "x_dot2 = x_out\n",
    "f =  np.expand_dims(x_in[:, 2], 1)\n"
   ]
  },
  {
   "cell_type": "code",
   "execution_count": null,
   "metadata": {
    "colab": {
     "base_uri": "https://localhost:8080/",
     "height": 34
    },
    "colab_type": "code",
    "id": "M-pGiZvM3qUj",
    "outputId": "473c6088-740b-4973-ce45-efaf5cb5bb92"
   },
   "outputs": [
    {
     "data": {
      "text/plain": [
       "DeviceArray([11.591677], dtype=float32)"
      ]
     },
     "execution_count": 29,
     "metadata": {
      "tags": []
     },
     "output_type": "execute_result"
    }
   ],
   "source": [
    "forward_neural_network(params[3], x[0])"
   ]
  },
  {
   "cell_type": "code",
   "execution_count": null,
   "metadata": {
    "colab": {
     "base_uri": "https://localhost:8080/",
     "height": 34
    },
    "colab_type": "code",
    "id": "fmRDRwHC47Cp",
    "outputId": "9f713365-f58a-4928-bc40-e4bbba6c3a92"
   },
   "outputs": [
    {
     "data": {
      "text/plain": [
       "DeviceArray(9.512458, dtype=float32)"
      ]
     },
     "execution_count": 30,
     "metadata": {
      "tags": []
     },
     "output_type": "execute_result"
    }
   ],
   "source": [
    "lagrangian(params, x[0], x_dot[0])"
   ]
  },
  {
   "cell_type": "code",
   "execution_count": null,
   "metadata": {
    "colab": {
     "base_uri": "https://localhost:8080/",
     "height": 185
    },
    "colab_type": "code",
    "id": "_AS2HwzQqh_5",
    "outputId": "67a6a578-8c24-4eaa-d555-411150522e39"
   },
   "outputs": [
    {
     "data": {
      "text/plain": [
       "DeviceArray([[-5.003113 ],\n",
       "             [-4.982907 ],\n",
       "             [-4.962744 ],\n",
       "             [-4.942627 ],\n",
       "             [-4.922553 ],\n",
       "             [-4.9025235],\n",
       "             [-4.8825374],\n",
       "             [-4.862596 ],\n",
       "             [-4.8426986],\n",
       "             [-4.822845 ]], dtype=float32)"
      ]
     },
     "execution_count": 31,
     "metadata": {
      "tags": []
     },
     "output_type": "execute_result"
    }
   ],
   "source": [
    "batch_forward_pass(params, x[:10], x_dot[:10], f[:10])"
   ]
  },
  {
   "cell_type": "code",
   "execution_count": null,
   "metadata": {
    "colab": {},
    "colab_type": "code",
    "id": "HMYsnp3lktsg"
   },
   "outputs": [],
   "source": [
    "val, grad = value_and_grad(loss)(params, x[:10], x_dot[:10], x_dot2[:10], f[:10])"
   ]
  },
  {
   "cell_type": "code",
   "execution_count": null,
   "metadata": {
    "colab": {
     "base_uri": "https://localhost:8080/",
     "height": 1000,
     "referenced_widgets": [
      "ec6dee7ae02a4adaa25ea87ff64c0756",
      "a82a2205564040569c5050564a3b898d",
      "0f5bb9c08143454f80894e7d932168b0",
      "dd0c8aff73424d09a1cb557f70132847",
      "b5988a4fb2db46e0932c65f2fec437ed",
      "ce60b110a89a4acba7006230b977c476",
      "6587d80efb224b84a0f6d2f7d43b724f",
      "2d1d9b29c74a472cacad11052ff05c4e",
      "f55686372e0b49fdaa2be4aff8a7bab8",
      "5ed791581ca14e7db4f4cb4ec4febef8",
      "6396d7c41109478990ffab69bb0eb5de",
      "a96c2dd543ca4e02add3c667161468c3",
      "89716678dda446869414ea1f18915f2d",
      "3b7578a06b7f45ec9d476863d0fee729",
      "ceb3d243546340e0ae628e26875d1461",
      "4d028f7478674a3485f6a75d7a9dedbe",
      "7aa50473e0eb402980fd3524cc3a92cf",
      "518d6f9e0fc24fedbf5f77b084fb5de7",
      "a088c74d4bdb42e691d6ef70d2b705be",
      "3c6601a6eef2461693960ca681dbd8ce",
      "4e40c31542184c8fbec88d688fc1542d",
      "6c1742ffbe0c4bf48bec6054789ed127",
      "74c02120090b47539d66559ec56d327f",
      "c2b0de7c90f64d1fa2746068b8334199",
      "5852c36e894d4292aff5ca497adbddf7",
      "4906e4dee8b344089307871898f7cb0a",
      "e65715f72da9428eac11e5a743bec522",
      "ba0ca4b67fac478ebbb7b56b90528b99",
      "98060709113c423bbcd6812baf15a012",
      "2d2def98dfbd4de8bb205acefb7c2232",
      "ae66aa1c7e2c46d78400836504ace9f3",
      "56add1313dca4bdba351f80ff5fd6d82",
      "ea01d1a99d3048e5a6d93de79e22e06b",
      "fb6d23782036401dbfa7e1f9cda91589",
      "e2a09163c60d41d48af486ea16405e35",
      "0347d0ed95d84d5ba692d125305cc745",
      "6df0e1359d6c46a89c2c1451d91bb943",
      "cc4991dd28e2452fb1797f7f762b4faf",
      "72b281422e4244cf994f43e1fa600bc9",
      "277b34b4f85a44bdada6c797d89d7a12",
      "4de3437959d1490eb191ffb5e0ffb847",
      "0d3ec1bbc6a545c08f62209352111aaa",
      "3bc62842ff4143c9a7f4041dbaebd35c",
      "688e6704c0ea49fbb70d52b5786defca",
      "6071aa6cd13743899c32d64af3f747a6",
      "da492ee3e06e4a158fd69f2947429817",
      "6e6642a6ec954d338e2715d5a8e28a56",
      "e6bb350a79e7453ea1b5b5150799c6c3",
      "b9143627c2914ac3a109cd13c5b2f507",
      "dc7dbff13d644297bcac706a74d12bdd",
      "95e331059d5a4285a3edc0f8589cb535",
      "84f7ee7a55ef440180fb3a121d60bfd6",
      "5a9447e6847f422eb01466b3a323e12f",
      "42e956a738a547abbadb45829763e648",
      "e6fa96e92c354060963091dd4004b46d",
      "76d0a38d6fae49f582f2591025ced23e",
      "98ac84ec75f5434ea29facd02fd57c22",
      "d814689f7eda44b5a7bc7b89131380e1",
      "b2b9c37b3b084519a2ccdc71e78d5470",
      "680315b28b004c1588af34c74b74e302",
      "3fc4b4389fc74775882f5967484e9aa8",
      "ddc4d8a858cf4a9ab9c8ed745bdea624",
      "f20afc1651e64d1bb1193b80755148fd",
      "274fe4f3055c46998b403b9bb0f87632",
      "a1d04a6265bd4b1c816b647f91634170",
      "0a867b01d41f4b7f971c6808e454f664",
      "340a5f0f00cf442e8b02f22e30473a4c",
      "7be69bcaead845a38604f1af14881b3c",
      "a25bc026eb1b441b82fcc83251197ddd",
      "278c67d948e34d8b83a0c8d25f3dd65d",
      "e42b96004e5e46688160e0422c32f388",
      "3d49194fe7bb45639e1a69d8e7bbe77d",
      "4f1e0fcaad464c749215496eb31d2a70",
      "ecaabba5775e4a1eac9607052b0010cf",
      "99b30bca97e64925855dc61ad3f6183e",
      "dfda9e011a6e498890e9157f4e529911",
      "61d42631c27e4e7899a525a520f3db8d",
      "9f86aef1e25f4d24a926e2dbff1d9d3c",
      "6e23e369238a4297b6d83a2fdf51c9ec",
      "b8a4c12a150a44bb9e79b2bd593eda78"
     ]
    },
    "colab_type": "code",
    "id": "KrLV1qKvxDp-",
    "outputId": "8b7d3719-67f6-4501-a403-f228c50d30e9"
   },
   "outputs": [
    {
     "name": "stdout",
     "output_type": "stream",
     "text": [
      "Param error: 0.991143\n",
      "Epoch 0\n"
     ]
    },
    {
     "data": {
      "application/vnd.jupyter.widget-view+json": {
       "model_id": "ec6dee7ae02a4adaa25ea87ff64c0756",
       "version_major": 2,
       "version_minor": 0
      },
      "text/plain": [
       "HBox(children=(FloatProgress(value=0.0, max=1562.0), HTML(value='')))"
      ]
     },
     "metadata": {
      "tags": []
     },
     "output_type": "display_data"
    },
    {
     "name": "stdout",
     "output_type": "stream",
     "text": [
      "\n",
      "Epoch 0 , mean error: 2.610826 , params: [-0.02033757  2.292048   -1.7713695 ] \n",
      "Param error: 2.4636068\n",
      "Epoch 1\n"
     ]
    },
    {
     "data": {
      "application/vnd.jupyter.widget-view+json": {
       "model_id": "f55686372e0b49fdaa2be4aff8a7bab8",
       "version_major": 2,
       "version_minor": 0
      },
      "text/plain": [
       "HBox(children=(FloatProgress(value=0.0, max=1562.0), HTML(value='')))"
      ]
     },
     "metadata": {
      "tags": []
     },
     "output_type": "display_data"
    },
    {
     "name": "stdout",
     "output_type": "stream",
     "text": [
      "\n",
      "Epoch 1 , mean error: 1.1574622 , params: [-0.02038167  1.7157559  -1.1465678 ] \n",
      "Param error: 1.086007\n",
      "Epoch 2\n"
     ]
    },
    {
     "data": {
      "application/vnd.jupyter.widget-view+json": {
       "model_id": "7aa50473e0eb402980fd3524cc3a92cf",
       "version_major": 2,
       "version_minor": 0
      },
      "text/plain": [
       "HBox(children=(FloatProgress(value=0.0, max=1562.0), HTML(value='')))"
      ]
     },
     "metadata": {
      "tags": []
     },
     "output_type": "display_data"
    },
    {
     "name": "stdout",
     "output_type": "stream",
     "text": [
      "\n",
      "Epoch 2 , mean error: 14.52302 , params: [-0.02031001  2.4722698  -2.2412136 ] \n",
      "Param error: 3.378248\n",
      "Epoch 3\n"
     ]
    },
    {
     "data": {
      "application/vnd.jupyter.widget-view+json": {
       "model_id": "5852c36e894d4292aff5ca497adbddf7",
       "version_major": 2,
       "version_minor": 0
      },
      "text/plain": [
       "HBox(children=(FloatProgress(value=0.0, max=1562.0), HTML(value='')))"
      ]
     },
     "metadata": {
      "tags": []
     },
     "output_type": "display_data"
    },
    {
     "name": "stdout",
     "output_type": "stream",
     "text": [
      "\n",
      "Epoch 3 , mean error: 1.685457 , params: [-0.02030975  2.8584802  -2.208791  ] \n",
      "Param error: 4.016418\n",
      "Epoch 4\n"
     ]
    },
    {
     "data": {
      "application/vnd.jupyter.widget-view+json": {
       "model_id": "ea01d1a99d3048e5a6d93de79e22e06b",
       "version_major": 2,
       "version_minor": 0
      },
      "text/plain": [
       "HBox(children=(FloatProgress(value=0.0, max=1562.0), HTML(value='')))"
      ]
     },
     "metadata": {
      "tags": []
     },
     "output_type": "display_data"
    },
    {
     "name": "stdout",
     "output_type": "stream",
     "text": [
      "\n",
      "Epoch 4 , mean error: 1.5234721 , params: [ 0.00508547  2.7174697  -2.116994  ] \n",
      "Param error: 3.6220932\n",
      "Epoch 5\n"
     ]
    },
    {
     "data": {
      "application/vnd.jupyter.widget-view+json": {
       "model_id": "4de3437959d1490eb191ffb5e0ffb847",
       "version_major": 2,
       "version_minor": 0
      },
      "text/plain": [
       "HBox(children=(FloatProgress(value=0.0, max=1562.0), HTML(value='')))"
      ]
     },
     "metadata": {
      "tags": []
     },
     "output_type": "display_data"
    },
    {
     "name": "stdout",
     "output_type": "stream",
     "text": [
      "\n",
      "Epoch 5 , mean error: 1.4215415 , params: [-0.02034033  2.4370873  -1.8648646 ] \n",
      "Param error: 2.8055668\n",
      "Epoch 6\n"
     ]
    },
    {
     "data": {
      "application/vnd.jupyter.widget-view+json": {
       "model_id": "b9143627c2914ac3a109cd13c5b2f507",
       "version_major": 2,
       "version_minor": 0
      },
      "text/plain": [
       "HBox(children=(FloatProgress(value=0.0, max=1562.0), HTML(value='')))"
      ]
     },
     "metadata": {
      "tags": []
     },
     "output_type": "display_data"
    },
    {
     "name": "stdout",
     "output_type": "stream",
     "text": [
      "\n",
      "Epoch 6 , mean error: 1.1607076 , params: [-0.02024745  2.1432734  -1.0232913 ] \n",
      "Param error: 1.5467787\n",
      "Epoch 7\n"
     ]
    },
    {
     "data": {
      "application/vnd.jupyter.widget-view+json": {
       "model_id": "98ac84ec75f5434ea29facd02fd57c22",
       "version_major": 2,
       "version_minor": 0
      },
      "text/plain": [
       "HBox(children=(FloatProgress(value=0.0, max=1562.0), HTML(value='')))"
      ]
     },
     "metadata": {
      "tags": []
     },
     "output_type": "display_data"
    },
    {
     "name": "stdout",
     "output_type": "stream",
     "text": [
      "\n",
      "Epoch 7 , mean error: 1.4724212 , params: [-0.02043908  0.69904757 -1.0132965 ] \n",
      "Param error: 0.51256156\n",
      "Epoch 8\n"
     ]
    },
    {
     "data": {
      "application/vnd.jupyter.widget-view+json": {
       "model_id": "a1d04a6265bd4b1c816b647f91634170",
       "version_major": 2,
       "version_minor": 0
      },
      "text/plain": [
       "HBox(children=(FloatProgress(value=0.0, max=1562.0), HTML(value='')))"
      ]
     },
     "metadata": {
      "tags": []
     },
     "output_type": "display_data"
    },
    {
     "name": "stdout",
     "output_type": "stream",
     "text": [
      "\n",
      "Epoch 8 , mean error: 1.776231 , params: [-0.02042021  0.15061109 -1.5069246 ] \n",
      "Param error: 1.0825738\n",
      "Epoch 9\n"
     ]
    },
    {
     "data": {
      "application/vnd.jupyter.widget-view+json": {
       "model_id": "4f1e0fcaad464c749215496eb31d2a70",
       "version_major": 2,
       "version_minor": 0
      },
      "text/plain": [
       "HBox(children=(FloatProgress(value=0.0, max=1562.0), HTML(value='')))"
      ]
     },
     "metadata": {
      "tags": []
     },
     "output_type": "display_data"
    },
    {
     "ename": "KeyboardInterrupt",
     "evalue": "ignored",
     "output_type": "error",
     "traceback": [
      "\u001b[0;31m---------------------------------------------------------------------------\u001b[0m",
      "\u001b[0;31mKeyboardInterrupt\u001b[0m                         Traceback (most recent call last)",
      "\u001b[0;32m<ipython-input-32-2f381fbdb28b>\u001b[0m in \u001b[0;36m<module>\u001b[0;34m()\u001b[0m\n\u001b[1;32m     31\u001b[0m     \u001b[0mx_dot2_batch\u001b[0m \u001b[0;34m=\u001b[0m \u001b[0mx_dot2\u001b[0m\u001b[0;34m[\u001b[0m\u001b[0mi\u001b[0m\u001b[0;34m*\u001b[0m\u001b[0mbatch_size\u001b[0m\u001b[0;34m:\u001b[0m\u001b[0;34m(\u001b[0m\u001b[0;34m(\u001b[0m\u001b[0mi\u001b[0m\u001b[0;34m+\u001b[0m\u001b[0;36m1\u001b[0m\u001b[0;34m)\u001b[0m\u001b[0;34m*\u001b[0m\u001b[0mbatch_size\u001b[0m\u001b[0;34m)\u001b[0m\u001b[0;34m]\u001b[0m\u001b[0;34m\u001b[0m\u001b[0;34m\u001b[0m\u001b[0m\n\u001b[1;32m     32\u001b[0m     \u001b[0mf_batch\u001b[0m \u001b[0;34m=\u001b[0m \u001b[0mf\u001b[0m\u001b[0;34m[\u001b[0m\u001b[0mi\u001b[0m\u001b[0;34m*\u001b[0m\u001b[0mbatch_size\u001b[0m\u001b[0;34m:\u001b[0m\u001b[0;34m(\u001b[0m\u001b[0;34m(\u001b[0m\u001b[0mi\u001b[0m\u001b[0;34m+\u001b[0m\u001b[0;36m1\u001b[0m\u001b[0;34m)\u001b[0m\u001b[0;34m*\u001b[0m\u001b[0mbatch_size\u001b[0m\u001b[0;34m)\u001b[0m\u001b[0;34m]\u001b[0m\u001b[0;34m\u001b[0m\u001b[0;34m\u001b[0m\u001b[0m\n\u001b[0;32m---> 33\u001b[0;31m     \u001b[0mparams\u001b[0m\u001b[0;34m,\u001b[0m \u001b[0mopt_state\u001b[0m\u001b[0;34m,\u001b[0m \u001b[0merror\u001b[0m \u001b[0;34m=\u001b[0m \u001b[0mtrain_step\u001b[0m\u001b[0;34m(\u001b[0m\u001b[0mparams\u001b[0m\u001b[0;34m,\u001b[0m \u001b[0mx_batch\u001b[0m\u001b[0;34m,\u001b[0m \u001b[0mx_dot_batch\u001b[0m\u001b[0;34m,\u001b[0m \u001b[0mx_dot2_batch\u001b[0m\u001b[0;34m,\u001b[0m \u001b[0mf_batch\u001b[0m\u001b[0;34m,\u001b[0m \u001b[0mopt_state\u001b[0m\u001b[0;34m,\u001b[0m \u001b[0mopt_update\u001b[0m\u001b[0;34m)\u001b[0m\u001b[0;34m\u001b[0m\u001b[0;34m\u001b[0m\u001b[0m\n\u001b[0m\u001b[1;32m     34\u001b[0m     \u001b[0merrors\u001b[0m\u001b[0;34m.\u001b[0m\u001b[0mappend\u001b[0m\u001b[0;34m(\u001b[0m\u001b[0merror\u001b[0m\u001b[0;34m)\u001b[0m\u001b[0;34m\u001b[0m\u001b[0;34m\u001b[0m\u001b[0m\n\u001b[1;32m     35\u001b[0m \u001b[0;34m\u001b[0m\u001b[0m\n",
      "\u001b[0;32m<ipython-input-32-2f381fbdb28b>\u001b[0m in \u001b[0;36mtrain_step\u001b[0;34m(params, x, x_dot, x_dot2, f, opt_state, opt_update)\u001b[0m\n\u001b[1;32m     12\u001b[0m   \u001b[0mparams\u001b[0m \u001b[0;34m=\u001b[0m \u001b[0mget_params\u001b[0m\u001b[0;34m(\u001b[0m\u001b[0mopt_state\u001b[0m\u001b[0;34m)\u001b[0m\u001b[0;34m\u001b[0m\u001b[0;34m\u001b[0m\u001b[0m\n\u001b[1;32m     13\u001b[0m   \u001b[0mmse\u001b[0m\u001b[0;34m,\u001b[0m \u001b[0mgrad\u001b[0m \u001b[0;34m=\u001b[0m \u001b[0mvalue_and_grad\u001b[0m\u001b[0;34m(\u001b[0m\u001b[0mloss\u001b[0m\u001b[0;34m)\u001b[0m\u001b[0;34m(\u001b[0m\u001b[0mparams\u001b[0m\u001b[0;34m,\u001b[0m \u001b[0mx\u001b[0m\u001b[0;34m,\u001b[0m \u001b[0mx_dot\u001b[0m\u001b[0;34m,\u001b[0m \u001b[0mx_dot2\u001b[0m\u001b[0;34m,\u001b[0m \u001b[0mf\u001b[0m\u001b[0;34m)\u001b[0m\u001b[0;34m\u001b[0m\u001b[0;34m\u001b[0m\u001b[0m\n\u001b[0;32m---> 14\u001b[0;31m   \u001b[0mopt_state\u001b[0m \u001b[0;34m=\u001b[0m \u001b[0mopt_update\u001b[0m\u001b[0;34m(\u001b[0m\u001b[0;36m0\u001b[0m\u001b[0;34m,\u001b[0m \u001b[0mgrad\u001b[0m\u001b[0;34m,\u001b[0m \u001b[0mopt_state\u001b[0m\u001b[0;34m)\u001b[0m\u001b[0;34m\u001b[0m\u001b[0;34m\u001b[0m\u001b[0m\n\u001b[0m\u001b[1;32m     15\u001b[0m \u001b[0;34m\u001b[0m\u001b[0m\n\u001b[1;32m     16\u001b[0m   \u001b[0;32mreturn\u001b[0m \u001b[0mget_params\u001b[0m\u001b[0;34m(\u001b[0m\u001b[0mopt_state\u001b[0m\u001b[0;34m)\u001b[0m\u001b[0;34m,\u001b[0m \u001b[0mopt_state\u001b[0m\u001b[0;34m,\u001b[0m \u001b[0mmse\u001b[0m\u001b[0;34m\u001b[0m\u001b[0;34m\u001b[0m\u001b[0m\n",
      "\u001b[0;32m/usr/local/lib/python3.6/dist-packages/jax/experimental/optimizers.py\u001b[0m in \u001b[0;36mtree_update\u001b[0;34m(i, grad_tree, opt_state)\u001b[0m\n\u001b[1;32m    149\u001b[0m         \u001b[0;32mraise\u001b[0m \u001b[0mTypeError\u001b[0m\u001b[0;34m(\u001b[0m\u001b[0mmsg\u001b[0m\u001b[0;34m.\u001b[0m\u001b[0mformat\u001b[0m\u001b[0;34m(\u001b[0m\u001b[0mtree\u001b[0m\u001b[0;34m,\u001b[0m \u001b[0mtree2\u001b[0m\u001b[0;34m)\u001b[0m\u001b[0;34m)\u001b[0m\u001b[0;34m\u001b[0m\u001b[0;34m\u001b[0m\u001b[0m\n\u001b[1;32m    150\u001b[0m       \u001b[0mstates\u001b[0m \u001b[0;34m=\u001b[0m \u001b[0mmap\u001b[0m\u001b[0;34m(\u001b[0m\u001b[0mtree_unflatten\u001b[0m\u001b[0;34m,\u001b[0m \u001b[0msubtrees\u001b[0m\u001b[0;34m,\u001b[0m \u001b[0mstates_flat\u001b[0m\u001b[0;34m)\u001b[0m\u001b[0;34m\u001b[0m\u001b[0;34m\u001b[0m\u001b[0m\n\u001b[0;32m--> 151\u001b[0;31m       \u001b[0mnew_states\u001b[0m \u001b[0;34m=\u001b[0m \u001b[0mmap\u001b[0m\u001b[0;34m(\u001b[0m\u001b[0mpartial\u001b[0m\u001b[0;34m(\u001b[0m\u001b[0mupdate\u001b[0m\u001b[0;34m,\u001b[0m \u001b[0mi\u001b[0m\u001b[0;34m)\u001b[0m\u001b[0;34m,\u001b[0m \u001b[0mgrad_flat\u001b[0m\u001b[0;34m,\u001b[0m \u001b[0mstates\u001b[0m\u001b[0;34m)\u001b[0m\u001b[0;34m\u001b[0m\u001b[0;34m\u001b[0m\u001b[0m\n\u001b[0m\u001b[1;32m    152\u001b[0m       \u001b[0mnew_states_flat\u001b[0m\u001b[0;34m,\u001b[0m \u001b[0msubtrees2\u001b[0m \u001b[0;34m=\u001b[0m \u001b[0munzip2\u001b[0m\u001b[0;34m(\u001b[0m\u001b[0mmap\u001b[0m\u001b[0;34m(\u001b[0m\u001b[0mtree_flatten\u001b[0m\u001b[0;34m,\u001b[0m \u001b[0mnew_states\u001b[0m\u001b[0;34m)\u001b[0m\u001b[0;34m)\u001b[0m\u001b[0;34m\u001b[0m\u001b[0;34m\u001b[0m\u001b[0m\n\u001b[1;32m    153\u001b[0m       \u001b[0;32mfor\u001b[0m \u001b[0msubtree\u001b[0m\u001b[0;34m,\u001b[0m \u001b[0msubtree2\u001b[0m \u001b[0;32min\u001b[0m \u001b[0mzip\u001b[0m\u001b[0;34m(\u001b[0m\u001b[0msubtrees\u001b[0m\u001b[0;34m,\u001b[0m \u001b[0msubtrees2\u001b[0m\u001b[0;34m)\u001b[0m\u001b[0;34m:\u001b[0m\u001b[0;34m\u001b[0m\u001b[0;34m\u001b[0m\u001b[0m\n",
      "\u001b[0;32m/usr/local/lib/python3.6/dist-packages/jax/util.py\u001b[0m in \u001b[0;36msafe_map\u001b[0;34m(f, *args)\u001b[0m\n\u001b[1;32m     32\u001b[0m   \u001b[0;32mfor\u001b[0m \u001b[0marg\u001b[0m \u001b[0;32min\u001b[0m \u001b[0margs\u001b[0m\u001b[0;34m[\u001b[0m\u001b[0;36m1\u001b[0m\u001b[0;34m:\u001b[0m\u001b[0;34m]\u001b[0m\u001b[0;34m:\u001b[0m\u001b[0;34m\u001b[0m\u001b[0;34m\u001b[0m\u001b[0m\n\u001b[1;32m     33\u001b[0m     \u001b[0;32massert\u001b[0m \u001b[0mlen\u001b[0m\u001b[0;34m(\u001b[0m\u001b[0marg\u001b[0m\u001b[0;34m)\u001b[0m \u001b[0;34m==\u001b[0m \u001b[0mn\u001b[0m\u001b[0;34m,\u001b[0m \u001b[0;34m'length mismatch: {}'\u001b[0m\u001b[0;34m.\u001b[0m\u001b[0mformat\u001b[0m\u001b[0;34m(\u001b[0m\u001b[0mlist\u001b[0m\u001b[0;34m(\u001b[0m\u001b[0mmap\u001b[0m\u001b[0;34m(\u001b[0m\u001b[0mlen\u001b[0m\u001b[0;34m,\u001b[0m \u001b[0margs\u001b[0m\u001b[0;34m)\u001b[0m\u001b[0;34m)\u001b[0m\u001b[0;34m)\u001b[0m\u001b[0;34m\u001b[0m\u001b[0;34m\u001b[0m\u001b[0m\n\u001b[0;32m---> 34\u001b[0;31m   \u001b[0;32mreturn\u001b[0m \u001b[0mlist\u001b[0m\u001b[0;34m(\u001b[0m\u001b[0mmap\u001b[0m\u001b[0;34m(\u001b[0m\u001b[0mf\u001b[0m\u001b[0;34m,\u001b[0m \u001b[0;34m*\u001b[0m\u001b[0margs\u001b[0m\u001b[0;34m)\u001b[0m\u001b[0;34m)\u001b[0m\u001b[0;34m\u001b[0m\u001b[0;34m\u001b[0m\u001b[0m\n\u001b[0m\u001b[1;32m     35\u001b[0m \u001b[0;34m\u001b[0m\u001b[0m\n\u001b[1;32m     36\u001b[0m \u001b[0;32mdef\u001b[0m \u001b[0munzip2\u001b[0m\u001b[0;34m(\u001b[0m\u001b[0mxys\u001b[0m\u001b[0;34m)\u001b[0m\u001b[0;34m:\u001b[0m\u001b[0;34m\u001b[0m\u001b[0;34m\u001b[0m\u001b[0m\n",
      "\u001b[0;32m/usr/local/lib/python3.6/dist-packages/jax/experimental/optimizers.py\u001b[0m in \u001b[0;36mupdate\u001b[0;34m(i, g, state)\u001b[0m\n\u001b[1;32m    369\u001b[0m     \u001b[0mx\u001b[0m\u001b[0;34m,\u001b[0m \u001b[0mm\u001b[0m\u001b[0;34m,\u001b[0m \u001b[0mv\u001b[0m \u001b[0;34m=\u001b[0m \u001b[0mstate\u001b[0m\u001b[0;34m\u001b[0m\u001b[0;34m\u001b[0m\u001b[0m\n\u001b[1;32m    370\u001b[0m     \u001b[0mm\u001b[0m \u001b[0;34m=\u001b[0m \u001b[0;34m(\u001b[0m\u001b[0;36m1\u001b[0m \u001b[0;34m-\u001b[0m \u001b[0mb1\u001b[0m\u001b[0;34m)\u001b[0m \u001b[0;34m*\u001b[0m \u001b[0mg\u001b[0m \u001b[0;34m+\u001b[0m \u001b[0mb1\u001b[0m \u001b[0;34m*\u001b[0m \u001b[0mm\u001b[0m  \u001b[0;31m# First  moment estimate.\u001b[0m\u001b[0;34m\u001b[0m\u001b[0;34m\u001b[0m\u001b[0m\n\u001b[0;32m--> 371\u001b[0;31m     \u001b[0mv\u001b[0m \u001b[0;34m=\u001b[0m \u001b[0;34m(\u001b[0m\u001b[0;36m1\u001b[0m \u001b[0;34m-\u001b[0m \u001b[0mb2\u001b[0m\u001b[0;34m)\u001b[0m \u001b[0;34m*\u001b[0m \u001b[0mjnp\u001b[0m\u001b[0;34m.\u001b[0m\u001b[0msquare\u001b[0m\u001b[0;34m(\u001b[0m\u001b[0mg\u001b[0m\u001b[0;34m)\u001b[0m \u001b[0;34m+\u001b[0m \u001b[0mb2\u001b[0m \u001b[0;34m*\u001b[0m \u001b[0mv\u001b[0m  \u001b[0;31m# Second moment estimate.\u001b[0m\u001b[0;34m\u001b[0m\u001b[0;34m\u001b[0m\u001b[0m\n\u001b[0m\u001b[1;32m    372\u001b[0m     \u001b[0mmhat\u001b[0m \u001b[0;34m=\u001b[0m \u001b[0mm\u001b[0m \u001b[0;34m/\u001b[0m \u001b[0;34m(\u001b[0m\u001b[0;36m1\u001b[0m \u001b[0;34m-\u001b[0m \u001b[0mb1\u001b[0m \u001b[0;34m**\u001b[0m \u001b[0;34m(\u001b[0m\u001b[0mi\u001b[0m \u001b[0;34m+\u001b[0m \u001b[0;36m1\u001b[0m\u001b[0;34m)\u001b[0m\u001b[0;34m)\u001b[0m  \u001b[0;31m# Bias correction.\u001b[0m\u001b[0;34m\u001b[0m\u001b[0;34m\u001b[0m\u001b[0m\n\u001b[1;32m    373\u001b[0m     \u001b[0mvhat\u001b[0m \u001b[0;34m=\u001b[0m \u001b[0mv\u001b[0m \u001b[0;34m/\u001b[0m \u001b[0;34m(\u001b[0m\u001b[0;36m1\u001b[0m \u001b[0;34m-\u001b[0m \u001b[0mb2\u001b[0m \u001b[0;34m**\u001b[0m \u001b[0;34m(\u001b[0m\u001b[0mi\u001b[0m \u001b[0;34m+\u001b[0m \u001b[0;36m1\u001b[0m\u001b[0;34m)\u001b[0m\u001b[0;34m)\u001b[0m\u001b[0;34m\u001b[0m\u001b[0;34m\u001b[0m\u001b[0m\n",
      "\u001b[0;32m/usr/local/lib/python3.6/dist-packages/jax/numpy/lax_numpy.py\u001b[0m in \u001b[0;36mdeferring_binary_op\u001b[0;34m(self, other)\u001b[0m\n\u001b[1;32m   4257\u001b[0m     \u001b[0;32mif\u001b[0m \u001b[0;32mnot\u001b[0m \u001b[0misinstance\u001b[0m\u001b[0;34m(\u001b[0m\u001b[0mother\u001b[0m\u001b[0;34m,\u001b[0m \u001b[0m_scalar_types\u001b[0m \u001b[0;34m+\u001b[0m \u001b[0m_arraylike_types\u001b[0m \u001b[0;34m+\u001b[0m \u001b[0;34m(\u001b[0m\u001b[0mcore\u001b[0m\u001b[0;34m.\u001b[0m\u001b[0mTracer\u001b[0m\u001b[0;34m,\u001b[0m\u001b[0;34m)\u001b[0m\u001b[0;34m)\u001b[0m\u001b[0;34m:\u001b[0m\u001b[0;34m\u001b[0m\u001b[0;34m\u001b[0m\u001b[0m\n\u001b[1;32m   4258\u001b[0m       \u001b[0;32mreturn\u001b[0m \u001b[0mNotImplemented\u001b[0m\u001b[0;34m\u001b[0m\u001b[0;34m\u001b[0m\u001b[0m\n\u001b[0;32m-> 4259\u001b[0;31m     \u001b[0;32mreturn\u001b[0m \u001b[0mbinary_op\u001b[0m\u001b[0;34m(\u001b[0m\u001b[0mself\u001b[0m\u001b[0;34m,\u001b[0m \u001b[0mother\u001b[0m\u001b[0;34m)\u001b[0m\u001b[0;34m\u001b[0m\u001b[0;34m\u001b[0m\u001b[0m\n\u001b[0m\u001b[1;32m   4260\u001b[0m   \u001b[0;32mreturn\u001b[0m \u001b[0mdeferring_binary_op\u001b[0m\u001b[0;34m\u001b[0m\u001b[0;34m\u001b[0m\u001b[0m\n\u001b[1;32m   4261\u001b[0m \u001b[0;34m\u001b[0m\u001b[0m\n",
      "\u001b[0;32m/usr/local/lib/python3.6/dist-packages/jax/numpy/lax_numpy.py\u001b[0m in \u001b[0;36mfn\u001b[0;34m(x1, x2)\u001b[0m\n\u001b[1;32m    338\u001b[0m   \u001b[0;32mdef\u001b[0m \u001b[0mfn\u001b[0m\u001b[0;34m(\u001b[0m\u001b[0mx1\u001b[0m\u001b[0;34m,\u001b[0m \u001b[0mx2\u001b[0m\u001b[0;34m)\u001b[0m\u001b[0;34m:\u001b[0m\u001b[0;34m\u001b[0m\u001b[0;34m\u001b[0m\u001b[0m\n\u001b[1;32m    339\u001b[0m     \u001b[0mx1\u001b[0m\u001b[0;34m,\u001b[0m \u001b[0mx2\u001b[0m \u001b[0;34m=\u001b[0m \u001b[0m_promote_args\u001b[0m\u001b[0;34m(\u001b[0m\u001b[0mnumpy_fn\u001b[0m\u001b[0;34m.\u001b[0m\u001b[0m__name__\u001b[0m\u001b[0;34m,\u001b[0m \u001b[0mx1\u001b[0m\u001b[0;34m,\u001b[0m \u001b[0mx2\u001b[0m\u001b[0;34m)\u001b[0m\u001b[0;34m\u001b[0m\u001b[0;34m\u001b[0m\u001b[0m\n\u001b[0;32m--> 340\u001b[0;31m     \u001b[0;32mreturn\u001b[0m \u001b[0mlax_fn\u001b[0m\u001b[0;34m(\u001b[0m\u001b[0mx1\u001b[0m\u001b[0;34m,\u001b[0m \u001b[0mx2\u001b[0m\u001b[0;34m)\u001b[0m \u001b[0;32mif\u001b[0m \u001b[0mx1\u001b[0m\u001b[0;34m.\u001b[0m\u001b[0mdtype\u001b[0m \u001b[0;34m!=\u001b[0m \u001b[0mbool_\u001b[0m \u001b[0;32melse\u001b[0m \u001b[0mbool_lax_fn\u001b[0m\u001b[0;34m(\u001b[0m\u001b[0mx1\u001b[0m\u001b[0;34m,\u001b[0m \u001b[0mx2\u001b[0m\u001b[0;34m)\u001b[0m\u001b[0;34m\u001b[0m\u001b[0;34m\u001b[0m\u001b[0m\n\u001b[0m\u001b[1;32m    341\u001b[0m   \u001b[0;32mreturn\u001b[0m \u001b[0m_wraps\u001b[0m\u001b[0;34m(\u001b[0m\u001b[0mnumpy_fn\u001b[0m\u001b[0;34m)\u001b[0m\u001b[0;34m(\u001b[0m\u001b[0mfn\u001b[0m\u001b[0;34m)\u001b[0m\u001b[0;34m\u001b[0m\u001b[0;34m\u001b[0m\u001b[0m\n\u001b[1;32m    342\u001b[0m \u001b[0;34m\u001b[0m\u001b[0m\n",
      "\u001b[0;32m/usr/local/lib/python3.6/dist-packages/jax/lax/lax.py\u001b[0m in \u001b[0;36mmul\u001b[0;34m(x, y)\u001b[0m\n\u001b[1;32m    306\u001b[0m \u001b[0;32mdef\u001b[0m \u001b[0mmul\u001b[0m\u001b[0;34m(\u001b[0m\u001b[0mx\u001b[0m\u001b[0;34m:\u001b[0m \u001b[0mArray\u001b[0m\u001b[0;34m,\u001b[0m \u001b[0my\u001b[0m\u001b[0;34m:\u001b[0m \u001b[0mArray\u001b[0m\u001b[0;34m)\u001b[0m \u001b[0;34m->\u001b[0m \u001b[0mArray\u001b[0m\u001b[0;34m:\u001b[0m\u001b[0;34m\u001b[0m\u001b[0;34m\u001b[0m\u001b[0m\n\u001b[1;32m    307\u001b[0m   \u001b[0;34mr\"\"\"Elementwise multiplication: :math:`x \\times y`.\"\"\"\u001b[0m\u001b[0;34m\u001b[0m\u001b[0;34m\u001b[0m\u001b[0m\n\u001b[0;32m--> 308\u001b[0;31m   \u001b[0;32mreturn\u001b[0m \u001b[0mmul_p\u001b[0m\u001b[0;34m.\u001b[0m\u001b[0mbind\u001b[0m\u001b[0;34m(\u001b[0m\u001b[0mx\u001b[0m\u001b[0;34m,\u001b[0m \u001b[0my\u001b[0m\u001b[0;34m)\u001b[0m\u001b[0;34m\u001b[0m\u001b[0;34m\u001b[0m\u001b[0m\n\u001b[0m\u001b[1;32m    309\u001b[0m \u001b[0;34m\u001b[0m\u001b[0m\n\u001b[1;32m    310\u001b[0m \u001b[0;32mdef\u001b[0m \u001b[0mdiv\u001b[0m\u001b[0;34m(\u001b[0m\u001b[0mx\u001b[0m\u001b[0;34m:\u001b[0m \u001b[0mArray\u001b[0m\u001b[0;34m,\u001b[0m \u001b[0my\u001b[0m\u001b[0;34m:\u001b[0m \u001b[0mArray\u001b[0m\u001b[0;34m)\u001b[0m \u001b[0;34m->\u001b[0m \u001b[0mArray\u001b[0m\u001b[0;34m:\u001b[0m\u001b[0;34m\u001b[0m\u001b[0;34m\u001b[0m\u001b[0m\n",
      "\u001b[0;32m/usr/local/lib/python3.6/dist-packages/jax/core.py\u001b[0m in \u001b[0;36mbind\u001b[0;34m(self, *args, **kwargs)\u001b[0m\n\u001b[1;32m    271\u001b[0m     \u001b[0mtop_trace\u001b[0m \u001b[0;34m=\u001b[0m \u001b[0mfind_top_trace\u001b[0m\u001b[0;34m(\u001b[0m\u001b[0margs\u001b[0m\u001b[0;34m)\u001b[0m\u001b[0;34m\u001b[0m\u001b[0;34m\u001b[0m\u001b[0m\n\u001b[1;32m    272\u001b[0m     \u001b[0;32mif\u001b[0m \u001b[0mtop_trace\u001b[0m \u001b[0;32mis\u001b[0m \u001b[0;32mNone\u001b[0m\u001b[0;34m:\u001b[0m\u001b[0;34m\u001b[0m\u001b[0;34m\u001b[0m\u001b[0m\n\u001b[0;32m--> 273\u001b[0;31m       \u001b[0;32mreturn\u001b[0m \u001b[0mself\u001b[0m\u001b[0;34m.\u001b[0m\u001b[0mimpl\u001b[0m\u001b[0;34m(\u001b[0m\u001b[0;34m*\u001b[0m\u001b[0margs\u001b[0m\u001b[0;34m,\u001b[0m \u001b[0;34m**\u001b[0m\u001b[0mkwargs\u001b[0m\u001b[0;34m)\u001b[0m\u001b[0;34m\u001b[0m\u001b[0;34m\u001b[0m\u001b[0m\n\u001b[0m\u001b[1;32m    274\u001b[0m \u001b[0;34m\u001b[0m\u001b[0m\n\u001b[1;32m    275\u001b[0m     \u001b[0mtracers\u001b[0m \u001b[0;34m=\u001b[0m \u001b[0mmap\u001b[0m\u001b[0;34m(\u001b[0m\u001b[0mtop_trace\u001b[0m\u001b[0;34m.\u001b[0m\u001b[0mfull_raise\u001b[0m\u001b[0;34m,\u001b[0m \u001b[0margs\u001b[0m\u001b[0;34m)\u001b[0m\u001b[0;34m\u001b[0m\u001b[0;34m\u001b[0m\u001b[0m\n",
      "\u001b[0;32m/usr/local/lib/python3.6/dist-packages/jax/interpreters/xla.py\u001b[0m in \u001b[0;36mapply_primitive\u001b[0;34m(prim, *args, **params)\u001b[0m\n\u001b[1;32m    227\u001b[0m   \u001b[0;34m\"\"\"Impl rule that compiles and runs a single primitive 'prim' using XLA.\"\"\"\u001b[0m\u001b[0;34m\u001b[0m\u001b[0;34m\u001b[0m\u001b[0m\n\u001b[1;32m    228\u001b[0m   \u001b[0mcompiled_fun\u001b[0m \u001b[0;34m=\u001b[0m \u001b[0mxla_primitive_callable\u001b[0m\u001b[0;34m(\u001b[0m\u001b[0mprim\u001b[0m\u001b[0;34m,\u001b[0m \u001b[0;34m*\u001b[0m\u001b[0munsafe_map\u001b[0m\u001b[0;34m(\u001b[0m\u001b[0marg_spec\u001b[0m\u001b[0;34m,\u001b[0m \u001b[0margs\u001b[0m\u001b[0;34m)\u001b[0m\u001b[0;34m,\u001b[0m \u001b[0;34m**\u001b[0m\u001b[0mparams\u001b[0m\u001b[0;34m)\u001b[0m\u001b[0;34m\u001b[0m\u001b[0;34m\u001b[0m\u001b[0m\n\u001b[0;32m--> 229\u001b[0;31m   \u001b[0;32mreturn\u001b[0m \u001b[0mcompiled_fun\u001b[0m\u001b[0;34m(\u001b[0m\u001b[0;34m*\u001b[0m\u001b[0margs\u001b[0m\u001b[0;34m)\u001b[0m\u001b[0;34m\u001b[0m\u001b[0;34m\u001b[0m\u001b[0m\n\u001b[0m\u001b[1;32m    230\u001b[0m \u001b[0;34m\u001b[0m\u001b[0m\n\u001b[1;32m    231\u001b[0m \u001b[0;34m@\u001b[0m\u001b[0mcache\u001b[0m\u001b[0;34m(\u001b[0m\u001b[0;34m)\u001b[0m\u001b[0;34m\u001b[0m\u001b[0;34m\u001b[0m\u001b[0m\n",
      "\u001b[0;32m/usr/local/lib/python3.6/dist-packages/jax/interpreters/xla.py\u001b[0m in \u001b[0;36m_execute_compiled_primitive\u001b[0;34m(prim, compiled, result_handler, *args)\u001b[0m\n\u001b[1;32m    327\u001b[0m   \u001b[0mdevice\u001b[0m\u001b[0;34m,\u001b[0m \u001b[0;34m=\u001b[0m \u001b[0mcompiled\u001b[0m\u001b[0;34m.\u001b[0m\u001b[0mlocal_devices\u001b[0m\u001b[0;34m(\u001b[0m\u001b[0;34m)\u001b[0m\u001b[0;34m\u001b[0m\u001b[0;34m\u001b[0m\u001b[0m\n\u001b[1;32m    328\u001b[0m   \u001b[0minput_bufs\u001b[0m \u001b[0;34m=\u001b[0m \u001b[0;34m[\u001b[0m\u001b[0mdevice_put\u001b[0m\u001b[0;34m(\u001b[0m\u001b[0mx\u001b[0m\u001b[0;34m,\u001b[0m \u001b[0mdevice\u001b[0m\u001b[0;34m)\u001b[0m \u001b[0;32mfor\u001b[0m \u001b[0mx\u001b[0m \u001b[0;32min\u001b[0m \u001b[0margs\u001b[0m \u001b[0;32mif\u001b[0m \u001b[0mx\u001b[0m \u001b[0;32mis\u001b[0m \u001b[0;32mnot\u001b[0m \u001b[0mtoken\u001b[0m\u001b[0;34m]\u001b[0m\u001b[0;34m\u001b[0m\u001b[0;34m\u001b[0m\u001b[0m\n\u001b[0;32m--> 329\u001b[0;31m   \u001b[0mout_bufs\u001b[0m \u001b[0;34m=\u001b[0m \u001b[0mcompiled\u001b[0m\u001b[0;34m.\u001b[0m\u001b[0mexecute\u001b[0m\u001b[0;34m(\u001b[0m\u001b[0minput_bufs\u001b[0m\u001b[0;34m)\u001b[0m\u001b[0;34m\u001b[0m\u001b[0;34m\u001b[0m\u001b[0m\n\u001b[0m\u001b[1;32m    330\u001b[0m   \u001b[0;32mif\u001b[0m \u001b[0mFLAGS\u001b[0m\u001b[0;34m.\u001b[0m\u001b[0mjax_debug_nans\u001b[0m\u001b[0;34m:\u001b[0m\u001b[0;34m\u001b[0m\u001b[0;34m\u001b[0m\u001b[0m\n\u001b[1;32m    331\u001b[0m     \u001b[0mcheck_nans\u001b[0m\u001b[0;34m(\u001b[0m\u001b[0mprim\u001b[0m\u001b[0;34m,\u001b[0m \u001b[0mout_bufs\u001b[0m\u001b[0;34m)\u001b[0m\u001b[0;34m\u001b[0m\u001b[0;34m\u001b[0m\u001b[0m\n",
      "\u001b[0;31mKeyboardInterrupt\u001b[0m: "
     ]
    }
   ],
   "source": [
    "step_size = 0.1\n",
    "batch_size = 128\n",
    "epochs = 50\n",
    "init_fun, opt_update, get_params = adam(step_size=step_size)\n",
    "params = initialize_params(key)\n",
    "true_params = np.array([k, c, m])\n",
    "#params=np.sqrt(true_params)\n",
    "opt_state = init_fun(params)\n",
    "\n",
    "\n",
    "def train_step(params, x, x_dot, x_dot2, f, opt_state, opt_update):\n",
    "  params = get_params(opt_state)\n",
    "  mse, grad = value_and_grad(loss)(params, x, x_dot, x_dot2, f)\n",
    "  opt_state = opt_update(0, grad, opt_state)\n",
    "\n",
    "  return get_params(opt_state), opt_state, mse\n",
    "\n",
    "\n",
    "epoch_errors = []\n",
    "\n",
    "for epoch in range(epochs):\n",
    "\n",
    "  n_batchs = len(x_in)//batch_size\n",
    "  errors = []\n",
    "  \n",
    "  print(\"Param error:\", np.mean(np.abs(true_params - np.square(np.squeeze(np.array(params[:3]))))) )\n",
    "  print(\"Epoch\", epoch)\n",
    "  for i in tqdm(range(n_batchs)):\n",
    "    x_batch = x[i*batch_size:((i+1)*batch_size)]\n",
    "    x_dot_batch = x_dot[i*batch_size:((i+1)*batch_size)]\n",
    "    x_dot2_batch = x_dot2[i*batch_size:((i+1)*batch_size)]\n",
    "    f_batch = f[i*batch_size:((i+1)*batch_size)]\n",
    "    params, opt_state, error = train_step(params, x_batch, x_dot_batch, x_dot2_batch, f_batch, opt_state, opt_update)\n",
    "    errors.append(error)\n",
    "  \n",
    "  mean_error = np.mean(np.array(errors))\n",
    "  print(\"Epoch\", epoch, \", mean error:\",mean_error, \", params:\", np.squeeze(np.array(params[:3])), \"\")\n",
    "  \n",
    "  epoch_errors.append(mean_error)\n",
    "  "
   ]
  },
  {
   "cell_type": "code",
   "execution_count": null,
   "metadata": {
    "colab": {},
    "colab_type": "code",
    "id": "nuTv_KV6UXYn"
   },
   "outputs": [],
   "source": []
  },
  {
   "cell_type": "code",
   "execution_count": null,
   "metadata": {
    "colab": {
     "base_uri": "https://localhost:8080/",
     "height": 34
    },
    "colab_type": "code",
    "id": "Mb6U4x15xiIy",
    "outputId": "7f8ab247-a950-401b-fe90-66248b0e47b8"
   },
   "outputs": [
    {
     "data": {
      "text/plain": [
       "DeviceArray([[0.9994398]], dtype=float32)"
      ]
     },
     "execution_count": 19,
     "metadata": {
      "tags": []
     },
     "output_type": "execute_result"
    }
   ],
   "source": [
    "hessian(lagrangian, 2)(params, x[0], x_dot[0])"
   ]
  },
  {
   "cell_type": "code",
   "execution_count": null,
   "metadata": {
    "colab": {},
    "colab_type": "code",
    "id": "s_Hcrkj9xmFJ"
   },
   "outputs": [],
   "source": [
    "i = 20000\n",
    "print(forward_pass(params, x[i], x_dot[i], f[i]), x_dot2[i])"
   ]
  },
  {
   "cell_type": "code",
   "execution_count": null,
   "metadata": {
    "colab": {},
    "colab_type": "code",
    "id": "mYwNGGKD18j5"
   },
   "outputs": [],
   "source": [
    "forward_neural_network(params[3], x[i])"
   ]
  },
  {
   "cell_type": "code",
   "execution_count": null,
   "metadata": {
    "colab": {
     "base_uri": "https://localhost:8080/",
     "height": 282
    },
    "colab_type": "code",
    "id": "2tGLyzvL22hP",
    "outputId": "70f49397-2a76-428a-9120-e1969c9005aa"
   },
   "outputs": [
    {
     "data": {
      "text/plain": [
       "[<matplotlib.lines.Line2D at 0x7f6eef8ed780>]"
      ]
     },
     "execution_count": 21,
     "metadata": {
      "tags": []
     },
     "output_type": "execute_result"
    },
    {
     "data": {
      "image/png": "[encoded data removed]",
      "text/plain": [
       "<Figure size 432x288 with 1 Axes>"
      ]
     },
     "metadata": {
      "needs_background": "light",
      "tags": []
     },
     "output_type": "display_data"
    }
   ],
   "source": [
    "pred = batch_forward_pass(params, x, x_dot, f)\n",
    "plt.plot(x_dot2, alpha=0.4)\n",
    "plt.plot(pred, alpha=0.4)"
   ]
  },
  {
   "cell_type": "code",
   "execution_count": null,
   "metadata": {
    "colab": {},
    "colab_type": "code",
    "id": "n-xnTOJA6NL3"
   },
   "outputs": [],
   "source": [
    "n"
   ]
  }
 ],
 "metadata": {
  "accelerator": "GPU",
  "colab": {
   "collapsed_sections": [],
   "name": "sistema_massa_mola_2.ipynb",
   "provenance": []
  },
  "kernelspec": {
   "display_name": "Python 3",
   "language": "python",
   "name": "python3"
  },
  "language_info": {
   "codemirror_mode": {
    "name": "ipython",
    "version": 3
   },
   "file_extension": ".py",
   "mimetype": "text/x-python",
   "name": "python",
   "nbconvert_exporter": "python",
   "pygments_lexer": "ipython3",
   "version": "3.7.8"
  },
  "widgets": {
   "application/vnd.jupyter.widget-state+json": {
    "0347d0ed95d84d5ba692d125305cc745": {
     "model_module": "@jupyter-widgets/controls",
     "model_name": "HTMLModel",
     "state": {
      "_dom_classes": [],
      "_model_module": "@jupyter-widgets/controls",
      "_model_module_version": "1.5.0",
      "_model_name": "HTMLModel",
      "_view_count": null,
      "_view_module": "@jupyter-widgets/controls",
      "_view_module_version": "1.5.0",
      "_view_name": "HTMLView",
      "description": "",
      "description_tooltip": null,
      "layout": "IPY_MODEL_277b34b4f85a44bdada6c797d89d7a12",
      "placeholder": "​",
      "style": "IPY_MODEL_72b281422e4244cf994f43e1fa600bc9",
      "value": " 1562/1562 [04:38&lt;00:00,  5.60it/s]"
     }
    },
    "03d612cb8e9346408b0f071e8ff434c4": {
     "model_module": "@jupyter-widgets/controls",
     "model_name": "HTMLModel",
     "state": {
      "_dom_classes": [],
      "_model_module": "@jupyter-widgets/controls",
      "_model_module_version": "1.5.0",
      "_model_name": "HTMLModel",
      "_view_count": null,
      "_view_module": "@jupyter-widgets/controls",
      "_view_module_version": "1.5.0",
      "_view_name": "HTMLView",
      "description": "",
      "description_tooltip": null,
      "layout": "IPY_MODEL_ab5fc7dd05dc44dda15c007aa06117ad",
      "placeholder": "​",
      "style": "IPY_MODEL_bd2008e5f12842c782482c75974992a4",
      "value": " 1562/1562 [02:59&lt;00:00,  8.68it/s]"
     }
    },
    "0822409b83f04176ab1a5ca3395b0cc2": {
     "model_module": "@jupyter-widgets/controls",
     "model_name": "ProgressStyleModel",
     "state": {
      "_model_module": "@jupyter-widgets/controls",
      "_model_module_version": "1.5.0",
      "_model_name": "ProgressStyleModel",
      "_view_count": null,
      "_view_module": "@jupyter-widgets/base",
      "_view_module_version": "1.2.0",
      "_view_name": "StyleView",
      "bar_color": null,
      "description_width": "initial"
     }
    },
    "08fd050f0ba44c73b7b8e8c89bde091c": {
     "model_module": "@jupyter-widgets/controls",
     "model_name": "HTMLModel",
     "state": {
      "_dom_classes": [],
      "_model_module": "@jupyter-widgets/controls",
      "_model_module_version": "1.5.0",
      "_model_name": "HTMLModel",
      "_view_count": null,
      "_view_module": "@jupyter-widgets/controls",
      "_view_module_version": "1.5.0",
      "_view_name": "HTMLView",
      "description": "",
      "description_tooltip": null,
      "layout": "IPY_MODEL_7f39956c8b434fbfae4cd2cd662ac5fb",
      "placeholder": "​",
      "style": "IPY_MODEL_52bb9aef473d43eea5e044f311ef6c42",
      "value": " 781/781 [00:13&lt;00:00, 59.59it/s]"
     }
    },
    "0a83e469ecdd4ff6a7fe4fe4f9433b68": {
     "model_module": "@jupyter-widgets/base",
     "model_name": "LayoutModel",
     "state": {
      "_model_module": "@jupyter-widgets/base",
      "_model_module_version": "1.2.0",
      "_model_name": "LayoutModel",
      "_view_count": null,
      "_view_module": "@jupyter-widgets/base",
      "_view_module_version": "1.2.0",
      "_view_name": "LayoutView",
      "align_content": null,
      "align_items": null,
      "align_self": null,
      "border": null,
      "bottom": null,
      "display": null,
      "flex": null,
      "flex_flow": null,
      "grid_area": null,
      "grid_auto_columns": null,
      "grid_auto_flow": null,
      "grid_auto_rows": null,
      "grid_column": null,
      "grid_gap": null,
      "grid_row": null,
      "grid_template_areas": null,
      "grid_template_columns": null,
      "grid_template_rows": null,
      "height": null,
      "justify_content": null,
      "justify_items": null,
      "left": null,
      "margin": null,
      "max_height": null,
      "max_width": null,
      "min_height": null,
      "min_width": null,
      "object_fit": null,
      "object_position": null,
      "order": null,
      "overflow": null,
      "overflow_x": null,
      "overflow_y": null,
      "padding": null,
      "right": null,
      "top": null,
      "visibility": null,
      "width": null
     }
    },
    "0a867b01d41f4b7f971c6808e454f664": {
     "model_module": "@jupyter-widgets/base",
     "model_name": "LayoutModel",
     "state": {
      "_model_module": "@jupyter-widgets/base",
      "_model_module_version": "1.2.0",
      "_model_name": "LayoutModel",
      "_view_count": null,
      "_view_module": "@jupyter-widgets/base",
      "_view_module_version": "1.2.0",
      "_view_name": "LayoutView",
      "align_content": null,
      "align_items": null,
      "align_self": null,
      "border": null,
      "bottom": null,
      "display": null,
      "flex": null,
      "flex_flow": null,
      "grid_area": null,
      "grid_auto_columns": null,
      "grid_auto_flow": null,
      "grid_auto_rows": null,
      "grid_column": null,
      "grid_gap": null,
      "grid_row": null,
      "grid_template_areas": null,
      "grid_template_columns": null,
      "grid_template_rows": null,
      "height": null,
      "justify_content": null,
      "justify_items": null,
      "left": null,
      "margin": null,
      "max_height": null,
      "max_width": null,
      "min_height": null,
      "min_width": null,
      "object_fit": null,
      "object_position": null,
      "order": null,
      "overflow": null,
      "overflow_x": null,
      "overflow_y": null,
      "padding": null,
      "right": null,
      "top": null,
      "visibility": null,
      "width": null
     }
    },
    "0d3ec1bbc6a545c08f62209352111aaa": {
     "model_module": "@jupyter-widgets/base",
     "model_name": "LayoutModel",
     "state": {
      "_model_module": "@jupyter-widgets/base",
      "_model_module_version": "1.2.0",
      "_model_name": "LayoutModel",
      "_view_count": null,
      "_view_module": "@jupyter-widgets/base",
      "_view_module_version": "1.2.0",
      "_view_name": "LayoutView",
      "align_content": null,
      "align_items": null,
      "align_self": null,
      "border": null,
      "bottom": null,
      "display": null,
      "flex": null,
      "flex_flow": null,
      "grid_area": null,
      "grid_auto_columns": null,
      "grid_auto_flow": null,
      "grid_auto_rows": null,
      "grid_column": null,
      "grid_gap": null,
      "grid_row": null,
      "grid_template_areas": null,
      "grid_template_columns": null,
      "grid_template_rows": null,
      "height": null,
      "justify_content": null,
      "justify_items": null,
      "left": null,
      "margin": null,
      "max_height": null,
      "max_width": null,
      "min_height": null,
      "min_width": null,
      "object_fit": null,
      "object_position": null,
      "order": null,
      "overflow": null,
      "overflow_x": null,
      "overflow_y": null,
      "padding": null,
      "right": null,
      "top": null,
      "visibility": null,
      "width": null
     }
    },
    "0da29f4829384317a1108e56f2f25c41": {
     "model_module": "@jupyter-widgets/controls",
     "model_name": "FloatProgressModel",
     "state": {
      "_dom_classes": [],
      "_model_module": "@jupyter-widgets/controls",
      "_model_module_version": "1.5.0",
      "_model_name": "FloatProgressModel",
      "_view_count": null,
      "_view_module": "@jupyter-widgets/controls",
      "_view_module_version": "1.5.0",
      "_view_name": "ProgressView",
      "bar_style": "success",
      "description": "100%",
      "description_tooltip": null,
      "layout": "IPY_MODEL_72781b8617a3466f86669cd56c8e602e",
      "max": 1562,
      "min": 0,
      "orientation": "horizontal",
      "style": "IPY_MODEL_4b285a020423456b9a57c3f36fc4a30d",
      "value": 1562
     }
    },
    "0f5bb9c08143454f80894e7d932168b0": {
     "model_module": "@jupyter-widgets/controls",
     "model_name": "FloatProgressModel",
     "state": {
      "_dom_classes": [],
      "_model_module": "@jupyter-widgets/controls",
      "_model_module_version": "1.5.0",
      "_model_name": "FloatProgressModel",
      "_view_count": null,
      "_view_module": "@jupyter-widgets/controls",
      "_view_module_version": "1.5.0",
      "_view_name": "ProgressView",
      "bar_style": "success",
      "description": "100%",
      "description_tooltip": null,
      "layout": "IPY_MODEL_ce60b110a89a4acba7006230b977c476",
      "max": 1562,
      "min": 0,
      "orientation": "horizontal",
      "style": "IPY_MODEL_b5988a4fb2db46e0932c65f2fec437ed",
      "value": 1562
     }
    },
    "1152fb6ab7ce4aa683e875a803e4f367": {
     "model_module": "@jupyter-widgets/base",
     "model_name": "LayoutModel",
     "state": {
      "_model_module": "@jupyter-widgets/base",
      "_model_module_version": "1.2.0",
      "_model_name": "LayoutModel",
      "_view_count": null,
      "_view_module": "@jupyter-widgets/base",
      "_view_module_version": "1.2.0",
      "_view_name": "LayoutView",
      "align_content": null,
      "align_items": null,
      "align_self": null,
      "border": null,
      "bottom": null,
      "display": null,
      "flex": null,
      "flex_flow": null,
      "grid_area": null,
      "grid_auto_columns": null,
      "grid_auto_flow": null,
      "grid_auto_rows": null,
      "grid_column": null,
      "grid_gap": null,
      "grid_row": null,
      "grid_template_areas": null,
      "grid_template_columns": null,
      "grid_template_rows": null,
      "height": null,
      "justify_content": null,
      "justify_items": null,
      "left": null,
      "margin": null,
      "max_height": null,
      "max_width": null,
      "min_height": null,
      "min_width": null,
      "object_fit": null,
      "object_position": null,
      "order": null,
      "overflow": null,
      "overflow_x": null,
      "overflow_y": null,
      "padding": null,
      "right": null,
      "top": null,
      "visibility": null,
      "width": null
     }
    },
    "12bb27fc07794f4d8ec0f44e257face5": {
     "model_module": "@jupyter-widgets/base",
     "model_name": "LayoutModel",
     "state": {
      "_model_module": "@jupyter-widgets/base",
      "_model_module_version": "1.2.0",
      "_model_name": "LayoutModel",
      "_view_count": null,
      "_view_module": "@jupyter-widgets/base",
      "_view_module_version": "1.2.0",
      "_view_name": "LayoutView",
      "align_content": null,
      "align_items": null,
      "align_self": null,
      "border": null,
      "bottom": null,
      "display": null,
      "flex": null,
      "flex_flow": null,
      "grid_area": null,
      "grid_auto_columns": null,
      "grid_auto_flow": null,
      "grid_auto_rows": null,
      "grid_column": null,
      "grid_gap": null,
      "grid_row": null,
      "grid_template_areas": null,
      "grid_template_columns": null,
      "grid_template_rows": null,
      "height": null,
      "justify_content": null,
      "justify_items": null,
      "left": null,
      "margin": null,
      "max_height": null,
      "max_width": null,
      "min_height": null,
      "min_width": null,
      "object_fit": null,
      "object_position": null,
      "order": null,
      "overflow": null,
      "overflow_x": null,
      "overflow_y": null,
      "padding": null,
      "right": null,
      "top": null,
      "visibility": null,
      "width": null
     }
    },
    "14bf61970f42460187f727123848fae6": {
     "model_module": "@jupyter-widgets/controls",
     "model_name": "ProgressStyleModel",
     "state": {
      "_model_module": "@jupyter-widgets/controls",
      "_model_module_version": "1.5.0",
      "_model_name": "ProgressStyleModel",
      "_view_count": null,
      "_view_module": "@jupyter-widgets/base",
      "_view_module_version": "1.2.0",
      "_view_name": "StyleView",
      "bar_color": null,
      "description_width": "initial"
     }
    },
    "157984d6e3554184a7567325b72d6b05": {
     "model_module": "@jupyter-widgets/base",
     "model_name": "LayoutModel",
     "state": {
      "_model_module": "@jupyter-widgets/base",
      "_model_module_version": "1.2.0",
      "_model_name": "LayoutModel",
      "_view_count": null,
      "_view_module": "@jupyter-widgets/base",
      "_view_module_version": "1.2.0",
      "_view_name": "LayoutView",
      "align_content": null,
      "align_items": null,
      "align_self": null,
      "border": null,
      "bottom": null,
      "display": null,
      "flex": null,
      "flex_flow": null,
      "grid_area": null,
      "grid_auto_columns": null,
      "grid_auto_flow": null,
      "grid_auto_rows": null,
      "grid_column": null,
      "grid_gap": null,
      "grid_row": null,
      "grid_template_areas": null,
      "grid_template_columns": null,
      "grid_template_rows": null,
      "height": null,
      "justify_content": null,
      "justify_items": null,
      "left": null,
      "margin": null,
      "max_height": null,
      "max_width": null,
      "min_height": null,
      "min_width": null,
      "object_fit": null,
      "object_position": null,
      "order": null,
      "overflow": null,
      "overflow_x": null,
      "overflow_y": null,
      "padding": null,
      "right": null,
      "top": null,
      "visibility": null,
      "width": null
     }
    },
    "1e4656b3f5dd41bba7f3bd490708ff8b": {
     "model_module": "@jupyter-widgets/controls",
     "model_name": "HTMLModel",
     "state": {
      "_dom_classes": [],
      "_model_module": "@jupyter-widgets/controls",
      "_model_module_version": "1.5.0",
      "_model_name": "HTMLModel",
      "_view_count": null,
      "_view_module": "@jupyter-widgets/controls",
      "_view_module_version": "1.5.0",
      "_view_name": "HTMLView",
      "description": "",
      "description_tooltip": null,
      "layout": "IPY_MODEL_1152fb6ab7ce4aa683e875a803e4f367",
      "placeholder": "​",
      "style": "IPY_MODEL_9449295f1ccd482394ce85025bd41258",
      "value": " 1185/1562 [01:53&lt;00:31, 12.03it/s]"
     }
    },
    "2742b913747345fa818285e209808ed9": {
     "model_module": "@jupyter-widgets/base",
     "model_name": "LayoutModel",
     "state": {
      "_model_module": "@jupyter-widgets/base",
      "_model_module_version": "1.2.0",
      "_model_name": "LayoutModel",
      "_view_count": null,
      "_view_module": "@jupyter-widgets/base",
      "_view_module_version": "1.2.0",
      "_view_name": "LayoutView",
      "align_content": null,
      "align_items": null,
      "align_self": null,
      "border": null,
      "bottom": null,
      "display": null,
      "flex": null,
      "flex_flow": null,
      "grid_area": null,
      "grid_auto_columns": null,
      "grid_auto_flow": null,
      "grid_auto_rows": null,
      "grid_column": null,
      "grid_gap": null,
      "grid_row": null,
      "grid_template_areas": null,
      "grid_template_columns": null,
      "grid_template_rows": null,
      "height": null,
      "justify_content": null,
      "justify_items": null,
      "left": null,
      "margin": null,
      "max_height": null,
      "max_width": null,
      "min_height": null,
      "min_width": null,
      "object_fit": null,
      "object_position": null,
      "order": null,
      "overflow": null,
      "overflow_x": null,
      "overflow_y": null,
      "padding": null,
      "right": null,
      "top": null,
      "visibility": null,
      "width": null
     }
    },
    "274fe4f3055c46998b403b9bb0f87632": {
     "model_module": "@jupyter-widgets/base",
     "model_name": "LayoutModel",
     "state": {
      "_model_module": "@jupyter-widgets/base",
      "_model_module_version": "1.2.0",
      "_model_name": "LayoutModel",
      "_view_count": null,
      "_view_module": "@jupyter-widgets/base",
      "_view_module_version": "1.2.0",
      "_view_name": "LayoutView",
      "align_content": null,
      "align_items": null,
      "align_self": null,
      "border": null,
      "bottom": null,
      "display": null,
      "flex": null,
      "flex_flow": null,
      "grid_area": null,
      "grid_auto_columns": null,
      "grid_auto_flow": null,
      "grid_auto_rows": null,
      "grid_column": null,
      "grid_gap": null,
      "grid_row": null,
      "grid_template_areas": null,
      "grid_template_columns": null,
      "grid_template_rows": null,
      "height": null,
      "justify_content": null,
      "justify_items": null,
      "left": null,
      "margin": null,
      "max_height": null,
      "max_width": null,
      "min_height": null,
      "min_width": null,
      "object_fit": null,
      "object_position": null,
      "order": null,
      "overflow": null,
      "overflow_x": null,
      "overflow_y": null,
      "padding": null,
      "right": null,
      "top": null,
      "visibility": null,
      "width": null
     }
    },
    "277b34b4f85a44bdada6c797d89d7a12": {
     "model_module": "@jupyter-widgets/base",
     "model_name": "LayoutModel",
     "state": {
      "_model_module": "@jupyter-widgets/base",
      "_model_module_version": "1.2.0",
      "_model_name": "LayoutModel",
      "_view_count": null,
      "_view_module": "@jupyter-widgets/base",
      "_view_module_version": "1.2.0",
      "_view_name": "LayoutView",
      "align_content": null,
      "align_items": null,
      "align_self": null,
      "border": null,
      "bottom": null,
      "display": null,
      "flex": null,
      "flex_flow": null,
      "grid_area": null,
      "grid_auto_columns": null,
      "grid_auto_flow": null,
      "grid_auto_rows": null,
      "grid_column": null,
      "grid_gap": null,
      "grid_row": null,
      "grid_template_areas": null,
      "grid_template_columns": null,
      "grid_template_rows": null,
      "height": null,
      "justify_content": null,
      "justify_items": null,
      "left": null,
      "margin": null,
      "max_height": null,
      "max_width": null,
      "min_height": null,
      "min_width": null,
      "object_fit": null,
      "object_position": null,
      "order": null,
      "overflow": null,
      "overflow_x": null,
      "overflow_y": null,
      "padding": null,
      "right": null,
      "top": null,
      "visibility": null,
      "width": null
     }
    },
    "278c67d948e34d8b83a0c8d25f3dd65d": {
     "model_module": "@jupyter-widgets/base",
     "model_name": "LayoutModel",
     "state": {
      "_model_module": "@jupyter-widgets/base",
      "_model_module_version": "1.2.0",
      "_model_name": "LayoutModel",
      "_view_count": null,
      "_view_module": "@jupyter-widgets/base",
      "_view_module_version": "1.2.0",
      "_view_name": "LayoutView",
      "align_content": null,
      "align_items": null,
      "align_self": null,
      "border": null,
      "bottom": null,
      "display": null,
      "flex": null,
      "flex_flow": null,
      "grid_area": null,
      "grid_auto_columns": null,
      "grid_auto_flow": null,
      "grid_auto_rows": null,
      "grid_column": null,
      "grid_gap": null,
      "grid_row": null,
      "grid_template_areas": null,
      "grid_template_columns": null,
      "grid_template_rows": null,
      "height": null,
      "justify_content": null,
      "justify_items": null,
      "left": null,
      "margin": null,
      "max_height": null,
      "max_width": null,
      "min_height": null,
      "min_width": null,
      "object_fit": null,
      "object_position": null,
      "order": null,
      "overflow": null,
      "overflow_x": null,
      "overflow_y": null,
      "padding": null,
      "right": null,
      "top": null,
      "visibility": null,
      "width": null
     }
    },
    "2c8d5d7fa8ce49ce920033413b625a6c": {
     "model_module": "@jupyter-widgets/base",
     "model_name": "LayoutModel",
     "state": {
      "_model_module": "@jupyter-widgets/base",
      "_model_module_version": "1.2.0",
      "_model_name": "LayoutModel",
      "_view_count": null,
      "_view_module": "@jupyter-widgets/base",
      "_view_module_version": "1.2.0",
      "_view_name": "LayoutView",
      "align_content": null,
      "align_items": null,
      "align_self": null,
      "border": null,
      "bottom": null,
      "display": null,
      "flex": null,
      "flex_flow": null,
      "grid_area": null,
      "grid_auto_columns": null,
      "grid_auto_flow": null,
      "grid_auto_rows": null,
      "grid_column": null,
      "grid_gap": null,
      "grid_row": null,
      "grid_template_areas": null,
      "grid_template_columns": null,
      "grid_template_rows": null,
      "height": null,
      "justify_content": null,
      "justify_items": null,
      "left": null,
      "margin": null,
      "max_height": null,
      "max_width": null,
      "min_height": null,
      "min_width": null,
      "object_fit": null,
      "object_position": null,
      "order": null,
      "overflow": null,
      "overflow_x": null,
      "overflow_y": null,
      "padding": null,
      "right": null,
      "top": null,
      "visibility": null,
      "width": null
     }
    },
    "2d1d9b29c74a472cacad11052ff05c4e": {
     "model_module": "@jupyter-widgets/base",
     "model_name": "LayoutModel",
     "state": {
      "_model_module": "@jupyter-widgets/base",
      "_model_module_version": "1.2.0",
      "_model_name": "LayoutModel",
      "_view_count": null,
      "_view_module": "@jupyter-widgets/base",
      "_view_module_version": "1.2.0",
      "_view_name": "LayoutView",
      "align_content": null,
      "align_items": null,
      "align_self": null,
      "border": null,
      "bottom": null,
      "display": null,
      "flex": null,
      "flex_flow": null,
      "grid_area": null,
      "grid_auto_columns": null,
      "grid_auto_flow": null,
      "grid_auto_rows": null,
      "grid_column": null,
      "grid_gap": null,
      "grid_row": null,
      "grid_template_areas": null,
      "grid_template_columns": null,
      "grid_template_rows": null,
      "height": null,
      "justify_content": null,
      "justify_items": null,
      "left": null,
      "margin": null,
      "max_height": null,
      "max_width": null,
      "min_height": null,
      "min_width": null,
      "object_fit": null,
      "object_position": null,
      "order": null,
      "overflow": null,
      "overflow_x": null,
      "overflow_y": null,
      "padding": null,
      "right": null,
      "top": null,
      "visibility": null,
      "width": null
     }
    },
    "2d2def98dfbd4de8bb205acefb7c2232": {
     "model_module": "@jupyter-widgets/base",
     "model_name": "LayoutModel",
     "state": {
      "_model_module": "@jupyter-widgets/base",
      "_model_module_version": "1.2.0",
      "_model_name": "LayoutModel",
      "_view_count": null,
      "_view_module": "@jupyter-widgets/base",
      "_view_module_version": "1.2.0",
      "_view_name": "LayoutView",
      "align_content": null,
      "align_items": null,
      "align_self": null,
      "border": null,
      "bottom": null,
      "display": null,
      "flex": null,
      "flex_flow": null,
      "grid_area": null,
      "grid_auto_columns": null,
      "grid_auto_flow": null,
      "grid_auto_rows": null,
      "grid_column": null,
      "grid_gap": null,
      "grid_row": null,
      "grid_template_areas": null,
      "grid_template_columns": null,
      "grid_template_rows": null,
      "height": null,
      "justify_content": null,
      "justify_items": null,
      "left": null,
      "margin": null,
      "max_height": null,
      "max_width": null,
      "min_height": null,
      "min_width": null,
      "object_fit": null,
      "object_position": null,
      "order": null,
      "overflow": null,
      "overflow_x": null,
      "overflow_y": null,
      "padding": null,
      "right": null,
      "top": null,
      "visibility": null,
      "width": null
     }
    },
    "340a5f0f00cf442e8b02f22e30473a4c": {
     "model_module": "@jupyter-widgets/controls",
     "model_name": "FloatProgressModel",
     "state": {
      "_dom_classes": [],
      "_model_module": "@jupyter-widgets/controls",
      "_model_module_version": "1.5.0",
      "_model_name": "FloatProgressModel",
      "_view_count": null,
      "_view_module": "@jupyter-widgets/controls",
      "_view_module_version": "1.5.0",
      "_view_name": "ProgressView",
      "bar_style": "success",
      "description": "100%",
      "description_tooltip": null,
      "layout": "IPY_MODEL_278c67d948e34d8b83a0c8d25f3dd65d",
      "max": 1562,
      "min": 0,
      "orientation": "horizontal",
      "style": "IPY_MODEL_a25bc026eb1b441b82fcc83251197ddd",
      "value": 1562
     }
    },
    "36a70a52b3b04151b1fc90d3dfcfbdc0": {
     "model_module": "@jupyter-widgets/controls",
     "model_name": "ProgressStyleModel",
     "state": {
      "_model_module": "@jupyter-widgets/controls",
      "_model_module_version": "1.5.0",
      "_model_name": "ProgressStyleModel",
      "_view_count": null,
      "_view_module": "@jupyter-widgets/base",
      "_view_module_version": "1.2.0",
      "_view_name": "StyleView",
      "bar_color": null,
      "description_width": "initial"
     }
    },
    "3b7578a06b7f45ec9d476863d0fee729": {
     "model_module": "@jupyter-widgets/base",
     "model_name": "LayoutModel",
     "state": {
      "_model_module": "@jupyter-widgets/base",
      "_model_module_version": "1.2.0",
      "_model_name": "LayoutModel",
      "_view_count": null,
      "_view_module": "@jupyter-widgets/base",
      "_view_module_version": "1.2.0",
      "_view_name": "LayoutView",
      "align_content": null,
      "align_items": null,
      "align_self": null,
      "border": null,
      "bottom": null,
      "display": null,
      "flex": null,
      "flex_flow": null,
      "grid_area": null,
      "grid_auto_columns": null,
      "grid_auto_flow": null,
      "grid_auto_rows": null,
      "grid_column": null,
      "grid_gap": null,
      "grid_row": null,
      "grid_template_areas": null,
      "grid_template_columns": null,
      "grid_template_rows": null,
      "height": null,
      "justify_content": null,
      "justify_items": null,
      "left": null,
      "margin": null,
      "max_height": null,
      "max_width": null,
      "min_height": null,
      "min_width": null,
      "object_fit": null,
      "object_position": null,
      "order": null,
      "overflow": null,
      "overflow_x": null,
      "overflow_y": null,
      "padding": null,
      "right": null,
      "top": null,
      "visibility": null,
      "width": null
     }
    },
    "3bc600338ee64c7ab9dc9c4ed8d8f3ca": {
     "model_module": "@jupyter-widgets/controls",
     "model_name": "HBoxModel",
     "state": {
      "_dom_classes": [],
      "_model_module": "@jupyter-widgets/controls",
      "_model_module_version": "1.5.0",
      "_model_name": "HBoxModel",
      "_view_count": null,
      "_view_module": "@jupyter-widgets/controls",
      "_view_module_version": "1.5.0",
      "_view_name": "HBoxView",
      "box_style": "",
      "children": [
       "IPY_MODEL_74576346693e4e7da39ab93f51d523ad",
       "IPY_MODEL_08fd050f0ba44c73b7b8e8c89bde091c"
      ],
      "layout": "IPY_MODEL_4f2c2d159d2a4ed2812bef65bc25d3c1"
     }
    },
    "3bc62842ff4143c9a7f4041dbaebd35c": {
     "model_module": "@jupyter-widgets/controls",
     "model_name": "FloatProgressModel",
     "state": {
      "_dom_classes": [],
      "_model_module": "@jupyter-widgets/controls",
      "_model_module_version": "1.5.0",
      "_model_name": "FloatProgressModel",
      "_view_count": null,
      "_view_module": "@jupyter-widgets/controls",
      "_view_module_version": "1.5.0",
      "_view_name": "ProgressView",
      "bar_style": "success",
      "description": "100%",
      "description_tooltip": null,
      "layout": "IPY_MODEL_da492ee3e06e4a158fd69f2947429817",
      "max": 1562,
      "min": 0,
      "orientation": "horizontal",
      "style": "IPY_MODEL_6071aa6cd13743899c32d64af3f747a6",
      "value": 1562
     }
    },
    "3c6601a6eef2461693960ca681dbd8ce": {
     "model_module": "@jupyter-widgets/controls",
     "model_name": "HTMLModel",
     "state": {
      "_dom_classes": [],
      "_model_module": "@jupyter-widgets/controls",
      "_model_module_version": "1.5.0",
      "_model_name": "HTMLModel",
      "_view_count": null,
      "_view_module": "@jupyter-widgets/controls",
      "_view_module_version": "1.5.0",
      "_view_name": "HTMLView",
      "description": "",
      "description_tooltip": null,
      "layout": "IPY_MODEL_c2b0de7c90f64d1fa2746068b8334199",
      "placeholder": "​",
      "style": "IPY_MODEL_74c02120090b47539d66559ec56d327f",
      "value": " 1562/1562 [07:46&lt;00:00,  3.35it/s]"
     }
    },
    "3d49194fe7bb45639e1a69d8e7bbe77d": {
     "model_module": "@jupyter-widgets/base",
     "model_name": "LayoutModel",
     "state": {
      "_model_module": "@jupyter-widgets/base",
      "_model_module_version": "1.2.0",
      "_model_name": "LayoutModel",
      "_view_count": null,
      "_view_module": "@jupyter-widgets/base",
      "_view_module_version": "1.2.0",
      "_view_name": "LayoutView",
      "align_content": null,
      "align_items": null,
      "align_self": null,
      "border": null,
      "bottom": null,
      "display": null,
      "flex": null,
      "flex_flow": null,
      "grid_area": null,
      "grid_auto_columns": null,
      "grid_auto_flow": null,
      "grid_auto_rows": null,
      "grid_column": null,
      "grid_gap": null,
      "grid_row": null,
      "grid_template_areas": null,
      "grid_template_columns": null,
      "grid_template_rows": null,
      "height": null,
      "justify_content": null,
      "justify_items": null,
      "left": null,
      "margin": null,
      "max_height": null,
      "max_width": null,
      "min_height": null,
      "min_width": null,
      "object_fit": null,
      "object_position": null,
      "order": null,
      "overflow": null,
      "overflow_x": null,
      "overflow_y": null,
      "padding": null,
      "right": null,
      "top": null,
      "visibility": null,
      "width": null
     }
    },
    "3fc4b4389fc74775882f5967484e9aa8": {
     "model_module": "@jupyter-widgets/controls",
     "model_name": "ProgressStyleModel",
     "state": {
      "_model_module": "@jupyter-widgets/controls",
      "_model_module_version": "1.5.0",
      "_model_name": "ProgressStyleModel",
      "_view_count": null,
      "_view_module": "@jupyter-widgets/base",
      "_view_module_version": "1.2.0",
      "_view_name": "StyleView",
      "bar_color": null,
      "description_width": "initial"
     }
    },
    "42e956a738a547abbadb45829763e648": {
     "model_module": "@jupyter-widgets/base",
     "model_name": "LayoutModel",
     "state": {
      "_model_module": "@jupyter-widgets/base",
      "_model_module_version": "1.2.0",
      "_model_name": "LayoutModel",
      "_view_count": null,
      "_view_module": "@jupyter-widgets/base",
      "_view_module_version": "1.2.0",
      "_view_name": "LayoutView",
      "align_content": null,
      "align_items": null,
      "align_self": null,
      "border": null,
      "bottom": null,
      "display": null,
      "flex": null,
      "flex_flow": null,
      "grid_area": null,
      "grid_auto_columns": null,
      "grid_auto_flow": null,
      "grid_auto_rows": null,
      "grid_column": null,
      "grid_gap": null,
      "grid_row": null,
      "grid_template_areas": null,
      "grid_template_columns": null,
      "grid_template_rows": null,
      "height": null,
      "justify_content": null,
      "justify_items": null,
      "left": null,
      "margin": null,
      "max_height": null,
      "max_width": null,
      "min_height": null,
      "min_width": null,
      "object_fit": null,
      "object_position": null,
      "order": null,
      "overflow": null,
      "overflow_x": null,
      "overflow_y": null,
      "padding": null,
      "right": null,
      "top": null,
      "visibility": null,
      "width": null
     }
    },
    "44cef954696a41f0937e80f915de2eae": {
     "model_module": "@jupyter-widgets/base",
     "model_name": "LayoutModel",
     "state": {
      "_model_module": "@jupyter-widgets/base",
      "_model_module_version": "1.2.0",
      "_model_name": "LayoutModel",
      "_view_count": null,
      "_view_module": "@jupyter-widgets/base",
      "_view_module_version": "1.2.0",
      "_view_name": "LayoutView",
      "align_content": null,
      "align_items": null,
      "align_self": null,
      "border": null,
      "bottom": null,
      "display": null,
      "flex": null,
      "flex_flow": null,
      "grid_area": null,
      "grid_auto_columns": null,
      "grid_auto_flow": null,
      "grid_auto_rows": null,
      "grid_column": null,
      "grid_gap": null,
      "grid_row": null,
      "grid_template_areas": null,
      "grid_template_columns": null,
      "grid_template_rows": null,
      "height": null,
      "justify_content": null,
      "justify_items": null,
      "left": null,
      "margin": null,
      "max_height": null,
      "max_width": null,
      "min_height": null,
      "min_width": null,
      "object_fit": null,
      "object_position": null,
      "order": null,
      "overflow": null,
      "overflow_x": null,
      "overflow_y": null,
      "padding": null,
      "right": null,
      "top": null,
      "visibility": null,
      "width": null
     }
    },
    "4653b3cd55a6430db78b29d3150626d1": {
     "model_module": "@jupyter-widgets/base",
     "model_name": "LayoutModel",
     "state": {
      "_model_module": "@jupyter-widgets/base",
      "_model_module_version": "1.2.0",
      "_model_name": "LayoutModel",
      "_view_count": null,
      "_view_module": "@jupyter-widgets/base",
      "_view_module_version": "1.2.0",
      "_view_name": "LayoutView",
      "align_content": null,
      "align_items": null,
      "align_self": null,
      "border": null,
      "bottom": null,
      "display": null,
      "flex": null,
      "flex_flow": null,
      "grid_area": null,
      "grid_auto_columns": null,
      "grid_auto_flow": null,
      "grid_auto_rows": null,
      "grid_column": null,
      "grid_gap": null,
      "grid_row": null,
      "grid_template_areas": null,
      "grid_template_columns": null,
      "grid_template_rows": null,
      "height": null,
      "justify_content": null,
      "justify_items": null,
      "left": null,
      "margin": null,
      "max_height": null,
      "max_width": null,
      "min_height": null,
      "min_width": null,
      "object_fit": null,
      "object_position": null,
      "order": null,
      "overflow": null,
      "overflow_x": null,
      "overflow_y": null,
      "padding": null,
      "right": null,
      "top": null,
      "visibility": null,
      "width": null
     }
    },
    "4906e4dee8b344089307871898f7cb0a": {
     "model_module": "@jupyter-widgets/base",
     "model_name": "LayoutModel",
     "state": {
      "_model_module": "@jupyter-widgets/base",
      "_model_module_version": "1.2.0",
      "_model_name": "LayoutModel",
      "_view_count": null,
      "_view_module": "@jupyter-widgets/base",
      "_view_module_version": "1.2.0",
      "_view_name": "LayoutView",
      "align_content": null,
      "align_items": null,
      "align_self": null,
      "border": null,
      "bottom": null,
      "display": null,
      "flex": null,
      "flex_flow": null,
      "grid_area": null,
      "grid_auto_columns": null,
      "grid_auto_flow": null,
      "grid_auto_rows": null,
      "grid_column": null,
      "grid_gap": null,
      "grid_row": null,
      "grid_template_areas": null,
      "grid_template_columns": null,
      "grid_template_rows": null,
      "height": null,
      "justify_content": null,
      "justify_items": null,
      "left": null,
      "margin": null,
      "max_height": null,
      "max_width": null,
      "min_height": null,
      "min_width": null,
      "object_fit": null,
      "object_position": null,
      "order": null,
      "overflow": null,
      "overflow_x": null,
      "overflow_y": null,
      "padding": null,
      "right": null,
      "top": null,
      "visibility": null,
      "width": null
     }
    },
    "49738d987c4445ec8729c691fe6d3e72": {
     "model_module": "@jupyter-widgets/controls",
     "model_name": "FloatProgressModel",
     "state": {
      "_dom_classes": [],
      "_model_module": "@jupyter-widgets/controls",
      "_model_module_version": "1.5.0",
      "_model_name": "FloatProgressModel",
      "_view_count": null,
      "_view_module": "@jupyter-widgets/controls",
      "_view_module_version": "1.5.0",
      "_view_name": "ProgressView",
      "bar_style": "success",
      "description": "100%",
      "description_tooltip": null,
      "layout": "IPY_MODEL_4b82352fe5e24c71a275f0323700d1b4",
      "max": 1562,
      "min": 0,
      "orientation": "horizontal",
      "style": "IPY_MODEL_87b18a586f514287b77f0dca125aa301",
      "value": 1562
     }
    },
    "4b285a020423456b9a57c3f36fc4a30d": {
     "model_module": "@jupyter-widgets/controls",
     "model_name": "ProgressStyleModel",
     "state": {
      "_model_module": "@jupyter-widgets/controls",
      "_model_module_version": "1.5.0",
      "_model_name": "ProgressStyleModel",
      "_view_count": null,
      "_view_module": "@jupyter-widgets/base",
      "_view_module_version": "1.2.0",
      "_view_name": "StyleView",
      "bar_color": null,
      "description_width": "initial"
     }
    },
    "4b82352fe5e24c71a275f0323700d1b4": {
     "model_module": "@jupyter-widgets/base",
     "model_name": "LayoutModel",
     "state": {
      "_model_module": "@jupyter-widgets/base",
      "_model_module_version": "1.2.0",
      "_model_name": "LayoutModel",
      "_view_count": null,
      "_view_module": "@jupyter-widgets/base",
      "_view_module_version": "1.2.0",
      "_view_name": "LayoutView",
      "align_content": null,
      "align_items": null,
      "align_self": null,
      "border": null,
      "bottom": null,
      "display": null,
      "flex": null,
      "flex_flow": null,
      "grid_area": null,
      "grid_auto_columns": null,
      "grid_auto_flow": null,
      "grid_auto_rows": null,
      "grid_column": null,
      "grid_gap": null,
      "grid_row": null,
      "grid_template_areas": null,
      "grid_template_columns": null,
      "grid_template_rows": null,
      "height": null,
      "justify_content": null,
      "justify_items": null,
      "left": null,
      "margin": null,
      "max_height": null,
      "max_width": null,
      "min_height": null,
      "min_width": null,
      "object_fit": null,
      "object_position": null,
      "order": null,
      "overflow": null,
      "overflow_x": null,
      "overflow_y": null,
      "padding": null,
      "right": null,
      "top": null,
      "visibility": null,
      "width": null
     }
    },
    "4d028f7478674a3485f6a75d7a9dedbe": {
     "model_module": "@jupyter-widgets/base",
     "model_name": "LayoutModel",
     "state": {
      "_model_module": "@jupyter-widgets/base",
      "_model_module_version": "1.2.0",
      "_model_name": "LayoutModel",
      "_view_count": null,
      "_view_module": "@jupyter-widgets/base",
      "_view_module_version": "1.2.0",
      "_view_name": "LayoutView",
      "align_content": null,
      "align_items": null,
      "align_self": null,
      "border": null,
      "bottom": null,
      "display": null,
      "flex": null,
      "flex_flow": null,
      "grid_area": null,
      "grid_auto_columns": null,
      "grid_auto_flow": null,
      "grid_auto_rows": null,
      "grid_column": null,
      "grid_gap": null,
      "grid_row": null,
      "grid_template_areas": null,
      "grid_template_columns": null,
      "grid_template_rows": null,
      "height": null,
      "justify_content": null,
      "justify_items": null,
      "left": null,
      "margin": null,
      "max_height": null,
      "max_width": null,
      "min_height": null,
      "min_width": null,
      "object_fit": null,
      "object_position": null,
      "order": null,
      "overflow": null,
      "overflow_x": null,
      "overflow_y": null,
      "padding": null,
      "right": null,
      "top": null,
      "visibility": null,
      "width": null
     }
    },
    "4de3437959d1490eb191ffb5e0ffb847": {
     "model_module": "@jupyter-widgets/controls",
     "model_name": "HBoxModel",
     "state": {
      "_dom_classes": [],
      "_model_module": "@jupyter-widgets/controls",
      "_model_module_version": "1.5.0",
      "_model_name": "HBoxModel",
      "_view_count": null,
      "_view_module": "@jupyter-widgets/controls",
      "_view_module_version": "1.5.0",
      "_view_name": "HBoxView",
      "box_style": "",
      "children": [
       "IPY_MODEL_3bc62842ff4143c9a7f4041dbaebd35c",
       "IPY_MODEL_688e6704c0ea49fbb70d52b5786defca"
      ],
      "layout": "IPY_MODEL_0d3ec1bbc6a545c08f62209352111aaa"
     }
    },
    "4e40c31542184c8fbec88d688fc1542d": {
     "model_module": "@jupyter-widgets/controls",
     "model_name": "ProgressStyleModel",
     "state": {
      "_model_module": "@jupyter-widgets/controls",
      "_model_module_version": "1.5.0",
      "_model_name": "ProgressStyleModel",
      "_view_count": null,
      "_view_module": "@jupyter-widgets/base",
      "_view_module_version": "1.2.0",
      "_view_name": "StyleView",
      "bar_color": null,
      "description_width": "initial"
     }
    },
    "4eef39f0a7db4f2abe9bf95e807dce3a": {
     "model_module": "@jupyter-widgets/controls",
     "model_name": "HBoxModel",
     "state": {
      "_dom_classes": [],
      "_model_module": "@jupyter-widgets/controls",
      "_model_module_version": "1.5.0",
      "_model_name": "HBoxModel",
      "_view_count": null,
      "_view_module": "@jupyter-widgets/controls",
      "_view_module_version": "1.5.0",
      "_view_name": "HBoxView",
      "box_style": "",
      "children": [
       "IPY_MODEL_a71bbc9ce0824e7caca267593758061c",
       "IPY_MODEL_03d612cb8e9346408b0f071e8ff434c4"
      ],
      "layout": "IPY_MODEL_61f616fedece4007ad0b03f7d9446116"
     }
    },
    "4f1e0fcaad464c749215496eb31d2a70": {
     "model_module": "@jupyter-widgets/controls",
     "model_name": "HBoxModel",
     "state": {
      "_dom_classes": [],
      "_model_module": "@jupyter-widgets/controls",
      "_model_module_version": "1.5.0",
      "_model_name": "HBoxModel",
      "_view_count": null,
      "_view_module": "@jupyter-widgets/controls",
      "_view_module_version": "1.5.0",
      "_view_name": "HBoxView",
      "box_style": "",
      "children": [
       "IPY_MODEL_99b30bca97e64925855dc61ad3f6183e",
       "IPY_MODEL_dfda9e011a6e498890e9157f4e529911"
      ],
      "layout": "IPY_MODEL_ecaabba5775e4a1eac9607052b0010cf"
     }
    },
    "4f2c2d159d2a4ed2812bef65bc25d3c1": {
     "model_module": "@jupyter-widgets/base",
     "model_name": "LayoutModel",
     "state": {
      "_model_module": "@jupyter-widgets/base",
      "_model_module_version": "1.2.0",
      "_model_name": "LayoutModel",
      "_view_count": null,
      "_view_module": "@jupyter-widgets/base",
      "_view_module_version": "1.2.0",
      "_view_name": "LayoutView",
      "align_content": null,
      "align_items": null,
      "align_self": null,
      "border": null,
      "bottom": null,
      "display": null,
      "flex": null,
      "flex_flow": null,
      "grid_area": null,
      "grid_auto_columns": null,
      "grid_auto_flow": null,
      "grid_auto_rows": null,
      "grid_column": null,
      "grid_gap": null,
      "grid_row": null,
      "grid_template_areas": null,
      "grid_template_columns": null,
      "grid_template_rows": null,
      "height": null,
      "justify_content": null,
      "justify_items": null,
      "left": null,
      "margin": null,
      "max_height": null,
      "max_width": null,
      "min_height": null,
      "min_width": null,
      "object_fit": null,
      "object_position": null,
      "order": null,
      "overflow": null,
      "overflow_x": null,
      "overflow_y": null,
      "padding": null,
      "right": null,
      "top": null,
      "visibility": null,
      "width": null
     }
    },
    "518d6f9e0fc24fedbf5f77b084fb5de7": {
     "model_module": "@jupyter-widgets/base",
     "model_name": "LayoutModel",
     "state": {
      "_model_module": "@jupyter-widgets/base",
      "_model_module_version": "1.2.0",
      "_model_name": "LayoutModel",
      "_view_count": null,
      "_view_module": "@jupyter-widgets/base",
      "_view_module_version": "1.2.0",
      "_view_name": "LayoutView",
      "align_content": null,
      "align_items": null,
      "align_self": null,
      "border": null,
      "bottom": null,
      "display": null,
      "flex": null,
      "flex_flow": null,
      "grid_area": null,
      "grid_auto_columns": null,
      "grid_auto_flow": null,
      "grid_auto_rows": null,
      "grid_column": null,
      "grid_gap": null,
      "grid_row": null,
      "grid_template_areas": null,
      "grid_template_columns": null,
      "grid_template_rows": null,
      "height": null,
      "justify_content": null,
      "justify_items": null,
      "left": null,
      "margin": null,
      "max_height": null,
      "max_width": null,
      "min_height": null,
      "min_width": null,
      "object_fit": null,
      "object_position": null,
      "order": null,
      "overflow": null,
      "overflow_x": null,
      "overflow_y": null,
      "padding": null,
      "right": null,
      "top": null,
      "visibility": null,
      "width": null
     }
    },
    "52bb9aef473d43eea5e044f311ef6c42": {
     "model_module": "@jupyter-widgets/controls",
     "model_name": "DescriptionStyleModel",
     "state": {
      "_model_module": "@jupyter-widgets/controls",
      "_model_module_version": "1.5.0",
      "_model_name": "DescriptionStyleModel",
      "_view_count": null,
      "_view_module": "@jupyter-widgets/base",
      "_view_module_version": "1.2.0",
      "_view_name": "StyleView",
      "description_width": ""
     }
    },
    "55c84e11c2824997b0b6f77eecc7db8d": {
     "model_module": "@jupyter-widgets/controls",
     "model_name": "HTMLModel",
     "state": {
      "_dom_classes": [],
      "_model_module": "@jupyter-widgets/controls",
      "_model_module_version": "1.5.0",
      "_model_name": "HTMLModel",
      "_view_count": null,
      "_view_module": "@jupyter-widgets/controls",
      "_view_module_version": "1.5.0",
      "_view_name": "HTMLView",
      "description": "",
      "description_tooltip": null,
      "layout": "IPY_MODEL_2742b913747345fa818285e209808ed9",
      "placeholder": "​",
      "style": "IPY_MODEL_ae01a4bd0d694861b7e1a9577f1e4947",
      "value": " 0/200000 [00:00&lt;?, ?it/s]"
     }
    },
    "56add1313dca4bdba351f80ff5fd6d82": {
     "model_module": "@jupyter-widgets/base",
     "model_name": "LayoutModel",
     "state": {
      "_model_module": "@jupyter-widgets/base",
      "_model_module_version": "1.2.0",
      "_model_name": "LayoutModel",
      "_view_count": null,
      "_view_module": "@jupyter-widgets/base",
      "_view_module_version": "1.2.0",
      "_view_name": "LayoutView",
      "align_content": null,
      "align_items": null,
      "align_self": null,
      "border": null,
      "bottom": null,
      "display": null,
      "flex": null,
      "flex_flow": null,
      "grid_area": null,
      "grid_auto_columns": null,
      "grid_auto_flow": null,
      "grid_auto_rows": null,
      "grid_column": null,
      "grid_gap": null,
      "grid_row": null,
      "grid_template_areas": null,
      "grid_template_columns": null,
      "grid_template_rows": null,
      "height": null,
      "justify_content": null,
      "justify_items": null,
      "left": null,
      "margin": null,
      "max_height": null,
      "max_width": null,
      "min_height": null,
      "min_width": null,
      "object_fit": null,
      "object_position": null,
      "order": null,
      "overflow": null,
      "overflow_x": null,
      "overflow_y": null,
      "padding": null,
      "right": null,
      "top": null,
      "visibility": null,
      "width": null
     }
    },
    "5852c36e894d4292aff5ca497adbddf7": {
     "model_module": "@jupyter-widgets/controls",
     "model_name": "HBoxModel",
     "state": {
      "_dom_classes": [],
      "_model_module": "@jupyter-widgets/controls",
      "_model_module_version": "1.5.0",
      "_model_name": "HBoxModel",
      "_view_count": null,
      "_view_module": "@jupyter-widgets/controls",
      "_view_module_version": "1.5.0",
      "_view_name": "HBoxView",
      "box_style": "",
      "children": [
       "IPY_MODEL_e65715f72da9428eac11e5a743bec522",
       "IPY_MODEL_ba0ca4b67fac478ebbb7b56b90528b99"
      ],
      "layout": "IPY_MODEL_4906e4dee8b344089307871898f7cb0a"
     }
    },
    "5a9447e6847f422eb01466b3a323e12f": {
     "model_module": "@jupyter-widgets/controls",
     "model_name": "ProgressStyleModel",
     "state": {
      "_model_module": "@jupyter-widgets/controls",
      "_model_module_version": "1.5.0",
      "_model_name": "ProgressStyleModel",
      "_view_count": null,
      "_view_module": "@jupyter-widgets/base",
      "_view_module_version": "1.2.0",
      "_view_name": "StyleView",
      "bar_color": null,
      "description_width": "initial"
     }
    },
    "5ed791581ca14e7db4f4cb4ec4febef8": {
     "model_module": "@jupyter-widgets/base",
     "model_name": "LayoutModel",
     "state": {
      "_model_module": "@jupyter-widgets/base",
      "_model_module_version": "1.2.0",
      "_model_name": "LayoutModel",
      "_view_count": null,
      "_view_module": "@jupyter-widgets/base",
      "_view_module_version": "1.2.0",
      "_view_name": "LayoutView",
      "align_content": null,
      "align_items": null,
      "align_self": null,
      "border": null,
      "bottom": null,
      "display": null,
      "flex": null,
      "flex_flow": null,
      "grid_area": null,
      "grid_auto_columns": null,
      "grid_auto_flow": null,
      "grid_auto_rows": null,
      "grid_column": null,
      "grid_gap": null,
      "grid_row": null,
      "grid_template_areas": null,
      "grid_template_columns": null,
      "grid_template_rows": null,
      "height": null,
      "justify_content": null,
      "justify_items": null,
      "left": null,
      "margin": null,
      "max_height": null,
      "max_width": null,
      "min_height": null,
      "min_width": null,
      "object_fit": null,
      "object_position": null,
      "order": null,
      "overflow": null,
      "overflow_x": null,
      "overflow_y": null,
      "padding": null,
      "right": null,
      "top": null,
      "visibility": null,
      "width": null
     }
    },
    "6071aa6cd13743899c32d64af3f747a6": {
     "model_module": "@jupyter-widgets/controls",
     "model_name": "ProgressStyleModel",
     "state": {
      "_model_module": "@jupyter-widgets/controls",
      "_model_module_version": "1.5.0",
      "_model_name": "ProgressStyleModel",
      "_view_count": null,
      "_view_module": "@jupyter-widgets/base",
      "_view_module_version": "1.2.0",
      "_view_name": "StyleView",
      "bar_color": null,
      "description_width": "initial"
     }
    },
    "61d42631c27e4e7899a525a520f3db8d": {
     "model_module": "@jupyter-widgets/controls",
     "model_name": "ProgressStyleModel",
     "state": {
      "_model_module": "@jupyter-widgets/controls",
      "_model_module_version": "1.5.0",
      "_model_name": "ProgressStyleModel",
      "_view_count": null,
      "_view_module": "@jupyter-widgets/base",
      "_view_module_version": "1.2.0",
      "_view_name": "StyleView",
      "bar_color": null,
      "description_width": "initial"
     }
    },
    "61f616fedece4007ad0b03f7d9446116": {
     "model_module": "@jupyter-widgets/base",
     "model_name": "LayoutModel",
     "state": {
      "_model_module": "@jupyter-widgets/base",
      "_model_module_version": "1.2.0",
      "_model_name": "LayoutModel",
      "_view_count": null,
      "_view_module": "@jupyter-widgets/base",
      "_view_module_version": "1.2.0",
      "_view_name": "LayoutView",
      "align_content": null,
      "align_items": null,
      "align_self": null,
      "border": null,
      "bottom": null,
      "display": null,
      "flex": null,
      "flex_flow": null,
      "grid_area": null,
      "grid_auto_columns": null,
      "grid_auto_flow": null,
      "grid_auto_rows": null,
      "grid_column": null,
      "grid_gap": null,
      "grid_row": null,
      "grid_template_areas": null,
      "grid_template_columns": null,
      "grid_template_rows": null,
      "height": null,
      "justify_content": null,
      "justify_items": null,
      "left": null,
      "margin": null,
      "max_height": null,
      "max_width": null,
      "min_height": null,
      "min_width": null,
      "object_fit": null,
      "object_position": null,
      "order": null,
      "overflow": null,
      "overflow_x": null,
      "overflow_y": null,
      "padding": null,
      "right": null,
      "top": null,
      "visibility": null,
      "width": null
     }
    },
    "6396d7c41109478990ffab69bb0eb5de": {
     "model_module": "@jupyter-widgets/controls",
     "model_name": "FloatProgressModel",
     "state": {
      "_dom_classes": [],
      "_model_module": "@jupyter-widgets/controls",
      "_model_module_version": "1.5.0",
      "_model_name": "FloatProgressModel",
      "_view_count": null,
      "_view_module": "@jupyter-widgets/controls",
      "_view_module_version": "1.5.0",
      "_view_name": "ProgressView",
      "bar_style": "success",
      "description": "100%",
      "description_tooltip": null,
      "layout": "IPY_MODEL_3b7578a06b7f45ec9d476863d0fee729",
      "max": 1562,
      "min": 0,
      "orientation": "horizontal",
      "style": "IPY_MODEL_89716678dda446869414ea1f18915f2d",
      "value": 1562
     }
    },
    "6476fefebd7346c69f12634c5d02b175": {
     "model_module": "@jupyter-widgets/base",
     "model_name": "LayoutModel",
     "state": {
      "_model_module": "@jupyter-widgets/base",
      "_model_module_version": "1.2.0",
      "_model_name": "LayoutModel",
      "_view_count": null,
      "_view_module": "@jupyter-widgets/base",
      "_view_module_version": "1.2.0",
      "_view_name": "LayoutView",
      "align_content": null,
      "align_items": null,
      "align_self": null,
      "border": null,
      "bottom": null,
      "display": null,
      "flex": null,
      "flex_flow": null,
      "grid_area": null,
      "grid_auto_columns": null,
      "grid_auto_flow": null,
      "grid_auto_rows": null,
      "grid_column": null,
      "grid_gap": null,
      "grid_row": null,
      "grid_template_areas": null,
      "grid_template_columns": null,
      "grid_template_rows": null,
      "height": null,
      "justify_content": null,
      "justify_items": null,
      "left": null,
      "margin": null,
      "max_height": null,
      "max_width": null,
      "min_height": null,
      "min_width": null,
      "object_fit": null,
      "object_position": null,
      "order": null,
      "overflow": null,
      "overflow_x": null,
      "overflow_y": null,
      "padding": null,
      "right": null,
      "top": null,
      "visibility": null,
      "width": null
     }
    },
    "64e598432517435591688f9ae522303e": {
     "model_module": "@jupyter-widgets/controls",
     "model_name": "HBoxModel",
     "state": {
      "_dom_classes": [],
      "_model_module": "@jupyter-widgets/controls",
      "_model_module_version": "1.5.0",
      "_model_name": "HBoxModel",
      "_view_count": null,
      "_view_module": "@jupyter-widgets/controls",
      "_view_module_version": "1.5.0",
      "_view_name": "HBoxView",
      "box_style": "",
      "children": [
       "IPY_MODEL_c1a135587eb149cc99d45cfae84e0521",
       "IPY_MODEL_c2be4515e0044b0090c5bc4cf31f864e"
      ],
      "layout": "IPY_MODEL_0a83e469ecdd4ff6a7fe4fe4f9433b68"
     }
    },
    "65698bcd0b5b403d836638592e76a1bc": {
     "model_module": "@jupyter-widgets/controls",
     "model_name": "HBoxModel",
     "state": {
      "_dom_classes": [],
      "_model_module": "@jupyter-widgets/controls",
      "_model_module_version": "1.5.0",
      "_model_name": "HBoxModel",
      "_view_count": null,
      "_view_module": "@jupyter-widgets/controls",
      "_view_module_version": "1.5.0",
      "_view_name": "HBoxView",
      "box_style": "",
      "children": [
       "IPY_MODEL_6bfc8a8d6bfc43f68fb52b4802ffa6ef",
       "IPY_MODEL_1e4656b3f5dd41bba7f3bd490708ff8b"
      ],
      "layout": "IPY_MODEL_b6624063537c470ea7c0272e26b6b567"
     }
    },
    "6587d80efb224b84a0f6d2f7d43b724f": {
     "model_module": "@jupyter-widgets/controls",
     "model_name": "DescriptionStyleModel",
     "state": {
      "_model_module": "@jupyter-widgets/controls",
      "_model_module_version": "1.5.0",
      "_model_name": "DescriptionStyleModel",
      "_view_count": null,
      "_view_module": "@jupyter-widgets/base",
      "_view_module_version": "1.2.0",
      "_view_name": "StyleView",
      "description_width": ""
     }
    },
    "680315b28b004c1588af34c74b74e302": {
     "model_module": "@jupyter-widgets/controls",
     "model_name": "HTMLModel",
     "state": {
      "_dom_classes": [],
      "_model_module": "@jupyter-widgets/controls",
      "_model_module_version": "1.5.0",
      "_model_name": "HTMLModel",
      "_view_count": null,
      "_view_module": "@jupyter-widgets/controls",
      "_view_module_version": "1.5.0",
      "_view_name": "HTMLView",
      "description": "",
      "description_tooltip": null,
      "layout": "IPY_MODEL_274fe4f3055c46998b403b9bb0f87632",
      "placeholder": "​",
      "style": "IPY_MODEL_f20afc1651e64d1bb1193b80755148fd",
      "value": " 1562/1562 [11:29&lt;00:00,  2.27it/s]"
     }
    },
    "688e6704c0ea49fbb70d52b5786defca": {
     "model_module": "@jupyter-widgets/controls",
     "model_name": "HTMLModel",
     "state": {
      "_dom_classes": [],
      "_model_module": "@jupyter-widgets/controls",
      "_model_module_version": "1.5.0",
      "_model_name": "HTMLModel",
      "_view_count": null,
      "_view_module": "@jupyter-widgets/controls",
      "_view_module_version": "1.5.0",
      "_view_name": "HTMLView",
      "description": "",
      "description_tooltip": null,
      "layout": "IPY_MODEL_e6bb350a79e7453ea1b5b5150799c6c3",
      "placeholder": "​",
      "style": "IPY_MODEL_6e6642a6ec954d338e2715d5a8e28a56",
      "value": " 1562/1562 [03:05&lt;00:00,  8.44it/s]"
     }
    },
    "696addf9e6d64c92be583c2e08666f77": {
     "model_module": "@jupyter-widgets/base",
     "model_name": "LayoutModel",
     "state": {
      "_model_module": "@jupyter-widgets/base",
      "_model_module_version": "1.2.0",
      "_model_name": "LayoutModel",
      "_view_count": null,
      "_view_module": "@jupyter-widgets/base",
      "_view_module_version": "1.2.0",
      "_view_name": "LayoutView",
      "align_content": null,
      "align_items": null,
      "align_self": null,
      "border": null,
      "bottom": null,
      "display": null,
      "flex": null,
      "flex_flow": null,
      "grid_area": null,
      "grid_auto_columns": null,
      "grid_auto_flow": null,
      "grid_auto_rows": null,
      "grid_column": null,
      "grid_gap": null,
      "grid_row": null,
      "grid_template_areas": null,
      "grid_template_columns": null,
      "grid_template_rows": null,
      "height": null,
      "justify_content": null,
      "justify_items": null,
      "left": null,
      "margin": null,
      "max_height": null,
      "max_width": null,
      "min_height": null,
      "min_width": null,
      "object_fit": null,
      "object_position": null,
      "order": null,
      "overflow": null,
      "overflow_x": null,
      "overflow_y": null,
      "padding": null,
      "right": null,
      "top": null,
      "visibility": null,
      "width": null
     }
    },
    "69e2c345929645bbba35fa9a5dfb916f": {
     "model_module": "@jupyter-widgets/base",
     "model_name": "LayoutModel",
     "state": {
      "_model_module": "@jupyter-widgets/base",
      "_model_module_version": "1.2.0",
      "_model_name": "LayoutModel",
      "_view_count": null,
      "_view_module": "@jupyter-widgets/base",
      "_view_module_version": "1.2.0",
      "_view_name": "LayoutView",
      "align_content": null,
      "align_items": null,
      "align_self": null,
      "border": null,
      "bottom": null,
      "display": null,
      "flex": null,
      "flex_flow": null,
      "grid_area": null,
      "grid_auto_columns": null,
      "grid_auto_flow": null,
      "grid_auto_rows": null,
      "grid_column": null,
      "grid_gap": null,
      "grid_row": null,
      "grid_template_areas": null,
      "grid_template_columns": null,
      "grid_template_rows": null,
      "height": null,
      "justify_content": null,
      "justify_items": null,
      "left": null,
      "margin": null,
      "max_height": null,
      "max_width": null,
      "min_height": null,
      "min_width": null,
      "object_fit": null,
      "object_position": null,
      "order": null,
      "overflow": null,
      "overflow_x": null,
      "overflow_y": null,
      "padding": null,
      "right": null,
      "top": null,
      "visibility": null,
      "width": null
     }
    },
    "6bfc8a8d6bfc43f68fb52b4802ffa6ef": {
     "model_module": "@jupyter-widgets/controls",
     "model_name": "FloatProgressModel",
     "state": {
      "_dom_classes": [],
      "_model_module": "@jupyter-widgets/controls",
      "_model_module_version": "1.5.0",
      "_model_name": "FloatProgressModel",
      "_view_count": null,
      "_view_module": "@jupyter-widgets/controls",
      "_view_module_version": "1.5.0",
      "_view_name": "ProgressView",
      "bar_style": "danger",
      "description": " 76%",
      "description_tooltip": null,
      "layout": "IPY_MODEL_6ded942b64d646b3aa00870be887a44d",
      "max": 1562,
      "min": 0,
      "orientation": "horizontal",
      "style": "IPY_MODEL_36a70a52b3b04151b1fc90d3dfcfbdc0",
      "value": 1185
     }
    },
    "6c1742ffbe0c4bf48bec6054789ed127": {
     "model_module": "@jupyter-widgets/base",
     "model_name": "LayoutModel",
     "state": {
      "_model_module": "@jupyter-widgets/base",
      "_model_module_version": "1.2.0",
      "_model_name": "LayoutModel",
      "_view_count": null,
      "_view_module": "@jupyter-widgets/base",
      "_view_module_version": "1.2.0",
      "_view_name": "LayoutView",
      "align_content": null,
      "align_items": null,
      "align_self": null,
      "border": null,
      "bottom": null,
      "display": null,
      "flex": null,
      "flex_flow": null,
      "grid_area": null,
      "grid_auto_columns": null,
      "grid_auto_flow": null,
      "grid_auto_rows": null,
      "grid_column": null,
      "grid_gap": null,
      "grid_row": null,
      "grid_template_areas": null,
      "grid_template_columns": null,
      "grid_template_rows": null,
      "height": null,
      "justify_content": null,
      "justify_items": null,
      "left": null,
      "margin": null,
      "max_height": null,
      "max_width": null,
      "min_height": null,
      "min_width": null,
      "object_fit": null,
      "object_position": null,
      "order": null,
      "overflow": null,
      "overflow_x": null,
      "overflow_y": null,
      "padding": null,
      "right": null,
      "top": null,
      "visibility": null,
      "width": null
     }
    },
    "6ded942b64d646b3aa00870be887a44d": {
     "model_module": "@jupyter-widgets/base",
     "model_name": "LayoutModel",
     "state": {
      "_model_module": "@jupyter-widgets/base",
      "_model_module_version": "1.2.0",
      "_model_name": "LayoutModel",
      "_view_count": null,
      "_view_module": "@jupyter-widgets/base",
      "_view_module_version": "1.2.0",
      "_view_name": "LayoutView",
      "align_content": null,
      "align_items": null,
      "align_self": null,
      "border": null,
      "bottom": null,
      "display": null,
      "flex": null,
      "flex_flow": null,
      "grid_area": null,
      "grid_auto_columns": null,
      "grid_auto_flow": null,
      "grid_auto_rows": null,
      "grid_column": null,
      "grid_gap": null,
      "grid_row": null,
      "grid_template_areas": null,
      "grid_template_columns": null,
      "grid_template_rows": null,
      "height": null,
      "justify_content": null,
      "justify_items": null,
      "left": null,
      "margin": null,
      "max_height": null,
      "max_width": null,
      "min_height": null,
      "min_width": null,
      "object_fit": null,
      "object_position": null,
      "order": null,
      "overflow": null,
      "overflow_x": null,
      "overflow_y": null,
      "padding": null,
      "right": null,
      "top": null,
      "visibility": null,
      "width": null
     }
    },
    "6df0e1359d6c46a89c2c1451d91bb943": {
     "model_module": "@jupyter-widgets/controls",
     "model_name": "ProgressStyleModel",
     "state": {
      "_model_module": "@jupyter-widgets/controls",
      "_model_module_version": "1.5.0",
      "_model_name": "ProgressStyleModel",
      "_view_count": null,
      "_view_module": "@jupyter-widgets/base",
      "_view_module_version": "1.2.0",
      "_view_name": "StyleView",
      "bar_color": null,
      "description_width": "initial"
     }
    },
    "6e23e369238a4297b6d83a2fdf51c9ec": {
     "model_module": "@jupyter-widgets/controls",
     "model_name": "DescriptionStyleModel",
     "state": {
      "_model_module": "@jupyter-widgets/controls",
      "_model_module_version": "1.5.0",
      "_model_name": "DescriptionStyleModel",
      "_view_count": null,
      "_view_module": "@jupyter-widgets/base",
      "_view_module_version": "1.2.0",
      "_view_name": "StyleView",
      "description_width": ""
     }
    },
    "6e6642a6ec954d338e2715d5a8e28a56": {
     "model_module": "@jupyter-widgets/controls",
     "model_name": "DescriptionStyleModel",
     "state": {
      "_model_module": "@jupyter-widgets/controls",
      "_model_module_version": "1.5.0",
      "_model_name": "DescriptionStyleModel",
      "_view_count": null,
      "_view_module": "@jupyter-widgets/base",
      "_view_module_version": "1.2.0",
      "_view_name": "StyleView",
      "description_width": ""
     }
    },
    "7273532b92a041e88ed0fde1b659cc01": {
     "model_module": "@jupyter-widgets/controls",
     "model_name": "HTMLModel",
     "state": {
      "_dom_classes": [],
      "_model_module": "@jupyter-widgets/controls",
      "_model_module_version": "1.5.0",
      "_model_name": "HTMLModel",
      "_view_count": null,
      "_view_module": "@jupyter-widgets/controls",
      "_view_module_version": "1.5.0",
      "_view_name": "HTMLView",
      "description": "",
      "description_tooltip": null,
      "layout": "IPY_MODEL_12bb27fc07794f4d8ec0f44e257face5",
      "placeholder": "​",
      "style": "IPY_MODEL_798ebfa41e49445b851d94b30819bcb0",
      "value": " 781/781 [00:12&lt;00:00, 64.19it/s]"
     }
    },
    "72781b8617a3466f86669cd56c8e602e": {
     "model_module": "@jupyter-widgets/base",
     "model_name": "LayoutModel",
     "state": {
      "_model_module": "@jupyter-widgets/base",
      "_model_module_version": "1.2.0",
      "_model_name": "LayoutModel",
      "_view_count": null,
      "_view_module": "@jupyter-widgets/base",
      "_view_module_version": "1.2.0",
      "_view_name": "LayoutView",
      "align_content": null,
      "align_items": null,
      "align_self": null,
      "border": null,
      "bottom": null,
      "display": null,
      "flex": null,
      "flex_flow": null,
      "grid_area": null,
      "grid_auto_columns": null,
      "grid_auto_flow": null,
      "grid_auto_rows": null,
      "grid_column": null,
      "grid_gap": null,
      "grid_row": null,
      "grid_template_areas": null,
      "grid_template_columns": null,
      "grid_template_rows": null,
      "height": null,
      "justify_content": null,
      "justify_items": null,
      "left": null,
      "margin": null,
      "max_height": null,
      "max_width": null,
      "min_height": null,
      "min_width": null,
      "object_fit": null,
      "object_position": null,
      "order": null,
      "overflow": null,
      "overflow_x": null,
      "overflow_y": null,
      "padding": null,
      "right": null,
      "top": null,
      "visibility": null,
      "width": null
     }
    },
    "72b06ad6f1ed46d69bb7b887797a56f5": {
     "model_module": "@jupyter-widgets/controls",
     "model_name": "HTMLModel",
     "state": {
      "_dom_classes": [],
      "_model_module": "@jupyter-widgets/controls",
      "_model_module_version": "1.5.0",
      "_model_name": "HTMLModel",
      "_view_count": null,
      "_view_module": "@jupyter-widgets/controls",
      "_view_module_version": "1.5.0",
      "_view_name": "HTMLView",
      "description": "",
      "description_tooltip": null,
      "layout": "IPY_MODEL_2c8d5d7fa8ce49ce920033413b625a6c",
      "placeholder": "​",
      "style": "IPY_MODEL_874c718c473b4c349d6a5ff1ddae9ce4",
      "value": " 1562/1562 [03:09&lt;00:00,  8.24it/s]"
     }
    },
    "72b281422e4244cf994f43e1fa600bc9": {
     "model_module": "@jupyter-widgets/controls",
     "model_name": "DescriptionStyleModel",
     "state": {
      "_model_module": "@jupyter-widgets/controls",
      "_model_module_version": "1.5.0",
      "_model_name": "DescriptionStyleModel",
      "_view_count": null,
      "_view_module": "@jupyter-widgets/base",
      "_view_module_version": "1.2.0",
      "_view_name": "StyleView",
      "description_width": ""
     }
    },
    "730f7fedc8ff42418f89027aa381d0f3": {
     "model_module": "@jupyter-widgets/controls",
     "model_name": "FloatProgressModel",
     "state": {
      "_dom_classes": [],
      "_model_module": "@jupyter-widgets/controls",
      "_model_module_version": "1.5.0",
      "_model_name": "FloatProgressModel",
      "_view_count": null,
      "_view_module": "@jupyter-widgets/controls",
      "_view_module_version": "1.5.0",
      "_view_name": "ProgressView",
      "bar_style": "success",
      "description": "100%",
      "description_tooltip": null,
      "layout": "IPY_MODEL_9f9103d987484d779db6be0c80be0e33",
      "max": 781,
      "min": 0,
      "orientation": "horizontal",
      "style": "IPY_MODEL_14bf61970f42460187f727123848fae6",
      "value": 781
     }
    },
    "74576346693e4e7da39ab93f51d523ad": {
     "model_module": "@jupyter-widgets/controls",
     "model_name": "FloatProgressModel",
     "state": {
      "_dom_classes": [],
      "_model_module": "@jupyter-widgets/controls",
      "_model_module_version": "1.5.0",
      "_model_name": "FloatProgressModel",
      "_view_count": null,
      "_view_module": "@jupyter-widgets/controls",
      "_view_module_version": "1.5.0",
      "_view_name": "ProgressView",
      "bar_style": "success",
      "description": "100%",
      "description_tooltip": null,
      "layout": "IPY_MODEL_f0406c0e1e9b4c35a22a7ea173ea61f3",
      "max": 781,
      "min": 0,
      "orientation": "horizontal",
      "style": "IPY_MODEL_ba0b9be83113483c9bb15393c1cbc6b2",
      "value": 781
     }
    },
    "74c02120090b47539d66559ec56d327f": {
     "model_module": "@jupyter-widgets/controls",
     "model_name": "DescriptionStyleModel",
     "state": {
      "_model_module": "@jupyter-widgets/controls",
      "_model_module_version": "1.5.0",
      "_model_name": "DescriptionStyleModel",
      "_view_count": null,
      "_view_module": "@jupyter-widgets/base",
      "_view_module_version": "1.2.0",
      "_view_name": "StyleView",
      "description_width": ""
     }
    },
    "764052a671794d718278af07f4366456": {
     "model_module": "@jupyter-widgets/base",
     "model_name": "LayoutModel",
     "state": {
      "_model_module": "@jupyter-widgets/base",
      "_model_module_version": "1.2.0",
      "_model_name": "LayoutModel",
      "_view_count": null,
      "_view_module": "@jupyter-widgets/base",
      "_view_module_version": "1.2.0",
      "_view_name": "LayoutView",
      "align_content": null,
      "align_items": null,
      "align_self": null,
      "border": null,
      "bottom": null,
      "display": null,
      "flex": null,
      "flex_flow": null,
      "grid_area": null,
      "grid_auto_columns": null,
      "grid_auto_flow": null,
      "grid_auto_rows": null,
      "grid_column": null,
      "grid_gap": null,
      "grid_row": null,
      "grid_template_areas": null,
      "grid_template_columns": null,
      "grid_template_rows": null,
      "height": null,
      "justify_content": null,
      "justify_items": null,
      "left": null,
      "margin": null,
      "max_height": null,
      "max_width": null,
      "min_height": null,
      "min_width": null,
      "object_fit": null,
      "object_position": null,
      "order": null,
      "overflow": null,
      "overflow_x": null,
      "overflow_y": null,
      "padding": null,
      "right": null,
      "top": null,
      "visibility": null,
      "width": null
     }
    },
    "76d0a38d6fae49f582f2591025ced23e": {
     "model_module": "@jupyter-widgets/base",
     "model_name": "LayoutModel",
     "state": {
      "_model_module": "@jupyter-widgets/base",
      "_model_module_version": "1.2.0",
      "_model_name": "LayoutModel",
      "_view_count": null,
      "_view_module": "@jupyter-widgets/base",
      "_view_module_version": "1.2.0",
      "_view_name": "LayoutView",
      "align_content": null,
      "align_items": null,
      "align_self": null,
      "border": null,
      "bottom": null,
      "display": null,
      "flex": null,
      "flex_flow": null,
      "grid_area": null,
      "grid_auto_columns": null,
      "grid_auto_flow": null,
      "grid_auto_rows": null,
      "grid_column": null,
      "grid_gap": null,
      "grid_row": null,
      "grid_template_areas": null,
      "grid_template_columns": null,
      "grid_template_rows": null,
      "height": null,
      "justify_content": null,
      "justify_items": null,
      "left": null,
      "margin": null,
      "max_height": null,
      "max_width": null,
      "min_height": null,
      "min_width": null,
      "object_fit": null,
      "object_position": null,
      "order": null,
      "overflow": null,
      "overflow_x": null,
      "overflow_y": null,
      "padding": null,
      "right": null,
      "top": null,
      "visibility": null,
      "width": null
     }
    },
    "798ebfa41e49445b851d94b30819bcb0": {
     "model_module": "@jupyter-widgets/controls",
     "model_name": "DescriptionStyleModel",
     "state": {
      "_model_module": "@jupyter-widgets/controls",
      "_model_module_version": "1.5.0",
      "_model_name": "DescriptionStyleModel",
      "_view_count": null,
      "_view_module": "@jupyter-widgets/base",
      "_view_module_version": "1.2.0",
      "_view_name": "StyleView",
      "description_width": ""
     }
    },
    "79fec358ceaa4a2698bb63e0f2828474": {
     "model_module": "@jupyter-widgets/controls",
     "model_name": "FloatProgressModel",
     "state": {
      "_dom_classes": [],
      "_model_module": "@jupyter-widgets/controls",
      "_model_module_version": "1.5.0",
      "_model_name": "FloatProgressModel",
      "_view_count": null,
      "_view_module": "@jupyter-widgets/controls",
      "_view_module_version": "1.5.0",
      "_view_name": "ProgressView",
      "bar_style": "danger",
      "description": "  0%",
      "description_tooltip": null,
      "layout": "IPY_MODEL_ad279cd507aa44418272862851e02dea",
      "max": 200000,
      "min": 0,
      "orientation": "horizontal",
      "style": "IPY_MODEL_f8631d7b4c5847ae8e9562d103eacb51",
      "value": 0
     }
    },
    "7aa50473e0eb402980fd3524cc3a92cf": {
     "model_module": "@jupyter-widgets/controls",
     "model_name": "HBoxModel",
     "state": {
      "_dom_classes": [],
      "_model_module": "@jupyter-widgets/controls",
      "_model_module_version": "1.5.0",
      "_model_name": "HBoxModel",
      "_view_count": null,
      "_view_module": "@jupyter-widgets/controls",
      "_view_module_version": "1.5.0",
      "_view_name": "HBoxView",
      "box_style": "",
      "children": [
       "IPY_MODEL_a088c74d4bdb42e691d6ef70d2b705be",
       "IPY_MODEL_3c6601a6eef2461693960ca681dbd8ce"
      ],
      "layout": "IPY_MODEL_518d6f9e0fc24fedbf5f77b084fb5de7"
     }
    },
    "7be69bcaead845a38604f1af14881b3c": {
     "model_module": "@jupyter-widgets/controls",
     "model_name": "HTMLModel",
     "state": {
      "_dom_classes": [],
      "_model_module": "@jupyter-widgets/controls",
      "_model_module_version": "1.5.0",
      "_model_name": "HTMLModel",
      "_view_count": null,
      "_view_module": "@jupyter-widgets/controls",
      "_view_module_version": "1.5.0",
      "_view_name": "HTMLView",
      "description": "",
      "description_tooltip": null,
      "layout": "IPY_MODEL_3d49194fe7bb45639e1a69d8e7bbe77d",
      "placeholder": "​",
      "style": "IPY_MODEL_e42b96004e5e46688160e0422c32f388",
      "value": " 1562/1562 [09:58&lt;00:00,  2.61it/s]"
     }
    },
    "7d5b044f8557434e834d9c1a6c0db161": {
     "model_module": "@jupyter-widgets/controls",
     "model_name": "ProgressStyleModel",
     "state": {
      "_model_module": "@jupyter-widgets/controls",
      "_model_module_version": "1.5.0",
      "_model_name": "ProgressStyleModel",
      "_view_count": null,
      "_view_module": "@jupyter-widgets/base",
      "_view_module_version": "1.2.0",
      "_view_name": "StyleView",
      "bar_color": null,
      "description_width": "initial"
     }
    },
    "7f39956c8b434fbfae4cd2cd662ac5fb": {
     "model_module": "@jupyter-widgets/base",
     "model_name": "LayoutModel",
     "state": {
      "_model_module": "@jupyter-widgets/base",
      "_model_module_version": "1.2.0",
      "_model_name": "LayoutModel",
      "_view_count": null,
      "_view_module": "@jupyter-widgets/base",
      "_view_module_version": "1.2.0",
      "_view_name": "LayoutView",
      "align_content": null,
      "align_items": null,
      "align_self": null,
      "border": null,
      "bottom": null,
      "display": null,
      "flex": null,
      "flex_flow": null,
      "grid_area": null,
      "grid_auto_columns": null,
      "grid_auto_flow": null,
      "grid_auto_rows": null,
      "grid_column": null,
      "grid_gap": null,
      "grid_row": null,
      "grid_template_areas": null,
      "grid_template_columns": null,
      "grid_template_rows": null,
      "height": null,
      "justify_content": null,
      "justify_items": null,
      "left": null,
      "margin": null,
      "max_height": null,
      "max_width": null,
      "min_height": null,
      "min_width": null,
      "object_fit": null,
      "object_position": null,
      "order": null,
      "overflow": null,
      "overflow_x": null,
      "overflow_y": null,
      "padding": null,
      "right": null,
      "top": null,
      "visibility": null,
      "width": null
     }
    },
    "84f7ee7a55ef440180fb3a121d60bfd6": {
     "model_module": "@jupyter-widgets/controls",
     "model_name": "HTMLModel",
     "state": {
      "_dom_classes": [],
      "_model_module": "@jupyter-widgets/controls",
      "_model_module_version": "1.5.0",
      "_model_name": "HTMLModel",
      "_view_count": null,
      "_view_module": "@jupyter-widgets/controls",
      "_view_module_version": "1.5.0",
      "_view_name": "HTMLView",
      "description": "",
      "description_tooltip": null,
      "layout": "IPY_MODEL_76d0a38d6fae49f582f2591025ced23e",
      "placeholder": "​",
      "style": "IPY_MODEL_e6fa96e92c354060963091dd4004b46d",
      "value": " 1562/1562 [13:03&lt;00:00,  1.99it/s]"
     }
    },
    "85f219d4fe9f4247bc396a07aa19fff9": {
     "model_module": "@jupyter-widgets/base",
     "model_name": "LayoutModel",
     "state": {
      "_model_module": "@jupyter-widgets/base",
      "_model_module_version": "1.2.0",
      "_model_name": "LayoutModel",
      "_view_count": null,
      "_view_module": "@jupyter-widgets/base",
      "_view_module_version": "1.2.0",
      "_view_name": "LayoutView",
      "align_content": null,
      "align_items": null,
      "align_self": null,
      "border": null,
      "bottom": null,
      "display": null,
      "flex": null,
      "flex_flow": null,
      "grid_area": null,
      "grid_auto_columns": null,
      "grid_auto_flow": null,
      "grid_auto_rows": null,
      "grid_column": null,
      "grid_gap": null,
      "grid_row": null,
      "grid_template_areas": null,
      "grid_template_columns": null,
      "grid_template_rows": null,
      "height": null,
      "justify_content": null,
      "justify_items": null,
      "left": null,
      "margin": null,
      "max_height": null,
      "max_width": null,
      "min_height": null,
      "min_width": null,
      "object_fit": null,
      "object_position": null,
      "order": null,
      "overflow": null,
      "overflow_x": null,
      "overflow_y": null,
      "padding": null,
      "right": null,
      "top": null,
      "visibility": null,
      "width": null
     }
    },
    "874c718c473b4c349d6a5ff1ddae9ce4": {
     "model_module": "@jupyter-widgets/controls",
     "model_name": "DescriptionStyleModel",
     "state": {
      "_model_module": "@jupyter-widgets/controls",
      "_model_module_version": "1.5.0",
      "_model_name": "DescriptionStyleModel",
      "_view_count": null,
      "_view_module": "@jupyter-widgets/base",
      "_view_module_version": "1.2.0",
      "_view_name": "StyleView",
      "description_width": ""
     }
    },
    "87b18a586f514287b77f0dca125aa301": {
     "model_module": "@jupyter-widgets/controls",
     "model_name": "ProgressStyleModel",
     "state": {
      "_model_module": "@jupyter-widgets/controls",
      "_model_module_version": "1.5.0",
      "_model_name": "ProgressStyleModel",
      "_view_count": null,
      "_view_module": "@jupyter-widgets/base",
      "_view_module_version": "1.2.0",
      "_view_name": "StyleView",
      "bar_color": null,
      "description_width": "initial"
     }
    },
    "89716678dda446869414ea1f18915f2d": {
     "model_module": "@jupyter-widgets/controls",
     "model_name": "ProgressStyleModel",
     "state": {
      "_model_module": "@jupyter-widgets/controls",
      "_model_module_version": "1.5.0",
      "_model_name": "ProgressStyleModel",
      "_view_count": null,
      "_view_module": "@jupyter-widgets/base",
      "_view_module_version": "1.2.0",
      "_view_name": "StyleView",
      "bar_color": null,
      "description_width": "initial"
     }
    },
    "91f8b1a2404c4e08b632f94b64b951e8": {
     "model_module": "@jupyter-widgets/controls",
     "model_name": "HBoxModel",
     "state": {
      "_dom_classes": [],
      "_model_module": "@jupyter-widgets/controls",
      "_model_module_version": "1.5.0",
      "_model_name": "HBoxModel",
      "_view_count": null,
      "_view_module": "@jupyter-widgets/controls",
      "_view_module_version": "1.5.0",
      "_view_name": "HBoxView",
      "box_style": "",
      "children": [
       "IPY_MODEL_49738d987c4445ec8729c691fe6d3e72",
       "IPY_MODEL_72b06ad6f1ed46d69bb7b887797a56f5"
      ],
      "layout": "IPY_MODEL_9af998a6cbd14a378bfcb621416f2d78"
     }
    },
    "9260e1b44c8a476fad8adbda0b3727a8": {
     "model_module": "@jupyter-widgets/controls",
     "model_name": "HBoxModel",
     "state": {
      "_dom_classes": [],
      "_model_module": "@jupyter-widgets/controls",
      "_model_module_version": "1.5.0",
      "_model_name": "HBoxModel",
      "_view_count": null,
      "_view_module": "@jupyter-widgets/controls",
      "_view_module_version": "1.5.0",
      "_view_name": "HBoxView",
      "box_style": "",
      "children": [
       "IPY_MODEL_0da29f4829384317a1108e56f2f25c41",
       "IPY_MODEL_dedca716d26b4fcdaf084e7ada922298"
      ],
      "layout": "IPY_MODEL_85f219d4fe9f4247bc396a07aa19fff9"
     }
    },
    "9449295f1ccd482394ce85025bd41258": {
     "model_module": "@jupyter-widgets/controls",
     "model_name": "DescriptionStyleModel",
     "state": {
      "_model_module": "@jupyter-widgets/controls",
      "_model_module_version": "1.5.0",
      "_model_name": "DescriptionStyleModel",
      "_view_count": null,
      "_view_module": "@jupyter-widgets/base",
      "_view_module_version": "1.2.0",
      "_view_name": "StyleView",
      "description_width": ""
     }
    },
    "95e331059d5a4285a3edc0f8589cb535": {
     "model_module": "@jupyter-widgets/controls",
     "model_name": "FloatProgressModel",
     "state": {
      "_dom_classes": [],
      "_model_module": "@jupyter-widgets/controls",
      "_model_module_version": "1.5.0",
      "_model_name": "FloatProgressModel",
      "_view_count": null,
      "_view_module": "@jupyter-widgets/controls",
      "_view_module_version": "1.5.0",
      "_view_name": "ProgressView",
      "bar_style": "success",
      "description": "100%",
      "description_tooltip": null,
      "layout": "IPY_MODEL_42e956a738a547abbadb45829763e648",
      "max": 1562,
      "min": 0,
      "orientation": "horizontal",
      "style": "IPY_MODEL_5a9447e6847f422eb01466b3a323e12f",
      "value": 1562
     }
    },
    "98060709113c423bbcd6812baf15a012": {
     "model_module": "@jupyter-widgets/controls",
     "model_name": "ProgressStyleModel",
     "state": {
      "_model_module": "@jupyter-widgets/controls",
      "_model_module_version": "1.5.0",
      "_model_name": "ProgressStyleModel",
      "_view_count": null,
      "_view_module": "@jupyter-widgets/base",
      "_view_module_version": "1.2.0",
      "_view_name": "StyleView",
      "bar_color": null,
      "description_width": "initial"
     }
    },
    "98ac84ec75f5434ea29facd02fd57c22": {
     "model_module": "@jupyter-widgets/controls",
     "model_name": "HBoxModel",
     "state": {
      "_dom_classes": [],
      "_model_module": "@jupyter-widgets/controls",
      "_model_module_version": "1.5.0",
      "_model_name": "HBoxModel",
      "_view_count": null,
      "_view_module": "@jupyter-widgets/controls",
      "_view_module_version": "1.5.0",
      "_view_name": "HBoxView",
      "box_style": "",
      "children": [
       "IPY_MODEL_b2b9c37b3b084519a2ccdc71e78d5470",
       "IPY_MODEL_680315b28b004c1588af34c74b74e302"
      ],
      "layout": "IPY_MODEL_d814689f7eda44b5a7bc7b89131380e1"
     }
    },
    "99b30bca97e64925855dc61ad3f6183e": {
     "model_module": "@jupyter-widgets/controls",
     "model_name": "FloatProgressModel",
     "state": {
      "_dom_classes": [],
      "_model_module": "@jupyter-widgets/controls",
      "_model_module_version": "1.5.0",
      "_model_name": "FloatProgressModel",
      "_view_count": null,
      "_view_module": "@jupyter-widgets/controls",
      "_view_module_version": "1.5.0",
      "_view_name": "ProgressView",
      "bar_style": "danger",
      "description": " 16%",
      "description_tooltip": null,
      "layout": "IPY_MODEL_9f86aef1e25f4d24a926e2dbff1d9d3c",
      "max": 1562,
      "min": 0,
      "orientation": "horizontal",
      "style": "IPY_MODEL_61d42631c27e4e7899a525a520f3db8d",
      "value": 245
     }
    },
    "9af998a6cbd14a378bfcb621416f2d78": {
     "model_module": "@jupyter-widgets/base",
     "model_name": "LayoutModel",
     "state": {
      "_model_module": "@jupyter-widgets/base",
      "_model_module_version": "1.2.0",
      "_model_name": "LayoutModel",
      "_view_count": null,
      "_view_module": "@jupyter-widgets/base",
      "_view_module_version": "1.2.0",
      "_view_name": "LayoutView",
      "align_content": null,
      "align_items": null,
      "align_self": null,
      "border": null,
      "bottom": null,
      "display": null,
      "flex": null,
      "flex_flow": null,
      "grid_area": null,
      "grid_auto_columns": null,
      "grid_auto_flow": null,
      "grid_auto_rows": null,
      "grid_column": null,
      "grid_gap": null,
      "grid_row": null,
      "grid_template_areas": null,
      "grid_template_columns": null,
      "grid_template_rows": null,
      "height": null,
      "justify_content": null,
      "justify_items": null,
      "left": null,
      "margin": null,
      "max_height": null,
      "max_width": null,
      "min_height": null,
      "min_width": null,
      "object_fit": null,
      "object_position": null,
      "order": null,
      "overflow": null,
      "overflow_x": null,
      "overflow_y": null,
      "padding": null,
      "right": null,
      "top": null,
      "visibility": null,
      "width": null
     }
    },
    "9d9edf4e42c349a59b4fc8ad77004794": {
     "model_module": "@jupyter-widgets/controls",
     "model_name": "DescriptionStyleModel",
     "state": {
      "_model_module": "@jupyter-widgets/controls",
      "_model_module_version": "1.5.0",
      "_model_name": "DescriptionStyleModel",
      "_view_count": null,
      "_view_module": "@jupyter-widgets/base",
      "_view_module_version": "1.2.0",
      "_view_name": "StyleView",
      "description_width": ""
     }
    },
    "9f86aef1e25f4d24a926e2dbff1d9d3c": {
     "model_module": "@jupyter-widgets/base",
     "model_name": "LayoutModel",
     "state": {
      "_model_module": "@jupyter-widgets/base",
      "_model_module_version": "1.2.0",
      "_model_name": "LayoutModel",
      "_view_count": null,
      "_view_module": "@jupyter-widgets/base",
      "_view_module_version": "1.2.0",
      "_view_name": "LayoutView",
      "align_content": null,
      "align_items": null,
      "align_self": null,
      "border": null,
      "bottom": null,
      "display": null,
      "flex": null,
      "flex_flow": null,
      "grid_area": null,
      "grid_auto_columns": null,
      "grid_auto_flow": null,
      "grid_auto_rows": null,
      "grid_column": null,
      "grid_gap": null,
      "grid_row": null,
      "grid_template_areas": null,
      "grid_template_columns": null,
      "grid_template_rows": null,
      "height": null,
      "justify_content": null,
      "justify_items": null,
      "left": null,
      "margin": null,
      "max_height": null,
      "max_width": null,
      "min_height": null,
      "min_width": null,
      "object_fit": null,
      "object_position": null,
      "order": null,
      "overflow": null,
      "overflow_x": null,
      "overflow_y": null,
      "padding": null,
      "right": null,
      "top": null,
      "visibility": null,
      "width": null
     }
    },
    "9f9103d987484d779db6be0c80be0e33": {
     "model_module": "@jupyter-widgets/base",
     "model_name": "LayoutModel",
     "state": {
      "_model_module": "@jupyter-widgets/base",
      "_model_module_version": "1.2.0",
      "_model_name": "LayoutModel",
      "_view_count": null,
      "_view_module": "@jupyter-widgets/base",
      "_view_module_version": "1.2.0",
      "_view_name": "LayoutView",
      "align_content": null,
      "align_items": null,
      "align_self": null,
      "border": null,
      "bottom": null,
      "display": null,
      "flex": null,
      "flex_flow": null,
      "grid_area": null,
      "grid_auto_columns": null,
      "grid_auto_flow": null,
      "grid_auto_rows": null,
      "grid_column": null,
      "grid_gap": null,
      "grid_row": null,
      "grid_template_areas": null,
      "grid_template_columns": null,
      "grid_template_rows": null,
      "height": null,
      "justify_content": null,
      "justify_items": null,
      "left": null,
      "margin": null,
      "max_height": null,
      "max_width": null,
      "min_height": null,
      "min_width": null,
      "object_fit": null,
      "object_position": null,
      "order": null,
      "overflow": null,
      "overflow_x": null,
      "overflow_y": null,
      "padding": null,
      "right": null,
      "top": null,
      "visibility": null,
      "width": null
     }
    },
    "a088c74d4bdb42e691d6ef70d2b705be": {
     "model_module": "@jupyter-widgets/controls",
     "model_name": "FloatProgressModel",
     "state": {
      "_dom_classes": [],
      "_model_module": "@jupyter-widgets/controls",
      "_model_module_version": "1.5.0",
      "_model_name": "FloatProgressModel",
      "_view_count": null,
      "_view_module": "@jupyter-widgets/controls",
      "_view_module_version": "1.5.0",
      "_view_name": "ProgressView",
      "bar_style": "success",
      "description": "100%",
      "description_tooltip": null,
      "layout": "IPY_MODEL_6c1742ffbe0c4bf48bec6054789ed127",
      "max": 1562,
      "min": 0,
      "orientation": "horizontal",
      "style": "IPY_MODEL_4e40c31542184c8fbec88d688fc1542d",
      "value": 1562
     }
    },
    "a1d04a6265bd4b1c816b647f91634170": {
     "model_module": "@jupyter-widgets/controls",
     "model_name": "HBoxModel",
     "state": {
      "_dom_classes": [],
      "_model_module": "@jupyter-widgets/controls",
      "_model_module_version": "1.5.0",
      "_model_name": "HBoxModel",
      "_view_count": null,
      "_view_module": "@jupyter-widgets/controls",
      "_view_module_version": "1.5.0",
      "_view_name": "HBoxView",
      "box_style": "",
      "children": [
       "IPY_MODEL_340a5f0f00cf442e8b02f22e30473a4c",
       "IPY_MODEL_7be69bcaead845a38604f1af14881b3c"
      ],
      "layout": "IPY_MODEL_0a867b01d41f4b7f971c6808e454f664"
     }
    },
    "a25bc026eb1b441b82fcc83251197ddd": {
     "model_module": "@jupyter-widgets/controls",
     "model_name": "ProgressStyleModel",
     "state": {
      "_model_module": "@jupyter-widgets/controls",
      "_model_module_version": "1.5.0",
      "_model_name": "ProgressStyleModel",
      "_view_count": null,
      "_view_module": "@jupyter-widgets/base",
      "_view_module_version": "1.2.0",
      "_view_name": "StyleView",
      "bar_color": null,
      "description_width": "initial"
     }
    },
    "a2bd01d8e9a8436e8ca6362d7b2ee6c9": {
     "model_module": "@jupyter-widgets/controls",
     "model_name": "HBoxModel",
     "state": {
      "_dom_classes": [],
      "_model_module": "@jupyter-widgets/controls",
      "_model_module_version": "1.5.0",
      "_model_name": "HBoxModel",
      "_view_count": null,
      "_view_module": "@jupyter-widgets/controls",
      "_view_module_version": "1.5.0",
      "_view_name": "HBoxView",
      "box_style": "",
      "children": [
       "IPY_MODEL_730f7fedc8ff42418f89027aa381d0f3",
       "IPY_MODEL_7273532b92a041e88ed0fde1b659cc01"
      ],
      "layout": "IPY_MODEL_69e2c345929645bbba35fa9a5dfb916f"
     }
    },
    "a71bbc9ce0824e7caca267593758061c": {
     "model_module": "@jupyter-widgets/controls",
     "model_name": "FloatProgressModel",
     "state": {
      "_dom_classes": [],
      "_model_module": "@jupyter-widgets/controls",
      "_model_module_version": "1.5.0",
      "_model_name": "FloatProgressModel",
      "_view_count": null,
      "_view_module": "@jupyter-widgets/controls",
      "_view_module_version": "1.5.0",
      "_view_name": "ProgressView",
      "bar_style": "success",
      "description": "100%",
      "description_tooltip": null,
      "layout": "IPY_MODEL_157984d6e3554184a7567325b72d6b05",
      "max": 1562,
      "min": 0,
      "orientation": "horizontal",
      "style": "IPY_MODEL_7d5b044f8557434e834d9c1a6c0db161",
      "value": 1562
     }
    },
    "a82a2205564040569c5050564a3b898d": {
     "model_module": "@jupyter-widgets/base",
     "model_name": "LayoutModel",
     "state": {
      "_model_module": "@jupyter-widgets/base",
      "_model_module_version": "1.2.0",
      "_model_name": "LayoutModel",
      "_view_count": null,
      "_view_module": "@jupyter-widgets/base",
      "_view_module_version": "1.2.0",
      "_view_name": "LayoutView",
      "align_content": null,
      "align_items": null,
      "align_self": null,
      "border": null,
      "bottom": null,
      "display": null,
      "flex": null,
      "flex_flow": null,
      "grid_area": null,
      "grid_auto_columns": null,
      "grid_auto_flow": null,
      "grid_auto_rows": null,
      "grid_column": null,
      "grid_gap": null,
      "grid_row": null,
      "grid_template_areas": null,
      "grid_template_columns": null,
      "grid_template_rows": null,
      "height": null,
      "justify_content": null,
      "justify_items": null,
      "left": null,
      "margin": null,
      "max_height": null,
      "max_width": null,
      "min_height": null,
      "min_width": null,
      "object_fit": null,
      "object_position": null,
      "order": null,
      "overflow": null,
      "overflow_x": null,
      "overflow_y": null,
      "padding": null,
      "right": null,
      "top": null,
      "visibility": null,
      "width": null
     }
    },
    "a96c2dd543ca4e02add3c667161468c3": {
     "model_module": "@jupyter-widgets/controls",
     "model_name": "HTMLModel",
     "state": {
      "_dom_classes": [],
      "_model_module": "@jupyter-widgets/controls",
      "_model_module_version": "1.5.0",
      "_model_name": "HTMLModel",
      "_view_count": null,
      "_view_module": "@jupyter-widgets/controls",
      "_view_module_version": "1.5.0",
      "_view_name": "HTMLView",
      "description": "",
      "description_tooltip": null,
      "layout": "IPY_MODEL_4d028f7478674a3485f6a75d7a9dedbe",
      "placeholder": "​",
      "style": "IPY_MODEL_ceb3d243546340e0ae628e26875d1461",
      "value": " 1562/1562 [03:05&lt;00:00,  8.40it/s]"
     }
    },
    "ab5fc7dd05dc44dda15c007aa06117ad": {
     "model_module": "@jupyter-widgets/base",
     "model_name": "LayoutModel",
     "state": {
      "_model_module": "@jupyter-widgets/base",
      "_model_module_version": "1.2.0",
      "_model_name": "LayoutModel",
      "_view_count": null,
      "_view_module": "@jupyter-widgets/base",
      "_view_module_version": "1.2.0",
      "_view_name": "LayoutView",
      "align_content": null,
      "align_items": null,
      "align_self": null,
      "border": null,
      "bottom": null,
      "display": null,
      "flex": null,
      "flex_flow": null,
      "grid_area": null,
      "grid_auto_columns": null,
      "grid_auto_flow": null,
      "grid_auto_rows": null,
      "grid_column": null,
      "grid_gap": null,
      "grid_row": null,
      "grid_template_areas": null,
      "grid_template_columns": null,
      "grid_template_rows": null,
      "height": null,
      "justify_content": null,
      "justify_items": null,
      "left": null,
      "margin": null,
      "max_height": null,
      "max_width": null,
      "min_height": null,
      "min_width": null,
      "object_fit": null,
      "object_position": null,
      "order": null,
      "overflow": null,
      "overflow_x": null,
      "overflow_y": null,
      "padding": null,
      "right": null,
      "top": null,
      "visibility": null,
      "width": null
     }
    },
    "ad279cd507aa44418272862851e02dea": {
     "model_module": "@jupyter-widgets/base",
     "model_name": "LayoutModel",
     "state": {
      "_model_module": "@jupyter-widgets/base",
      "_model_module_version": "1.2.0",
      "_model_name": "LayoutModel",
      "_view_count": null,
      "_view_module": "@jupyter-widgets/base",
      "_view_module_version": "1.2.0",
      "_view_name": "LayoutView",
      "align_content": null,
      "align_items": null,
      "align_self": null,
      "border": null,
      "bottom": null,
      "display": null,
      "flex": null,
      "flex_flow": null,
      "grid_area": null,
      "grid_auto_columns": null,
      "grid_auto_flow": null,
      "grid_auto_rows": null,
      "grid_column": null,
      "grid_gap": null,
      "grid_row": null,
      "grid_template_areas": null,
      "grid_template_columns": null,
      "grid_template_rows": null,
      "height": null,
      "justify_content": null,
      "justify_items": null,
      "left": null,
      "margin": null,
      "max_height": null,
      "max_width": null,
      "min_height": null,
      "min_width": null,
      "object_fit": null,
      "object_position": null,
      "order": null,
      "overflow": null,
      "overflow_x": null,
      "overflow_y": null,
      "padding": null,
      "right": null,
      "top": null,
      "visibility": null,
      "width": null
     }
    },
    "ae01a4bd0d694861b7e1a9577f1e4947": {
     "model_module": "@jupyter-widgets/controls",
     "model_name": "DescriptionStyleModel",
     "state": {
      "_model_module": "@jupyter-widgets/controls",
      "_model_module_version": "1.5.0",
      "_model_name": "DescriptionStyleModel",
      "_view_count": null,
      "_view_module": "@jupyter-widgets/base",
      "_view_module_version": "1.2.0",
      "_view_name": "StyleView",
      "description_width": ""
     }
    },
    "ae2463447a9849b3be2605f94438c7bd": {
     "model_module": "@jupyter-widgets/controls",
     "model_name": "DescriptionStyleModel",
     "state": {
      "_model_module": "@jupyter-widgets/controls",
      "_model_module_version": "1.5.0",
      "_model_name": "DescriptionStyleModel",
      "_view_count": null,
      "_view_module": "@jupyter-widgets/base",
      "_view_module_version": "1.2.0",
      "_view_name": "StyleView",
      "description_width": ""
     }
    },
    "ae2e52049b474985a604725631fa6dbd": {
     "model_module": "@jupyter-widgets/controls",
     "model_name": "HTMLModel",
     "state": {
      "_dom_classes": [],
      "_model_module": "@jupyter-widgets/controls",
      "_model_module_version": "1.5.0",
      "_model_name": "HTMLModel",
      "_view_count": null,
      "_view_module": "@jupyter-widgets/controls",
      "_view_module_version": "1.5.0",
      "_view_name": "HTMLView",
      "description": "",
      "description_tooltip": null,
      "layout": "IPY_MODEL_44cef954696a41f0937e80f915de2eae",
      "placeholder": "​",
      "style": "IPY_MODEL_ae2463447a9849b3be2605f94438c7bd",
      "value": " 781/781 [00:12&lt;00:00, 64.23it/s]"
     }
    },
    "ae66aa1c7e2c46d78400836504ace9f3": {
     "model_module": "@jupyter-widgets/controls",
     "model_name": "DescriptionStyleModel",
     "state": {
      "_model_module": "@jupyter-widgets/controls",
      "_model_module_version": "1.5.0",
      "_model_name": "DescriptionStyleModel",
      "_view_count": null,
      "_view_module": "@jupyter-widgets/base",
      "_view_module_version": "1.2.0",
      "_view_name": "StyleView",
      "description_width": ""
     }
    },
    "b2b9c37b3b084519a2ccdc71e78d5470": {
     "model_module": "@jupyter-widgets/controls",
     "model_name": "FloatProgressModel",
     "state": {
      "_dom_classes": [],
      "_model_module": "@jupyter-widgets/controls",
      "_model_module_version": "1.5.0",
      "_model_name": "FloatProgressModel",
      "_view_count": null,
      "_view_module": "@jupyter-widgets/controls",
      "_view_module_version": "1.5.0",
      "_view_name": "ProgressView",
      "bar_style": "success",
      "description": "100%",
      "description_tooltip": null,
      "layout": "IPY_MODEL_ddc4d8a858cf4a9ab9c8ed745bdea624",
      "max": 1562,
      "min": 0,
      "orientation": "horizontal",
      "style": "IPY_MODEL_3fc4b4389fc74775882f5967484e9aa8",
      "value": 1562
     }
    },
    "b509fe767cf745af86567cd13e78347b": {
     "model_module": "@jupyter-widgets/controls",
     "model_name": "HBoxModel",
     "state": {
      "_dom_classes": [],
      "_model_module": "@jupyter-widgets/controls",
      "_model_module_version": "1.5.0",
      "_model_name": "HBoxModel",
      "_view_count": null,
      "_view_module": "@jupyter-widgets/controls",
      "_view_module_version": "1.5.0",
      "_view_name": "HBoxView",
      "box_style": "",
      "children": [
       "IPY_MODEL_df26201e84ed4564857c0653395a9912",
       "IPY_MODEL_ae2e52049b474985a604725631fa6dbd"
      ],
      "layout": "IPY_MODEL_b9fe672f9d0844dda5400d7de0bea1b9"
     }
    },
    "b5988a4fb2db46e0932c65f2fec437ed": {
     "model_module": "@jupyter-widgets/controls",
     "model_name": "ProgressStyleModel",
     "state": {
      "_model_module": "@jupyter-widgets/controls",
      "_model_module_version": "1.5.0",
      "_model_name": "ProgressStyleModel",
      "_view_count": null,
      "_view_module": "@jupyter-widgets/base",
      "_view_module_version": "1.2.0",
      "_view_name": "StyleView",
      "bar_color": null,
      "description_width": "initial"
     }
    },
    "b6624063537c470ea7c0272e26b6b567": {
     "model_module": "@jupyter-widgets/base",
     "model_name": "LayoutModel",
     "state": {
      "_model_module": "@jupyter-widgets/base",
      "_model_module_version": "1.2.0",
      "_model_name": "LayoutModel",
      "_view_count": null,
      "_view_module": "@jupyter-widgets/base",
      "_view_module_version": "1.2.0",
      "_view_name": "LayoutView",
      "align_content": null,
      "align_items": null,
      "align_self": null,
      "border": null,
      "bottom": null,
      "display": null,
      "flex": null,
      "flex_flow": null,
      "grid_area": null,
      "grid_auto_columns": null,
      "grid_auto_flow": null,
      "grid_auto_rows": null,
      "grid_column": null,
      "grid_gap": null,
      "grid_row": null,
      "grid_template_areas": null,
      "grid_template_columns": null,
      "grid_template_rows": null,
      "height": null,
      "justify_content": null,
      "justify_items": null,
      "left": null,
      "margin": null,
      "max_height": null,
      "max_width": null,
      "min_height": null,
      "min_width": null,
      "object_fit": null,
      "object_position": null,
      "order": null,
      "overflow": null,
      "overflow_x": null,
      "overflow_y": null,
      "padding": null,
      "right": null,
      "top": null,
      "visibility": null,
      "width": null
     }
    },
    "b8a4c12a150a44bb9e79b2bd593eda78": {
     "model_module": "@jupyter-widgets/base",
     "model_name": "LayoutModel",
     "state": {
      "_model_module": "@jupyter-widgets/base",
      "_model_module_version": "1.2.0",
      "_model_name": "LayoutModel",
      "_view_count": null,
      "_view_module": "@jupyter-widgets/base",
      "_view_module_version": "1.2.0",
      "_view_name": "LayoutView",
      "align_content": null,
      "align_items": null,
      "align_self": null,
      "border": null,
      "bottom": null,
      "display": null,
      "flex": null,
      "flex_flow": null,
      "grid_area": null,
      "grid_auto_columns": null,
      "grid_auto_flow": null,
      "grid_auto_rows": null,
      "grid_column": null,
      "grid_gap": null,
      "grid_row": null,
      "grid_template_areas": null,
      "grid_template_columns": null,
      "grid_template_rows": null,
      "height": null,
      "justify_content": null,
      "justify_items": null,
      "left": null,
      "margin": null,
      "max_height": null,
      "max_width": null,
      "min_height": null,
      "min_width": null,
      "object_fit": null,
      "object_position": null,
      "order": null,
      "overflow": null,
      "overflow_x": null,
      "overflow_y": null,
      "padding": null,
      "right": null,
      "top": null,
      "visibility": null,
      "width": null
     }
    },
    "b9143627c2914ac3a109cd13c5b2f507": {
     "model_module": "@jupyter-widgets/controls",
     "model_name": "HBoxModel",
     "state": {
      "_dom_classes": [],
      "_model_module": "@jupyter-widgets/controls",
      "_model_module_version": "1.5.0",
      "_model_name": "HBoxModel",
      "_view_count": null,
      "_view_module": "@jupyter-widgets/controls",
      "_view_module_version": "1.5.0",
      "_view_name": "HBoxView",
      "box_style": "",
      "children": [
       "IPY_MODEL_95e331059d5a4285a3edc0f8589cb535",
       "IPY_MODEL_84f7ee7a55ef440180fb3a121d60bfd6"
      ],
      "layout": "IPY_MODEL_dc7dbff13d644297bcac706a74d12bdd"
     }
    },
    "b9fe672f9d0844dda5400d7de0bea1b9": {
     "model_module": "@jupyter-widgets/base",
     "model_name": "LayoutModel",
     "state": {
      "_model_module": "@jupyter-widgets/base",
      "_model_module_version": "1.2.0",
      "_model_name": "LayoutModel",
      "_view_count": null,
      "_view_module": "@jupyter-widgets/base",
      "_view_module_version": "1.2.0",
      "_view_name": "LayoutView",
      "align_content": null,
      "align_items": null,
      "align_self": null,
      "border": null,
      "bottom": null,
      "display": null,
      "flex": null,
      "flex_flow": null,
      "grid_area": null,
      "grid_auto_columns": null,
      "grid_auto_flow": null,
      "grid_auto_rows": null,
      "grid_column": null,
      "grid_gap": null,
      "grid_row": null,
      "grid_template_areas": null,
      "grid_template_columns": null,
      "grid_template_rows": null,
      "height": null,
      "justify_content": null,
      "justify_items": null,
      "left": null,
      "margin": null,
      "max_height": null,
      "max_width": null,
      "min_height": null,
      "min_width": null,
      "object_fit": null,
      "object_position": null,
      "order": null,
      "overflow": null,
      "overflow_x": null,
      "overflow_y": null,
      "padding": null,
      "right": null,
      "top": null,
      "visibility": null,
      "width": null
     }
    },
    "ba0b9be83113483c9bb15393c1cbc6b2": {
     "model_module": "@jupyter-widgets/controls",
     "model_name": "ProgressStyleModel",
     "state": {
      "_model_module": "@jupyter-widgets/controls",
      "_model_module_version": "1.5.0",
      "_model_name": "ProgressStyleModel",
      "_view_count": null,
      "_view_module": "@jupyter-widgets/base",
      "_view_module_version": "1.2.0",
      "_view_name": "StyleView",
      "bar_color": null,
      "description_width": "initial"
     }
    },
    "ba0ca4b67fac478ebbb7b56b90528b99": {
     "model_module": "@jupyter-widgets/controls",
     "model_name": "HTMLModel",
     "state": {
      "_dom_classes": [],
      "_model_module": "@jupyter-widgets/controls",
      "_model_module_version": "1.5.0",
      "_model_name": "HTMLModel",
      "_view_count": null,
      "_view_module": "@jupyter-widgets/controls",
      "_view_module_version": "1.5.0",
      "_view_name": "HTMLView",
      "description": "",
      "description_tooltip": null,
      "layout": "IPY_MODEL_56add1313dca4bdba351f80ff5fd6d82",
      "placeholder": "​",
      "style": "IPY_MODEL_ae66aa1c7e2c46d78400836504ace9f3",
      "value": " 1562/1562 [06:13&lt;00:00,  4.18it/s]"
     }
    },
    "bb7bcbb113c744c8b5ffc729eb62dccb": {
     "model_module": "@jupyter-widgets/controls",
     "model_name": "ProgressStyleModel",
     "state": {
      "_model_module": "@jupyter-widgets/controls",
      "_model_module_version": "1.5.0",
      "_model_name": "ProgressStyleModel",
      "_view_count": null,
      "_view_module": "@jupyter-widgets/base",
      "_view_module_version": "1.2.0",
      "_view_name": "StyleView",
      "bar_color": null,
      "description_width": "initial"
     }
    },
    "bd2008e5f12842c782482c75974992a4": {
     "model_module": "@jupyter-widgets/controls",
     "model_name": "DescriptionStyleModel",
     "state": {
      "_model_module": "@jupyter-widgets/controls",
      "_model_module_version": "1.5.0",
      "_model_name": "DescriptionStyleModel",
      "_view_count": null,
      "_view_module": "@jupyter-widgets/base",
      "_view_module_version": "1.2.0",
      "_view_name": "StyleView",
      "description_width": ""
     }
    },
    "c1a135587eb149cc99d45cfae84e0521": {
     "model_module": "@jupyter-widgets/controls",
     "model_name": "FloatProgressModel",
     "state": {
      "_dom_classes": [],
      "_model_module": "@jupyter-widgets/controls",
      "_model_module_version": "1.5.0",
      "_model_name": "FloatProgressModel",
      "_view_count": null,
      "_view_module": "@jupyter-widgets/controls",
      "_view_module_version": "1.5.0",
      "_view_name": "ProgressView",
      "bar_style": "danger",
      "description": " 60%",
      "description_tooltip": null,
      "layout": "IPY_MODEL_d2976c209546473d9620a1f1979d0187",
      "max": 781,
      "min": 0,
      "orientation": "horizontal",
      "style": "IPY_MODEL_bb7bcbb113c744c8b5ffc729eb62dccb",
      "value": 471
     }
    },
    "c2b0de7c90f64d1fa2746068b8334199": {
     "model_module": "@jupyter-widgets/base",
     "model_name": "LayoutModel",
     "state": {
      "_model_module": "@jupyter-widgets/base",
      "_model_module_version": "1.2.0",
      "_model_name": "LayoutModel",
      "_view_count": null,
      "_view_module": "@jupyter-widgets/base",
      "_view_module_version": "1.2.0",
      "_view_name": "LayoutView",
      "align_content": null,
      "align_items": null,
      "align_self": null,
      "border": null,
      "bottom": null,
      "display": null,
      "flex": null,
      "flex_flow": null,
      "grid_area": null,
      "grid_auto_columns": null,
      "grid_auto_flow": null,
      "grid_auto_rows": null,
      "grid_column": null,
      "grid_gap": null,
      "grid_row": null,
      "grid_template_areas": null,
      "grid_template_columns": null,
      "grid_template_rows": null,
      "height": null,
      "justify_content": null,
      "justify_items": null,
      "left": null,
      "margin": null,
      "max_height": null,
      "max_width": null,
      "min_height": null,
      "min_width": null,
      "object_fit": null,
      "object_position": null,
      "order": null,
      "overflow": null,
      "overflow_x": null,
      "overflow_y": null,
      "padding": null,
      "right": null,
      "top": null,
      "visibility": null,
      "width": null
     }
    },
    "c2be4515e0044b0090c5bc4cf31f864e": {
     "model_module": "@jupyter-widgets/controls",
     "model_name": "HTMLModel",
     "state": {
      "_dom_classes": [],
      "_model_module": "@jupyter-widgets/controls",
      "_model_module_version": "1.5.0",
      "_model_name": "HTMLModel",
      "_view_count": null,
      "_view_module": "@jupyter-widgets/controls",
      "_view_module_version": "1.5.0",
      "_view_name": "HTMLView",
      "description": "",
      "description_tooltip": null,
      "layout": "IPY_MODEL_696addf9e6d64c92be583c2e08666f77",
      "placeholder": "​",
      "style": "IPY_MODEL_ebf11833350f4d8da255beb6ba54d901",
      "value": " 471/781 [00:20&lt;00:04, 66.09it/s]"
     }
    },
    "cc4991dd28e2452fb1797f7f762b4faf": {
     "model_module": "@jupyter-widgets/base",
     "model_name": "LayoutModel",
     "state": {
      "_model_module": "@jupyter-widgets/base",
      "_model_module_version": "1.2.0",
      "_model_name": "LayoutModel",
      "_view_count": null,
      "_view_module": "@jupyter-widgets/base",
      "_view_module_version": "1.2.0",
      "_view_name": "LayoutView",
      "align_content": null,
      "align_items": null,
      "align_self": null,
      "border": null,
      "bottom": null,
      "display": null,
      "flex": null,
      "flex_flow": null,
      "grid_area": null,
      "grid_auto_columns": null,
      "grid_auto_flow": null,
      "grid_auto_rows": null,
      "grid_column": null,
      "grid_gap": null,
      "grid_row": null,
      "grid_template_areas": null,
      "grid_template_columns": null,
      "grid_template_rows": null,
      "height": null,
      "justify_content": null,
      "justify_items": null,
      "left": null,
      "margin": null,
      "max_height": null,
      "max_width": null,
      "min_height": null,
      "min_width": null,
      "object_fit": null,
      "object_position": null,
      "order": null,
      "overflow": null,
      "overflow_x": null,
      "overflow_y": null,
      "padding": null,
      "right": null,
      "top": null,
      "visibility": null,
      "width": null
     }
    },
    "ce60b110a89a4acba7006230b977c476": {
     "model_module": "@jupyter-widgets/base",
     "model_name": "LayoutModel",
     "state": {
      "_model_module": "@jupyter-widgets/base",
      "_model_module_version": "1.2.0",
      "_model_name": "LayoutModel",
      "_view_count": null,
      "_view_module": "@jupyter-widgets/base",
      "_view_module_version": "1.2.0",
      "_view_name": "LayoutView",
      "align_content": null,
      "align_items": null,
      "align_self": null,
      "border": null,
      "bottom": null,
      "display": null,
      "flex": null,
      "flex_flow": null,
      "grid_area": null,
      "grid_auto_columns": null,
      "grid_auto_flow": null,
      "grid_auto_rows": null,
      "grid_column": null,
      "grid_gap": null,
      "grid_row": null,
      "grid_template_areas": null,
      "grid_template_columns": null,
      "grid_template_rows": null,
      "height": null,
      "justify_content": null,
      "justify_items": null,
      "left": null,
      "margin": null,
      "max_height": null,
      "max_width": null,
      "min_height": null,
      "min_width": null,
      "object_fit": null,
      "object_position": null,
      "order": null,
      "overflow": null,
      "overflow_x": null,
      "overflow_y": null,
      "padding": null,
      "right": null,
      "top": null,
      "visibility": null,
      "width": null
     }
    },
    "ceb3d243546340e0ae628e26875d1461": {
     "model_module": "@jupyter-widgets/controls",
     "model_name": "DescriptionStyleModel",
     "state": {
      "_model_module": "@jupyter-widgets/controls",
      "_model_module_version": "1.5.0",
      "_model_name": "DescriptionStyleModel",
      "_view_count": null,
      "_view_module": "@jupyter-widgets/base",
      "_view_module_version": "1.2.0",
      "_view_name": "StyleView",
      "description_width": ""
     }
    },
    "d0cd986a2ec4427993dfa06009ddcb03": {
     "model_module": "@jupyter-widgets/controls",
     "model_name": "HBoxModel",
     "state": {
      "_dom_classes": [],
      "_model_module": "@jupyter-widgets/controls",
      "_model_module_version": "1.5.0",
      "_model_name": "HBoxModel",
      "_view_count": null,
      "_view_module": "@jupyter-widgets/controls",
      "_view_module_version": "1.5.0",
      "_view_name": "HBoxView",
      "box_style": "",
      "children": [
       "IPY_MODEL_79fec358ceaa4a2698bb63e0f2828474",
       "IPY_MODEL_55c84e11c2824997b0b6f77eecc7db8d"
      ],
      "layout": "IPY_MODEL_6476fefebd7346c69f12634c5d02b175"
     }
    },
    "d2976c209546473d9620a1f1979d0187": {
     "model_module": "@jupyter-widgets/base",
     "model_name": "LayoutModel",
     "state": {
      "_model_module": "@jupyter-widgets/base",
      "_model_module_version": "1.2.0",
      "_model_name": "LayoutModel",
      "_view_count": null,
      "_view_module": "@jupyter-widgets/base",
      "_view_module_version": "1.2.0",
      "_view_name": "LayoutView",
      "align_content": null,
      "align_items": null,
      "align_self": null,
      "border": null,
      "bottom": null,
      "display": null,
      "flex": null,
      "flex_flow": null,
      "grid_area": null,
      "grid_auto_columns": null,
      "grid_auto_flow": null,
      "grid_auto_rows": null,
      "grid_column": null,
      "grid_gap": null,
      "grid_row": null,
      "grid_template_areas": null,
      "grid_template_columns": null,
      "grid_template_rows": null,
      "height": null,
      "justify_content": null,
      "justify_items": null,
      "left": null,
      "margin": null,
      "max_height": null,
      "max_width": null,
      "min_height": null,
      "min_width": null,
      "object_fit": null,
      "object_position": null,
      "order": null,
      "overflow": null,
      "overflow_x": null,
      "overflow_y": null,
      "padding": null,
      "right": null,
      "top": null,
      "visibility": null,
      "width": null
     }
    },
    "d814689f7eda44b5a7bc7b89131380e1": {
     "model_module": "@jupyter-widgets/base",
     "model_name": "LayoutModel",
     "state": {
      "_model_module": "@jupyter-widgets/base",
      "_model_module_version": "1.2.0",
      "_model_name": "LayoutModel",
      "_view_count": null,
      "_view_module": "@jupyter-widgets/base",
      "_view_module_version": "1.2.0",
      "_view_name": "LayoutView",
      "align_content": null,
      "align_items": null,
      "align_self": null,
      "border": null,
      "bottom": null,
      "display": null,
      "flex": null,
      "flex_flow": null,
      "grid_area": null,
      "grid_auto_columns": null,
      "grid_auto_flow": null,
      "grid_auto_rows": null,
      "grid_column": null,
      "grid_gap": null,
      "grid_row": null,
      "grid_template_areas": null,
      "grid_template_columns": null,
      "grid_template_rows": null,
      "height": null,
      "justify_content": null,
      "justify_items": null,
      "left": null,
      "margin": null,
      "max_height": null,
      "max_width": null,
      "min_height": null,
      "min_width": null,
      "object_fit": null,
      "object_position": null,
      "order": null,
      "overflow": null,
      "overflow_x": null,
      "overflow_y": null,
      "padding": null,
      "right": null,
      "top": null,
      "visibility": null,
      "width": null
     }
    },
    "da492ee3e06e4a158fd69f2947429817": {
     "model_module": "@jupyter-widgets/base",
     "model_name": "LayoutModel",
     "state": {
      "_model_module": "@jupyter-widgets/base",
      "_model_module_version": "1.2.0",
      "_model_name": "LayoutModel",
      "_view_count": null,
      "_view_module": "@jupyter-widgets/base",
      "_view_module_version": "1.2.0",
      "_view_name": "LayoutView",
      "align_content": null,
      "align_items": null,
      "align_self": null,
      "border": null,
      "bottom": null,
      "display": null,
      "flex": null,
      "flex_flow": null,
      "grid_area": null,
      "grid_auto_columns": null,
      "grid_auto_flow": null,
      "grid_auto_rows": null,
      "grid_column": null,
      "grid_gap": null,
      "grid_row": null,
      "grid_template_areas": null,
      "grid_template_columns": null,
      "grid_template_rows": null,
      "height": null,
      "justify_content": null,
      "justify_items": null,
      "left": null,
      "margin": null,
      "max_height": null,
      "max_width": null,
      "min_height": null,
      "min_width": null,
      "object_fit": null,
      "object_position": null,
      "order": null,
      "overflow": null,
      "overflow_x": null,
      "overflow_y": null,
      "padding": null,
      "right": null,
      "top": null,
      "visibility": null,
      "width": null
     }
    },
    "dc7dbff13d644297bcac706a74d12bdd": {
     "model_module": "@jupyter-widgets/base",
     "model_name": "LayoutModel",
     "state": {
      "_model_module": "@jupyter-widgets/base",
      "_model_module_version": "1.2.0",
      "_model_name": "LayoutModel",
      "_view_count": null,
      "_view_module": "@jupyter-widgets/base",
      "_view_module_version": "1.2.0",
      "_view_name": "LayoutView",
      "align_content": null,
      "align_items": null,
      "align_self": null,
      "border": null,
      "bottom": null,
      "display": null,
      "flex": null,
      "flex_flow": null,
      "grid_area": null,
      "grid_auto_columns": null,
      "grid_auto_flow": null,
      "grid_auto_rows": null,
      "grid_column": null,
      "grid_gap": null,
      "grid_row": null,
      "grid_template_areas": null,
      "grid_template_columns": null,
      "grid_template_rows": null,
      "height": null,
      "justify_content": null,
      "justify_items": null,
      "left": null,
      "margin": null,
      "max_height": null,
      "max_width": null,
      "min_height": null,
      "min_width": null,
      "object_fit": null,
      "object_position": null,
      "order": null,
      "overflow": null,
      "overflow_x": null,
      "overflow_y": null,
      "padding": null,
      "right": null,
      "top": null,
      "visibility": null,
      "width": null
     }
    },
    "dd0c8aff73424d09a1cb557f70132847": {
     "model_module": "@jupyter-widgets/controls",
     "model_name": "HTMLModel",
     "state": {
      "_dom_classes": [],
      "_model_module": "@jupyter-widgets/controls",
      "_model_module_version": "1.5.0",
      "_model_name": "HTMLModel",
      "_view_count": null,
      "_view_module": "@jupyter-widgets/controls",
      "_view_module_version": "1.5.0",
      "_view_name": "HTMLView",
      "description": "",
      "description_tooltip": null,
      "layout": "IPY_MODEL_2d1d9b29c74a472cacad11052ff05c4e",
      "placeholder": "​",
      "style": "IPY_MODEL_6587d80efb224b84a0f6d2f7d43b724f",
      "value": " 1562/1562 [04:42&lt;00:00,  5.54it/s]"
     }
    },
    "ddc4d8a858cf4a9ab9c8ed745bdea624": {
     "model_module": "@jupyter-widgets/base",
     "model_name": "LayoutModel",
     "state": {
      "_model_module": "@jupyter-widgets/base",
      "_model_module_version": "1.2.0",
      "_model_name": "LayoutModel",
      "_view_count": null,
      "_view_module": "@jupyter-widgets/base",
      "_view_module_version": "1.2.0",
      "_view_name": "LayoutView",
      "align_content": null,
      "align_items": null,
      "align_self": null,
      "border": null,
      "bottom": null,
      "display": null,
      "flex": null,
      "flex_flow": null,
      "grid_area": null,
      "grid_auto_columns": null,
      "grid_auto_flow": null,
      "grid_auto_rows": null,
      "grid_column": null,
      "grid_gap": null,
      "grid_row": null,
      "grid_template_areas": null,
      "grid_template_columns": null,
      "grid_template_rows": null,
      "height": null,
      "justify_content": null,
      "justify_items": null,
      "left": null,
      "margin": null,
      "max_height": null,
      "max_width": null,
      "min_height": null,
      "min_width": null,
      "object_fit": null,
      "object_position": null,
      "order": null,
      "overflow": null,
      "overflow_x": null,
      "overflow_y": null,
      "padding": null,
      "right": null,
      "top": null,
      "visibility": null,
      "width": null
     }
    },
    "dedca716d26b4fcdaf084e7ada922298": {
     "model_module": "@jupyter-widgets/controls",
     "model_name": "HTMLModel",
     "state": {
      "_dom_classes": [],
      "_model_module": "@jupyter-widgets/controls",
      "_model_module_version": "1.5.0",
      "_model_name": "HTMLModel",
      "_view_count": null,
      "_view_module": "@jupyter-widgets/controls",
      "_view_module_version": "1.5.0",
      "_view_name": "HTMLView",
      "description": "",
      "description_tooltip": null,
      "layout": "IPY_MODEL_764052a671794d718278af07f4366456",
      "placeholder": "​",
      "style": "IPY_MODEL_9d9edf4e42c349a59b4fc8ad77004794",
      "value": " 1562/1562 [03:25&lt;00:00,  7.59it/s]"
     }
    },
    "df26201e84ed4564857c0653395a9912": {
     "model_module": "@jupyter-widgets/controls",
     "model_name": "FloatProgressModel",
     "state": {
      "_dom_classes": [],
      "_model_module": "@jupyter-widgets/controls",
      "_model_module_version": "1.5.0",
      "_model_name": "FloatProgressModel",
      "_view_count": null,
      "_view_module": "@jupyter-widgets/controls",
      "_view_module_version": "1.5.0",
      "_view_name": "ProgressView",
      "bar_style": "success",
      "description": "100%",
      "description_tooltip": null,
      "layout": "IPY_MODEL_4653b3cd55a6430db78b29d3150626d1",
      "max": 781,
      "min": 0,
      "orientation": "horizontal",
      "style": "IPY_MODEL_0822409b83f04176ab1a5ca3395b0cc2",
      "value": 781
     }
    },
    "dfda9e011a6e498890e9157f4e529911": {
     "model_module": "@jupyter-widgets/controls",
     "model_name": "HTMLModel",
     "state": {
      "_dom_classes": [],
      "_model_module": "@jupyter-widgets/controls",
      "_model_module_version": "1.5.0",
      "_model_name": "HTMLModel",
      "_view_count": null,
      "_view_module": "@jupyter-widgets/controls",
      "_view_module_version": "1.5.0",
      "_view_name": "HTMLView",
      "description": "",
      "description_tooltip": null,
      "layout": "IPY_MODEL_b8a4c12a150a44bb9e79b2bd593eda78",
      "placeholder": "​",
      "style": "IPY_MODEL_6e23e369238a4297b6d83a2fdf51c9ec",
      "value": " 245/1562 [00:27&lt;01:17, 17.02it/s]"
     }
    },
    "e2a09163c60d41d48af486ea16405e35": {
     "model_module": "@jupyter-widgets/controls",
     "model_name": "FloatProgressModel",
     "state": {
      "_dom_classes": [],
      "_model_module": "@jupyter-widgets/controls",
      "_model_module_version": "1.5.0",
      "_model_name": "FloatProgressModel",
      "_view_count": null,
      "_view_module": "@jupyter-widgets/controls",
      "_view_module_version": "1.5.0",
      "_view_name": "ProgressView",
      "bar_style": "success",
      "description": "100%",
      "description_tooltip": null,
      "layout": "IPY_MODEL_cc4991dd28e2452fb1797f7f762b4faf",
      "max": 1562,
      "min": 0,
      "orientation": "horizontal",
      "style": "IPY_MODEL_6df0e1359d6c46a89c2c1451d91bb943",
      "value": 1562
     }
    },
    "e42b96004e5e46688160e0422c32f388": {
     "model_module": "@jupyter-widgets/controls",
     "model_name": "DescriptionStyleModel",
     "state": {
      "_model_module": "@jupyter-widgets/controls",
      "_model_module_version": "1.5.0",
      "_model_name": "DescriptionStyleModel",
      "_view_count": null,
      "_view_module": "@jupyter-widgets/base",
      "_view_module_version": "1.2.0",
      "_view_name": "StyleView",
      "description_width": ""
     }
    },
    "e65715f72da9428eac11e5a743bec522": {
     "model_module": "@jupyter-widgets/controls",
     "model_name": "FloatProgressModel",
     "state": {
      "_dom_classes": [],
      "_model_module": "@jupyter-widgets/controls",
      "_model_module_version": "1.5.0",
      "_model_name": "FloatProgressModel",
      "_view_count": null,
      "_view_module": "@jupyter-widgets/controls",
      "_view_module_version": "1.5.0",
      "_view_name": "ProgressView",
      "bar_style": "success",
      "description": "100%",
      "description_tooltip": null,
      "layout": "IPY_MODEL_2d2def98dfbd4de8bb205acefb7c2232",
      "max": 1562,
      "min": 0,
      "orientation": "horizontal",
      "style": "IPY_MODEL_98060709113c423bbcd6812baf15a012",
      "value": 1562
     }
    },
    "e6bb350a79e7453ea1b5b5150799c6c3": {
     "model_module": "@jupyter-widgets/base",
     "model_name": "LayoutModel",
     "state": {
      "_model_module": "@jupyter-widgets/base",
      "_model_module_version": "1.2.0",
      "_model_name": "LayoutModel",
      "_view_count": null,
      "_view_module": "@jupyter-widgets/base",
      "_view_module_version": "1.2.0",
      "_view_name": "LayoutView",
      "align_content": null,
      "align_items": null,
      "align_self": null,
      "border": null,
      "bottom": null,
      "display": null,
      "flex": null,
      "flex_flow": null,
      "grid_area": null,
      "grid_auto_columns": null,
      "grid_auto_flow": null,
      "grid_auto_rows": null,
      "grid_column": null,
      "grid_gap": null,
      "grid_row": null,
      "grid_template_areas": null,
      "grid_template_columns": null,
      "grid_template_rows": null,
      "height": null,
      "justify_content": null,
      "justify_items": null,
      "left": null,
      "margin": null,
      "max_height": null,
      "max_width": null,
      "min_height": null,
      "min_width": null,
      "object_fit": null,
      "object_position": null,
      "order": null,
      "overflow": null,
      "overflow_x": null,
      "overflow_y": null,
      "padding": null,
      "right": null,
      "top": null,
      "visibility": null,
      "width": null
     }
    },
    "e6fa96e92c354060963091dd4004b46d": {
     "model_module": "@jupyter-widgets/controls",
     "model_name": "DescriptionStyleModel",
     "state": {
      "_model_module": "@jupyter-widgets/controls",
      "_model_module_version": "1.5.0",
      "_model_name": "DescriptionStyleModel",
      "_view_count": null,
      "_view_module": "@jupyter-widgets/base",
      "_view_module_version": "1.2.0",
      "_view_name": "StyleView",
      "description_width": ""
     }
    },
    "ea01d1a99d3048e5a6d93de79e22e06b": {
     "model_module": "@jupyter-widgets/controls",
     "model_name": "HBoxModel",
     "state": {
      "_dom_classes": [],
      "_model_module": "@jupyter-widgets/controls",
      "_model_module_version": "1.5.0",
      "_model_name": "HBoxModel",
      "_view_count": null,
      "_view_module": "@jupyter-widgets/controls",
      "_view_module_version": "1.5.0",
      "_view_name": "HBoxView",
      "box_style": "",
      "children": [
       "IPY_MODEL_e2a09163c60d41d48af486ea16405e35",
       "IPY_MODEL_0347d0ed95d84d5ba692d125305cc745"
      ],
      "layout": "IPY_MODEL_fb6d23782036401dbfa7e1f9cda91589"
     }
    },
    "ebf11833350f4d8da255beb6ba54d901": {
     "model_module": "@jupyter-widgets/controls",
     "model_name": "DescriptionStyleModel",
     "state": {
      "_model_module": "@jupyter-widgets/controls",
      "_model_module_version": "1.5.0",
      "_model_name": "DescriptionStyleModel",
      "_view_count": null,
      "_view_module": "@jupyter-widgets/base",
      "_view_module_version": "1.2.0",
      "_view_name": "StyleView",
      "description_width": ""
     }
    },
    "ec6dee7ae02a4adaa25ea87ff64c0756": {
     "model_module": "@jupyter-widgets/controls",
     "model_name": "HBoxModel",
     "state": {
      "_dom_classes": [],
      "_model_module": "@jupyter-widgets/controls",
      "_model_module_version": "1.5.0",
      "_model_name": "HBoxModel",
      "_view_count": null,
      "_view_module": "@jupyter-widgets/controls",
      "_view_module_version": "1.5.0",
      "_view_name": "HBoxView",
      "box_style": "",
      "children": [
       "IPY_MODEL_0f5bb9c08143454f80894e7d932168b0",
       "IPY_MODEL_dd0c8aff73424d09a1cb557f70132847"
      ],
      "layout": "IPY_MODEL_a82a2205564040569c5050564a3b898d"
     }
    },
    "ecaabba5775e4a1eac9607052b0010cf": {
     "model_module": "@jupyter-widgets/base",
     "model_name": "LayoutModel",
     "state": {
      "_model_module": "@jupyter-widgets/base",
      "_model_module_version": "1.2.0",
      "_model_name": "LayoutModel",
      "_view_count": null,
      "_view_module": "@jupyter-widgets/base",
      "_view_module_version": "1.2.0",
      "_view_name": "LayoutView",
      "align_content": null,
      "align_items": null,
      "align_self": null,
      "border": null,
      "bottom": null,
      "display": null,
      "flex": null,
      "flex_flow": null,
      "grid_area": null,
      "grid_auto_columns": null,
      "grid_auto_flow": null,
      "grid_auto_rows": null,
      "grid_column": null,
      "grid_gap": null,
      "grid_row": null,
      "grid_template_areas": null,
      "grid_template_columns": null,
      "grid_template_rows": null,
      "height": null,
      "justify_content": null,
      "justify_items": null,
      "left": null,
      "margin": null,
      "max_height": null,
      "max_width": null,
      "min_height": null,
      "min_width": null,
      "object_fit": null,
      "object_position": null,
      "order": null,
      "overflow": null,
      "overflow_x": null,
      "overflow_y": null,
      "padding": null,
      "right": null,
      "top": null,
      "visibility": null,
      "width": null
     }
    },
    "f0406c0e1e9b4c35a22a7ea173ea61f3": {
     "model_module": "@jupyter-widgets/base",
     "model_name": "LayoutModel",
     "state": {
      "_model_module": "@jupyter-widgets/base",
      "_model_module_version": "1.2.0",
      "_model_name": "LayoutModel",
      "_view_count": null,
      "_view_module": "@jupyter-widgets/base",
      "_view_module_version": "1.2.0",
      "_view_name": "LayoutView",
      "align_content": null,
      "align_items": null,
      "align_self": null,
      "border": null,
      "bottom": null,
      "display": null,
      "flex": null,
      "flex_flow": null,
      "grid_area": null,
      "grid_auto_columns": null,
      "grid_auto_flow": null,
      "grid_auto_rows": null,
      "grid_column": null,
      "grid_gap": null,
      "grid_row": null,
      "grid_template_areas": null,
      "grid_template_columns": null,
      "grid_template_rows": null,
      "height": null,
      "justify_content": null,
      "justify_items": null,
      "left": null,
      "margin": null,
      "max_height": null,
      "max_width": null,
      "min_height": null,
      "min_width": null,
      "object_fit": null,
      "object_position": null,
      "order": null,
      "overflow": null,
      "overflow_x": null,
      "overflow_y": null,
      "padding": null,
      "right": null,
      "top": null,
      "visibility": null,
      "width": null
     }
    },
    "f20afc1651e64d1bb1193b80755148fd": {
     "model_module": "@jupyter-widgets/controls",
     "model_name": "DescriptionStyleModel",
     "state": {
      "_model_module": "@jupyter-widgets/controls",
      "_model_module_version": "1.5.0",
      "_model_name": "DescriptionStyleModel",
      "_view_count": null,
      "_view_module": "@jupyter-widgets/base",
      "_view_module_version": "1.2.0",
      "_view_name": "StyleView",
      "description_width": ""
     }
    },
    "f55686372e0b49fdaa2be4aff8a7bab8": {
     "model_module": "@jupyter-widgets/controls",
     "model_name": "HBoxModel",
     "state": {
      "_dom_classes": [],
      "_model_module": "@jupyter-widgets/controls",
      "_model_module_version": "1.5.0",
      "_model_name": "HBoxModel",
      "_view_count": null,
      "_view_module": "@jupyter-widgets/controls",
      "_view_module_version": "1.5.0",
      "_view_name": "HBoxView",
      "box_style": "",
      "children": [
       "IPY_MODEL_6396d7c41109478990ffab69bb0eb5de",
       "IPY_MODEL_a96c2dd543ca4e02add3c667161468c3"
      ],
      "layout": "IPY_MODEL_5ed791581ca14e7db4f4cb4ec4febef8"
     }
    },
    "f8631d7b4c5847ae8e9562d103eacb51": {
     "model_module": "@jupyter-widgets/controls",
     "model_name": "ProgressStyleModel",
     "state": {
      "_model_module": "@jupyter-widgets/controls",
      "_model_module_version": "1.5.0",
      "_model_name": "ProgressStyleModel",
      "_view_count": null,
      "_view_module": "@jupyter-widgets/base",
      "_view_module_version": "1.2.0",
      "_view_name": "StyleView",
      "bar_color": null,
      "description_width": "initial"
     }
    },
    "fb6d23782036401dbfa7e1f9cda91589": {
     "model_module": "@jupyter-widgets/base",
     "model_name": "LayoutModel",
     "state": {
      "_model_module": "@jupyter-widgets/base",
      "_model_module_version": "1.2.0",
      "_model_name": "LayoutModel",
      "_view_count": null,
      "_view_module": "@jupyter-widgets/base",
      "_view_module_version": "1.2.0",
      "_view_name": "LayoutView",
      "align_content": null,
      "align_items": null,
      "align_self": null,
      "border": null,
      "bottom": null,
      "display": null,
      "flex": null,
      "flex_flow": null,
      "grid_area": null,
      "grid_auto_columns": null,
      "grid_auto_flow": null,
      "grid_auto_rows": null,
      "grid_column": null,
      "grid_gap": null,
      "grid_row": null,
      "grid_template_areas": null,
      "grid_template_columns": null,
      "grid_template_rows": null,
      "height": null,
      "justify_content": null,
      "justify_items": null,
      "left": null,
      "margin": null,
      "max_height": null,
      "max_width": null,
      "min_height": null,
      "min_width": null,
      "object_fit": null,
      "object_position": null,
      "order": null,
      "overflow": null,
      "overflow_x": null,
      "overflow_y": null,
      "padding": null,
      "right": null,
      "top": null,
      "visibility": null,
      "width": null
     }
    }
   }
  }
 },
 "nbformat": 4,
 "nbformat_minor": 4
}
