{
 "cells": [
  {
   "cell_type": "code",
   "execution_count": 32,
   "metadata": {},
   "outputs": [],
   "source": [
    "import numpy as np\n",
    "from numpy.fft import fft, fftshift, fftfreq\n",
    "import matplotlib.pyplot as plt"
   ]
  },
  {
   "cell_type": "code",
   "execution_count": 50,
   "metadata": {},
   "outputs": [
    {
     "name": "stdout",
     "output_type": "stream",
     "text": [
      "[[ 1.000e+00 -2.100e+01  4.410e+02 -9.261e+03]\n",
      " [ 1.000e+00 -2.000e+01  4.000e+02 -8.000e+03]\n",
      " [ 1.000e+00 -1.900e+01  3.610e+02 -6.859e+03]\n",
      " [ 1.000e+00 -1.800e+01  3.240e+02 -5.832e+03]\n",
      " [ 1.000e+00 -1.700e+01  2.890e+02 -4.913e+03]\n",
      " [ 1.000e+00 -1.600e+01  2.560e+02 -4.096e+03]\n",
      " [ 1.000e+00 -1.500e+01  2.250e+02 -3.375e+03]\n",
      " [ 1.000e+00 -1.400e+01  1.960e+02 -2.744e+03]\n",
      " [ 1.000e+00 -1.300e+01  1.690e+02 -2.197e+03]\n",
      " [ 1.000e+00 -1.200e+01  1.440e+02 -1.728e+03]\n",
      " [ 1.000e+00 -1.100e+01  1.210e+02 -1.331e+03]\n",
      " [ 1.000e+00 -1.000e+01  1.000e+02 -1.000e+03]\n",
      " [ 1.000e+00 -9.000e+00  8.100e+01 -7.290e+02]\n",
      " [ 1.000e+00 -8.000e+00  6.400e+01 -5.120e+02]\n",
      " [ 1.000e+00 -7.000e+00  4.900e+01 -3.430e+02]\n",
      " [ 1.000e+00 -6.000e+00  3.600e+01 -2.160e+02]\n",
      " [ 1.000e+00 -5.000e+00  2.500e+01 -1.250e+02]\n",
      " [ 1.000e+00 -4.000e+00  1.600e+01 -6.400e+01]\n",
      " [ 1.000e+00 -3.000e+00  9.000e+00 -2.700e+01]\n",
      " [ 1.000e+00 -2.000e+00  4.000e+00 -8.000e+00]\n",
      " [ 1.000e+00 -1.000e+00  1.000e+00 -1.000e+00]\n",
      " [ 1.000e+00  0.000e+00  0.000e+00  0.000e+00]\n",
      " [ 1.000e+00  1.000e+00  1.000e+00  1.000e+00]\n",
      " [ 1.000e+00  2.000e+00  4.000e+00  8.000e+00]\n",
      " [ 1.000e+00  3.000e+00  9.000e+00  2.700e+01]\n",
      " [ 1.000e+00  4.000e+00  1.600e+01  6.400e+01]\n",
      " [ 1.000e+00  5.000e+00  2.500e+01  1.250e+02]\n",
      " [ 1.000e+00  6.000e+00  3.600e+01  2.160e+02]\n",
      " [ 1.000e+00  7.000e+00  4.900e+01  3.430e+02]\n",
      " [ 1.000e+00  8.000e+00  6.400e+01  5.120e+02]\n",
      " [ 1.000e+00  9.000e+00  8.100e+01  7.290e+02]\n",
      " [ 1.000e+00  1.000e+01  1.000e+02  1.000e+03]\n",
      " [ 1.000e+00  1.100e+01  1.210e+02  1.331e+03]\n",
      " [ 1.000e+00  1.200e+01  1.440e+02  1.728e+03]\n",
      " [ 1.000e+00  1.300e+01  1.690e+02  2.197e+03]\n",
      " [ 1.000e+00  1.400e+01  1.960e+02  2.744e+03]\n",
      " [ 1.000e+00  1.500e+01  2.250e+02  3.375e+03]\n",
      " [ 1.000e+00  1.600e+01  2.560e+02  4.096e+03]\n",
      " [ 1.000e+00  1.700e+01  2.890e+02  4.913e+03]\n",
      " [ 1.000e+00  1.800e+01  3.240e+02  5.832e+03]\n",
      " [ 1.000e+00  1.900e+01  3.610e+02  6.859e+03]\n",
      " [ 1.000e+00  2.000e+01  4.000e+02  8.000e+03]\n",
      " [ 1.000e+00  2.100e+01  4.410e+02  9.261e+03]]\n"
     ]
    }
   ],
   "source": [
    "M = 21\n",
    "N = 3\n",
    "num_dados = 2*M + 1\n",
    "grau = N + 1\n",
    "\n",
    "A = np.zeros((num_dados, grau))\n",
    "\n",
    "for n in range(A.shape[0]):\n",
    "    for i in range(A.shape[1]):\n",
    "        A[n, i] = (n-M)**i\n",
    "\n",
    "print(A)\n",
    "H = np.linalg.inv(A.transpose() @ A) @ A.transpose()"
   ]
  },
  {
   "cell_type": "code",
   "execution_count": 51,
   "metadata": {},
   "outputs": [
    {
     "data": {
      "text/plain": [
       "[<matplotlib.lines.Line2D at 0x7f408cdaa3d0>]"
      ]
     },
     "execution_count": 51,
     "metadata": {},
     "output_type": "execute_result"
    },
    {
     "data": {
      "image/png": "[encoded data removed]",
      "text/plain": [
       "<Figure size 432x288 with 1 Axes>"
      ]
     },
     "metadata": {
      "needs_background": "light"
     },
     "output_type": "display_data"
    }
   ],
   "source": [
    "x = np.array([i for i in range(-M, M+1)])\n",
    "\n",
    "plt.hlines(0,x.min(), x.max(), color=\"black\")\n",
    "plt.plot(x, H[0, :])"
   ]
  },
  {
   "cell_type": "code",
   "execution_count": 52,
   "metadata": {},
   "outputs": [
    {
     "name": "stderr",
     "output_type": "stream",
     "text": [
      "/home/felipeangelim/.local/lib/python3.8/site-packages/numpy/core/_asarray.py:136: ComplexWarning: Casting complex values to real discards the imaginary part\n",
      "  return array(a, dtype, copy=False, order=order, subok=True)\n"
     ]
    },
    {
     "data": {
      "text/plain": [
       "<matplotlib.collections.PathCollection at 0x7f408cd747c0>"
      ]
     },
     "execution_count": 52,
     "metadata": {},
     "output_type": "execute_result"
    },
    {
     "data": {
      "image/png": "[encoded data removed]",
      "text/plain": [
       "<Figure size 432x288 with 1 Axes>"
      ]
     },
     "metadata": {
      "needs_background": "light"
     },
     "output_type": "display_data"
    }
   ],
   "source": [
    "h = fftshift(fft(H[:, 0]))\n",
    "f = fftshift(fftfreq(h.shape[0]))\n",
    "plt.scatter(f, h)"
   ]
  },
  {
   "cell_type": "code",
   "execution_count": null,
   "metadata": {},
   "outputs": [],
   "source": []
  }
 ],
 "metadata": {
  "kernelspec": {
   "display_name": "Python 3",
   "language": "python",
   "name": "python3"
  },
  "language_info": {
   "codemirror_mode": {
    "name": "ipython",
    "version": 3
   },
   "file_extension": ".py",
   "mimetype": "text/x-python",
   "name": "python",
   "nbconvert_exporter": "python",
   "pygments_lexer": "ipython3",
   "version": "3.8.2"
  }
 },
 "nbformat": 4,
 "nbformat_minor": 4
}
