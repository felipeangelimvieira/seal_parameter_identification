{
 "cells": [
  {
   "cell_type": "code",
   "execution_count": 202,
   "metadata": {},
   "outputs": [],
   "source": [
    "import pandas as pd\n",
    "import numpy as np\n",
    "import os\n",
    "from pathlib import Path\n",
    "import matplotlib.pyplot as plt\n",
    "from utils import *\n",
    "from scipy.fft import fft, fftfreq, fftshift"
   ]
  },
  {
   "cell_type": "code",
   "execution_count": 258,
   "metadata": {},
   "outputs": [],
   "source": [
    "df = load_amb_sin_data(\"amb_sin/sine_fy_69Hz_0RPM.txt\")"
   ]
  },
  {
   "cell_type": "code",
   "execution_count": 259,
   "metadata": {},
   "outputs": [],
   "source": [
    "def to_seconds(x):\n",
    "    try:\n",
    "        return x.delta*1e-9\n",
    "    except:\n",
    "        return np.nan\n",
    "    \n",
    "df[\"dt\"] = (df[\"datetime\"] - df[\"datetime\"].shift()).apply(to_seconds)\n",
    "df[\"t\"]  = df[\"dt\"].cumsum()"
   ]
  },
  {
   "cell_type": "code",
   "execution_count": 260,
   "metadata": {},
   "outputs": [
    {
     "data": {
      "text/html": [
       "<div>\n",
       "<style scoped>\n",
       "    .dataframe tbody tr th:only-of-type {\n",
       "        vertical-align: middle;\n",
       "    }\n",
       "\n",
       "    .dataframe tbody tr th {\n",
       "        vertical-align: top;\n",
       "    }\n",
       "\n",
       "    .dataframe thead th {\n",
       "        text-align: right;\n",
       "    }\n",
       "</style>\n",
       "<table border=\"1\" class=\"dataframe\">\n",
       "  <thead>\n",
       "    <tr style=\"text-align: right;\">\n",
       "      <th></th>\n",
       "      <th>datetime</th>\n",
       "      <th>ax</th>\n",
       "      <th>ay</th>\n",
       "      <th>bx</th>\n",
       "      <th>by</th>\n",
       "      <th>f_ax</th>\n",
       "      <th>f_ay</th>\n",
       "      <th>f_bx</th>\n",
       "      <th>f_by</th>\n",
       "      <th>e_ax</th>\n",
       "      <th>e_ay</th>\n",
       "      <th>e_bx</th>\n",
       "      <th>e_by</th>\n",
       "      <th>dt</th>\n",
       "      <th>t</th>\n",
       "    </tr>\n",
       "  </thead>\n",
       "  <tbody>\n",
       "    <tr>\n",
       "      <th>3</th>\n",
       "      <td>2019-03-24 00:42:52.185757</td>\n",
       "      <td>0.000004</td>\n",
       "      <td>0.000057</td>\n",
       "      <td>0.000012</td>\n",
       "      <td>0.000048</td>\n",
       "      <td>0.071650</td>\n",
       "      <td>-0.754572</td>\n",
       "      <td>1.208339</td>\n",
       "      <td>-2.096432</td>\n",
       "      <td>-0.000648</td>\n",
       "      <td>-3.564745</td>\n",
       "      <td>0.002254</td>\n",
       "      <td>-3.561231</td>\n",
       "      <td>NaN</td>\n",
       "      <td>NaN</td>\n",
       "    </tr>\n",
       "    <tr>\n",
       "      <th>4</th>\n",
       "      <td>2019-03-24 00:42:52.185952</td>\n",
       "      <td>0.000004</td>\n",
       "      <td>0.000056</td>\n",
       "      <td>0.000011</td>\n",
       "      <td>0.000048</td>\n",
       "      <td>0.344178</td>\n",
       "      <td>-0.914432</td>\n",
       "      <td>1.660429</td>\n",
       "      <td>-1.701583</td>\n",
       "      <td>-0.000953</td>\n",
       "      <td>-3.052729</td>\n",
       "      <td>0.002179</td>\n",
       "      <td>-3.049431</td>\n",
       "      <td>0.000195</td>\n",
       "      <td>0.000195</td>\n",
       "    </tr>\n",
       "    <tr>\n",
       "      <th>5</th>\n",
       "      <td>2019-03-24 00:42:52.186147</td>\n",
       "      <td>0.000003</td>\n",
       "      <td>0.000056</td>\n",
       "      <td>0.000011</td>\n",
       "      <td>0.000047</td>\n",
       "      <td>0.262936</td>\n",
       "      <td>-1.129262</td>\n",
       "      <td>1.545769</td>\n",
       "      <td>-2.161496</td>\n",
       "      <td>-0.001292</td>\n",
       "      <td>-2.518899</td>\n",
       "      <td>0.002249</td>\n",
       "      <td>-2.515171</td>\n",
       "      <td>0.000195</td>\n",
       "      <td>0.000390</td>\n",
       "    </tr>\n",
       "    <tr>\n",
       "      <th>6</th>\n",
       "      <td>2019-03-24 00:42:52.186343</td>\n",
       "      <td>0.000004</td>\n",
       "      <td>0.000054</td>\n",
       "      <td>0.000011</td>\n",
       "      <td>0.000046</td>\n",
       "      <td>0.488526</td>\n",
       "      <td>-0.891258</td>\n",
       "      <td>1.646595</td>\n",
       "      <td>-2.887215</td>\n",
       "      <td>-0.001525</td>\n",
       "      <td>-1.966954</td>\n",
       "      <td>0.002127</td>\n",
       "      <td>-1.963519</td>\n",
       "      <td>0.000196</td>\n",
       "      <td>0.000586</td>\n",
       "    </tr>\n",
       "    <tr>\n",
       "      <th>7</th>\n",
       "      <td>2019-03-24 00:42:52.186538</td>\n",
       "      <td>0.000004</td>\n",
       "      <td>0.000052</td>\n",
       "      <td>0.000010</td>\n",
       "      <td>0.000044</td>\n",
       "      <td>0.334926</td>\n",
       "      <td>-0.944569</td>\n",
       "      <td>1.672648</td>\n",
       "      <td>-1.986347</td>\n",
       "      <td>-0.001634</td>\n",
       "      <td>-1.401042</td>\n",
       "      <td>0.002152</td>\n",
       "      <td>-1.397737</td>\n",
       "      <td>0.000195</td>\n",
       "      <td>0.000781</td>\n",
       "    </tr>\n",
       "    <tr>\n",
       "      <th>...</th>\n",
       "      <td>...</td>\n",
       "      <td>...</td>\n",
       "      <td>...</td>\n",
       "      <td>...</td>\n",
       "      <td>...</td>\n",
       "      <td>...</td>\n",
       "      <td>...</td>\n",
       "      <td>...</td>\n",
       "      <td>...</td>\n",
       "      <td>...</td>\n",
       "      <td>...</td>\n",
       "      <td>...</td>\n",
       "      <td>...</td>\n",
       "      <td>...</td>\n",
       "      <td>...</td>\n",
       "    </tr>\n",
       "    <tr>\n",
       "      <th>61448</th>\n",
       "      <td>2019-03-24 00:43:04.184780</td>\n",
       "      <td>0.000003</td>\n",
       "      <td>0.000057</td>\n",
       "      <td>0.000014</td>\n",
       "      <td>0.000044</td>\n",
       "      <td>0.390681</td>\n",
       "      <td>-0.787001</td>\n",
       "      <td>1.129932</td>\n",
       "      <td>-2.073527</td>\n",
       "      <td>0.000385</td>\n",
       "      <td>-5.844896</td>\n",
       "      <td>0.002332</td>\n",
       "      <td>-5.841434</td>\n",
       "      <td>0.000195</td>\n",
       "      <td>11.999023</td>\n",
       "    </tr>\n",
       "    <tr>\n",
       "      <th>61449</th>\n",
       "      <td>2019-03-24 00:43:04.184976</td>\n",
       "      <td>0.000002</td>\n",
       "      <td>0.000058</td>\n",
       "      <td>0.000014</td>\n",
       "      <td>0.000046</td>\n",
       "      <td>0.383096</td>\n",
       "      <td>-0.852926</td>\n",
       "      <td>1.391554</td>\n",
       "      <td>-1.991891</td>\n",
       "      <td>-0.000015</td>\n",
       "      <td>-5.514443</td>\n",
       "      <td>0.002197</td>\n",
       "      <td>-5.511329</td>\n",
       "      <td>0.000196</td>\n",
       "      <td>11.999219</td>\n",
       "    </tr>\n",
       "    <tr>\n",
       "      <th>61450</th>\n",
       "      <td>2019-03-24 00:43:04.185171</td>\n",
       "      <td>0.000002</td>\n",
       "      <td>0.000058</td>\n",
       "      <td>0.000014</td>\n",
       "      <td>0.000048</td>\n",
       "      <td>0.192199</td>\n",
       "      <td>-1.073084</td>\n",
       "      <td>1.618246</td>\n",
       "      <td>-2.017562</td>\n",
       "      <td>-0.000303</td>\n",
       "      <td>-5.144481</td>\n",
       "      <td>0.002193</td>\n",
       "      <td>-5.141262</td>\n",
       "      <td>0.000195</td>\n",
       "      <td>11.999414</td>\n",
       "    </tr>\n",
       "    <tr>\n",
       "      <th>61451</th>\n",
       "      <td>2019-03-24 00:43:04.185366</td>\n",
       "      <td>0.000001</td>\n",
       "      <td>0.000060</td>\n",
       "      <td>0.000014</td>\n",
       "      <td>0.000049</td>\n",
       "      <td>0.130693</td>\n",
       "      <td>-0.971148</td>\n",
       "      <td>1.653412</td>\n",
       "      <td>-2.060250</td>\n",
       "      <td>-0.000698</td>\n",
       "      <td>-4.737840</td>\n",
       "      <td>0.002196</td>\n",
       "      <td>-4.734584</td>\n",
       "      <td>0.000195</td>\n",
       "      <td>11.999609</td>\n",
       "    </tr>\n",
       "    <tr>\n",
       "      <th>61452</th>\n",
       "      <td>2019-03-24 00:43:04.185562</td>\n",
       "      <td>0.000001</td>\n",
       "      <td>0.000060</td>\n",
       "      <td>0.000014</td>\n",
       "      <td>0.000050</td>\n",
       "      <td>0.300519</td>\n",
       "      <td>-1.072638</td>\n",
       "      <td>1.711619</td>\n",
       "      <td>-2.086261</td>\n",
       "      <td>-0.001021</td>\n",
       "      <td>-4.297375</td>\n",
       "      <td>0.002178</td>\n",
       "      <td>-4.294067</td>\n",
       "      <td>0.000196</td>\n",
       "      <td>11.999805</td>\n",
       "    </tr>\n",
       "  </tbody>\n",
       "</table>\n",
       "<p>61440 rows × 15 columns</p>\n",
       "</div>"
      ],
      "text/plain": [
       "                        datetime        ax        ay        bx        by  \\\n",
       "3     2019-03-24 00:42:52.185757  0.000004  0.000057  0.000012  0.000048   \n",
       "4     2019-03-24 00:42:52.185952  0.000004  0.000056  0.000011  0.000048   \n",
       "5     2019-03-24 00:42:52.186147  0.000003  0.000056  0.000011  0.000047   \n",
       "6     2019-03-24 00:42:52.186343  0.000004  0.000054  0.000011  0.000046   \n",
       "7     2019-03-24 00:42:52.186538  0.000004  0.000052  0.000010  0.000044   \n",
       "...                          ...       ...       ...       ...       ...   \n",
       "61448 2019-03-24 00:43:04.184780  0.000003  0.000057  0.000014  0.000044   \n",
       "61449 2019-03-24 00:43:04.184976  0.000002  0.000058  0.000014  0.000046   \n",
       "61450 2019-03-24 00:43:04.185171  0.000002  0.000058  0.000014  0.000048   \n",
       "61451 2019-03-24 00:43:04.185366  0.000001  0.000060  0.000014  0.000049   \n",
       "61452 2019-03-24 00:43:04.185562  0.000001  0.000060  0.000014  0.000050   \n",
       "\n",
       "           f_ax      f_ay      f_bx      f_by      e_ax      e_ay      e_bx  \\\n",
       "3      0.071650 -0.754572  1.208339 -2.096432 -0.000648 -3.564745  0.002254   \n",
       "4      0.344178 -0.914432  1.660429 -1.701583 -0.000953 -3.052729  0.002179   \n",
       "5      0.262936 -1.129262  1.545769 -2.161496 -0.001292 -2.518899  0.002249   \n",
       "6      0.488526 -0.891258  1.646595 -2.887215 -0.001525 -1.966954  0.002127   \n",
       "7      0.334926 -0.944569  1.672648 -1.986347 -0.001634 -1.401042  0.002152   \n",
       "...         ...       ...       ...       ...       ...       ...       ...   \n",
       "61448  0.390681 -0.787001  1.129932 -2.073527  0.000385 -5.844896  0.002332   \n",
       "61449  0.383096 -0.852926  1.391554 -1.991891 -0.000015 -5.514443  0.002197   \n",
       "61450  0.192199 -1.073084  1.618246 -2.017562 -0.000303 -5.144481  0.002193   \n",
       "61451  0.130693 -0.971148  1.653412 -2.060250 -0.000698 -4.737840  0.002196   \n",
       "61452  0.300519 -1.072638  1.711619 -2.086261 -0.001021 -4.297375  0.002178   \n",
       "\n",
       "           e_by        dt          t  \n",
       "3     -3.561231       NaN        NaN  \n",
       "4     -3.049431  0.000195   0.000195  \n",
       "5     -2.515171  0.000195   0.000390  \n",
       "6     -1.963519  0.000196   0.000586  \n",
       "7     -1.397737  0.000195   0.000781  \n",
       "...         ...       ...        ...  \n",
       "61448 -5.841434  0.000195  11.999023  \n",
       "61449 -5.511329  0.000196  11.999219  \n",
       "61450 -5.141262  0.000195  11.999414  \n",
       "61451 -4.734584  0.000195  11.999609  \n",
       "61452 -4.294067  0.000196  11.999805  \n",
       "\n",
       "[61440 rows x 15 columns]"
      ]
     },
     "execution_count": 260,
     "metadata": {},
     "output_type": "execute_result"
    }
   ],
   "source": [
    "df"
   ]
  },
  {
   "cell_type": "code",
   "execution_count": 261,
   "metadata": {},
   "outputs": [],
   "source": [
    "df[\"x\"] = (df[\"ax\"] + df[\"bx\"])/2\n",
    "#df[\"x\"] = df[\"ax\"]\n",
    "df[\"y\"] = (df[\"ay\"] + df[\"by\"])/2\n",
    "#df[\"y\"] = df[\"ay\"]\n",
    "df['fx'] = df[\"f_ax\"] + df[\"f_bx\"]\n",
    "#df[\"fx\"] = df[\"f_ax\"]\n",
    "df['fy'] = df[\"f_ay\"] + df[\"f_by\"]\n",
    "#df[\"fx\"] = df[\"f_ay\"]\n",
    "df = df[[\"datetime\", \"x\", \"y\", \"fx\", \"fy\", \"dt\", \"t\"]]"
   ]
  },
  {
   "cell_type": "code",
   "execution_count": 262,
   "metadata": {},
   "outputs": [],
   "source": [
    "freq = 21 # Hz\n",
    "dt_mean = df[\"dt\"].mean()\n",
    "\n",
    "chunk_size = int(np.ceil(1/21/dt_mean*4))"
   ]
  },
  {
   "cell_type": "code",
   "execution_count": 263,
   "metadata": {},
   "outputs": [
    {
     "data": {
      "text/plain": [
       "976"
      ]
     },
     "execution_count": 263,
     "metadata": {},
     "output_type": "execute_result"
    }
   ],
   "source": [
    "chunk_size"
   ]
  },
  {
   "cell_type": "code",
   "execution_count": 264,
   "metadata": {},
   "outputs": [
    {
     "data": {
      "text/plain": [
       "[<matplotlib.lines.Line2D at 0x7fe00f0d67c0>]"
      ]
     },
     "execution_count": 264,
     "metadata": {},
     "output_type": "execute_result"
    },
    {
     "data": {
      "image/png": "[encoded data removed]",
      "text/plain": [
       "<Figure size 432x288 with 1 Axes>"
      ]
     },
     "metadata": {
      "needs_background": "light"
     },
     "output_type": "display_data"
    }
   ],
   "source": [
    "plt.plot(df[\"fx\"].iloc[:chunk_size])"
   ]
  },
  {
   "cell_type": "code",
   "execution_count": 265,
   "metadata": {},
   "outputs": [
    {
     "data": {
      "text/plain": [
       "(0.0, 50.0)"
      ]
     },
     "execution_count": 265,
     "metadata": {},
     "output_type": "execute_result"
    },
    {
     "data": {
      "image/png": "[encoded data removed]",
      "text/plain": [
       "<Figure size 432x288 with 1 Axes>"
      ]
     },
     "metadata": {
      "needs_background": "light"
     },
     "output_type": "display_data"
    }
   ],
   "source": [
    "T = dt_mean\n",
    "N = chunk_size\n",
    "n = 2\n",
    "xf = np.linspace(0.0, 1.0/(2.0*T), N//2)\n",
    "yf = fft(df[\"fx\"].iloc[N*n:N*(n+1)].values)\n",
    "\n",
    "plt.plot(xf, 2.0/N * np.abs(yf[0:N//2]))\n",
    "plt.xlim((0, 50))"
   ]
  },
  {
   "cell_type": "code",
   "execution_count": null,
   "metadata": {},
   "outputs": [],
   "source": []
  },
  {
   "cell_type": "code",
   "execution_count": 266,
   "metadata": {},
   "outputs": [
    {
     "data": {
      "text/plain": [
       "(-50.0, 50.0)"
      ]
     },
     "execution_count": 266,
     "metadata": {},
     "output_type": "execute_result"
    },
    {
     "data": {
      "image/png": "[encoded data removed]",
      "text/plain": [
       "<Figure size 432x288 with 1 Axes>"
      ]
     },
     "metadata": {
      "needs_background": "light"
     },
     "output_type": "display_data"
    }
   ],
   "source": [
    "plt.plot(fftshift(fftfreq(N, T)), fftshift(np.abs(yf)))\n",
    "plt.xlim((-50, 50))"
   ]
  },
  {
   "cell_type": "code",
   "execution_count": 267,
   "metadata": {},
   "outputs": [],
   "source": [
    "def build_dataset(df, freq=21):\n",
    "    T = df[\"dt\"].mean()\n",
    "    N = int(np.ceil(1/freq/dt_mean*4))\n",
    "    \n",
    "    data = {}\n",
    "    data[\"freqs\"] = []\n",
    "    for n in range(df.shape[0]//N):\n",
    "        data[\"freqs\"].extend(fftshift(fftfreq(N, T)))\n",
    "    for col in [\"x\", \"y\", \"fy\", \"fx\"]:\n",
    "        data[col + \"_f\"] = []\n",
    "        for n in range(df.shape[0]//N):\n",
    "            data[col + \"_f\"].extend(fftshift(fft(df[col].iloc[N*n:N*(n+1)].values)))\n",
    "            \n",
    "    return data\n",
    "    \n",
    "out = build_dataset(df)"
   ]
  },
  {
   "cell_type": "code",
   "execution_count": 268,
   "metadata": {},
   "outputs": [],
   "source": [
    "out = pd.DataFrame(out)"
   ]
  },
  {
   "cell_type": "code",
   "execution_count": 269,
   "metadata": {},
   "outputs": [
    {
     "data": {
      "image/png": "[encoded data removed]",
      "text/plain": [
       "<Figure size 432x288 with 1 Axes>"
      ]
     },
     "metadata": {
      "needs_background": "light"
     },
     "output_type": "display_data"
    },
    {
     "data": {
      "text/plain": [
       "(-80.0, 80.0)"
      ]
     },
     "execution_count": 269,
     "metadata": {},
     "output_type": "execute_result"
    },
    {
     "data": {
      "image/png": "[encoded data removed]",
      "text/plain": [
       "<Figure size 432x288 with 1 Axes>"
      ]
     },
     "metadata": {
      "needs_background": "light"
     },
     "output_type": "display_data"
    }
   ],
   "source": [
    "plt.scatter(out[\"freqs\"], np.imag(out[\"fx_f\"]), alpha=0.01)\n",
    "plt.xlim((-80, 80))\n",
    "plt.show()\n",
    "plt.scatter(out[\"freqs\"], np.imag(out[\"x_f\"]), alpha=0.01)\n",
    "plt.xlim((-80, 80))"
   ]
  },
  {
   "cell_type": "code",
   "execution_count": 282,
   "metadata": {},
   "outputs": [],
   "source": [
    "out[\"kyy\"] = out.apply(lambda row: np.abs(row[\"fy_f\"])/np.abs(row[\"y_f\"]), axis=1)"
   ]
  },
  {
   "cell_type": "code",
   "execution_count": 283,
   "metadata": {},
   "outputs": [
    {
     "data": {
      "text/plain": [
       "105336.64472481726"
      ]
     },
     "execution_count": 283,
     "metadata": {},
     "output_type": "execute_result"
    }
   ],
   "source": [
    "out[(np.abs(out[\"freqs\"]) < 80) & (np.abs(out[\"freqs\"]) > 78)][\"kyy\"].mean()"
   ]
  },
  {
   "cell_type": "code",
   "execution_count": 284,
   "metadata": {},
   "outputs": [
    {
     "data": {
      "text/plain": [
       "(32962.05745948744+0j)"
      ]
     },
     "execution_count": 284,
     "metadata": {},
     "output_type": "execute_result"
    }
   ],
   "source": [
    "out[(np.abs(out[\"freqs\"]) < 80) & (np.abs(out[\"freqs\"]) > 78)][\"fy_f\"].mean()/out[(np.abs(out[\"freqs\"]) < 80) & (np.abs(out[\"freqs\"]) > 78)][\"y_f\"].mean()"
   ]
  },
  {
   "cell_type": "code",
   "execution_count": 285,
   "metadata": {},
   "outputs": [
    {
     "data": {
      "text/plain": [
       "(-50.0, 50.0)"
      ]
     },
     "execution_count": 285,
     "metadata": {},
     "output_type": "execute_result"
    },
    {
     "data": {
      "image/png": "[encoded data removed]",
      "text/plain": [
       "<Figure size 432x288 with 1 Axes>"
      ]
     },
     "metadata": {
      "needs_background": "light"
     },
     "output_type": "display_data"
    }
   ],
   "source": [
    "inds = np.abs(out[\"freqs\"]) < 100\n",
    "plt.scatter(out[\"freqs\"][inds], np.abs(out[\"x_f\"])[inds], alpha=0.2)\n",
    "plt.xlim((-50, 50))"
   ]
  },
  {
   "cell_type": "code",
   "execution_count": 176,
   "metadata": {},
   "outputs": [],
   "source": [
    "a = np.abs(out[\"x_f\"])\n",
    "a = out[np.abs(out[\"freqs\"]) < 24]"
   ]
  },
  {
   "cell_type": "code",
   "execution_count": null,
   "metadata": {},
   "outputs": [],
   "source": []
  },
  {
   "cell_type": "code",
   "execution_count": 172,
   "metadata": {},
   "outputs": [
    {
     "name": "stderr",
     "output_type": "stream",
     "text": [
      "<ipython-input-172-f675065f3b9c>:1: SettingWithCopyWarning: \n",
      "A value is trying to be set on a copy of a slice from a DataFrame.\n",
      "Try using .loc[row_indexer,col_indexer] = value instead\n",
      "\n",
      "See the caveats in the documentation: https://pandas.pydata.org/pandas-docs/stable/user_guide/indexing.html#returning-a-view-versus-a-copy\n",
      "  a[\"x_f_abs\"] = np.abs(a[\"x_f\"])\n",
      "<ipython-input-172-f675065f3b9c>:2: SettingWithCopyWarning: \n",
      "A value is trying to be set on a copy of a slice from a DataFrame.\n",
      "Try using .loc[row_indexer,col_indexer] = value instead\n",
      "\n",
      "See the caveats in the documentation: https://pandas.pydata.org/pandas-docs/stable/user_guide/indexing.html#returning-a-view-versus-a-copy\n",
      "  a[\"fy_f_abs\"] = np.abs(a[\"fy_f\"])\n"
     ]
    }
   ],
   "source": [
    "a[\"x_f_abs\"] = np.abs(a[\"x_f\"])\n",
    "a[\"fy_f_abs\"] = np.abs(a[\"fy_f\"])"
   ]
  },
  {
   "cell_type": "code",
   "execution_count": 174,
   "metadata": {},
   "outputs": [
    {
     "data": {
      "text/html": [
       "<div>\n",
       "<style scoped>\n",
       "    .dataframe tbody tr th:only-of-type {\n",
       "        vertical-align: middle;\n",
       "    }\n",
       "\n",
       "    .dataframe tbody tr th {\n",
       "        vertical-align: top;\n",
       "    }\n",
       "\n",
       "    .dataframe thead th {\n",
       "        text-align: right;\n",
       "    }\n",
       "</style>\n",
       "<table border=\"1\" class=\"dataframe\">\n",
       "  <thead>\n",
       "    <tr style=\"text-align: right;\">\n",
       "      <th></th>\n",
       "      <th>freqs</th>\n",
       "      <th>x_f</th>\n",
       "      <th>y_f</th>\n",
       "      <th>fy_f</th>\n",
       "      <th>fx_f</th>\n",
       "    </tr>\n",
       "  </thead>\n",
       "  <tbody>\n",
       "    <tr>\n",
       "      <th>0</th>\n",
       "      <td>-2560.000117</td>\n",
       "      <td>-1.149999e-06-0.000000e+00j</td>\n",
       "      <td>-0.000004-0.000000j</td>\n",
       "      <td>5.278049-0.000000j</td>\n",
       "      <td>-2.648522-0.000000j</td>\n",
       "    </tr>\n",
       "    <tr>\n",
       "      <th>1</th>\n",
       "      <td>-2560.000117</td>\n",
       "      <td>-1.507028e-06+3.338387e-06j</td>\n",
       "      <td>-0.000002+0.000001j</td>\n",
       "      <td>3.666113-0.423126j</td>\n",
       "      <td>-4.490833+2.979984j</td>\n",
       "    </tr>\n",
       "    <tr>\n",
       "      <th>2</th>\n",
       "      <td>-2560.000117</td>\n",
       "      <td>6.459039e-07+2.266608e-06j</td>\n",
       "      <td>0.000000-0.000002j</td>\n",
       "      <td>5.471628-0.359658j</td>\n",
       "      <td>1.323785-4.425709j</td>\n",
       "    </tr>\n",
       "    <tr>\n",
       "      <th>3</th>\n",
       "      <td>-2560.000117</td>\n",
       "      <td>-6.845224e-07-7.116213e-07j</td>\n",
       "      <td>-0.000003+0.000001j</td>\n",
       "      <td>-3.038492+7.621729j</td>\n",
       "      <td>-2.452428+1.007006j</td>\n",
       "    </tr>\n",
       "    <tr>\n",
       "      <th>4</th>\n",
       "      <td>-2560.000117</td>\n",
       "      <td>2.000067e-06+1.018312e-06j</td>\n",
       "      <td>-0.000006+0.000000j</td>\n",
       "      <td>-7.058580-10.875203j</td>\n",
       "      <td>-7.784679-3.110526j</td>\n",
       "    </tr>\n",
       "    <tr>\n",
       "      <th>...</th>\n",
       "      <td>...</td>\n",
       "      <td>...</td>\n",
       "      <td>...</td>\n",
       "      <td>...</td>\n",
       "      <td>...</td>\n",
       "    </tr>\n",
       "    <tr>\n",
       "      <th>76123</th>\n",
       "      <td>2554.754215</td>\n",
       "      <td>2.921007e-06+1.532331e-06j</td>\n",
       "      <td>0.000007+0.000003j</td>\n",
       "      <td>3.669230-9.733916j</td>\n",
       "      <td>-3.046898+11.249737j</td>\n",
       "    </tr>\n",
       "    <tr>\n",
       "      <th>76124</th>\n",
       "      <td>2554.754215</td>\n",
       "      <td>1.936988e-06-4.406308e-07j</td>\n",
       "      <td>0.000007-0.000004j</td>\n",
       "      <td>-3.926662+2.638391j</td>\n",
       "      <td>-2.437787-2.679423j</td>\n",
       "    </tr>\n",
       "    <tr>\n",
       "      <th>76125</th>\n",
       "      <td>2554.754215</td>\n",
       "      <td>4.412365e-06-6.297172e-07j</td>\n",
       "      <td>0.000003-0.000004j</td>\n",
       "      <td>11.623112+2.787627j</td>\n",
       "      <td>3.262668+0.589450j</td>\n",
       "    </tr>\n",
       "    <tr>\n",
       "      <th>76126</th>\n",
       "      <td>2554.754215</td>\n",
       "      <td>4.842647e-07+1.339904e-06j</td>\n",
       "      <td>0.000002-0.000003j</td>\n",
       "      <td>9.474910-0.462206j</td>\n",
       "      <td>5.142402-5.388260j</td>\n",
       "    </tr>\n",
       "    <tr>\n",
       "      <th>76127</th>\n",
       "      <td>2554.754215</td>\n",
       "      <td>1.419261e-06+5.857472e-07j</td>\n",
       "      <td>0.000002-0.000002j</td>\n",
       "      <td>-7.098299-1.882810j</td>\n",
       "      <td>1.211897+11.017423j</td>\n",
       "    </tr>\n",
       "  </tbody>\n",
       "</table>\n",
       "<p>76128 rows × 5 columns</p>\n",
       "</div>"
      ],
      "text/plain": [
       "             freqs                         x_f                 y_f  \\\n",
       "0     -2560.000117 -1.149999e-06-0.000000e+00j -0.000004-0.000000j   \n",
       "1     -2560.000117 -1.507028e-06+3.338387e-06j -0.000002+0.000001j   \n",
       "2     -2560.000117  6.459039e-07+2.266608e-06j  0.000000-0.000002j   \n",
       "3     -2560.000117 -6.845224e-07-7.116213e-07j -0.000003+0.000001j   \n",
       "4     -2560.000117  2.000067e-06+1.018312e-06j -0.000006+0.000000j   \n",
       "...            ...                         ...                 ...   \n",
       "76123  2554.754215  2.921007e-06+1.532331e-06j  0.000007+0.000003j   \n",
       "76124  2554.754215  1.936988e-06-4.406308e-07j  0.000007-0.000004j   \n",
       "76125  2554.754215  4.412365e-06-6.297172e-07j  0.000003-0.000004j   \n",
       "76126  2554.754215  4.842647e-07+1.339904e-06j  0.000002-0.000003j   \n",
       "76127  2554.754215  1.419261e-06+5.857472e-07j  0.000002-0.000002j   \n",
       "\n",
       "                      fy_f                 fx_f  \n",
       "0       5.278049-0.000000j  -2.648522-0.000000j  \n",
       "1       3.666113-0.423126j  -4.490833+2.979984j  \n",
       "2       5.471628-0.359658j   1.323785-4.425709j  \n",
       "3      -3.038492+7.621729j  -2.452428+1.007006j  \n",
       "4     -7.058580-10.875203j  -7.784679-3.110526j  \n",
       "...                    ...                  ...  \n",
       "76123   3.669230-9.733916j -3.046898+11.249737j  \n",
       "76124  -3.926662+2.638391j  -2.437787-2.679423j  \n",
       "76125  11.623112+2.787627j   3.262668+0.589450j  \n",
       "76126   9.474910-0.462206j   5.142402-5.388260j  \n",
       "76127  -7.098299-1.882810j  1.211897+11.017423j  \n",
       "\n",
       "[76128 rows x 5 columns]"
      ]
     },
     "execution_count": 174,
     "metadata": {},
     "output_type": "execute_result"
    }
   ],
   "source": [
    "out"
   ]
  },
  {
   "cell_type": "code",
   "execution_count": 154,
   "metadata": {},
   "outputs": [
    {
     "data": {
      "text/plain": [
       "(76128,)"
      ]
     },
     "execution_count": 154,
     "metadata": {},
     "output_type": "execute_result"
    }
   ],
   "source": [
    "np.array(out[\"x_f\"]).shape"
   ]
  },
  {
   "cell_type": "code",
   "execution_count": 83,
   "metadata": {},
   "outputs": [
    {
     "data": {
      "text/plain": [
       "78.68852459016394"
      ]
     },
     "execution_count": 83,
     "metadata": {},
     "output_type": "execute_result"
    }
   ],
   "source": [
    "df.shape[0]/N"
   ]
  },
  {
   "cell_type": "code",
   "execution_count": 79,
   "metadata": {},
   "outputs": [
    {
     "data": {
      "text/plain": [
       "array([2377.99417544  -0.j        ,    4.34678846  -1.34198408j,\n",
       "         14.77597248  +1.55653978j,   -2.59836866  -3.9193194j ,\n",
       "        133.96785089-541.07027358j,   17.17450415  +4.51165129j,\n",
       "          4.5839608   -4.08403718j,   18.78642531 -14.22743688j,\n",
       "         15.43705431  +3.36073369j,  -11.53154089 +19.13516588j])"
      ]
     },
     "execution_count": 79,
     "metadata": {},
     "output_type": "execute_result"
    }
   ],
   "source": [
    "yf[:10]"
   ]
  },
  {
   "cell_type": "code",
   "execution_count": 82,
   "metadata": {},
   "outputs": [
    {
     "data": {
      "text/plain": [
       "array([ 2.37749727e+03  -0.j        , -5.86463678e+00  -8.9689904j ,\n",
       "       -4.49018276e+00 +10.17280256j,  7.89001918e+00 -16.4932615j ,\n",
       "        2.32037823e+02-499.12408744j, -1.45273935e+00  +1.0013218j ,\n",
       "       -8.44750573e+00  -1.56681667j,  6.80433128e-01  +1.28732651j,\n",
       "       -8.69700511e+00  +6.42689014j,  6.82132012e+00  +2.13214773j])"
      ]
     },
     "execution_count": 82,
     "metadata": {},
     "output_type": "execute_result"
    }
   ],
   "source": [
    "yf[:10]"
   ]
  },
  {
   "cell_type": "code",
   "execution_count": 122,
   "metadata": {},
   "outputs": [
    {
     "name": "stdout",
     "output_type": "stream",
     "text": [
      "The autoreload extension is already loaded. To reload it, use:\n",
      "  %reload_ext autoreload\n"
     ]
    }
   ],
   "source": [
    "from jax import random\n",
    "from jax.experimental.optimizers import adam, sgd\n",
    "from jax import numpy as jnp\n",
    "import jax\n",
    "%load_ext autoreload\n",
    "%autoreload 2\n",
    "from models.frequency_domain import mse, initialize_params, get_batch_forward_pass, get_loss_function, train\n",
    "from tqdm import tqdm\n",
    "\n",
    "from utils import Shuffler\n",
    "\n",
    "rng = random.PRNGKey(20)"
   ]
  },
  {
   "cell_type": "code",
   "execution_count": 123,
   "metadata": {},
   "outputs": [],
   "source": [
    "def forward_pass(params, q, f, w, mass=jnp.array([[1, 0],[0, 1]])):\n",
    "    \"\"\"\n",
    "    Um forward pass estima a força no dominio da frequencia\n",
    "\n",
    "    \"\"\"\n",
    "    q = q.reshape((-1, 1))\n",
    "    M = mass\n",
    "    C = params[1]\n",
    "    K = params[0]\n",
    "\n",
    "    return jnp.squeeze(jax.lax.complex(K - (w**2)*M, w*C) @ q )"
   ]
  },
  {
   "cell_type": "code",
   "execution_count": 96,
   "metadata": {},
   "outputs": [],
   "source": [
    "params = initialize_params(rng, dims=2)"
   ]
  },
  {
   "cell_type": "code",
   "execution_count": 124,
   "metadata": {},
   "outputs": [
    {
     "data": {
      "text/plain": [
       "DeviceArray([-0.3958175 -0.34758523j,  0.04963708+0.14944674j], dtype=complex64)"
      ]
     },
     "execution_count": 124,
     "metadata": {},
     "output_type": "execute_result"
    }
   ],
   "source": [
    "r = forward_pass(params, yf[:2], yf[:2], w=1)/10000\n",
    "r"
   ]
  },
  {
   "cell_type": "code",
   "execution_count": 128,
   "metadata": {},
   "outputs": [
    {
     "data": {
      "text/plain": [
       "[DeviceArray([[-15063043.   ,     68331.3  ],\n",
       "              [  1194063.4  ,    -16429.734]], dtype=float32),\n",
       " DeviceArray([[-8.2638295e+06, -3.6439965e+04],\n",
       "              [ 3.5744160e+06, -4.3125640e+03]], dtype=float32)]"
      ]
     },
     "execution_count": 128,
     "metadata": {},
     "output_type": "execute_result"
    }
   ],
   "source": [
    "def loss_test(params, x):\n",
    "    y = forward_pass(params, x, x, w=1)\n",
    "    return mse(x, y)\n",
    "jax.grad(loss_test)(params, yf[:2])"
   ]
  },
  {
   "cell_type": "code",
   "execution_count": 100,
   "metadata": {},
   "outputs": [
    {
     "data": {
      "text/plain": [
       "DeviceArray([244268.6  ,  15875.392], dtype=float32)"
      ]
     },
     "execution_count": 100,
     "metadata": {},
     "output_type": "execute_result"
    }
   ],
   "source": [
    "jnp.abs(r - yf[:2])"
   ]
  },
  {
   "cell_type": "code",
   "execution_count": 121,
   "metadata": {},
   "outputs": [
    {
     "data": {
      "text/plain": [
       "DeviceArray(585.2316, dtype=float32)"
      ]
     },
     "execution_count": 121,
     "metadata": {},
     "output_type": "execute_result"
    }
   ],
   "source": [
    "jnp.abs(jnp.conjugate(r)[0]*r[0])"
   ]
  },
  {
   "cell_type": "code",
   "execution_count": 113,
   "metadata": {},
   "outputs": [
    {
     "data": {
      "text/plain": [
       "DeviceArray(5.+0.j, dtype=complex64)"
      ]
     },
     "execution_count": 113,
     "metadata": {},
     "output_type": "execute_result"
    }
   ],
   "source": [
    "jax.lax.complex(2., 1.)*jax.lax.complex(2., -1.)"
   ]
  },
  {
   "cell_type": "code",
   "execution_count": null,
   "metadata": {},
   "outputs": [],
   "source": []
  }
 ],
 "metadata": {
  "kernelspec": {
   "display_name": "Python 3",
   "language": "python",
   "name": "python3"
  },
  "language_info": {
   "codemirror_mode": {
    "name": "ipython",
    "version": 3
   },
   "file_extension": ".py",
   "mimetype": "text/x-python",
   "name": "python",
   "nbconvert_exporter": "python",
   "pygments_lexer": "ipython3",
   "version": "3.8.2"
  }
 },
 "nbformat": 4,
 "nbformat_minor": 4
}
