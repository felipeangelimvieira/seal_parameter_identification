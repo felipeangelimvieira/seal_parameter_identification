{
 "cells": [
  {
   "cell_type": "code",
   "execution_count": 1,
   "metadata": {},
   "outputs": [],
   "source": [
    "import sys\n",
    "from pathlib import Path\n",
    "sys.path.append(\"..\")\n",
    "import pandas as pd\n",
    "import numpy as np\n",
    "import jax.numpy as jnp\n",
    "from numpy.fft import fft, fftshift, fftfreq\n",
    "import matplotlib.pyplot as plt\n",
    "from simulation.rotor import MagneticBearing3D\n",
    "from simulation.pid import PID\n",
    "from simulation.seal import Seal\n",
    "from simulation.excitation_signals import *\n",
    "from simulation.generate_dataset import *\n",
    "from estimators.frequency import EIVSin"
   ]
  },
  {
   "cell_type": "code",
   "execution_count": 101,
   "metadata": {},
   "outputs": [],
   "source": [
    "import numpy as np\n",
    "from numpy.fft import fft, fftshift, fftfreq\n",
    "import pandas as pd\n",
    "from collections import Counter\n",
    "\n",
    "class EIVSin:\n",
    "\n",
    "\n",
    "\n",
    "    def __init__(self):\n",
    "        pass\n",
    "\n",
    "    def estimate(self, df_x, df_y, freq):\n",
    "\n",
    "        dt = (df_x[\"t\"] - df_y[\"t\"].shift()).median()\n",
    "\n",
    "        dfs = []\n",
    "        for episode, group in df_x.groupby(\"episode\"):\n",
    "            temp = self.get_frequency_domain_data(df=group,\n",
    "                                                  freq=freq,\n",
    "                                                  dt=dt)\n",
    "            temp[\"episode\"] = episode\n",
    "            dfs.append(temp)\n",
    "        df_x = pd.concat(dfs, ignore_index=True)\n",
    "\n",
    "        dfs = []\n",
    "        for episode, group in df_y.groupby(\"episode\"):\n",
    "            temp = self.get_frequency_domain_data(df=group,\n",
    "                                                  freq=freq,\n",
    "                                                  dt=dt)\n",
    "            temp[\"episode\"] = episode\n",
    "            dfs.append(temp)\n",
    "        df_y = pd.concat(dfs, ignore_index=True)\n",
    "\n",
    "\n",
    "        df = pd.concat([df_x, df_y], ignore_index=False)\n",
    "\n",
    "        # Apenas frequencia de interesse\n",
    "        sel_df = df[(df[\"freqs\"] > freq - 2) & (df[\"freqs\"] < freq + 1)].sort_index()\n",
    "        # Apenas indices que exisitam no dataframe x e y\n",
    "        inds = list(map(lambda x: x[0], (filter(lambda x: x[1] == 2, Counter(df.index).most_common()))))\n",
    "\n",
    "\n",
    "        inds = list(filter(lambda  x: x in sel_df.index, inds))\n",
    "\n",
    "\n",
    "        sel_df = sel_df.loc[inds]\n",
    "\n",
    "        freq = sel_df[\"freqs\"].unique()[0]\n",
    "        print(\"Freq\", freq, \", length\", sel_df[\"freqs\"].unique().shape)\n",
    "        Us = []\n",
    "        Ys = []\n",
    "        for name, group in sel_df.groupby(sel_df.index):\n",
    "            U = group[[\"xf\", \"yf\"]].values.transpose()\n",
    "            Y = group[[\"fxf\", \"fyf\"]].values.transpose()\n",
    "            Us.append(U)\n",
    "            Ys.append(Y)\n",
    "        Us = np.array(Us)\n",
    "        Ys = np.array(Ys)\n",
    "\n",
    "        G = np.mean(Ys, axis=0) @ np.linalg.inv(np.mean(Us, axis=0))\n",
    "        C = np.imag(G) / (2 * np.pi * freq)\n",
    "        K = np.real(G) + (2 * np.pi * freq) ** 2 * np.array([[1, 0], [0, 1]])\n",
    "\n",
    "        return {\"freq\": freq,\n",
    "                \"G\": G,\n",
    "                \"C\": C,\n",
    "                \"K\": K,\n",
    "                \"Ys\" : Ys,\n",
    "                \"Us\" : Us}\n",
    "\n",
    "    @staticmethod\n",
    "    def _get_frequency_domain_data(df, freq, dt):\n",
    "        \"\"\"\n",
    "        Recebe um dataframe com colunas x, y, fy e fx e retorna um dataframe com as mesmas colunas + sufixo \"f\"\n",
    "        no dominio do tempo, alem da coluna \"freqs\"\n",
    "\n",
    "        :param df: pd.DataFrame\n",
    "        :param freq: float\n",
    "        :param dt: float: sample interval\n",
    "        :return:\n",
    "        \"\"\"\n",
    "        N = int(np.ceil(1 / freq / dt * 2))\n",
    "        \n",
    "        data = {}\n",
    "        data[\"freqs\"] = []\n",
    "        for n in range(df.shape[0] // N):\n",
    "            data[\"freqs\"].extend(fftshift(fftfreq(N, dt)))\n",
    "        for col in [\"x\", \"y\", \"fy\", \"fx\"]:\n",
    "            data[col + \"f\"] = []\n",
    "            for n in range(df.shape[0] // N):\n",
    "                data[col + \"f\"].extend(fftshift(fft(df[col].iloc[N * n:N * (n + 1)].values)))\n",
    "\n",
    "        return pd.DataFrame(data)\n",
    "    \n",
    "    @staticmethod\n",
    "    def get_frequency_domain_data(df, freq, dt):\n",
    "        data={}\n",
    "        for col in [\"x\", \"y\", \"fy\", \"fx\"]:\n",
    "            data[col + \"f\"] = fftshift(fft(df[col].values))\n",
    "        data[\"freqs\"] = fftshift(fftfreq(data[\"xf\"].shape[0], d= dt))\n",
    "        return pd.DataFrame(data)"
   ]
  },
  {
   "cell_type": "code",
   "execution_count": 113,
   "metadata": {},
   "outputs": [
    {
     "data": {
      "text/plain": [
       "[<matplotlib.lines.Line2D at 0x7f12708745e0>]"
      ]
     },
     "execution_count": 113,
     "metadata": {},
     "output_type": "execute_result"
    },
    {
     "data": {
      "image/png": "[encoded data removed]",
      "text/plain": [
       "<Figure size 1080x720 with 1 Axes>"
      ]
     },
     "metadata": {
      "needs_background": "light"
     },
     "output_type": "display_data"
    }
   ],
   "source": [
    "size= 10000\n",
    "freq = 4\n",
    "t = np.linspace(start=0, stop=1, num=size)\n",
    "df = pd.DataFrame(dict(t=t))\n",
    "df[\"x\"] = np.sin(2*np.pi*freq*df[\"t\"])\n",
    "df[\"fx\"] = np.sin(2*np.pi*freq*df[\"t\"])\n",
    "df[\"y\"] = np.zeros_like(df[\"x\"].values)\n",
    "df[\"fy\"] = np.zeros_like(df[\"x\"].values)\n",
    "df[\"episode\"] = 0\n",
    "df_x = df\n",
    "\n",
    "df = pd.DataFrame(dict(t=t))\n",
    "df[\"y\"] = np.sin(2*np.pi*freq*df[\"t\"])\n",
    "df[\"fy\"] = np.sin(2*np.pi*freq*df[\"t\"])\n",
    "df[\"x\"] = np.zeros_like(df[\"y\"].values)\n",
    "df[\"fx\"] = np.zeros_like(df[\"y\"].values)\n",
    "df[\"episode\"] = 0\n",
    "df_y = df\n",
    "\n",
    "base = {\n",
    "            \"df_x\" : df_x.copy(),\n",
    "            \"df_y\" : df_y.copy(),\n",
    "            \"freq\" : freq,\n",
    "        }\n",
    "\n",
    "df_x[\"x\"] = df_x[\"x\"]*0.001\n",
    "df_y[\"y\"] = df_y[\"y\"]*0.001\n",
    "\n",
    "exp = {\n",
    "            \"df_x\" : df_x.copy(),\n",
    "            \"df_y\" : df_y.copy(),\n",
    "            \"freq\" : freq\n",
    "        }\n",
    "\n",
    "\n",
    "plt.figure(figsize=(15,10))\n",
    "plt.plot(df_x[\"t\"], df_x[\"x\"])\n",
    "plt.plot(df_x[\"t\"], df_x[\"fx\"])"
   ]
  },
  {
   "cell_type": "code",
   "execution_count": 114,
   "metadata": {},
   "outputs": [
    {
     "name": "stdout",
     "output_type": "stream",
     "text": [
      "Freq 2.999699999999989 , length (3,)\n",
      "Freq 2.999699999999989 , length (3,)\n"
     ]
    }
   ],
   "source": [
    "estimator = EIVSin()\n",
    "base_est = estimator.estimate(**base)\n",
    "exp_est = estimator.estimate(**exp)"
   ]
  },
  {
   "cell_type": "code",
   "execution_count": 115,
   "metadata": {},
   "outputs": [
    {
     "name": "stdout",
     "output_type": "stream",
     "text": [
      "[[999.   0.]\n",
      " [  0. 999.]]\n",
      "[[-2.12069689e-16  0.00000000e+00]\n",
      " [ 0.00000000e+00 -2.12069689e-16]]\n"
     ]
    }
   ],
   "source": [
    "print(exp_est[\"K\"] - base_est[\"K\"])\n",
    "print(exp_est[\"C\"] - base_est[\"C\"])"
   ]
  },
  {
   "cell_type": "code",
   "execution_count": 116,
   "metadata": {},
   "outputs": [
    {
     "data": {
      "text/html": [
       "<div>\n",
       "<style scoped>\n",
       "    .dataframe tbody tr th:only-of-type {\n",
       "        vertical-align: middle;\n",
       "    }\n",
       "\n",
       "    .dataframe tbody tr th {\n",
       "        vertical-align: top;\n",
       "    }\n",
       "\n",
       "    .dataframe thead th {\n",
       "        text-align: right;\n",
       "    }\n",
       "</style>\n",
       "<table border=\"1\" class=\"dataframe\">\n",
       "  <thead>\n",
       "    <tr style=\"text-align: right;\">\n",
       "      <th></th>\n",
       "      <th>xf</th>\n",
       "      <th>yf</th>\n",
       "      <th>fyf</th>\n",
       "      <th>fxf</th>\n",
       "      <th>freqs</th>\n",
       "    </tr>\n",
       "  </thead>\n",
       "  <tbody>\n",
       "    <tr>\n",
       "      <th>0</th>\n",
       "      <td>-0.000001-0.000000j</td>\n",
       "      <td>0.000000+0.000000j</td>\n",
       "      <td>0.000000+0.000000j</td>\n",
       "      <td>-0.001257+0.000000j</td>\n",
       "      <td>-4999.5000</td>\n",
       "    </tr>\n",
       "    <tr>\n",
       "      <th>1</th>\n",
       "      <td>-0.000001-0.000000j</td>\n",
       "      <td>0.000000+0.000000j</td>\n",
       "      <td>0.000000+0.000000j</td>\n",
       "      <td>-0.001257-0.000000j</td>\n",
       "      <td>-4998.5001</td>\n",
       "    </tr>\n",
       "    <tr>\n",
       "      <th>2</th>\n",
       "      <td>-0.000001-0.000000j</td>\n",
       "      <td>0.000000+0.000000j</td>\n",
       "      <td>0.000000+0.000000j</td>\n",
       "      <td>-0.001257-0.000001j</td>\n",
       "      <td>-4997.5002</td>\n",
       "    </tr>\n",
       "    <tr>\n",
       "      <th>3</th>\n",
       "      <td>-0.000001-0.000000j</td>\n",
       "      <td>0.000000+0.000000j</td>\n",
       "      <td>0.000000+0.000000j</td>\n",
       "      <td>-0.001257-0.000001j</td>\n",
       "      <td>-4996.5003</td>\n",
       "    </tr>\n",
       "    <tr>\n",
       "      <th>4</th>\n",
       "      <td>-0.000001-0.000000j</td>\n",
       "      <td>0.000000+0.000000j</td>\n",
       "      <td>0.000000+0.000000j</td>\n",
       "      <td>-0.001257-0.000002j</td>\n",
       "      <td>-4995.5004</td>\n",
       "    </tr>\n",
       "  </tbody>\n",
       "</table>\n",
       "</div>"
      ],
      "text/plain": [
       "                   xf                  yf                 fyf  \\\n",
       "0 -0.000001-0.000000j  0.000000+0.000000j  0.000000+0.000000j   \n",
       "1 -0.000001-0.000000j  0.000000+0.000000j  0.000000+0.000000j   \n",
       "2 -0.000001-0.000000j  0.000000+0.000000j  0.000000+0.000000j   \n",
       "3 -0.000001-0.000000j  0.000000+0.000000j  0.000000+0.000000j   \n",
       "4 -0.000001-0.000000j  0.000000+0.000000j  0.000000+0.000000j   \n",
       "\n",
       "                  fxf      freqs  \n",
       "0 -0.001257+0.000000j -4999.5000  \n",
       "1 -0.001257-0.000000j -4998.5001  \n",
       "2 -0.001257-0.000001j -4997.5002  \n",
       "3 -0.001257-0.000001j -4996.5003  \n",
       "4 -0.001257-0.000002j -4995.5004  "
      ]
     },
     "execution_count": 116,
     "metadata": {},
     "output_type": "execute_result"
    }
   ],
   "source": [
    "dt = (df_x[\"t\"] - df_x[\"t\"].shift()).mean()\n",
    "_df = EIVSin.get_frequency_domain_data(df_x, freq=freq, dt = dt)\n",
    "_df.head()"
   ]
  },
  {
   "cell_type": "code",
   "execution_count": 117,
   "metadata": {},
   "outputs": [
    {
     "name": "stderr",
     "output_type": "stream",
     "text": [
      "/home/felipeangelim/.local/lib/python3.8/site-packages/numpy/core/_asarray.py:136: ComplexWarning: Casting complex values to real discards the imaginary part\n",
      "  return array(a, dtype, copy=False, order=order, subok=True)\n"
     ]
    },
    {
     "data": {
      "text/plain": [
       "(-5.0, 5.0)"
      ]
     },
     "execution_count": 117,
     "metadata": {},
     "output_type": "execute_result"
    },
    {
     "data": {
      "image/png": "[encoded data removed]",
      "text/plain": [
       "<Figure size 432x288 with 1 Axes>"
      ]
     },
     "metadata": {
      "needs_background": "light"
     },
     "output_type": "display_data"
    }
   ],
   "source": [
    "plt.scatter(_df[\"freqs\"], _df[\"xf\"], s=1)\n",
    "plt.xlim(-freq-1, freq + 1)"
   ]
  },
  {
   "cell_type": "code",
   "execution_count": 99,
   "metadata": {},
   "outputs": [
    {
     "data": {
      "text/html": [
       "<div>\n",
       "<style scoped>\n",
       "    .dataframe tbody tr th:only-of-type {\n",
       "        vertical-align: middle;\n",
       "    }\n",
       "\n",
       "    .dataframe tbody tr th {\n",
       "        vertical-align: top;\n",
       "    }\n",
       "\n",
       "    .dataframe thead th {\n",
       "        text-align: right;\n",
       "    }\n",
       "</style>\n",
       "<table border=\"1\" class=\"dataframe\">\n",
       "  <thead>\n",
       "    <tr style=\"text-align: right;\">\n",
       "      <th></th>\n",
       "      <th>xf</th>\n",
       "      <th>yf</th>\n",
       "      <th>fyf</th>\n",
       "      <th>fxf</th>\n",
       "      <th>freqs</th>\n",
       "    </tr>\n",
       "  </thead>\n",
       "  <tbody>\n",
       "    <tr>\n",
       "      <th>0</th>\n",
       "      <td>-0.006505+0.000000j</td>\n",
       "      <td>0.000000+0.000000j</td>\n",
       "      <td>0.000000+0.000000j</td>\n",
       "      <td>-0.021683+0.000000j</td>\n",
       "      <td>-4999.5000</td>\n",
       "    </tr>\n",
       "    <tr>\n",
       "      <th>1</th>\n",
       "      <td>-0.006505-0.000002j</td>\n",
       "      <td>0.000000+0.000000j</td>\n",
       "      <td>0.000000+0.000000j</td>\n",
       "      <td>-0.021683-0.000007j</td>\n",
       "      <td>-4998.5001</td>\n",
       "    </tr>\n",
       "    <tr>\n",
       "      <th>2</th>\n",
       "      <td>-0.006505-0.000004j</td>\n",
       "      <td>0.000000+0.000000j</td>\n",
       "      <td>0.000000+0.000000j</td>\n",
       "      <td>-0.021683-0.000014j</td>\n",
       "      <td>-4997.5002</td>\n",
       "    </tr>\n",
       "    <tr>\n",
       "      <th>3</th>\n",
       "      <td>-0.006505-0.000006j</td>\n",
       "      <td>0.000000+0.000000j</td>\n",
       "      <td>0.000000+0.000000j</td>\n",
       "      <td>-0.021683-0.000020j</td>\n",
       "      <td>-4996.5003</td>\n",
       "    </tr>\n",
       "    <tr>\n",
       "      <th>4</th>\n",
       "      <td>-0.006505-0.000008j</td>\n",
       "      <td>0.000000+0.000000j</td>\n",
       "      <td>0.000000+0.000000j</td>\n",
       "      <td>-0.021683-0.000027j</td>\n",
       "      <td>-4995.5004</td>\n",
       "    </tr>\n",
       "  </tbody>\n",
       "</table>\n",
       "</div>"
      ],
      "text/plain": [
       "                   xf                  yf                 fyf  \\\n",
       "0 -0.006505+0.000000j  0.000000+0.000000j  0.000000+0.000000j   \n",
       "1 -0.006505-0.000002j  0.000000+0.000000j  0.000000+0.000000j   \n",
       "2 -0.006505-0.000004j  0.000000+0.000000j  0.000000+0.000000j   \n",
       "3 -0.006505-0.000006j  0.000000+0.000000j  0.000000+0.000000j   \n",
       "4 -0.006505-0.000008j  0.000000+0.000000j  0.000000+0.000000j   \n",
       "\n",
       "                  fxf      freqs  \n",
       "0 -0.021683+0.000000j -4999.5000  \n",
       "1 -0.021683-0.000007j -4998.5001  \n",
       "2 -0.021683-0.000014j -4997.5002  \n",
       "3 -0.021683-0.000020j -4996.5003  \n",
       "4 -0.021683-0.000027j -4995.5004  "
      ]
     },
     "execution_count": 99,
     "metadata": {},
     "output_type": "execute_result"
    }
   ],
   "source": [
    "dt = (df_x[\"t\"] - df_x[\"t\"].shift()).mean()\n",
    "_df = get_frequency_domain_data(df_x, freq=freq, dt = dt)\n",
    "_df.head()"
   ]
  },
  {
   "cell_type": "code",
   "execution_count": 100,
   "metadata": {},
   "outputs": [
    {
     "name": "stderr",
     "output_type": "stream",
     "text": [
      "/home/felipeangelim/.local/lib/python3.8/site-packages/numpy/core/_asarray.py:136: ComplexWarning: Casting complex values to real discards the imaginary part\n",
      "  return array(a, dtype, copy=False, order=order, subok=True)\n"
     ]
    },
    {
     "data": {
      "text/plain": [
       "(-70.0, 70.0)"
      ]
     },
     "execution_count": 100,
     "metadata": {},
     "output_type": "execute_result"
    },
    {
     "data": {
      "image/png": "[encoded data removed]",
      "text/plain": [
       "<Figure size 432x288 with 1 Axes>"
      ]
     },
     "metadata": {
      "needs_background": "light"
     },
     "output_type": "display_data"
    }
   ],
   "source": [
    "plt.scatter(_df[\"freqs\"], _df[\"xf\"], s=1)\n",
    "plt.xlim(-freq-1, freq + 1)"
   ]
  },
  {
   "cell_type": "code",
   "execution_count": null,
   "metadata": {},
   "outputs": [],
   "source": []
  }
 ],
 "metadata": {
  "kernelspec": {
   "display_name": "Python 3",
   "language": "python",
   "name": "python3"
  },
  "language_info": {
   "codemirror_mode": {
    "name": "ipython",
    "version": 3
   },
   "file_extension": ".py",
   "mimetype": "text/x-python",
   "name": "python",
   "nbconvert_exporter": "python",
   "pygments_lexer": "ipython3",
   "version": "3.8.2"
  }
 },
 "nbformat": 4,
 "nbformat_minor": 4
}
