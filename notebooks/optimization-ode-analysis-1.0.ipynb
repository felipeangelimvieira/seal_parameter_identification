{
 "cells": [
  {
   "cell_type": "code",
   "execution_count": 1,
   "metadata": {},
   "outputs": [
    {
     "name": "stderr",
     "output_type": "stream",
     "text": [
      "/home/felipeangelim/.local/lib/python3.8/site-packages/jax/lib/xla_bridge.py:130: UserWarning: No GPU/TPU found, falling back to CPU.\n",
      "  warnings.warn('No GPU/TPU found, falling back to CPU.')\n"
     ]
    }
   ],
   "source": [
    "import pandas as pd\n",
    "import numpy as np\n",
    "import os\n",
    "from pathlib import Path\n",
    "import matplotlib.pyplot as plt\n",
    "from utils import *\n",
    "from scipy.fft import fft\n",
    "import os\n",
    "from jax import random\n",
    "from jax.experimental.optimizers import adam, sgd\n",
    "from jax import numpy as jnp\n",
    "%load_ext autoreload\n",
    "%autoreload 2\n",
    "from models.newton_ode import mse, initialize_params, batch_forward_pass, get_loss_function, train, forward_pass\n",
    "from tqdm import tqdm\n",
    "from functools import partial\n",
    "\n",
    "from utils import Shuffler\n"
   ]
  },
  {
   "cell_type": "code",
   "execution_count": 48,
   "metadata": {},
   "outputs": [
    {
     "name": "stdout",
     "output_type": "stream",
     "text": [
      "sine_fx_49Hz_0RPM.txt\n",
      "sine_fy_49Hz_0RPM.txt\n"
     ]
    }
   ],
   "source": [
    "def append_derivatives_to_dataframe(df, col, dt, **kwargs):\n",
    "    df[col + \"_dot\"] = (df[col] - df[col].shift())/dt\n",
    "    return df\n",
    "\n",
    "def get_data(freq, polyorder=3, window_length=151):\n",
    "    \n",
    "    all_data = pd.DataFrame()\n",
    "    for file in filter(lambda x: (\"_\"+str(freq)+\"Hz\" in x) and x.endswith(\".txt\"), os.listdir(\"amb_sin/\")):\n",
    "        print(file)\n",
    "        df = load_amb_sin_data(\"amb_sin/\" + file).iloc[10000:]\n",
    "        df[\"f_ay\"] -= df[\"f_ay\"].mean()\n",
    "        df[\"f_ax\"] -= df[\"f_ax\"].mean()\n",
    "        df[\"f_bx\"] -= df[\"f_bx\"].mean()\n",
    "        df[\"f_by\"] -= df[\"f_by\"].mean()\n",
    "        df[\"x\"] = (df[\"ax\"] + df[\"bx\"])/2\n",
    "        #df[\"x\"] = df[\"ax\"]\n",
    "        df[\"y\"] = (df[\"ay\"] + df[\"by\"])/2\n",
    "        #df[\"y\"] = df[\"ay\"]\n",
    "        df['fx'] = df[\"f_ax\"] + df[\"f_bx\"]\n",
    "        #df[\"fx\"] = df[\"f_ax\"]\n",
    "        df['fy'] = df[\"f_ay\"] + df[\"f_by\"]\n",
    "        #df[\"fx\"] = df[\"f_ay\"]\n",
    "        df = df[[\"datetime\", \"x\", \"y\", \"fx\", \"fy\"]]\n",
    "        \n",
    "        def to_ms(t):\n",
    "            try:\n",
    "                return t.delta*1e-9\n",
    "            except:\n",
    "                return np.nan\n",
    "        \n",
    "        #df[\"dt\"] = df[\"dt\"].cumsum()\n",
    "        \n",
    "        \n",
    "        mean_dt = (df[\"datetime\"] - df[\"datetime\"].shift()).median().delta*1e-9\n",
    "        for col in [\"x\", \"y\"]:\n",
    "            df = append_derivative_to_dataframe(df, col, dt=mean_dt, window_length=window_length, polyorder=polyorder)\n",
    "\n",
    "        df = append_derivative_to_dataframe(df, \"fx\", dt=mean_dt, window_length=window_length, polyorder=polyorder)\n",
    "        df = append_derivative_to_dataframe(df, \"fy\", dt=mean_dt, window_length=window_length, polyorder=polyorder)\n",
    "        df = df.iloc[1:]\n",
    "        \n",
    "        df[\"dt\"] = df[\"datetime\"] - df.iloc[0, 0]\n",
    "        df[\"dt\"] = df[\"dt\"].apply(to_ms)\n",
    "        \n",
    "        all_data = pd.concat([all_data, df], ignore_index=True)\n",
    "    \n",
    "    return all_data\n",
    "\n",
    "def get_vectors_from_data(df):\n",
    "    q = np.expand_dims(df[['x', 'y']].values, axis=-1)\n",
    "    q_dot = np.expand_dims(df[['x_dot', 'y_dot']].values, axis=-1)\n",
    "    #q_dot2 = np.expand_dims(df[['x_dot2', 'y_dot2']].values, axis=-1)\n",
    "    f = np.expand_dims(df[['fx', 'fy']].values, axis=-1)\n",
    "    t = df[\"dt\"].values\n",
    "    return q, q_dot,[], f, t\n",
    "\n",
    "\n",
    "freq = 49\n",
    "polyorder = 1\n",
    "window_length = 7\n",
    "df = get_data(freq=freq, polyorder=polyorder, window_length=window_length)"
   ]
  },
  {
   "cell_type": "code",
   "execution_count": 49,
   "metadata": {},
   "outputs": [
    {
     "data": {
      "text/html": [
       "<div>\n",
       "<style scoped>\n",
       "    .dataframe tbody tr th:only-of-type {\n",
       "        vertical-align: middle;\n",
       "    }\n",
       "\n",
       "    .dataframe tbody tr th {\n",
       "        vertical-align: top;\n",
       "    }\n",
       "\n",
       "    .dataframe thead th {\n",
       "        text-align: right;\n",
       "    }\n",
       "</style>\n",
       "<table border=\"1\" class=\"dataframe\">\n",
       "  <thead>\n",
       "    <tr style=\"text-align: right;\">\n",
       "      <th></th>\n",
       "      <th>datetime</th>\n",
       "      <th>x</th>\n",
       "      <th>y</th>\n",
       "      <th>fx</th>\n",
       "      <th>fy</th>\n",
       "      <th>x_dot</th>\n",
       "      <th>y_dot</th>\n",
       "      <th>fx_dot</th>\n",
       "      <th>fy_dot</th>\n",
       "      <th>dt</th>\n",
       "    </tr>\n",
       "  </thead>\n",
       "  <tbody>\n",
       "    <tr>\n",
       "      <th>0</th>\n",
       "      <td>2019-03-24 00:24:06.139077</td>\n",
       "      <td>0.000044</td>\n",
       "      <td>-2.679340e-07</td>\n",
       "      <td>-2.825807</td>\n",
       "      <td>0.308104</td>\n",
       "      <td>-0.011186</td>\n",
       "      <td>-0.000308</td>\n",
       "      <td>560.167046</td>\n",
       "      <td>86.064963</td>\n",
       "      <td>0.000000</td>\n",
       "    </tr>\n",
       "    <tr>\n",
       "      <th>1</th>\n",
       "      <td>2019-03-24 00:24:06.139272</td>\n",
       "      <td>0.000042</td>\n",
       "      <td>-1.734290e-07</td>\n",
       "      <td>-2.616875</td>\n",
       "      <td>-0.236785</td>\n",
       "      <td>-0.011186</td>\n",
       "      <td>-0.000308</td>\n",
       "      <td>560.167046</td>\n",
       "      <td>86.064963</td>\n",
       "      <td>0.000195</td>\n",
       "    </tr>\n",
       "    <tr>\n",
       "      <th>2</th>\n",
       "      <td>2019-03-24 00:24:06.139468</td>\n",
       "      <td>0.000039</td>\n",
       "      <td>-3.695100e-07</td>\n",
       "      <td>-2.810533</td>\n",
       "      <td>-0.580254</td>\n",
       "      <td>-0.011186</td>\n",
       "      <td>-0.000308</td>\n",
       "      <td>560.167046</td>\n",
       "      <td>86.064963</td>\n",
       "      <td>0.000391</td>\n",
       "    </tr>\n",
       "    <tr>\n",
       "      <th>3</th>\n",
       "      <td>2019-03-24 00:24:06.139663</td>\n",
       "      <td>0.000037</td>\n",
       "      <td>-2.304825e-07</td>\n",
       "      <td>-2.120576</td>\n",
       "      <td>-0.244809</td>\n",
       "      <td>-0.010859</td>\n",
       "      <td>-0.000755</td>\n",
       "      <td>702.306753</td>\n",
       "      <td>-86.346777</td>\n",
       "      <td>0.000586</td>\n",
       "    </tr>\n",
       "    <tr>\n",
       "      <th>4</th>\n",
       "      <td>2019-03-24 00:24:06.139858</td>\n",
       "      <td>0.000035</td>\n",
       "      <td>-7.060165e-07</td>\n",
       "      <td>-2.526951</td>\n",
       "      <td>0.142555</td>\n",
       "      <td>-0.010542</td>\n",
       "      <td>-0.000895</td>\n",
       "      <td>733.964720</td>\n",
       "      <td>433.988278</td>\n",
       "      <td>0.000781</td>\n",
       "    </tr>\n",
       "    <tr>\n",
       "      <th>...</th>\n",
       "      <td>...</td>\n",
       "      <td>...</td>\n",
       "      <td>...</td>\n",
       "      <td>...</td>\n",
       "      <td>...</td>\n",
       "      <td>...</td>\n",
       "      <td>...</td>\n",
       "      <td>...</td>\n",
       "      <td>...</td>\n",
       "      <td>...</td>\n",
       "    </tr>\n",
       "    <tr>\n",
       "      <th>107993</th>\n",
       "      <td>2019-03-24 00:37:18.184780</td>\n",
       "      <td>0.000009</td>\n",
       "      <td>5.615834e-05</td>\n",
       "      <td>-0.071559</td>\n",
       "      <td>-3.256300</td>\n",
       "      <td>-0.003102</td>\n",
       "      <td>-0.001392</td>\n",
       "      <td>-36.385403</td>\n",
       "      <td>-113.864802</td>\n",
       "      <td>9.045703</td>\n",
       "    </tr>\n",
       "    <tr>\n",
       "      <th>107994</th>\n",
       "      <td>2019-03-24 00:37:18.184976</td>\n",
       "      <td>0.000009</td>\n",
       "      <td>5.545846e-05</td>\n",
       "      <td>-0.289058</td>\n",
       "      <td>-3.638341</td>\n",
       "      <td>-0.003651</td>\n",
       "      <td>-0.002040</td>\n",
       "      <td>-36.197830</td>\n",
       "      <td>-184.818124</td>\n",
       "      <td>9.045899</td>\n",
       "    </tr>\n",
       "    <tr>\n",
       "      <th>107995</th>\n",
       "      <td>2019-03-24 00:37:18.185171</td>\n",
       "      <td>0.000008</td>\n",
       "      <td>5.544186e-05</td>\n",
       "      <td>-0.262986</td>\n",
       "      <td>-2.616643</td>\n",
       "      <td>-0.003651</td>\n",
       "      <td>-0.002040</td>\n",
       "      <td>-36.197830</td>\n",
       "      <td>-184.818124</td>\n",
       "      <td>9.046094</td>\n",
       "    </tr>\n",
       "    <tr>\n",
       "      <th>107996</th>\n",
       "      <td>2019-03-24 00:37:18.185366</td>\n",
       "      <td>0.000007</td>\n",
       "      <td>5.488481e-05</td>\n",
       "      <td>-0.374874</td>\n",
       "      <td>-3.288302</td>\n",
       "      <td>-0.003651</td>\n",
       "      <td>-0.002040</td>\n",
       "      <td>-36.197830</td>\n",
       "      <td>-184.818124</td>\n",
       "      <td>9.046289</td>\n",
       "    </tr>\n",
       "    <tr>\n",
       "      <th>107997</th>\n",
       "      <td>2019-03-24 00:37:18.185561</td>\n",
       "      <td>0.000006</td>\n",
       "      <td>5.416556e-05</td>\n",
       "      <td>-0.260411</td>\n",
       "      <td>-3.670446</td>\n",
       "      <td>-0.003651</td>\n",
       "      <td>-0.002040</td>\n",
       "      <td>-36.197830</td>\n",
       "      <td>-184.818124</td>\n",
       "      <td>9.046484</td>\n",
       "    </tr>\n",
       "  </tbody>\n",
       "</table>\n",
       "<p>107998 rows × 10 columns</p>\n",
       "</div>"
      ],
      "text/plain": [
       "                         datetime         x             y        fx        fy  \\\n",
       "0      2019-03-24 00:24:06.139077  0.000044 -2.679340e-07 -2.825807  0.308104   \n",
       "1      2019-03-24 00:24:06.139272  0.000042 -1.734290e-07 -2.616875 -0.236785   \n",
       "2      2019-03-24 00:24:06.139468  0.000039 -3.695100e-07 -2.810533 -0.580254   \n",
       "3      2019-03-24 00:24:06.139663  0.000037 -2.304825e-07 -2.120576 -0.244809   \n",
       "4      2019-03-24 00:24:06.139858  0.000035 -7.060165e-07 -2.526951  0.142555   \n",
       "...                           ...       ...           ...       ...       ...   \n",
       "107993 2019-03-24 00:37:18.184780  0.000009  5.615834e-05 -0.071559 -3.256300   \n",
       "107994 2019-03-24 00:37:18.184976  0.000009  5.545846e-05 -0.289058 -3.638341   \n",
       "107995 2019-03-24 00:37:18.185171  0.000008  5.544186e-05 -0.262986 -2.616643   \n",
       "107996 2019-03-24 00:37:18.185366  0.000007  5.488481e-05 -0.374874 -3.288302   \n",
       "107997 2019-03-24 00:37:18.185561  0.000006  5.416556e-05 -0.260411 -3.670446   \n",
       "\n",
       "           x_dot     y_dot      fx_dot      fy_dot        dt  \n",
       "0      -0.011186 -0.000308  560.167046   86.064963  0.000000  \n",
       "1      -0.011186 -0.000308  560.167046   86.064963  0.000195  \n",
       "2      -0.011186 -0.000308  560.167046   86.064963  0.000391  \n",
       "3      -0.010859 -0.000755  702.306753  -86.346777  0.000586  \n",
       "4      -0.010542 -0.000895  733.964720  433.988278  0.000781  \n",
       "...          ...       ...         ...         ...       ...  \n",
       "107993 -0.003102 -0.001392  -36.385403 -113.864802  9.045703  \n",
       "107994 -0.003651 -0.002040  -36.197830 -184.818124  9.045899  \n",
       "107995 -0.003651 -0.002040  -36.197830 -184.818124  9.046094  \n",
       "107996 -0.003651 -0.002040  -36.197830 -184.818124  9.046289  \n",
       "107997 -0.003651 -0.002040  -36.197830 -184.818124  9.046484  \n",
       "\n",
       "[107998 rows x 10 columns]"
      ]
     },
     "execution_count": 49,
     "metadata": {},
     "output_type": "execute_result"
    }
   ],
   "source": [
    "df"
   ]
  },
  {
   "cell_type": "code",
   "execution_count": 50,
   "metadata": {},
   "outputs": [
    {
     "data": {
      "image/png": "[encoded data removed]",
      "text/plain": [
       "<Figure size 432x288 with 1 Axes>"
      ]
     },
     "metadata": {
      "needs_background": "light"
     },
     "output_type": "display_data"
    },
    {
     "data": {
      "image/png": "[encoded data removed]",
      "text/plain": [
       "<Figure size 432x288 with 1 Axes>"
      ]
     },
     "metadata": {
      "needs_background": "light"
     },
     "output_type": "display_data"
    }
   ],
   "source": [
    "i = 1000\n",
    "plt.plot(df.iloc[:i][\"x\"])\n",
    "plt.show()\n",
    "plt.plot(df.iloc[:i][\"x_dot\"])\n",
    "plt.show()"
   ]
  },
  {
   "cell_type": "code",
   "execution_count": 51,
   "metadata": {},
   "outputs": [
    {
     "data": {
      "image/png": "[encoded data removed]",
      "text/plain": [
       "<Figure size 432x288 with 1 Axes>"
      ]
     },
     "metadata": {
      "needs_background": "light"
     },
     "output_type": "display_data"
    },
    {
     "data": {
      "image/png": "[encoded data removed]",
      "text/plain": [
       "<Figure size 432x288 with 1 Axes>"
      ]
     },
     "metadata": {
      "needs_background": "light"
     },
     "output_type": "display_data"
    }
   ],
   "source": [
    "i = 1000\n",
    "plt.plot(df.iloc[:i][\"x\"])\n",
    "plt.show()\n",
    "plt.plot(df.iloc[:i][\"x_dot\"])\n",
    "plt.show()"
   ]
  },
  {
   "cell_type": "code",
   "execution_count": 52,
   "metadata": {},
   "outputs": [],
   "source": [
    "def split_sequence(sequence, n_steps, always_future=True):\n",
    "    X  = list()\n",
    "    for i in range(len(sequence)):\n",
    "        \n",
    "        # Queremos sempre a frente de t\n",
    "        if always_future:\n",
    "            i += 1\n",
    "        # find the end of this pattern\n",
    "        end_ix = i + n_steps\n",
    "        # check if we are beyond the sequence\n",
    "        if end_ix > len(sequence)-1:\n",
    "            break\n",
    "        # gather input and output parts of the pattern\n",
    "        seq_x = sequence[i:end_ix]\n",
    "        X.append(seq_x)\n",
    "    return np.array(X)\n"
   ]
  },
  {
   "cell_type": "code",
   "execution_count": 76,
   "metadata": {},
   "outputs": [],
   "source": [
    "q, q_dot, q_dot2, f, t = get_vectors_from_data(df)\n",
    "\n",
    "q *= 1e6\n",
    "q_dot *= 1e6\n",
    "f *= 1e6"
   ]
  },
  {
   "cell_type": "code",
   "execution_count": 77,
   "metadata": {},
   "outputs": [],
   "source": [
    "n_steps = 5\n",
    "q_future = split_sequence(q, n_steps)\n",
    "q_dot_future = split_sequence(q_dot, n_steps)\n",
    "f = split_sequence(f, n_steps, always_future=False)\n",
    "\n",
    "q = q[:q_future.shape[0]]\n",
    "q_dot = q_dot[:q_future.shape[0]]\n",
    "\n",
    "f = f[:q_future.shape[0]]"
   ]
  },
  {
   "cell_type": "code",
   "execution_count": 78,
   "metadata": {},
   "outputs": [
    {
     "data": {
      "text/plain": [
       "(107992, 5, 2, 1)"
      ]
     },
     "execution_count": 78,
     "metadata": {},
     "output_type": "execute_result"
    }
   ],
   "source": [
    "f.shape"
   ]
  },
  {
   "cell_type": "code",
   "execution_count": 79,
   "metadata": {},
   "outputs": [],
   "source": [
    "#t = np.expand_dims(t, axis=-1)"
   ]
  },
  {
   "cell_type": "code",
   "execution_count": 80,
   "metadata": {},
   "outputs": [
    {
     "name": "stdout",
     "output_type": "stream",
     "text": [
      "0.1665465\n",
      "0.11853425\n",
      "0.34097496\n",
      "1126.9922\n"
     ]
    }
   ],
   "source": [
    "from jax.experimental.stax import Dense, serial\n",
    "import jax\n",
    "import jax.numpy as jnp\n",
    "import numpy as np\n",
    "from jax import grad, jit, vmap, value_and_grad, jacfwd, jacrev, jacobian, hessian\n",
    "from jax import random\n",
    "from jax.experimental import stax\n",
    "from jax.experimental.ode import odeint\n",
    "from jax.experimental.optimizers import adam, sgd\n",
    "from functools import partial\n",
    "from tqdm import tqdm\n",
    "import matplotlib.pyplot as plt\n",
    "\n",
    "\n",
    "\n",
    "\"\"\"\n",
    "\n",
    "Utils\n",
    "\n",
    "\"\"\"\n",
    "\n",
    "def mse(y_true, y_pred):\n",
    "    y_true, y_pred = jnp.squeeze(y_true), jnp.squeeze(y_pred)\n",
    "    if  (y_true.shape != y_pred.shape):\n",
    "        raise ValueError(f\"y_true {y_true.shape} and y_pred {y_pred.shape} must have the same shape.\")\n",
    "    diff = (y_true - y_pred)/(10**jnp.log10(jnp.abs(y_true)))\n",
    "    return jnp.mean(jnp.square(diff))\n",
    "\n",
    "def mae(y_true, y_pred):\n",
    "    y_true, y_pred = jnp.squeeze(y_true), jnp.squeeze(y_pred)\n",
    "    if  (y_true.shape != y_pred.shape):\n",
    "        raise ValueError(f\"y_true {y_true.shape} and y_pred {y_pred.shape} must have the same shape.\")\n",
    "    diff = (y_true - y_pred)#*jnp.array([[1e5, 1e1]])\n",
    "    return jnp.mean(jnp.abs(diff))\n",
    "\n",
    "\n",
    "\"\"\"\n",
    "\n",
    "Modelo Físico\n",
    "\n",
    "\"\"\"\n",
    "\n",
    "\n",
    "def initialize_params(rng, dims, scale=1):\n",
    "    \"\"\" Inicializa massa k e c \"\"\"\n",
    "    keys = random.split(rng, 3)\n",
    "    params = [random.normal(keys[i], [dims, dims])*scale for i in range(2)]\n",
    "    return params\n",
    "\n",
    "mass = jnp.array([[1, 0], [0, 1]])\n",
    "g = jnp.array([[0], [0]])\n",
    "\n",
    "def dynamics_fun(y, t, f, params):\n",
    "    \"\"\"\n",
    "\n",
    "    :param y: inputs [position, velocity]\n",
    "    :param t: time\n",
    "    :param f: force\n",
    "    :return: outputs dydt [velocity, acceleration]\n",
    "    \"\"\"\n",
    "\n",
    "    q, q_dot = jnp.split(y.reshape((-1)), 2)\n",
    "\n",
    "    q = q.reshape((-1, 1))\n",
    "    q_dot = q_dot.reshape((-1, 1))\n",
    "    M_inv = np.linalg.pinv(mass)\n",
    "    C = params[1] @ q_dot\n",
    "    K = params[0] @ q\n",
    "    \n",
    "    q_dot2 = jnp.squeeze(M_inv @ (f - C - K) - g, -1)\n",
    "\n",
    "    dydt = jnp.concatenate([q_dot.flatten(), q_dot2.flatten()], axis=0)\n",
    "\n",
    "    return dydt\n",
    "\n",
    "def forward_pass(params, q, q_dot, f):\n",
    "    \"\"\"\n",
    "    Uma instancia de x é do formato [x, x_dot]\n",
    "    Um forward pass estima a aceleração do sistema\n",
    "\n",
    "    \"\"\"\n",
    "    q = q.reshape((-1,))\n",
    "    q_dot = q_dot.reshape((-1,))\n",
    "    y =  jnp.concatenate([q, q_dot])\n",
    "    \n",
    "    shape = y.shape\n",
    "    \n",
    "    ysol = []\n",
    "    for i in range(n_steps):\n",
    "        y = odeint(dynamics_fun, y, jnp.linspace(0, 0.000195, num=10), f[i], params)[-1]\n",
    "        y = y.reshape(shape)        \n",
    "        ysol.append(jnp.expand_dims(y, axis=0))\n",
    "    ysol = jnp.concatenate(ysol, axis=0)\n",
    "\n",
    "    q_sol, q_dot_sol = ysol.transpose().split(2)\n",
    "    q_sol = q_sol.transpose().reshape((-1, 2, 1))\n",
    "    q_dot_sol = q_dot_sol.transpose().reshape((-1, 2,  1))\n",
    "    \n",
    "    return q_sol, q_dot_sol\n",
    "#forward_pass = partial(_forward_pass, n_steps=n_steps)\n",
    "\n",
    "batch_forward_pass = vmap(forward_pass, in_axes=(None, 0, 0, 0), out_axes=0)\n",
    "\n",
    "\n",
    "rng = random.PRNGKey(15)\n",
    "params = initialize_params(rng, dims=2, scale=1)\n",
    "\n",
    "i = 0\n",
    "q_pred, q_dot_pred = forward_pass(params, q[i], q_dot[i], f[i])\n",
    "\n",
    "print(mse(y_pred=q_pred, y_true=q_future[i]))\n",
    "print(mse(y_pred=q_dot_pred, y_true=q_dot_future[i]))\n",
    "\n",
    "print(mae(y_pred=q_pred, y_true=q_future[i]))\n",
    "print(mae(y_pred=q_dot_pred, y_true=q_dot_future[i]))"
   ]
  },
  {
   "cell_type": "code",
   "execution_count": 81,
   "metadata": {},
   "outputs": [],
   "source": [
    "\n",
    "def _mse(params, q, q_dot, f, q_future):\n",
    "    q_pred, q_dot_pred = forward_pass(params, q, q_dot, f)\n",
    "    y_true = q_future\n",
    "    y_pred = q_pred\n",
    "    \n",
    "    y_true, y_pred = jnp.squeeze(y_true), jnp.squeeze(y_pred)\n",
    "    if  (y_true.shape != y_pred.shape):\n",
    "        raise ValueError(f\"y_true {y_true.shape} and y_pred {y_pred.shape} must have the same shape.\")\n",
    "    diff = (y_true - y_pred)\n",
    "    return jnp.mean(jnp.square(diff))\n",
    "    \n",
    "#grad(_mse)(params, q[i], q_dot[i], f[i], q_future[i])"
   ]
  },
  {
   "cell_type": "code",
   "execution_count": 82,
   "metadata": {},
   "outputs": [],
   "source": [
    "res = batch_forward_pass(params, q, q_dot, f)"
   ]
  },
  {
   "cell_type": "code",
   "execution_count": 83,
   "metadata": {},
   "outputs": [],
   "source": [
    "@jit\n",
    "def loss(params, q, q_dot, f, q_future, q_dot_future):\n",
    "    q_pred, q_dot_pred = batch_forward_pass(params, q, q_dot, f)\n",
    "    return mae(y_true=q_future, y_pred=q_pred)# + mae(y_true=q_dot_future, y_pred=q_dot_pred)"
   ]
  },
  {
   "cell_type": "code",
   "execution_count": 84,
   "metadata": {},
   "outputs": [],
   "source": [
    "#grad(loss)(params, q[100:130], q_dot[100:130], f[100:130], q_future[100:130], q_dot_future[100:130])"
   ]
  },
  {
   "cell_type": "code",
   "execution_count": 86,
   "metadata": {},
   "outputs": [
    {
     "name": "stderr",
     "output_type": "stream",
     "text": [
      "  1%|          | 4/421 [00:00<00:14, 29.10it/s]"
     ]
    },
    {
     "name": "stdout",
     "output_type": "stream",
     "text": [
      "Epoch 0\n"
     ]
    },
    {
     "name": "stderr",
     "output_type": "stream",
     "text": [
      "100%|██████████| 421/421 [00:27<00:00, 15.13it/s]\n",
      "  0%|          | 0/421 [00:00<?, ?it/s]"
     ]
    },
    {
     "name": "stdout",
     "output_type": "stream",
     "text": [
      "Epoch 0 , mean error: 0.58037835 params: [DeviceArray([[2929.6316,  832.4999],\n",
      "             [2529.7139, 3883.4067]], dtype=float32), DeviceArray([[ 422.90445,  -67.87565],\n",
      "             [-626.19086,  149.8125 ]], dtype=float32)]\n",
      "Epoch 1\n"
     ]
    },
    {
     "name": "stderr",
     "output_type": "stream",
     "text": [
      "100%|██████████| 421/421 [00:23<00:00, 18.20it/s]\n",
      "  1%|          | 3/421 [00:00<00:15, 26.50it/s]"
     ]
    },
    {
     "name": "stdout",
     "output_type": "stream",
     "text": [
      "Epoch 1 , mean error: 0.549606 params: [DeviceArray([[4637.317 , 1479.6552],\n",
      "             [2924.2495, 5760.8   ]], dtype=float32), DeviceArray([[  75.48006  ,    4.4354553],\n",
      "             [-267.86874  ,   80.889114 ]], dtype=float32)]\n",
      "Epoch 2\n"
     ]
    },
    {
     "name": "stderr",
     "output_type": "stream",
     "text": [
      "100%|██████████| 421/421 [00:21<00:00, 19.60it/s]\n",
      "  1%|          | 3/421 [00:00<00:17, 23.79it/s]"
     ]
    },
    {
     "name": "stdout",
     "output_type": "stream",
     "text": [
      "Epoch 2 , mean error: 0.5277681 params: [DeviceArray([[6014.5786, 2068.705 ],\n",
      "             [2847.6404, 7048.0693]], dtype=float32), DeviceArray([[  71.253624 ,    4.9117956],\n",
      "             [-235.7799   ,   75.411545 ]], dtype=float32)]\n",
      "Epoch 3\n"
     ]
    },
    {
     "name": "stderr",
     "output_type": "stream",
     "text": [
      "100%|██████████| 421/421 [00:22<00:00, 18.56it/s]\n",
      "  1%|          | 3/421 [00:00<00:17, 23.96it/s]"
     ]
    },
    {
     "name": "stdout",
     "output_type": "stream",
     "text": [
      "Epoch 3 , mean error: 0.5254653 params: [DeviceArray([[7233.313 , 2684.9229],\n",
      "             [2741.0168, 8131.626 ]], dtype=float32), DeviceArray([[  81.21369 ,    2.397233],\n",
      "             [-226.79959 ,   74.05898 ]], dtype=float32)]\n",
      "Epoch 4\n"
     ]
    },
    {
     "name": "stderr",
     "output_type": "stream",
     "text": [
      "100%|██████████| 421/421 [00:23<00:00, 18.19it/s]\n",
      "  1%|          | 3/421 [00:00<00:18, 22.92it/s]"
     ]
    },
    {
     "name": "stdout",
     "output_type": "stream",
     "text": [
      "Epoch 4 , mean error: 0.5240117 params: [DeviceArray([[8368.468 , 3321.4612],\n",
      "             [2631.3933, 9118.084 ]], dtype=float32), DeviceArray([[  92.18005  ,   -0.5097777],\n",
      "             [-221.07954  ,   72.98726  ]], dtype=float32)]\n",
      "Epoch 5\n"
     ]
    },
    {
     "name": "stderr",
     "output_type": "stream",
     "text": [
      "100%|██████████| 421/421 [00:22<00:00, 18.84it/s]\n",
      "  1%|          | 3/421 [00:00<00:17, 24.37it/s]"
     ]
    },
    {
     "name": "stdout",
     "output_type": "stream",
     "text": [
      "Epoch 5 , mean error: 0.5227228 params: [DeviceArray([[ 9457.646 ,  3972.597 ],\n",
      "             [ 2521.4746, 10049.911 ]], dtype=float32), DeviceArray([[ 103.26831  ,   -3.0243285],\n",
      "             [-217.3122   ,   72.64645  ]], dtype=float32)]\n",
      "Epoch 6\n"
     ]
    },
    {
     "name": "stderr",
     "output_type": "stream",
     "text": [
      "100%|██████████| 421/421 [00:22<00:00, 18.52it/s]\n",
      "  1%|          | 3/421 [00:00<00:19, 21.44it/s]"
     ]
    },
    {
     "name": "stdout",
     "output_type": "stream",
     "text": [
      "Epoch 6 , mean error: 0.5215602 params: [DeviceArray([[10517.317 ,  4628.494 ],\n",
      "             [ 2408.8972, 10946.752 ]], dtype=float32), DeviceArray([[ 113.35071 ,   -5.755426],\n",
      "             [-214.10728 ,   72.284485]], dtype=float32)]\n",
      "Epoch 7\n"
     ]
    },
    {
     "name": "stderr",
     "output_type": "stream",
     "text": [
      "100%|██████████| 421/421 [00:24<00:00, 17.40it/s]\n",
      "  1%|          | 3/421 [00:00<00:17, 24.20it/s]"
     ]
    },
    {
     "name": "stdout",
     "output_type": "stream",
     "text": [
      "Epoch 7 , mean error: 0.5204687 params: [DeviceArray([[11556.088 ,  5281.2925],\n",
      "             [ 2296.9988, 11822.491 ]], dtype=float32), DeviceArray([[ 122.3156   ,   -7.9590874],\n",
      "             [-211.62971  ,   71.57681  ]], dtype=float32)]\n",
      "Epoch 8\n"
     ]
    },
    {
     "name": "stderr",
     "output_type": "stream",
     "text": [
      "100%|██████████| 421/421 [00:22<00:00, 18.55it/s]\n",
      "  1%|          | 3/421 [00:00<00:17, 23.82it/s]"
     ]
    },
    {
     "name": "stdout",
     "output_type": "stream",
     "text": [
      "Epoch 8 , mean error: 0.51944417 params: [DeviceArray([[12583.534 ,  5926.4575],\n",
      "             [ 2180.637 , 12683.1875]], dtype=float32), DeviceArray([[ 130.62927 ,  -10.130699],\n",
      "             [-209.0351  ,   71.08155 ]], dtype=float32)]\n",
      "Epoch 9\n"
     ]
    },
    {
     "name": "stderr",
     "output_type": "stream",
     "text": [
      "100%|██████████| 421/421 [00:23<00:00, 18.16it/s]\n",
      "  1%|          | 3/421 [00:00<00:16, 24.69it/s]"
     ]
    },
    {
     "name": "stdout",
     "output_type": "stream",
     "text": [
      "Epoch 9 , mean error: 0.5184605 params: [DeviceArray([[13597.524 ,  6553.3853],\n",
      "             [ 2057.6558, 13532.206 ]], dtype=float32), DeviceArray([[ 138.01111 ,  -12.220925],\n",
      "             [-206.26085 ,   70.95651 ]], dtype=float32)]\n",
      "Epoch 10\n"
     ]
    },
    {
     "name": "stderr",
     "output_type": "stream",
     "text": [
      "100%|██████████| 421/421 [00:23<00:00, 18.22it/s]\n",
      "  1%|          | 3/421 [00:00<00:17, 24.44it/s]"
     ]
    },
    {
     "name": "stdout",
     "output_type": "stream",
     "text": [
      "Epoch 10 , mean error: 0.51754636 params: [DeviceArray([[14605.751 ,  7159.6616],\n",
      "             [ 1930.0007, 14370.813 ]], dtype=float32), DeviceArray([[ 144.56229,  -13.8507 ],\n",
      "             [-203.69994,   70.65797]], dtype=float32)]\n",
      "Epoch 11\n"
     ]
    },
    {
     "name": "stderr",
     "output_type": "stream",
     "text": [
      "100%|██████████| 421/421 [00:23<00:00, 17.70it/s]\n",
      "  1%|          | 3/421 [00:00<00:16, 24.83it/s]"
     ]
    },
    {
     "name": "stdout",
     "output_type": "stream",
     "text": [
      "Epoch 11 , mean error: 0.51666623 params: [DeviceArray([[15605.756 ,  7742.03  ],\n",
      "             [ 1800.9679, 15205.678 ]], dtype=float32), DeviceArray([[ 150.1314  ,  -15.514455],\n",
      "             [-201.77861 ,   69.69115 ]], dtype=float32)]\n",
      "Epoch 12\n"
     ]
    },
    {
     "name": "stderr",
     "output_type": "stream",
     "text": [
      "100%|██████████| 421/421 [00:23<00:00, 17.76it/s]\n",
      "  1%|          | 3/421 [00:00<00:17, 24.15it/s]"
     ]
    },
    {
     "name": "stdout",
     "output_type": "stream",
     "text": [
      "Epoch 12 , mean error: 0.5158429 params: [DeviceArray([[16596.855 ,  8298.151 ],\n",
      "             [ 1672.0015, 16036.157 ]], dtype=float32), DeviceArray([[ 155.83012 ,  -17.45267 ],\n",
      "             [-199.07422 ,   69.458725]], dtype=float32)]\n",
      "Epoch 13\n"
     ]
    },
    {
     "name": "stderr",
     "output_type": "stream",
     "text": [
      "100%|██████████| 421/421 [00:24<00:00, 17.50it/s]\n",
      "  1%|          | 3/421 [00:00<00:16, 24.83it/s]"
     ]
    },
    {
     "name": "stdout",
     "output_type": "stream",
     "text": [
      "Epoch 13 , mean error: 0.515058 params: [DeviceArray([[17583.453,  8824.574],\n",
      "             [ 1541.859, 16861.207]], dtype=float32), DeviceArray([[ 160.91246 ,  -18.749449],\n",
      "             [-196.60718 ,   69.363045]], dtype=float32)]\n",
      "Epoch 14\n"
     ]
    },
    {
     "name": "stderr",
     "output_type": "stream",
     "text": [
      "100%|██████████| 421/421 [00:23<00:00, 17.84it/s]\n",
      "  1%|          | 3/421 [00:00<00:16, 24.84it/s]"
     ]
    },
    {
     "name": "stdout",
     "output_type": "stream",
     "text": [
      "Epoch 14 , mean error: 0.5143147 params: [DeviceArray([[18565.184,  9319.33 ],\n",
      "             [ 1412.332, 17681.646]], dtype=float32), DeviceArray([[ 165.67706 ,  -20.046684],\n",
      "             [-194.29404 ,   68.81097 ]], dtype=float32)]\n",
      "Epoch 15\n"
     ]
    },
    {
     "name": "stderr",
     "output_type": "stream",
     "text": [
      "100%|██████████| 421/421 [00:23<00:00, 17.77it/s]\n",
      "  1%|          | 3/421 [00:00<00:16, 24.66it/s]"
     ]
    },
    {
     "name": "stdout",
     "output_type": "stream",
     "text": [
      "Epoch 15 , mean error: 0.5136243 params: [DeviceArray([[19540.277 ,  9778.153 ],\n",
      "             [ 1279.4325, 18496.41  ]], dtype=float32), DeviceArray([[ 169.99733,  -21.40963],\n",
      "             [-191.18176,   68.28957]], dtype=float32)]\n",
      "Epoch 16\n"
     ]
    },
    {
     "name": "stderr",
     "output_type": "stream",
     "text": [
      "100%|██████████| 421/421 [00:23<00:00, 17.77it/s]\n",
      "  1%|          | 3/421 [00:00<00:17, 24.41it/s]"
     ]
    },
    {
     "name": "stdout",
     "output_type": "stream",
     "text": [
      "Epoch 16 , mean error: 0.51295877 params: [DeviceArray([[20508.51 , 10196.648],\n",
      "             [ 1143.596, 19307.008]], dtype=float32), DeviceArray([[ 173.36325 ,  -22.728706],\n",
      "             [-188.7036  ,   68.280045]], dtype=float32)]\n",
      "Epoch 17\n"
     ]
    },
    {
     "name": "stderr",
     "output_type": "stream",
     "text": [
      "100%|██████████| 421/421 [00:23<00:00, 17.83it/s]\n",
      "  1%|          | 3/421 [00:00<00:17, 23.97it/s]"
     ]
    },
    {
     "name": "stdout",
     "output_type": "stream",
     "text": [
      "Epoch 17 , mean error: 0.5123304 params: [DeviceArray([[21471.7   , 10564.694 ],\n",
      "             [ 1013.4259, 20114.139 ]], dtype=float32), DeviceArray([[ 176.89969 ,  -23.955753],\n",
      "             [-186.27583 ,   67.71693 ]], dtype=float32)]\n",
      "Epoch 18\n"
     ]
    },
    {
     "name": "stderr",
     "output_type": "stream",
     "text": [
      "100%|██████████| 421/421 [00:33<00:00, 12.74it/s]\n",
      "  0%|          | 0/421 [00:00<?, ?it/s]"
     ]
    },
    {
     "name": "stdout",
     "output_type": "stream",
     "text": [
      "Epoch 18 , mean error: 0.5117627 params: [DeviceArray([[22424.742  , 10884.255  ],\n",
      "             [  883.21344, 20914.     ]], dtype=float32), DeviceArray([[ 179.48956 ,  -25.188309],\n",
      "             [-182.64238 ,   67.66065 ]], dtype=float32)]\n",
      "Epoch 19\n"
     ]
    },
    {
     "name": "stderr",
     "output_type": "stream",
     "text": [
      "100%|██████████| 421/421 [00:24<00:00, 16.94it/s]\n",
      "  1%|          | 3/421 [00:00<00:17, 24.02it/s]"
     ]
    },
    {
     "name": "stdout",
     "output_type": "stream",
     "text": [
      "Epoch 19 , mean error: 0.5111883 params: [DeviceArray([[23371.7  , 11153.296],\n",
      "             [  754.428, 21704.31 ]], dtype=float32), DeviceArray([[ 182.20715,  -26.26842],\n",
      "             [-179.12102,   67.42816]], dtype=float32)]\n",
      "Epoch 20\n"
     ]
    },
    {
     "name": "stderr",
     "output_type": "stream",
     "text": [
      "100%|██████████| 421/421 [00:23<00:00, 17.77it/s]\n",
      "  1%|          | 3/421 [00:00<00:17, 23.48it/s]"
     ]
    },
    {
     "name": "stdout",
     "output_type": "stream",
     "text": [
      "Epoch 20 , mean error: 0.51065475 params: [DeviceArray([[24310.82  , 11368.947 ],\n",
      "             [  629.6198, 22490.16  ]], dtype=float32), DeviceArray([[ 183.99059 ,  -26.932507],\n",
      "             [-176.3001  ,   67.51406 ]], dtype=float32)]\n",
      "Epoch 21\n"
     ]
    },
    {
     "name": "stderr",
     "output_type": "stream",
     "text": [
      "100%|██████████| 421/421 [00:23<00:00, 17.85it/s]\n",
      "  1%|          | 3/421 [00:00<00:17, 24.44it/s]"
     ]
    },
    {
     "name": "stdout",
     "output_type": "stream",
     "text": [
      "Epoch 21 , mean error: 0.51017666 params: [DeviceArray([[25243.775  , 11522.686  ],\n",
      "             [  508.44885, 23267.996  ]], dtype=float32), DeviceArray([[ 185.75066 ,  -27.850655],\n",
      "             [-173.12859 ,   67.3852  ]], dtype=float32)]\n",
      "Epoch 22\n"
     ]
    },
    {
     "name": "stderr",
     "output_type": "stream",
     "text": [
      "100%|██████████| 421/421 [00:23<00:00, 17.58it/s]\n",
      "  1%|          | 3/421 [00:00<00:17, 23.23it/s]"
     ]
    },
    {
     "name": "stdout",
     "output_type": "stream",
     "text": [
      "Epoch 22 , mean error: 0.5097157 params: [DeviceArray([[26163.348  , 11621.172  ],\n",
      "             [  389.69632, 24037.043  ]], dtype=float32), DeviceArray([[ 187.0594  ,  -28.872156],\n",
      "             [-169.95222 ,   66.789055]], dtype=float32)]\n",
      "Epoch 23\n"
     ]
    },
    {
     "name": "stderr",
     "output_type": "stream",
     "text": [
      "100%|██████████| 421/421 [00:25<00:00, 16.30it/s]\n",
      "  0%|          | 0/421 [00:00<?, ?it/s]"
     ]
    },
    {
     "name": "stdout",
     "output_type": "stream",
     "text": [
      "Epoch 23 , mean error: 0.5092945 params: [DeviceArray([[27075.83   , 11670.017  ],\n",
      "             [  269.60318, 24793.725  ]], dtype=float32), DeviceArray([[ 187.90306 ,  -29.394567],\n",
      "             [-166.42166 ,   66.56818 ]], dtype=float32)]\n",
      "Epoch 24\n"
     ]
    },
    {
     "name": "stderr",
     "output_type": "stream",
     "text": [
      "100%|██████████| 421/421 [00:25<00:00, 16.61it/s]\n",
      "  1%|          | 3/421 [00:00<00:17, 23.47it/s]"
     ]
    },
    {
     "name": "stdout",
     "output_type": "stream",
     "text": [
      "Epoch 24 , mean error: 0.50889033 params: [DeviceArray([[27978.637 , 11672.6   ],\n",
      "             [  144.3098, 25538.87  ]], dtype=float32), DeviceArray([[ 188.32632 ,  -29.942316],\n",
      "             [-163.44063 ,   66.33466 ]], dtype=float32)]\n",
      "Epoch 25\n"
     ]
    },
    {
     "name": "stderr",
     "output_type": "stream",
     "text": [
      "100%|██████████| 421/421 [00:23<00:00, 17.54it/s]\n",
      "  1%|          | 3/421 [00:00<00:17, 24.06it/s]"
     ]
    },
    {
     "name": "stdout",
     "output_type": "stream",
     "text": [
      "Epoch 25 , mean error: 0.5085116 params: [DeviceArray([[2.8872523e+04, 1.1637071e+04],\n",
      "             [2.0627478e+01, 2.6272654e+04]], dtype=float32), DeviceArray([[ 188.95222,  -30.57956],\n",
      "             [-160.36913,   65.9361 ]], dtype=float32)]\n",
      "Epoch 26\n"
     ]
    },
    {
     "name": "stderr",
     "output_type": "stream",
     "text": [
      "100%|██████████| 421/421 [00:23<00:00, 17.66it/s]\n",
      "  1%|          | 3/421 [00:00<00:17, 23.34it/s]"
     ]
    },
    {
     "name": "stdout",
     "output_type": "stream",
     "text": [
      "Epoch 26 , mean error: 0.50817144 params: [DeviceArray([[29753.037   , 11563.146   ],\n",
      "             [ -102.902504, 26987.812   ]], dtype=float32), DeviceArray([[ 188.90509 ,  -31.417763],\n",
      "             [-156.78682 ,   65.781235]], dtype=float32)]\n",
      "Epoch 27\n"
     ]
    },
    {
     "name": "stderr",
     "output_type": "stream",
     "text": [
      "100%|██████████| 421/421 [00:24<00:00, 17.49it/s]\n",
      "  1%|          | 3/421 [00:00<00:17, 24.09it/s]"
     ]
    },
    {
     "name": "stdout",
     "output_type": "stream",
     "text": [
      "Epoch 27 , mean error: 0.5078325 params: [DeviceArray([[30615.842  , 11461.699  ],\n",
      "             [ -213.28572, 27688.576  ]], dtype=float32), DeviceArray([[ 189.02328,  -32.03604],\n",
      "             [-154.01897,   65.31853]], dtype=float32)]\n",
      "Epoch 28\n"
     ]
    },
    {
     "name": "stderr",
     "output_type": "stream",
     "text": [
      "100%|██████████| 421/421 [00:24<00:00, 17.51it/s]\n",
      "  1%|          | 3/421 [00:00<00:17, 23.30it/s]"
     ]
    },
    {
     "name": "stdout",
     "output_type": "stream",
     "text": [
      "Epoch 28 , mean error: 0.5075569 params: [DeviceArray([[31466.71   , 11336.213  ],\n",
      "             [ -327.70044, 28368.213  ]], dtype=float32), DeviceArray([[ 188.79855 ,  -32.449997],\n",
      "             [-150.47433 ,   64.3859  ]], dtype=float32)]\n",
      "Epoch 29\n"
     ]
    },
    {
     "name": "stderr",
     "output_type": "stream",
     "text": [
      "100%|██████████| 421/421 [00:24<00:00, 17.39it/s]\n"
     ]
    },
    {
     "name": "stdout",
     "output_type": "stream",
     "text": [
      "Epoch 29 , mean error: 0.5072872 params: [DeviceArray([[32299.186  , 11195.225  ],\n",
      "             [ -440.43936, 29022.25   ]], dtype=float32), DeviceArray([[ 188.40971 ,  -32.87325 ],\n",
      "             [-147.1145  ,   63.774284]], dtype=float32)]\n"
     ]
    }
   ],
   "source": [
    "\n",
    "def train_step(q, q_dot, f, q_future, q_dot_future , opt_state, opt_update, get_params, loss):\n",
    "    params = get_params(opt_state)\n",
    "    mse, grad = value_and_grad(loss)(params,  q, q_dot, f, q_future, q_dot_future)\n",
    "    opt_state = opt_update(0, grad, opt_state)\n",
    "    params = get_params(opt_state)\n",
    "    return get_params(opt_state), opt_state, mse\n",
    "\n",
    "\n",
    "def train(params,  q, q_dot, f, q_future, q_dot_future,  batch_size, optimizer, step_size,  epochs=1, callback=None):\n",
    "\n",
    "    init_fun, opt_update, get_params = optimizer(step_size=step_size)\n",
    "    opt_state = init_fun(params)\n",
    "\n",
    "    epoch_errors = []\n",
    "    params_history = []\n",
    "    for epoch in range(epochs):\n",
    "\n",
    "        n_batchs = len(q)//batch_size\n",
    "        errors = []\n",
    "\n",
    "\n",
    "        print(\"Epoch\", epoch)\n",
    "        for i in tqdm(range(n_batchs)):\n",
    "            q_batch      = jnp.array(q[i*batch_size:((i+1)*batch_size)])\n",
    "            q_dot_batch  = jnp.array(q_dot[i*batch_size:((i+1)*batch_size)])\n",
    "            f_batch = jnp.array(f[i*batch_size:((i+1)*batch_size)])\n",
    "            \n",
    "            q_future_batch = jnp.array(q_future[i*batch_size:((i+1)*batch_size)])\n",
    "            q_dot_future_batch = jnp.array(q_dot_future[i*batch_size:((i+1)*batch_size)])\n",
    "            \n",
    "            params, opt_state, error = train_step(q_batch, q_dot_batch, f_batch, q_future_batch, q_dot_future_batch,\n",
    "                                                  opt_state, opt_update,\n",
    "                                                  get_params, loss)\n",
    "            errors.append(error)\n",
    "            params_history.append(params.copy())\n",
    "\n",
    "        mean_error = np.mean(np.array(errors))\n",
    "        print(\"Epoch\", epoch, \", mean error:\",mean_error, \"params:\", params)\n",
    "        epoch_errors.append(mean_error)\n",
    "\n",
    "        if callback:\n",
    "            y_pred = np.array(batch_forward_pass(params, q, q_dot, f))\n",
    "            callback(y_pred=y_pred, y_true=q_future)\n",
    "\n",
    "    return params\n",
    "\n",
    "\n",
    "\n",
    "def callback(y_pred, y_true):\n",
    "\n",
    "    plt.figure(figsize=(10, 8))\n",
    "    random_ind = int(np.random.uniform(0, len(y_pred) - window - 1))\n",
    "    plt.plot(shuffler.undo_shuffle(np.squeeze(y_pred))[random_ind:(random_ind + window)], linestyle=\"dotted\")\n",
    "    plt.plot(shuffler.undo_shuffle(np.squeeze(y_true))[random_ind:(random_ind + window)])\n",
    "    plt.show()\n",
    "\n",
    "batch_size=256\n",
    "\n",
    "params = train(params,  q, q_dot, f, q_future, q_dot_future,  batch_size, optimizer=adam, step_size=1e1, epochs=30, callback=None)"
   ]
  },
  {
   "cell_type": "code",
   "execution_count": null,
   "metadata": {},
   "outputs": [],
   "source": [
    "res[0].shape"
   ]
  },
  {
   "cell_type": "code",
   "execution_count": 401,
   "metadata": {},
   "outputs": [
    {
     "data": {
      "text/plain": [
       "[<matplotlib.lines.Line2D at 0x7fd3c3a376d0>,\n",
       " <matplotlib.lines.Line2D at 0x7fd3c3a37790>]"
      ]
     },
     "execution_count": 401,
     "metadata": {},
     "output_type": "execute_result"
    },
    {
     "data": {
      "image/png": "[encoded data removed]",
      "text/plain": [
       "<Figure size 432x288 with 1 Axes>"
      ]
     },
     "metadata": {
      "needs_background": "light"
     },
     "output_type": "display_data"
    }
   ],
   "source": [
    "plt.plot(jnp.squeeze(res[0][: 1201]))"
   ]
  },
  {
   "cell_type": "code",
   "execution_count": null,
   "metadata": {},
   "outputs": [],
   "source": []
  }
 ],
 "metadata": {
  "kernelspec": {
   "display_name": "Python 3",
   "language": "python",
   "name": "python3"
  },
  "language_info": {
   "codemirror_mode": {
    "name": "ipython",
    "version": 3
   },
   "file_extension": ".py",
   "mimetype": "text/x-python",
   "name": "python",
   "nbconvert_exporter": "python",
   "pygments_lexer": "ipython3",
   "version": "3.8.2"
  }
 },
 "nbformat": 4,
 "nbformat_minor": 4
}
