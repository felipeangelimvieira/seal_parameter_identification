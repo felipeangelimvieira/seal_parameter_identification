{
 "cells": [
  {
   "cell_type": "code",
   "execution_count": 2,
   "metadata": {},
   "outputs": [],
   "source": [
    "import sys\n",
    "sys.path.append(\"..\")\n",
    "import pandas as pd\n",
    "import numpy as np\n",
    "import os\n",
    "from pathlib import Path\n",
    "import matplotlib.pyplot as plt\n",
    "from utils import *\n",
    "from collections import Counter\n",
    "from scipy.fft import fft, fftfreq, fftshift\n",
    "import pickle\n"
   ]
  },
  {
   "cell_type": "code",
   "execution_count": 10,
   "metadata": {},
   "outputs": [
    {
     "name": "stdout",
     "output_type": "stream",
     "text": [
      "5\n",
      "5\n",
      "9\n",
      "9\n",
      "13\n",
      "13\n",
      "17\n",
      "17\n",
      "21\n",
      "21\n",
      "25\n",
      "25\n",
      "29\n",
      "29\n",
      "33\n",
      "33\n",
      "37\n",
      "37\n",
      "41\n",
      "41\n",
      "45\n",
      "45\n",
      "49\n",
      "49\n",
      "53\n",
      "53\n",
      "57\n",
      "57\n",
      "61\n",
      "61\n",
      "65\n",
      "65\n",
      "69\n",
      "69\n"
     ]
    }
   ],
   "source": [
    "def build_dataset(df, freq):\n",
    "    T = df[\"dt\"].mean()\n",
    "    N = int(np.ceil(1/freq/T*4))\n",
    "    \n",
    "    data = {}\n",
    "    data[\"freqs\"] = []\n",
    "    for n in range(df.shape[0]//N):\n",
    "        data[\"freqs\"].extend(fftshift(fftfreq(N, T)))\n",
    "    for col in [\"x\", \"y\", \"fy\", \"fx\"]:\n",
    "        data[col + \"f\"] = []\n",
    "        for n in range(df.shape[0]//N):\n",
    "            data[col + \"f\"].extend(fftshift(fft(df[col].iloc[N*n:N*(n+1)].values)))\n",
    "            \n",
    "    return pd.DataFrame(data)\n",
    "\n",
    "def prepare_frequency_domain_data(filename):\n",
    "    freq = int(filename.split(\"Hz\")[0].split(\"_\")[-1])\n",
    "    df = load_amb_sin_data(filename)\n",
    "    def to_seconds(x):\n",
    "        try:\n",
    "            return x.delta*1e-9\n",
    "        except:\n",
    "            return np.nan\n",
    "    \n",
    "    df[\"dt\"] = (df[\"datetime\"] - df[\"datetime\"].shift()).apply(to_seconds)\n",
    "    df[\"t\"]  = df[\"dt\"].cumsum()\n",
    "\n",
    "    T = df[\"dt\"].mean()\n",
    "\n",
    "    N = int(np.ceil(1/21/T*4))\n",
    "\n",
    "\n",
    "    df[\"x\"] = (df[\"ax\"] + df[\"bx\"])/2\n",
    "    #df[\"x\"] = df[\"ax\"]\n",
    "    df[\"y\"] = (df[\"ay\"] + df[\"by\"])/2\n",
    "    #df[\"y\"] = df[\"ay\"]\n",
    "    df['fx'] = df[\"f_ax\"] + df[\"f_bx\"]\n",
    "    #df[\"fx\"] = df[\"f_ax\"]\n",
    "    df['fy'] = df[\"f_ay\"] + df[\"f_by\"]\n",
    "    #df[\"fx\"] = df[\"f_ay\"]\n",
    "    df['ex'] = df[\"e_ax\"] + df[\"e_bx\"]\n",
    "    #df[\"fx\"] = df[\"f_ax\"]\n",
    "    df['ey'] = df[\"e_ay\"] + df[\"e_by\"]\n",
    "    \n",
    "    df = df[[\"datetime\", \"x\", \"y\", \"fx\", \"fy\", \"dt\", \"t\"]]\n",
    "    \n",
    "    print(freq)\n",
    "    \n",
    "    data = build_dataset(df, freq=freq)\n",
    "    data = data[np.abs(data[\"freqs\"]) < freq*4]\n",
    "    return data\n",
    "\n",
    "\n",
    "def get_response(freq):\n",
    "    df_x = prepare_frequency_domain_data(filename=f\"../amb_sin/sine_fx_{freq}Hz_0RPM.txt\")\n",
    "    df_x[\"axis\"] = \"x\"\n",
    "    df_y = prepare_frequency_domain_data(filename=f\"../amb_sin/sine_fy_{freq}Hz_0RPM.txt\")\n",
    "    df_y[\"axis\"] = \"y\"\n",
    "    df = pd.concat([df_x, df_y], ignore_index=False)\n",
    "    \n",
    "    sel_df = df[(df[\"freqs\"] > freq-2) & (df[\"freqs\"] < freq+1)].sort_index()\n",
    "\n",
    "    inds = list(map(lambda x: x[0], (filter(lambda x: x[1] == 2, Counter(sel_df.index).most_common()))))\n",
    "    sel_df = sel_df.loc[inds]\n",
    "\n",
    "    Us = []\n",
    "    Ys = []\n",
    "    for name, group in sel_df.groupby(sel_df.index):\n",
    "        U = group[[\"xf\", \"yf\"]].values.transpose()\n",
    "        Y = group[[\"fxf\", \"fyf\"]].values.transpose()\n",
    "        Us.append(U)\n",
    "        Ys.append(Y)\n",
    "    Us = np.array(Us)\n",
    "    Ys = np.array(Ys)\n",
    "    \n",
    "    G = np.mean(Ys, axis=0) @ np.linalg.inv(np.mean(Us,axis=0))\n",
    "    C = np.imag(G) / (2*np.pi*freq)\n",
    "    K = np.real(G) + (2*np.pi*freq)**2*np.array([[1, 0],[0, 1]])\n",
    "    \n",
    "    return {\"freq\": freq,\n",
    "            \"G\"   : G,\n",
    "            \"C\"   : C,\n",
    "            \"K\"   : K}\n",
    "\n",
    "#get_response(5)    \n",
    "\n",
    "def get_files_frequencies(dirs=\"../amb_sin/\"):\n",
    "    files = os.listdir(dirs)\n",
    "    files = filter(lambda x: x.endswith(\".txt\"), files)\n",
    "    files = map(lambda x: int(x.split(\"Hz\")[0].split(\"_\")[-1]), files)\n",
    "    files = np.unique(list(files))\n",
    "    return files\n",
    "\n",
    "\n",
    "responses = []\n",
    "for freq in get_files_frequencies():\n",
    "    responses.append(get_response(freq))"
   ]
  },
  {
   "cell_type": "code",
   "execution_count": 6,
   "metadata": {},
   "outputs": [],
   "source": [
    "with open('results/frequency_eiv_results.pickle', 'wb') as handle:\n",
    "    pickle.dump(responses, handle, protocol=pickle.HIGHEST_PROTOCOL)"
   ]
  },
  {
   "cell_type": "code",
   "execution_count": 7,
   "metadata": {},
   "outputs": [],
   "source": [
    "Cs = np.array([d[\"C\"] for d in responses])\n",
    "Ks = np.array([d[\"K\"] for d in responses])\n",
    "Fs = np.array([d[\"freq\"] for d in responses])"
   ]
  },
  {
   "cell_type": "code",
   "execution_count": 8,
   "metadata": {},
   "outputs": [
    {
     "data": {
      "text/plain": [
       "(17, 2, 2)"
      ]
     },
     "execution_count": 8,
     "metadata": {},
     "output_type": "execute_result"
    }
   ],
   "source": [
    "Ks.shape"
   ]
  },
  {
   "cell_type": "code",
   "execution_count": 9,
   "metadata": {},
   "outputs": [
    {
     "data": {
      "image/png": "[encoded data removed]",
      "text/plain": [
       "<Figure size 1080x720 with 4 Axes>"
      ]
     },
     "metadata": {
      "needs_background": "light"
     },
     "output_type": "display_data"
    },
    {
     "data": {
      "image/png": "[encoded data removed]",
      "text/plain": [
       "<Figure size 1080x720 with 4 Axes>"
      ]
     },
     "metadata": {
      "needs_background": "light"
     },
     "output_type": "display_data"
    }
   ],
   "source": [
    "fig, axs = plt.subplots(2,2, figsize=(15,10))\n",
    "axs[0,0].plot(Fs, Ks[:, 0, 0])\n",
    "axs[0,0].set_title(\"Kxx\")\n",
    "\n",
    "axs[0,1].plot(Fs, Ks[:, 0, 1])\n",
    "axs[0,1].set_title(\"Kxy\")\n",
    "\n",
    "axs[1,0].plot(Fs, Ks[:, 1, 0])\n",
    "axs[1,0].set_title(\"Kyx\")\n",
    "\n",
    "axs[1,1].plot(Fs, Ks[:, 1,1])\n",
    "axs[1,1].set_title(\"Kyy\")\n",
    "\n",
    "\n",
    "fig, axs = plt.subplots(2,2, figsize=(15,10))\n",
    "axs[0,0].plot(Fs, Cs[:, 0, 0])\n",
    "axs[0,0].set_title(\"Cxx\")\n",
    "\n",
    "axs[0,1].plot(Fs, Cs[:, 0, 1])\n",
    "axs[0,1].set_title(\"Cxy\")\n",
    "\n",
    "axs[1,0].plot(Fs, Cs[:, 1, 0])\n",
    "axs[1,0].set_title(\"Cyx\")\n",
    "\n",
    "axs[1,1].plot(Fs, Cs[:, 1,1])\n",
    "axs[1,1].set_title(\"Cyy\")\n",
    "\n",
    "fig.show()\n"
   ]
  },
  {
   "cell_type": "code",
   "execution_count": 113,
   "metadata": {},
   "outputs": [
    {
     "name": "stdout",
     "output_type": "stream",
     "text": [
      "69\n",
      "69\n"
     ]
    }
   ],
   "source": [
    "freq = 69\n",
    "df_x = prepare_frequency_domain_data(filename=f\"amb_sin/sine_fx_{freq}Hz_0RPM.txt\")\n",
    "df_x[\"axis\"] = \"x\"\n",
    "df_y = prepare_frequency_domain_data(filename=f\"amb_sin/sine_fy_{freq}Hz_0RPM.txt\")\n",
    "df_y[\"axis\"] = \"y\"\n",
    "df = pd.concat([df_x, df_y], ignore_index=False)"
   ]
  },
  {
   "cell_type": "code",
   "execution_count": 114,
   "metadata": {},
   "outputs": [],
   "source": [
    "sel_df = df[(df[\"freqs\"] > freq-2) & (df[\"freqs\"] < freq+1)].sort_index()\n",
    "\n",
    "inds = list(map(lambda x: x[0], (filter(lambda x: x[1] == 2, Counter(sel_df.index).most_common()))))\n",
    "sel_df = sel_df.loc[inds]\n",
    "\n",
    "Us = []\n",
    "Ys = []\n",
    "for name, group in sel_df.groupby(sel_df.index):\n",
    "    U = group[[\"xf\", \"yf\"]].values.transpose()\n",
    "    Y = group[[\"fxf\", \"fyf\"]].values.transpose()\n",
    "    Us.append(U)\n",
    "    Ys.append(Y)\n",
    "Us = np.array(Us)\n",
    "Ys = np.array(Ys)"
   ]
  },
  {
   "cell_type": "code",
   "execution_count": 119,
   "metadata": {},
   "outputs": [
    {
     "data": {
      "text/plain": [
       "array([[-114583.4971777 +10077.04630854j,\n",
       "           8293.15047838 -1476.05842164j],\n",
       "       [  -3526.76033189  -605.34755296j,\n",
       "        -103697.97363215+16682.87701452j]])"
      ]
     },
     "execution_count": 119,
     "metadata": {},
     "output_type": "execute_result"
    }
   ],
   "source": [
    "G = np.mean(Ys, axis=0) @ np.linalg.inv(np.mean(Us,axis=0))\n",
    "G"
   ]
  },
  {
   "cell_type": "code",
   "execution_count": 147,
   "metadata": {},
   "outputs": [
    {
     "data": {
      "text/plain": [
       "array([[-114430.96089318+10561.50191434j,\n",
       "           8336.59290944 -1089.97163863j],\n",
       "       [  -3782.47372774  -444.05838651j,\n",
       "        -103925.48053763+16841.80975256j]])"
      ]
     },
     "execution_count": 147,
     "metadata": {},
     "output_type": "execute_result"
    }
   ],
   "source": [
    "#G = np.mean(Ys @ np.linalg.inv(Us), axis=0)\n",
    "#G"
   ]
  },
  {
   "cell_type": "code",
   "execution_count": 148,
   "metadata": {},
   "outputs": [
    {
     "name": "stdout",
     "output_type": "stream",
     "text": [
      "K = [[73525.78532117  8336.59290944]\n",
      " [-3782.47372774 84031.26567671]]\n",
      "C = [[24.36109038 -2.51412136]\n",
      " [-1.02426213 38.84720685]]\n"
     ]
    }
   ],
   "source": [
    "# C\n",
    "C = np.imag(G) / (2*np.pi*freq)\n",
    "# K\n",
    "K = np.real(G) + (2*np.pi*freq)**2*np.array([[1, 0],[0, 1]])\n",
    "#K = np.real(G)\n",
    "\n",
    "print(\"K =\", K)\n",
    "print(\"C =\", C)"
   ]
  },
  {
   "cell_type": "code",
   "execution_count": 121,
   "metadata": {},
   "outputs": [
    {
     "data": {
      "text/html": [
       "<div>\n",
       "<style scoped>\n",
       "    .dataframe tbody tr th:only-of-type {\n",
       "        vertical-align: middle;\n",
       "    }\n",
       "\n",
       "    .dataframe tbody tr th {\n",
       "        vertical-align: top;\n",
       "    }\n",
       "\n",
       "    .dataframe thead th {\n",
       "        text-align: right;\n",
       "    }\n",
       "</style>\n",
       "<table border=\"1\" class=\"dataframe\">\n",
       "  <thead>\n",
       "    <tr style=\"text-align: right;\">\n",
       "      <th></th>\n",
       "      <th>freqs</th>\n",
       "      <th>xf</th>\n",
       "      <th>yf</th>\n",
       "      <th>fyf</th>\n",
       "      <th>fxf</th>\n",
       "      <th>axis</th>\n",
       "    </tr>\n",
       "  </thead>\n",
       "  <tbody>\n",
       "    <tr>\n",
       "      <th>132</th>\n",
       "      <td>-275.824933</td>\n",
       "      <td>-0.000007-0.000018j</td>\n",
       "      <td>0.000013-0.000016j</td>\n",
       "      <td>-3.578977-3.987637j</td>\n",
       "      <td>-4.386958+0.974266j</td>\n",
       "      <td>x</td>\n",
       "    </tr>\n",
       "    <tr>\n",
       "      <th>133</th>\n",
       "      <td>-258.585875</td>\n",
       "      <td>0.000012-0.000000j</td>\n",
       "      <td>0.000009-0.000004j</td>\n",
       "      <td>-3.479499-2.394150j</td>\n",
       "      <td>3.683218-1.585949j</td>\n",
       "      <td>x</td>\n",
       "    </tr>\n",
       "    <tr>\n",
       "      <th>134</th>\n",
       "      <td>-241.346816</td>\n",
       "      <td>-0.000019+0.000003j</td>\n",
       "      <td>0.000006-0.000021j</td>\n",
       "      <td>3.727549-2.685142j</td>\n",
       "      <td>7.339244-1.230059j</td>\n",
       "      <td>x</td>\n",
       "    </tr>\n",
       "    <tr>\n",
       "      <th>135</th>\n",
       "      <td>-224.107758</td>\n",
       "      <td>0.000012-0.000000j</td>\n",
       "      <td>-0.000001+0.000002j</td>\n",
       "      <td>0.030928+1.954378j</td>\n",
       "      <td>0.429973-2.105833j</td>\n",
       "      <td>x</td>\n",
       "    </tr>\n",
       "    <tr>\n",
       "      <th>136</th>\n",
       "      <td>-206.868700</td>\n",
       "      <td>0.000090+0.000053j</td>\n",
       "      <td>-0.000003-0.000011j</td>\n",
       "      <td>5.098672+1.013514j</td>\n",
       "      <td>-1.190046+0.791540j</td>\n",
       "      <td>x</td>\n",
       "    </tr>\n",
       "    <tr>\n",
       "      <th>...</th>\n",
       "      <td>...</td>\n",
       "      <td>...</td>\n",
       "      <td>...</td>\n",
       "      <td>...</td>\n",
       "      <td>...</td>\n",
       "      <td>...</td>\n",
       "    </tr>\n",
       "    <tr>\n",
       "      <th>61045</th>\n",
       "      <td>206.868681</td>\n",
       "      <td>0.000000-0.000034j</td>\n",
       "      <td>0.000001-0.000004j</td>\n",
       "      <td>0.043426-1.444612j</td>\n",
       "      <td>-2.351415+0.956984j</td>\n",
       "      <td>y</td>\n",
       "    </tr>\n",
       "    <tr>\n",
       "      <th>61046</th>\n",
       "      <td>224.107738</td>\n",
       "      <td>-0.000006-0.000007j</td>\n",
       "      <td>-0.000009-0.000059j</td>\n",
       "      <td>3.610683+1.030488j</td>\n",
       "      <td>0.932557-0.485812j</td>\n",
       "      <td>y</td>\n",
       "    </tr>\n",
       "    <tr>\n",
       "      <th>61047</th>\n",
       "      <td>241.346795</td>\n",
       "      <td>-0.000007+0.000009j</td>\n",
       "      <td>-0.000002+0.000007j</td>\n",
       "      <td>-4.050460+0.267313j</td>\n",
       "      <td>-4.834689-2.514512j</td>\n",
       "      <td>y</td>\n",
       "    </tr>\n",
       "    <tr>\n",
       "      <th>61048</th>\n",
       "      <td>258.585852</td>\n",
       "      <td>0.000010+0.000008j</td>\n",
       "      <td>0.000021+0.000004j</td>\n",
       "      <td>-3.526141-4.924682j</td>\n",
       "      <td>-3.398478-0.719526j</td>\n",
       "      <td>y</td>\n",
       "    </tr>\n",
       "    <tr>\n",
       "      <th>61049</th>\n",
       "      <td>275.824909</td>\n",
       "      <td>0.000016-0.000005j</td>\n",
       "      <td>0.000001-0.000045j</td>\n",
       "      <td>-5.279592-4.177139j</td>\n",
       "      <td>3.100089+3.029599j</td>\n",
       "      <td>y</td>\n",
       "    </tr>\n",
       "  </tbody>\n",
       "</table>\n",
       "<p>13035 rows × 6 columns</p>\n",
       "</div>"
      ],
      "text/plain": [
       "            freqs                  xf                  yf                 fyf  \\\n",
       "132   -275.824933 -0.000007-0.000018j  0.000013-0.000016j -3.578977-3.987637j   \n",
       "133   -258.585875  0.000012-0.000000j  0.000009-0.000004j -3.479499-2.394150j   \n",
       "134   -241.346816 -0.000019+0.000003j  0.000006-0.000021j  3.727549-2.685142j   \n",
       "135   -224.107758  0.000012-0.000000j -0.000001+0.000002j  0.030928+1.954378j   \n",
       "136   -206.868700  0.000090+0.000053j -0.000003-0.000011j  5.098672+1.013514j   \n",
       "...           ...                 ...                 ...                 ...   \n",
       "61045  206.868681  0.000000-0.000034j  0.000001-0.000004j  0.043426-1.444612j   \n",
       "61046  224.107738 -0.000006-0.000007j -0.000009-0.000059j  3.610683+1.030488j   \n",
       "61047  241.346795 -0.000007+0.000009j -0.000002+0.000007j -4.050460+0.267313j   \n",
       "61048  258.585852  0.000010+0.000008j  0.000021+0.000004j -3.526141-4.924682j   \n",
       "61049  275.824909  0.000016-0.000005j  0.000001-0.000045j -5.279592-4.177139j   \n",
       "\n",
       "                      fxf axis  \n",
       "132   -4.386958+0.974266j    x  \n",
       "133    3.683218-1.585949j    x  \n",
       "134    7.339244-1.230059j    x  \n",
       "135    0.429973-2.105833j    x  \n",
       "136   -1.190046+0.791540j    x  \n",
       "...                   ...  ...  \n",
       "61045 -2.351415+0.956984j    y  \n",
       "61046  0.932557-0.485812j    y  \n",
       "61047 -4.834689-2.514512j    y  \n",
       "61048 -3.398478-0.719526j    y  \n",
       "61049  3.100089+3.029599j    y  \n",
       "\n",
       "[13035 rows x 6 columns]"
      ]
     },
     "execution_count": 121,
     "metadata": {},
     "output_type": "execute_result"
    }
   ],
   "source": [
    "df"
   ]
  },
  {
   "cell_type": "code",
   "execution_count": 122,
   "metadata": {},
   "outputs": [
    {
     "data": {
      "text/plain": [
       "(-100.0, 100.0)"
      ]
     },
     "execution_count": 122,
     "metadata": {},
     "output_type": "execute_result"
    },
    {
     "data": {
      "image/png": "[encoded data removed]",
      "text/plain": [
       "<Figure size 432x288 with 1 Axes>"
      ]
     },
     "metadata": {
      "needs_background": "light"
     },
     "output_type": "display_data"
    }
   ],
   "source": [
    "plt.scatter(df[\"freqs\"], np.abs(df[\"fxf\"]), s=0.1, alpha=0.1)\n",
    "plt.xlim((-100, 100))"
   ]
  },
  {
   "cell_type": "code",
   "execution_count": 123,
   "metadata": {},
   "outputs": [
    {
     "data": {
      "text/plain": [
       "array([[-275.82493306],\n",
       "       [-258.58587475],\n",
       "       [-241.34681643],\n",
       "       ...,\n",
       "       [ 241.34679506],\n",
       "       [ 258.58585185],\n",
       "       [ 275.82490864]])"
      ]
     },
     "execution_count": 123,
     "metadata": {},
     "output_type": "execute_result"
    }
   ],
   "source": [
    "q = df[[\"xf\", \"yf\"]].values\n",
    "f = df[[\"fxf\", \"fyf\"]].values\n",
    "freqs = df[[\"freqs\"]].values\n",
    "freqs"
   ]
  },
  {
   "cell_type": "code",
   "execution_count": 136,
   "metadata": {},
   "outputs": [
    {
     "name": "stdout",
     "output_type": "stream",
     "text": [
      "The autoreload extension is already loaded. To reload it, use:\n",
      "  %reload_ext autoreload\n"
     ]
    }
   ],
   "source": [
    "from jax import random\n",
    "from jax.experimental.optimizers import adam, sgd\n",
    "from jax import numpy as jnp\n",
    "import jax\n",
    "%load_ext autoreload\n",
    "%autoreload 2\n",
    "from models.frequency_domain import mse, initialize_params, get_batch_forward_pass, get_loss_function, train\n",
    "from tqdm import tqdm\n",
    "\n",
    "from utils import Shuffler\n",
    "\n",
    "rng = random.PRNGKey(20)"
   ]
  },
  {
   "cell_type": "code",
   "execution_count": 137,
   "metadata": {},
   "outputs": [],
   "source": [
    "mass = [[1, 0], [0, 1]]\n",
    "def forward_pass(params, q, f, freqs, mass=jnp.array(mass)):\n",
    "    \"\"\"\n",
    "    Um forward pass estima a força no dominio da frequencia\n",
    "\n",
    "    \"\"\"\n",
    "    q = q.reshape((-1, 1))\n",
    "    M = mass\n",
    "    C = params[1]\n",
    "    K = params[0]\n",
    "    w = np.pi*2*freqs\n",
    "    return jnp.squeeze(jax.lax.complex(K - jnp.square(freqs)*M, freqs*C) @ q)\n",
    "\n",
    "batch_forward_pass = get_batch_forward_pass(mass=mass, freqs=freq)\n",
    "params = initialize_params(rng, dims=2, scale=10)\n",
    "loss = get_loss_function(batch_forward_pass)\n"
   ]
  },
  {
   "cell_type": "code",
   "execution_count": 138,
   "metadata": {},
   "outputs": [
    {
     "data": {
      "text/plain": [
       "[DeviceArray([[-6.630825, -5.782476],\n",
       "              [ 2.076413,  9.427113]], dtype=float32),\n",
       " DeviceArray([[-14.662489 ,  -8.464476 ],\n",
       "              [  6.2902365,   2.6404383]], dtype=float32)]"
      ]
     },
     "execution_count": 138,
     "metadata": {},
     "output_type": "execute_result"
    }
   ],
   "source": [
    "params"
   ]
  },
  {
   "cell_type": "code",
   "execution_count": 139,
   "metadata": {},
   "outputs": [
    {
     "data": {
      "text/plain": [
       "DeviceArray([[ 20.66405   +54.579193j , -38.816734  +48.30736j  ],\n",
       "             [-32.039715   +0.6595291j, -23.08329   +10.670878j ],\n",
       "             [ 43.04932    -6.8885245j, -13.6811905 +49.257046j ],\n",
       "             ...,\n",
       "             [ 15.368397  -19.572145j ,   3.8613057 -15.448533j ],\n",
       "             [-25.282236  -20.919493j , -56.13221   -10.419552j ],\n",
       "             [-49.918217  +13.554433j ,  -1.691759 +134.92639j  ]],            dtype=complex64)"
      ]
     },
     "execution_count": 139,
     "metadata": {},
     "output_type": "execute_result"
    }
   ],
   "source": [
    "batch_forward_pass(params, q, freqs)"
   ]
  },
  {
   "cell_type": "code",
   "execution_count": 140,
   "metadata": {},
   "outputs": [
    {
     "data": {
      "text/plain": [
       "DeviceArray(71.66409, dtype=float32)"
      ]
     },
     "execution_count": 140,
     "metadata": {},
     "output_type": "execute_result"
    }
   ],
   "source": [
    "loss(params, q, freqs, f)"
   ]
  },
  {
   "cell_type": "code",
   "execution_count": 141,
   "metadata": {},
   "outputs": [],
   "source": [
    "k = jnp.array([[4300., 430.],\n",
    "    [-430., 4300.]])\n",
    "c = jnp.array([[43., 0.],\n",
    "    [0., 43.]])\n",
    "params = [K,C]"
   ]
  },
  {
   "cell_type": "code",
   "execution_count": 142,
   "metadata": {},
   "outputs": [
    {
     "data": {
      "text/plain": [
       "DeviceArray([[ 18.948391  +53.436966j  , -38.468815  +46.131123j  ],\n",
       "             [-31.114508   -0.20216581j, -22.62786    +9.968554j  ],\n",
       "             [ 41.731384   -5.8313274j , -14.310086  +46.90887j   ],\n",
       "             ...,\n",
       "             [ 14.327727  -19.277216j  ,   3.4755955 -14.932711j  ],\n",
       "             [-24.905554  -19.549208j  , -54.515457   -8.992853j  ],\n",
       "             [-48.013058  +13.921114j  ,   1.0297165+130.98547j   ]],            dtype=complex64)"
      ]
     },
     "execution_count": 142,
     "metadata": {},
     "output_type": "execute_result"
    }
   ],
   "source": [
    "batch_forward_pass(params, q, freqs)"
   ]
  },
  {
   "cell_type": "code",
   "execution_count": 143,
   "metadata": {},
   "outputs": [
    {
     "data": {
      "text/plain": [
       "array([[-4.38695767+0.97426594j, -3.57897738-3.98763719j],\n",
       "       [ 3.6832182 -1.58594945j, -3.47949898-2.39415012j],\n",
       "       [ 7.3392444 -1.2300593j ,  3.72754873-2.68514201j],\n",
       "       ...,\n",
       "       [-4.83468854-2.51451209j, -4.05045987+0.26731303j],\n",
       "       [-3.39847841-0.7195256j , -3.52614142-4.92468196j],\n",
       "       [ 3.10008919+3.02959862j, -5.2795916 -4.17713917j]])"
      ]
     },
     "execution_count": 143,
     "metadata": {},
     "output_type": "execute_result"
    }
   ],
   "source": [
    "f"
   ]
  },
  {
   "cell_type": "code",
   "execution_count": 144,
   "metadata": {},
   "outputs": [
    {
     "data": {
      "text/plain": [
       "DeviceArray(49.52254, dtype=float32)"
      ]
     },
     "execution_count": 144,
     "metadata": {},
     "output_type": "execute_result"
    }
   ],
   "source": [
    "loss(params, q, freqs, f)"
   ]
  },
  {
   "cell_type": "code",
   "execution_count": 146,
   "metadata": {},
   "outputs": [
    {
     "name": "stderr",
     "output_type": "stream",
     "text": [
      "  0%|          | 1/6517 [00:00<14:58,  7.25it/s]"
     ]
    },
    {
     "name": "stdout",
     "output_type": "stream",
     "text": [
      "Epoch 0\n"
     ]
    },
    {
     "name": "stderr",
     "output_type": "stream",
     "text": [
      "100%|██████████| 6517/6517 [00:34<00:00, 187.38it/s]\n",
      "  0%|          | 18/6517 [00:00<00:36, 179.32it/s]"
     ]
    },
    {
     "name": "stdout",
     "output_type": "stream",
     "text": [
      "Epoch 0 , mean error: 59.06368 params: [DeviceArray([[91636.38 ,  5701.843],\n",
      "             [-2986.092, 85448.84 ]], dtype=float32), DeviceArray([[-16.51054 , -13.355429],\n",
      "             [ 12.976528,  38.88142 ]], dtype=float32)]\n",
      "Epoch 1\n"
     ]
    },
    {
     "name": "stderr",
     "output_type": "stream",
     "text": [
      "100%|██████████| 6517/6517 [00:35<00:00, 183.95it/s]\n",
      "  0%|          | 19/6517 [00:00<00:35, 183.17it/s]"
     ]
    },
    {
     "name": "stdout",
     "output_type": "stream",
     "text": [
      "Epoch 1 , mean error: 56.948616 params: [DeviceArray([[90874.79  ,  6004.3384],\n",
      "             [ -613.3689, 84275.79  ]], dtype=float32), DeviceArray([[-20.707232, -13.115502],\n",
      "             [  4.96642 ,  27.035734]], dtype=float32)]\n",
      "Epoch 2\n"
     ]
    },
    {
     "name": "stderr",
     "output_type": "stream",
     "text": [
      "100%|██████████| 6517/6517 [00:38<00:00, 169.11it/s]\n",
      "  0%|          | 19/6517 [00:00<00:35, 182.25it/s]"
     ]
    },
    {
     "name": "stdout",
     "output_type": "stream",
     "text": [
      "Epoch 2 , mean error: 56.3631 params: [DeviceArray([[ 8.8161055e+04,  6.3014204e+03],\n",
      "             [-3.1540657e+01,  8.5049445e+04]], dtype=float32), DeviceArray([[-12.071079,  -6.547221],\n",
      "             [ 11.899834,  39.791817]], dtype=float32)]\n",
      "Epoch 3\n"
     ]
    },
    {
     "name": "stderr",
     "output_type": "stream",
     "text": [
      "100%|██████████| 6517/6517 [00:43<00:00, 150.76it/s]\n",
      "  0%|          | 17/6517 [00:00<00:40, 161.97it/s]"
     ]
    },
    {
     "name": "stdout",
     "output_type": "stream",
     "text": [
      "Epoch 3 , mean error: 55.20125 params: [DeviceArray([[88771.73  ,  6250.779 ],\n",
      "             [ -643.6465, 84276.86  ]], dtype=float32), DeviceArray([[-13.361065, -15.919738],\n",
      "             [  4.73068 ,  27.062191]], dtype=float32)]\n",
      "Epoch 4\n"
     ]
    },
    {
     "name": "stderr",
     "output_type": "stream",
     "text": [
      "100%|██████████| 6517/6517 [00:43<00:00, 149.04it/s]\n",
      "  0%|          | 18/6517 [00:00<00:36, 179.85it/s]"
     ]
    },
    {
     "name": "stdout",
     "output_type": "stream",
     "text": [
      "Epoch 4 , mean error: 57.86703 params: [DeviceArray([[93159.266  ,  5759.2188 ],\n",
      "             [ -206.74847, 85064.79   ]], dtype=float32), DeviceArray([[28.53796 , 41.805424],\n",
      "             [11.477433, 39.571804]], dtype=float32)]\n",
      "Epoch 5\n"
     ]
    },
    {
     "name": "stderr",
     "output_type": "stream",
     "text": [
      "100%|██████████| 6517/6517 [00:35<00:00, 181.44it/s]\n",
      "  0%|          | 19/6517 [00:00<00:35, 182.64it/s]"
     ]
    },
    {
     "name": "stdout",
     "output_type": "stream",
     "text": [
      "Epoch 5 , mean error: 56.861813 params: [DeviceArray([[89383.98   ,  6289.6504 ],\n",
      "             [ -327.56924, 84235.93   ]], dtype=float32), DeviceArray([[16.593609 , 30.34134  ],\n",
      "             [ 4.8913727, 27.031513 ]], dtype=float32)]\n",
      "Epoch 6\n"
     ]
    },
    {
     "name": "stderr",
     "output_type": "stream",
     "text": [
      "100%|██████████| 6517/6517 [00:35<00:00, 184.06it/s]\n",
      "  0%|          | 18/6517 [00:00<00:36, 179.31it/s]"
     ]
    },
    {
     "name": "stdout",
     "output_type": "stream",
     "text": [
      "Epoch 6 , mean error: 55.288235 params: [DeviceArray([[8.886426e+04, 6.139084e+03],\n",
      "             [8.408111e+01, 8.417922e+04]], dtype=float32), DeviceArray([[-12.3676195, -13.314325 ],\n",
      "             [  4.831518 ,  27.020086 ]], dtype=float32)]\n",
      "Epoch 7\n"
     ]
    },
    {
     "name": "stderr",
     "output_type": "stream",
     "text": [
      "100%|██████████| 6517/6517 [00:36<00:00, 176.60it/s]\n",
      "  0%|          | 18/6517 [00:00<00:36, 177.83it/s]"
     ]
    },
    {
     "name": "stdout",
     "output_type": "stream",
     "text": [
      "Epoch 7 , mean error: 57.26836 params: [DeviceArray([[92269.734  ,  5900.9053 ],\n",
      "             [ -309.72696, 85072.14   ]], dtype=float32), DeviceArray([[28.973625, 42.0569  ],\n",
      "             [11.15998 , 39.451027]], dtype=float32)]\n",
      "Epoch 8\n"
     ]
    },
    {
     "name": "stderr",
     "output_type": "stream",
     "text": [
      "100%|██████████| 6517/6517 [00:35<00:00, 183.02it/s]\n",
      "  0%|          | 18/6517 [00:00<00:36, 177.89it/s]"
     ]
    },
    {
     "name": "stdout",
     "output_type": "stream",
     "text": [
      "Epoch 8 , mean error: 55.930798 params: [DeviceArray([[87922.62  ,  6293.26  ],\n",
      "             [ -326.3067, 84235.76  ]], dtype=float32), DeviceArray([[-24.67189 , -15.703538],\n",
      "             [  4.891316,  27.031445]], dtype=float32)]\n",
      "Epoch 9\n"
     ]
    },
    {
     "name": "stderr",
     "output_type": "stream",
     "text": [
      "100%|██████████| 6517/6517 [00:35<00:00, 182.06it/s]\n",
      "  0%|          | 18/6517 [00:00<00:37, 175.04it/s]"
     ]
    },
    {
     "name": "stdout",
     "output_type": "stream",
     "text": [
      "Epoch 9 , mean error: 55.958794 params: [DeviceArray([[8.915663e+04, 6.102381e+03],\n",
      "             [8.410800e+01, 8.417922e+04]], dtype=float32), DeviceArray([[-12.539928 , -13.436732 ],\n",
      "             [  4.8316784,  27.020126 ]], dtype=float32)]\n",
      "Epoch 10\n"
     ]
    },
    {
     "name": "stderr",
     "output_type": "stream",
     "text": [
      "100%|██████████| 6517/6517 [00:35<00:00, 183.53it/s]\n",
      "  0%|          | 18/6517 [00:00<00:38, 170.78it/s]"
     ]
    },
    {
     "name": "stdout",
     "output_type": "stream",
     "text": [
      "Epoch 10 , mean error: 56.668095 params: [DeviceArray([[91625.01   ,  5907.362  ],\n",
      "             [ -320.18787, 85081.04   ]], dtype=float32), DeviceArray([[-43.27157 , -62.437805],\n",
      "             [ 11.505996,  39.618134]], dtype=float32)]\n",
      "Epoch 11\n"
     ]
    },
    {
     "name": "stderr",
     "output_type": "stream",
     "text": [
      "100%|██████████| 6517/6517 [00:36<00:00, 178.58it/s]\n",
      "  0%|          | 18/6517 [00:00<00:37, 175.07it/s]"
     ]
    },
    {
     "name": "stdout",
     "output_type": "stream",
     "text": [
      "Epoch 11 , mean error: 55.502533 params: [DeviceArray([[88077.49   ,  6423.9688 ],\n",
      "             [ -339.75427, 84237.6    ]], dtype=float32), DeviceArray([[29.102602, 41.830677],\n",
      "             [ 4.892166, 27.031916]], dtype=float32)]\n",
      "Epoch 12\n"
     ]
    },
    {
     "name": "stderr",
     "output_type": "stream",
     "text": [
      "100%|██████████| 6517/6517 [00:36<00:00, 180.67it/s]\n",
      "  0%|          | 19/6517 [00:00<00:35, 182.15it/s]"
     ]
    },
    {
     "name": "stdout",
     "output_type": "stream",
     "text": [
      "Epoch 12 , mean error: 56.793655 params: [DeviceArray([[9.224613e+04, 5.918310e+03],\n",
      "             [8.371027e+01, 8.417927e+04]], dtype=float32), DeviceArray([[29.142958, 42.175823],\n",
      "             [ 4.831746, 27.020107]], dtype=float32)]\n",
      "Epoch 13\n"
     ]
    },
    {
     "name": "stderr",
     "output_type": "stream",
     "text": [
      "100%|██████████| 6517/6517 [00:36<00:00, 179.51it/s]\n",
      "  0%|          | 18/6517 [00:00<00:36, 178.33it/s]"
     ]
    },
    {
     "name": "stdout",
     "output_type": "stream",
     "text": [
      "Epoch 13 , mean error: 55.402092 params: [DeviceArray([[87783.586  ,  6272.6904 ],\n",
      "             [ -373.40918, 85087.02   ]], dtype=float32), DeviceArray([[-11.868814, -12.811922],\n",
      "             [ 11.446468,  39.590023]], dtype=float32)]\n",
      "Epoch 14\n"
     ]
    },
    {
     "name": "stderr",
     "output_type": "stream",
     "text": [
      "100%|██████████| 6517/6517 [00:39<00:00, 164.80it/s]\n",
      "  0%|          | 19/6517 [00:00<00:35, 182.60it/s]"
     ]
    },
    {
     "name": "stdout",
     "output_type": "stream",
     "text": [
      "Epoch 14 , mean error: 54.5042 params: [DeviceArray([[88792.12  ,  6278.0015],\n",
      "             [ -367.4465, 84241.086 ]], dtype=float32), DeviceArray([[-43.63539 , -62.448814],\n",
      "             [  4.869258,  27.035555]], dtype=float32)]\n",
      "Epoch 15\n"
     ]
    },
    {
     "name": "stderr",
     "output_type": "stream",
     "text": [
      "100%|██████████| 6517/6517 [00:36<00:00, 178.32it/s]\n",
      "  0%|          | 18/6517 [00:00<00:38, 169.99it/s]"
     ]
    },
    {
     "name": "stdout",
     "output_type": "stream",
     "text": [
      "Epoch 15 , mean error: 55.516647 params: [DeviceArray([[8.8990227e+04, 6.2219771e+03],\n",
      "             [8.2683975e+01, 8.4179406e+04]], dtype=float32), DeviceArray([[-43.283672 , -61.200047 ],\n",
      "             [  4.8313007,  27.020166 ]], dtype=float32)]\n",
      "Epoch 16\n"
     ]
    },
    {
     "name": "stderr",
     "output_type": "stream",
     "text": [
      "100%|██████████| 6517/6517 [00:35<00:00, 181.85it/s]\n",
      "  0%|          | 18/6517 [00:00<00:37, 171.62it/s]"
     ]
    },
    {
     "name": "stdout",
     "output_type": "stream",
     "text": [
      "Epoch 16 , mean error: 57.534546 params: [DeviceArray([[92492.06   ,  5785.5034 ],\n",
      "             [ -310.65298, 85072.4    ]], dtype=float32), DeviceArray([[-43.58566 , -62.11014 ],\n",
      "             [ 11.166817,  39.45318 ]], dtype=float32)]\n",
      "Epoch 17\n"
     ]
    },
    {
     "name": "stderr",
     "output_type": "stream",
     "text": [
      "100%|██████████| 6517/6517 [00:35<00:00, 183.53it/s]\n",
      "  0%|          | 18/6517 [00:00<00:36, 179.06it/s]"
     ]
    },
    {
     "name": "stdout",
     "output_type": "stream",
     "text": [
      "Epoch 17 , mean error: 55.687366 params: [DeviceArray([[87575.13   ,  6313.2827 ],\n",
      "             [ -326.56323, 84235.8    ]], dtype=float32), DeviceArray([[-11.978082, -13.123243],\n",
      "             [  4.891368,  27.031479]], dtype=float32)]\n",
      "Epoch 18\n"
     ]
    },
    {
     "name": "stderr",
     "output_type": "stream",
     "text": [
      "100%|██████████| 6517/6517 [00:35<00:00, 182.54it/s]\n",
      "  0%|          | 17/6517 [00:00<00:38, 166.96it/s]"
     ]
    },
    {
     "name": "stdout",
     "output_type": "stream",
     "text": [
      "Epoch 18 , mean error: 57.288467 params: [DeviceArray([[9.2841789e+04, 5.8092979e+03],\n",
      "             [8.4105354e+01, 8.4179219e+04]], dtype=float32), DeviceArray([[16.024899, 30.308449],\n",
      "             [ 4.831622, 27.020082]], dtype=float32)]\n",
      "Epoch 19\n"
     ]
    },
    {
     "name": "stderr",
     "output_type": "stream",
     "text": [
      "100%|██████████| 6517/6517 [00:35<00:00, 181.82it/s]\n",
      "  0%|          | 18/6517 [00:00<00:36, 178.61it/s]"
     ]
    },
    {
     "name": "stdout",
     "output_type": "stream",
     "text": [
      "Epoch 19 , mean error: 55.131405 params: [DeviceArray([[87234.41  ,  6354.9897],\n",
      "             [ -230.9812, 85064.8   ]], dtype=float32), DeviceArray([[-11.3735895, -12.769688 ],\n",
      "             [ 11.318436 ,  39.513626 ]], dtype=float32)]\n",
      "Epoch 20\n"
     ]
    },
    {
     "name": "stderr",
     "output_type": "stream",
     "text": [
      "100%|██████████| 6517/6517 [00:35<00:00, 182.77it/s]\n",
      "  0%|          | 17/6517 [00:00<00:39, 166.58it/s]"
     ]
    },
    {
     "name": "stdout",
     "output_type": "stream",
     "text": [
      "Epoch 20 , mean error: 56.349327 params: [DeviceArray([[92653.125  ,  5660.735  ],\n",
      "             [ -326.02203, 84235.73   ]], dtype=float32), DeviceArray([[-12.783223 , -14.242478 ],\n",
      "             [  4.8920894,  27.031372 ]], dtype=float32)]\n",
      "Epoch 21\n"
     ]
    },
    {
     "name": "stderr",
     "output_type": "stream",
     "text": [
      "100%|██████████| 6517/6517 [00:35<00:00, 182.60it/s]\n",
      "  0%|          | 18/6517 [00:00<00:38, 170.13it/s]"
     ]
    },
    {
     "name": "stdout",
     "output_type": "stream",
     "text": [
      "Epoch 21 , mean error: 57.257404 params: [DeviceArray([[9.0272898e+04, 5.9801885e+03],\n",
      "             [8.4129662e+01, 8.4179211e+04]], dtype=float32), DeviceArray([[-12.697456, -14.18326 ],\n",
      "             [  4.831496,  27.020075]], dtype=float32)]\n",
      "Epoch 22\n"
     ]
    },
    {
     "name": "stderr",
     "output_type": "stream",
     "text": [
      "100%|██████████| 6517/6517 [00:36<00:00, 176.70it/s]\n",
      "  0%|          | 18/6517 [00:00<00:36, 176.89it/s]"
     ]
    },
    {
     "name": "stdout",
     "output_type": "stream",
     "text": [
      "Epoch 22 , mean error: 55.348206 params: [DeviceArray([[88209.65   ,  6227.1206 ],\n",
      "             [ -317.41034, 85081.07   ]], dtype=float32), DeviceArray([[-11.412399 , -12.884906 ],\n",
      "             [ 11.5268955,  39.625965 ]], dtype=float32)]\n",
      "Epoch 23\n"
     ]
    },
    {
     "name": "stderr",
     "output_type": "stream",
     "text": [
      " 63%|██████▎   | 4103/6517 [00:22<00:13, 181.16it/s]\n"
     ]
    },
    {
     "ename": "KeyboardInterrupt",
     "evalue": "",
     "output_type": "error",
     "traceback": [
      "\u001b[0;31m---------------------------------------------------------------------------\u001b[0m",
      "\u001b[0;31mKeyboardInterrupt\u001b[0m                         Traceback (most recent call last)",
      "\u001b[0;32m<ipython-input-146-527899b54ecb>\u001b[0m in \u001b[0;36m<module>\u001b[0;34m\u001b[0m\n\u001b[1;32m      9\u001b[0m \u001b[0;34m\u001b[0m\u001b[0m\n\u001b[1;32m     10\u001b[0m \u001b[0;34m\u001b[0m\u001b[0m\n\u001b[0;32m---> 11\u001b[0;31m \u001b[0mtrain\u001b[0m\u001b[0;34m(\u001b[0m\u001b[0mparams\u001b[0m\u001b[0;34m,\u001b[0m \u001b[0mq\u001b[0m\u001b[0;34m,\u001b[0m \u001b[0mfreqs\u001b[0m\u001b[0;34m,\u001b[0m \u001b[0mf\u001b[0m\u001b[0;34m,\u001b[0m \u001b[0mbatch_size\u001b[0m\u001b[0;34m=\u001b[0m\u001b[0;36m2\u001b[0m\u001b[0;34m,\u001b[0m \u001b[0moptimizer\u001b[0m\u001b[0;34m=\u001b[0m\u001b[0madam\u001b[0m\u001b[0;34m,\u001b[0m \u001b[0mstep_size\u001b[0m\u001b[0;34m=\u001b[0m\u001b[0;36m1e2\u001b[0m\u001b[0;34m,\u001b[0m \u001b[0mepochs\u001b[0m\u001b[0;34m=\u001b[0m\u001b[0;36m40\u001b[0m\u001b[0;34m,\u001b[0m \u001b[0mcallback\u001b[0m\u001b[0;34m=\u001b[0m\u001b[0;32mNone\u001b[0m\u001b[0;34m,\u001b[0m \u001b[0mbatch_forward_pass\u001b[0m\u001b[0;34m=\u001b[0m\u001b[0mbatch_forward_pass\u001b[0m\u001b[0;34m)\u001b[0m\u001b[0;34m\u001b[0m\u001b[0;34m\u001b[0m\u001b[0m\n\u001b[0m",
      "\u001b[0;32m/mnt/c/projetos/tcc2/models/frequency_domain.py\u001b[0m in \u001b[0;36mtrain\u001b[0;34m(params, q, freqs, f, batch_size, optimizer, step_size, batch_forward_pass, epochs, callback)\u001b[0m\n\u001b[1;32m     90\u001b[0m             \u001b[0mfreqs_batch\u001b[0m \u001b[0;34m=\u001b[0m \u001b[0mjnp\u001b[0m\u001b[0;34m.\u001b[0m\u001b[0marray\u001b[0m\u001b[0;34m(\u001b[0m\u001b[0mfreqs\u001b[0m\u001b[0;34m[\u001b[0m\u001b[0mi\u001b[0m \u001b[0;34m*\u001b[0m \u001b[0mbatch_size\u001b[0m\u001b[0;34m:\u001b[0m\u001b[0;34m(\u001b[0m\u001b[0;34m(\u001b[0m\u001b[0mi\u001b[0m \u001b[0;34m+\u001b[0m \u001b[0;36m1\u001b[0m\u001b[0;34m)\u001b[0m \u001b[0;34m*\u001b[0m \u001b[0mbatch_size\u001b[0m\u001b[0;34m)\u001b[0m\u001b[0;34m]\u001b[0m\u001b[0;34m)\u001b[0m\u001b[0;34m\u001b[0m\u001b[0;34m\u001b[0m\u001b[0m\n\u001b[1;32m     91\u001b[0m             \u001b[0mf_batch\u001b[0m \u001b[0;34m=\u001b[0m \u001b[0mjnp\u001b[0m\u001b[0;34m.\u001b[0m\u001b[0marray\u001b[0m\u001b[0;34m(\u001b[0m\u001b[0mf\u001b[0m\u001b[0;34m[\u001b[0m\u001b[0mi\u001b[0m \u001b[0;34m*\u001b[0m \u001b[0mbatch_size\u001b[0m\u001b[0;34m:\u001b[0m\u001b[0;34m(\u001b[0m\u001b[0;34m(\u001b[0m\u001b[0mi\u001b[0m \u001b[0;34m+\u001b[0m \u001b[0;36m1\u001b[0m\u001b[0;34m)\u001b[0m \u001b[0;34m*\u001b[0m \u001b[0mbatch_size\u001b[0m\u001b[0;34m)\u001b[0m\u001b[0;34m]\u001b[0m\u001b[0;34m)\u001b[0m\u001b[0;34m\u001b[0m\u001b[0;34m\u001b[0m\u001b[0m\n\u001b[0;32m---> 92\u001b[0;31m             params, opt_state, error = train_step(q_batch, freqs_batch,\n\u001b[0m\u001b[1;32m     93\u001b[0m                                                   \u001b[0mf_batch\u001b[0m\u001b[0;34m,\u001b[0m \u001b[0mopt_state\u001b[0m\u001b[0;34m,\u001b[0m\u001b[0;34m\u001b[0m\u001b[0;34m\u001b[0m\u001b[0m\n\u001b[1;32m     94\u001b[0m                                                   \u001b[0mopt_update\u001b[0m\u001b[0;34m,\u001b[0m\u001b[0;34m\u001b[0m\u001b[0;34m\u001b[0m\u001b[0m\n",
      "\u001b[0;32m/mnt/c/projetos/tcc2/models/frequency_domain.py\u001b[0m in \u001b[0;36mtrain_step\u001b[0;34m(q, freqs, f, opt_state, opt_update, get_params, loss)\u001b[0m\n\u001b[1;32m     68\u001b[0m     \u001b[0mparams\u001b[0m \u001b[0;34m=\u001b[0m \u001b[0mget_params\u001b[0m\u001b[0;34m(\u001b[0m\u001b[0mopt_state\u001b[0m\u001b[0;34m)\u001b[0m\u001b[0;34m\u001b[0m\u001b[0;34m\u001b[0m\u001b[0m\n\u001b[1;32m     69\u001b[0m     \u001b[0mmse\u001b[0m\u001b[0;34m,\u001b[0m \u001b[0mgrad\u001b[0m \u001b[0;34m=\u001b[0m \u001b[0mvalue_and_grad\u001b[0m\u001b[0;34m(\u001b[0m\u001b[0mloss\u001b[0m\u001b[0;34m)\u001b[0m\u001b[0;34m(\u001b[0m\u001b[0mparams\u001b[0m\u001b[0;34m,\u001b[0m \u001b[0mq\u001b[0m\u001b[0;34m,\u001b[0m \u001b[0mfreqs\u001b[0m\u001b[0;34m,\u001b[0m \u001b[0mf\u001b[0m\u001b[0;34m)\u001b[0m\u001b[0;34m\u001b[0m\u001b[0;34m\u001b[0m\u001b[0m\n\u001b[0;32m---> 70\u001b[0;31m     \u001b[0mopt_state\u001b[0m \u001b[0;34m=\u001b[0m \u001b[0mopt_update\u001b[0m\u001b[0;34m(\u001b[0m\u001b[0;36m0\u001b[0m\u001b[0;34m,\u001b[0m \u001b[0mgrad\u001b[0m\u001b[0;34m,\u001b[0m \u001b[0mopt_state\u001b[0m\u001b[0;34m)\u001b[0m\u001b[0;34m\u001b[0m\u001b[0;34m\u001b[0m\u001b[0m\n\u001b[0m\u001b[1;32m     71\u001b[0m     \u001b[0mparams\u001b[0m \u001b[0;34m=\u001b[0m \u001b[0mget_params\u001b[0m\u001b[0;34m(\u001b[0m\u001b[0mopt_state\u001b[0m\u001b[0;34m)\u001b[0m\u001b[0;34m\u001b[0m\u001b[0;34m\u001b[0m\u001b[0m\n\u001b[1;32m     72\u001b[0m     \u001b[0;32mreturn\u001b[0m \u001b[0mget_params\u001b[0m\u001b[0;34m(\u001b[0m\u001b[0mopt_state\u001b[0m\u001b[0;34m)\u001b[0m\u001b[0;34m,\u001b[0m \u001b[0mopt_state\u001b[0m\u001b[0;34m,\u001b[0m \u001b[0mmse\u001b[0m\u001b[0;34m\u001b[0m\u001b[0;34m\u001b[0m\u001b[0m\n",
      "\u001b[0;32m~/.local/lib/python3.8/site-packages/jax/experimental/optimizers.py\u001b[0m in \u001b[0;36mtree_update\u001b[0;34m(i, grad_tree, opt_state)\u001b[0m\n\u001b[1;32m    149\u001b[0m         \u001b[0;32mraise\u001b[0m \u001b[0mTypeError\u001b[0m\u001b[0;34m(\u001b[0m\u001b[0mmsg\u001b[0m\u001b[0;34m.\u001b[0m\u001b[0mformat\u001b[0m\u001b[0;34m(\u001b[0m\u001b[0mtree\u001b[0m\u001b[0;34m,\u001b[0m \u001b[0mtree2\u001b[0m\u001b[0;34m)\u001b[0m\u001b[0;34m)\u001b[0m\u001b[0;34m\u001b[0m\u001b[0;34m\u001b[0m\u001b[0m\n\u001b[1;32m    150\u001b[0m       \u001b[0mstates\u001b[0m \u001b[0;34m=\u001b[0m \u001b[0mmap\u001b[0m\u001b[0;34m(\u001b[0m\u001b[0mtree_unflatten\u001b[0m\u001b[0;34m,\u001b[0m \u001b[0msubtrees\u001b[0m\u001b[0;34m,\u001b[0m \u001b[0mstates_flat\u001b[0m\u001b[0;34m)\u001b[0m\u001b[0;34m\u001b[0m\u001b[0;34m\u001b[0m\u001b[0m\n\u001b[0;32m--> 151\u001b[0;31m       \u001b[0mnew_states\u001b[0m \u001b[0;34m=\u001b[0m \u001b[0mmap\u001b[0m\u001b[0;34m(\u001b[0m\u001b[0mpartial\u001b[0m\u001b[0;34m(\u001b[0m\u001b[0mupdate\u001b[0m\u001b[0;34m,\u001b[0m \u001b[0mi\u001b[0m\u001b[0;34m)\u001b[0m\u001b[0;34m,\u001b[0m \u001b[0mgrad_flat\u001b[0m\u001b[0;34m,\u001b[0m \u001b[0mstates\u001b[0m\u001b[0;34m)\u001b[0m\u001b[0;34m\u001b[0m\u001b[0;34m\u001b[0m\u001b[0m\n\u001b[0m\u001b[1;32m    152\u001b[0m       \u001b[0mnew_states_flat\u001b[0m\u001b[0;34m,\u001b[0m \u001b[0msubtrees2\u001b[0m \u001b[0;34m=\u001b[0m \u001b[0munzip2\u001b[0m\u001b[0;34m(\u001b[0m\u001b[0mmap\u001b[0m\u001b[0;34m(\u001b[0m\u001b[0mtree_flatten\u001b[0m\u001b[0;34m,\u001b[0m \u001b[0mnew_states\u001b[0m\u001b[0;34m)\u001b[0m\u001b[0;34m)\u001b[0m\u001b[0;34m\u001b[0m\u001b[0;34m\u001b[0m\u001b[0m\n\u001b[1;32m    153\u001b[0m       \u001b[0;32mfor\u001b[0m \u001b[0msubtree\u001b[0m\u001b[0;34m,\u001b[0m \u001b[0msubtree2\u001b[0m \u001b[0;32min\u001b[0m \u001b[0mzip\u001b[0m\u001b[0;34m(\u001b[0m\u001b[0msubtrees\u001b[0m\u001b[0;34m,\u001b[0m \u001b[0msubtrees2\u001b[0m\u001b[0;34m)\u001b[0m\u001b[0;34m:\u001b[0m\u001b[0;34m\u001b[0m\u001b[0;34m\u001b[0m\u001b[0m\n",
      "\u001b[0;32m~/.local/lib/python3.8/site-packages/jax/util.py\u001b[0m in \u001b[0;36msafe_map\u001b[0;34m(f, *args)\u001b[0m\n\u001b[1;32m     32\u001b[0m   \u001b[0;32mfor\u001b[0m \u001b[0marg\u001b[0m \u001b[0;32min\u001b[0m \u001b[0margs\u001b[0m\u001b[0;34m[\u001b[0m\u001b[0;36m1\u001b[0m\u001b[0;34m:\u001b[0m\u001b[0;34m]\u001b[0m\u001b[0;34m:\u001b[0m\u001b[0;34m\u001b[0m\u001b[0;34m\u001b[0m\u001b[0m\n\u001b[1;32m     33\u001b[0m     \u001b[0;32massert\u001b[0m \u001b[0mlen\u001b[0m\u001b[0;34m(\u001b[0m\u001b[0marg\u001b[0m\u001b[0;34m)\u001b[0m \u001b[0;34m==\u001b[0m \u001b[0mn\u001b[0m\u001b[0;34m,\u001b[0m \u001b[0;34m'length mismatch: {}'\u001b[0m\u001b[0;34m.\u001b[0m\u001b[0mformat\u001b[0m\u001b[0;34m(\u001b[0m\u001b[0mlist\u001b[0m\u001b[0;34m(\u001b[0m\u001b[0mmap\u001b[0m\u001b[0;34m(\u001b[0m\u001b[0mlen\u001b[0m\u001b[0;34m,\u001b[0m \u001b[0margs\u001b[0m\u001b[0;34m)\u001b[0m\u001b[0;34m)\u001b[0m\u001b[0;34m)\u001b[0m\u001b[0;34m\u001b[0m\u001b[0;34m\u001b[0m\u001b[0m\n\u001b[0;32m---> 34\u001b[0;31m   \u001b[0;32mreturn\u001b[0m \u001b[0mlist\u001b[0m\u001b[0;34m(\u001b[0m\u001b[0mmap\u001b[0m\u001b[0;34m(\u001b[0m\u001b[0mf\u001b[0m\u001b[0;34m,\u001b[0m \u001b[0;34m*\u001b[0m\u001b[0margs\u001b[0m\u001b[0;34m)\u001b[0m\u001b[0;34m)\u001b[0m\u001b[0;34m\u001b[0m\u001b[0;34m\u001b[0m\u001b[0m\n\u001b[0m\u001b[1;32m     35\u001b[0m \u001b[0;34m\u001b[0m\u001b[0m\n\u001b[1;32m     36\u001b[0m \u001b[0;32mdef\u001b[0m \u001b[0munzip2\u001b[0m\u001b[0;34m(\u001b[0m\u001b[0mxys\u001b[0m\u001b[0;34m)\u001b[0m\u001b[0;34m:\u001b[0m\u001b[0;34m\u001b[0m\u001b[0;34m\u001b[0m\u001b[0m\n",
      "\u001b[0;32m~/.local/lib/python3.8/site-packages/jax/experimental/optimizers.py\u001b[0m in \u001b[0;36mupdate\u001b[0;34m(i, g, state)\u001b[0m\n\u001b[1;32m    372\u001b[0m     \u001b[0mmhat\u001b[0m \u001b[0;34m=\u001b[0m \u001b[0mm\u001b[0m \u001b[0;34m/\u001b[0m \u001b[0;34m(\u001b[0m\u001b[0;36m1\u001b[0m \u001b[0;34m-\u001b[0m \u001b[0mb1\u001b[0m \u001b[0;34m**\u001b[0m \u001b[0;34m(\u001b[0m\u001b[0mi\u001b[0m \u001b[0;34m+\u001b[0m \u001b[0;36m1\u001b[0m\u001b[0;34m)\u001b[0m\u001b[0;34m)\u001b[0m  \u001b[0;31m# Bias correction.\u001b[0m\u001b[0;34m\u001b[0m\u001b[0;34m\u001b[0m\u001b[0m\n\u001b[1;32m    373\u001b[0m     \u001b[0mvhat\u001b[0m \u001b[0;34m=\u001b[0m \u001b[0mv\u001b[0m \u001b[0;34m/\u001b[0m \u001b[0;34m(\u001b[0m\u001b[0;36m1\u001b[0m \u001b[0;34m-\u001b[0m \u001b[0mb2\u001b[0m \u001b[0;34m**\u001b[0m \u001b[0;34m(\u001b[0m\u001b[0mi\u001b[0m \u001b[0;34m+\u001b[0m \u001b[0;36m1\u001b[0m\u001b[0;34m)\u001b[0m\u001b[0;34m)\u001b[0m\u001b[0;34m\u001b[0m\u001b[0;34m\u001b[0m\u001b[0m\n\u001b[0;32m--> 374\u001b[0;31m     \u001b[0mx\u001b[0m \u001b[0;34m=\u001b[0m \u001b[0mx\u001b[0m \u001b[0;34m-\u001b[0m \u001b[0mstep_size\u001b[0m\u001b[0;34m(\u001b[0m\u001b[0mi\u001b[0m\u001b[0;34m)\u001b[0m \u001b[0;34m*\u001b[0m \u001b[0mmhat\u001b[0m \u001b[0;34m/\u001b[0m \u001b[0;34m(\u001b[0m\u001b[0mjnp\u001b[0m\u001b[0;34m.\u001b[0m\u001b[0msqrt\u001b[0m\u001b[0;34m(\u001b[0m\u001b[0mvhat\u001b[0m\u001b[0;34m)\u001b[0m \u001b[0;34m+\u001b[0m \u001b[0meps\u001b[0m\u001b[0;34m)\u001b[0m\u001b[0;34m\u001b[0m\u001b[0;34m\u001b[0m\u001b[0m\n\u001b[0m\u001b[1;32m    375\u001b[0m     \u001b[0;32mreturn\u001b[0m \u001b[0mx\u001b[0m\u001b[0;34m,\u001b[0m \u001b[0mm\u001b[0m\u001b[0;34m,\u001b[0m \u001b[0mv\u001b[0m\u001b[0;34m\u001b[0m\u001b[0;34m\u001b[0m\u001b[0m\n\u001b[1;32m    376\u001b[0m   \u001b[0;32mdef\u001b[0m \u001b[0mget_params\u001b[0m\u001b[0;34m(\u001b[0m\u001b[0mstate\u001b[0m\u001b[0;34m)\u001b[0m\u001b[0;34m:\u001b[0m\u001b[0;34m\u001b[0m\u001b[0;34m\u001b[0m\u001b[0m\n",
      "\u001b[0;32m~/.local/lib/python3.8/site-packages/jax/numpy/lax_numpy.py\u001b[0m in \u001b[0;36mdeferring_binary_op\u001b[0;34m(self, other)\u001b[0m\n\u001b[1;32m   4356\u001b[0m     \u001b[0;32mif\u001b[0m \u001b[0;32mnot\u001b[0m \u001b[0misinstance\u001b[0m\u001b[0;34m(\u001b[0m\u001b[0mother\u001b[0m\u001b[0;34m,\u001b[0m \u001b[0m_scalar_types\u001b[0m \u001b[0;34m+\u001b[0m \u001b[0m_arraylike_types\u001b[0m \u001b[0;34m+\u001b[0m \u001b[0;34m(\u001b[0m\u001b[0mcore\u001b[0m\u001b[0;34m.\u001b[0m\u001b[0mTracer\u001b[0m\u001b[0;34m,\u001b[0m\u001b[0;34m)\u001b[0m\u001b[0;34m)\u001b[0m\u001b[0;34m:\u001b[0m\u001b[0;34m\u001b[0m\u001b[0;34m\u001b[0m\u001b[0m\n\u001b[1;32m   4357\u001b[0m       \u001b[0;32mreturn\u001b[0m \u001b[0mNotImplemented\u001b[0m\u001b[0;34m\u001b[0m\u001b[0;34m\u001b[0m\u001b[0m\n\u001b[0;32m-> 4358\u001b[0;31m     \u001b[0;32mreturn\u001b[0m \u001b[0mbinary_op\u001b[0m\u001b[0;34m(\u001b[0m\u001b[0mself\u001b[0m\u001b[0;34m,\u001b[0m \u001b[0mother\u001b[0m\u001b[0;34m)\u001b[0m\u001b[0;34m\u001b[0m\u001b[0;34m\u001b[0m\u001b[0m\n\u001b[0m\u001b[1;32m   4359\u001b[0m   \u001b[0;32mreturn\u001b[0m \u001b[0mdeferring_binary_op\u001b[0m\u001b[0;34m\u001b[0m\u001b[0;34m\u001b[0m\u001b[0m\n\u001b[1;32m   4360\u001b[0m \u001b[0;34m\u001b[0m\u001b[0m\n",
      "\u001b[0;32m~/.local/lib/python3.8/site-packages/jax/numpy/lax_numpy.py\u001b[0m in \u001b[0;36mfn\u001b[0;34m(x1, x2)\u001b[0m\n\u001b[1;32m    360\u001b[0m \u001b[0;32mdef\u001b[0m \u001b[0m_maybe_bool_binop\u001b[0m\u001b[0;34m(\u001b[0m\u001b[0mnumpy_fn\u001b[0m\u001b[0;34m,\u001b[0m \u001b[0mlax_fn\u001b[0m\u001b[0;34m,\u001b[0m \u001b[0mbool_lax_fn\u001b[0m\u001b[0;34m)\u001b[0m\u001b[0;34m:\u001b[0m\u001b[0;34m\u001b[0m\u001b[0;34m\u001b[0m\u001b[0m\n\u001b[1;32m    361\u001b[0m   \u001b[0;32mdef\u001b[0m \u001b[0mfn\u001b[0m\u001b[0;34m(\u001b[0m\u001b[0mx1\u001b[0m\u001b[0;34m,\u001b[0m \u001b[0mx2\u001b[0m\u001b[0;34m)\u001b[0m\u001b[0;34m:\u001b[0m\u001b[0;34m\u001b[0m\u001b[0;34m\u001b[0m\u001b[0m\n\u001b[0;32m--> 362\u001b[0;31m     \u001b[0mx1\u001b[0m\u001b[0;34m,\u001b[0m \u001b[0mx2\u001b[0m \u001b[0;34m=\u001b[0m \u001b[0m_promote_args\u001b[0m\u001b[0;34m(\u001b[0m\u001b[0mnumpy_fn\u001b[0m\u001b[0;34m.\u001b[0m\u001b[0m__name__\u001b[0m\u001b[0;34m,\u001b[0m \u001b[0mx1\u001b[0m\u001b[0;34m,\u001b[0m \u001b[0mx2\u001b[0m\u001b[0;34m)\u001b[0m\u001b[0;34m\u001b[0m\u001b[0;34m\u001b[0m\u001b[0m\n\u001b[0m\u001b[1;32m    363\u001b[0m     \u001b[0;32mreturn\u001b[0m \u001b[0mlax_fn\u001b[0m\u001b[0;34m(\u001b[0m\u001b[0mx1\u001b[0m\u001b[0;34m,\u001b[0m \u001b[0mx2\u001b[0m\u001b[0;34m)\u001b[0m \u001b[0;32mif\u001b[0m \u001b[0mx1\u001b[0m\u001b[0;34m.\u001b[0m\u001b[0mdtype\u001b[0m \u001b[0;34m!=\u001b[0m \u001b[0mbool_\u001b[0m \u001b[0;32melse\u001b[0m \u001b[0mbool_lax_fn\u001b[0m\u001b[0;34m(\u001b[0m\u001b[0mx1\u001b[0m\u001b[0;34m,\u001b[0m \u001b[0mx2\u001b[0m\u001b[0;34m)\u001b[0m\u001b[0;34m\u001b[0m\u001b[0;34m\u001b[0m\u001b[0m\n\u001b[1;32m    364\u001b[0m   \u001b[0;32mreturn\u001b[0m \u001b[0m_wraps\u001b[0m\u001b[0;34m(\u001b[0m\u001b[0mnumpy_fn\u001b[0m\u001b[0;34m)\u001b[0m\u001b[0;34m(\u001b[0m\u001b[0mfn\u001b[0m\u001b[0;34m)\u001b[0m\u001b[0;34m\u001b[0m\u001b[0;34m\u001b[0m\u001b[0m\n",
      "\u001b[0;32m~/.local/lib/python3.8/site-packages/jax/numpy/lax_numpy.py\u001b[0m in \u001b[0;36m_promote_args\u001b[0;34m(fun_name, *args)\u001b[0m\n\u001b[1;32m    302\u001b[0m   \u001b[0;34m\"\"\"Convenience function to apply Numpy argument shape and dtype promotion.\"\"\"\u001b[0m\u001b[0;34m\u001b[0m\u001b[0;34m\u001b[0m\u001b[0m\n\u001b[1;32m    303\u001b[0m   \u001b[0m_check_arraylike\u001b[0m\u001b[0;34m(\u001b[0m\u001b[0mfun_name\u001b[0m\u001b[0;34m,\u001b[0m \u001b[0;34m*\u001b[0m\u001b[0margs\u001b[0m\u001b[0;34m)\u001b[0m\u001b[0;34m\u001b[0m\u001b[0;34m\u001b[0m\u001b[0m\n\u001b[0;32m--> 304\u001b[0;31m   \u001b[0;32mreturn\u001b[0m \u001b[0m_promote_shapes\u001b[0m\u001b[0;34m(\u001b[0m\u001b[0mfun_name\u001b[0m\u001b[0;34m,\u001b[0m \u001b[0;34m*\u001b[0m\u001b[0m_promote_dtypes\u001b[0m\u001b[0;34m(\u001b[0m\u001b[0;34m*\u001b[0m\u001b[0margs\u001b[0m\u001b[0;34m)\u001b[0m\u001b[0;34m)\u001b[0m\u001b[0;34m\u001b[0m\u001b[0;34m\u001b[0m\u001b[0m\n\u001b[0m\u001b[1;32m    305\u001b[0m \u001b[0;34m\u001b[0m\u001b[0m\n\u001b[1;32m    306\u001b[0m \u001b[0;32mdef\u001b[0m \u001b[0m_promote_args_inexact\u001b[0m\u001b[0;34m(\u001b[0m\u001b[0mfun_name\u001b[0m\u001b[0;34m,\u001b[0m \u001b[0;34m*\u001b[0m\u001b[0margs\u001b[0m\u001b[0;34m)\u001b[0m\u001b[0;34m:\u001b[0m\u001b[0;34m\u001b[0m\u001b[0;34m\u001b[0m\u001b[0m\n",
      "\u001b[0;32m~/.local/lib/python3.8/site-packages/jax/numpy/lax_numpy.py\u001b[0m in \u001b[0;36m_promote_dtypes\u001b[0;34m(*args)\u001b[0m\n\u001b[1;32m    264\u001b[0m     \u001b[0;32mreturn\u001b[0m \u001b[0margs\u001b[0m\u001b[0;34m\u001b[0m\u001b[0;34m\u001b[0m\u001b[0m\n\u001b[1;32m    265\u001b[0m   \u001b[0;32melse\u001b[0m\u001b[0;34m:\u001b[0m\u001b[0;34m\u001b[0m\u001b[0;34m\u001b[0m\u001b[0m\n\u001b[0;32m--> 266\u001b[0;31m     \u001b[0mto_dtype\u001b[0m \u001b[0;34m=\u001b[0m \u001b[0mresult_type\u001b[0m\u001b[0;34m(\u001b[0m\u001b[0;34m*\u001b[0m\u001b[0margs\u001b[0m\u001b[0;34m)\u001b[0m\u001b[0;34m\u001b[0m\u001b[0;34m\u001b[0m\u001b[0m\n\u001b[0m\u001b[1;32m    267\u001b[0m     \u001b[0;32mreturn\u001b[0m \u001b[0;34m[\u001b[0m\u001b[0mlax\u001b[0m\u001b[0;34m.\u001b[0m\u001b[0mconvert_element_type\u001b[0m\u001b[0;34m(\u001b[0m\u001b[0mx\u001b[0m\u001b[0;34m,\u001b[0m \u001b[0mto_dtype\u001b[0m\u001b[0;34m)\u001b[0m \u001b[0;32mfor\u001b[0m \u001b[0mx\u001b[0m \u001b[0;32min\u001b[0m \u001b[0margs\u001b[0m\u001b[0;34m]\u001b[0m\u001b[0;34m\u001b[0m\u001b[0;34m\u001b[0m\u001b[0m\n\u001b[1;32m    268\u001b[0m \u001b[0;34m\u001b[0m\u001b[0m\n",
      "\u001b[0;32m~/.local/lib/python3.8/site-packages/jax/numpy/lax_numpy.py\u001b[0m in \u001b[0;36mresult_type\u001b[0;34m(*args)\u001b[0m\n\u001b[1;32m    340\u001b[0m \u001b[0;34m@\u001b[0m\u001b[0m_wraps\u001b[0m\u001b[0;34m(\u001b[0m\u001b[0mnp\u001b[0m\u001b[0;34m.\u001b[0m\u001b[0mresult_type\u001b[0m\u001b[0;34m)\u001b[0m\u001b[0;34m\u001b[0m\u001b[0;34m\u001b[0m\u001b[0m\n\u001b[1;32m    341\u001b[0m \u001b[0;32mdef\u001b[0m \u001b[0mresult_type\u001b[0m\u001b[0;34m(\u001b[0m\u001b[0;34m*\u001b[0m\u001b[0margs\u001b[0m\u001b[0;34m)\u001b[0m\u001b[0;34m:\u001b[0m\u001b[0;34m\u001b[0m\u001b[0;34m\u001b[0m\u001b[0m\n\u001b[0;32m--> 342\u001b[0;31m   \u001b[0;32mreturn\u001b[0m \u001b[0mdtypes\u001b[0m\u001b[0;34m.\u001b[0m\u001b[0mresult_type\u001b[0m\u001b[0;34m(\u001b[0m\u001b[0;34m*\u001b[0m\u001b[0margs\u001b[0m\u001b[0;34m)\u001b[0m\u001b[0;34m\u001b[0m\u001b[0;34m\u001b[0m\u001b[0m\n\u001b[0m\u001b[1;32m    343\u001b[0m \u001b[0;34m\u001b[0m\u001b[0m\n\u001b[1;32m    344\u001b[0m \u001b[0;32mdef\u001b[0m \u001b[0m_one_to_one_unop\u001b[0m\u001b[0;34m(\u001b[0m\u001b[0mnumpy_fn\u001b[0m\u001b[0;34m,\u001b[0m \u001b[0mlax_fn\u001b[0m\u001b[0;34m,\u001b[0m \u001b[0mpromote_to_inexact\u001b[0m\u001b[0;34m=\u001b[0m\u001b[0;32mFalse\u001b[0m\u001b[0;34m)\u001b[0m\u001b[0;34m:\u001b[0m\u001b[0;34m\u001b[0m\u001b[0;34m\u001b[0m\u001b[0m\n",
      "\u001b[0;32m~/.local/lib/python3.8/site-packages/jax/dtypes.py\u001b[0m in \u001b[0;36mresult_type\u001b[0;34m(*args)\u001b[0m\n\u001b[1;32m    261\u001b[0m     \u001b[0;34m(\u001b[0m\u001b[0mscalars\u001b[0m \u001b[0;32mif\u001b[0m \u001b[0mis_python_scalar\u001b[0m\u001b[0;34m(\u001b[0m\u001b[0mx\u001b[0m\u001b[0;34m)\u001b[0m \u001b[0;32melse\u001b[0m \u001b[0mdtypes\u001b[0m\u001b[0;34m)\u001b[0m\u001b[0;34m.\u001b[0m\u001b[0mappend\u001b[0m\u001b[0;34m(\u001b[0m\u001b[0mdtype\u001b[0m\u001b[0;34m(\u001b[0m\u001b[0mx\u001b[0m\u001b[0;34m)\u001b[0m\u001b[0;34m)\u001b[0m\u001b[0;34m\u001b[0m\u001b[0;34m\u001b[0m\u001b[0m\n\u001b[1;32m    262\u001b[0m   \u001b[0marray_priority\u001b[0m \u001b[0;34m=\u001b[0m \u001b[0mmax\u001b[0m\u001b[0;34m(\u001b[0m\u001b[0mmap\u001b[0m\u001b[0;34m(\u001b[0m\u001b[0m_dtype_priority\u001b[0m\u001b[0;34m,\u001b[0m \u001b[0mdtypes\u001b[0m\u001b[0;34m)\u001b[0m\u001b[0;34m)\u001b[0m \u001b[0;32mif\u001b[0m \u001b[0mdtypes\u001b[0m \u001b[0;32melse\u001b[0m \u001b[0;34m-\u001b[0m\u001b[0;36m1\u001b[0m\u001b[0;34m\u001b[0m\u001b[0;34m\u001b[0m\u001b[0m\n\u001b[0;32m--> 263\u001b[0;31m   \u001b[0mdtypes\u001b[0m \u001b[0;34m+=\u001b[0m \u001b[0;34m[\u001b[0m\u001b[0mx\u001b[0m \u001b[0;32mfor\u001b[0m \u001b[0mx\u001b[0m \u001b[0;32min\u001b[0m \u001b[0mscalars\u001b[0m \u001b[0;32mif\u001b[0m \u001b[0m_dtype_priority\u001b[0m\u001b[0;34m(\u001b[0m\u001b[0mx\u001b[0m\u001b[0;34m)\u001b[0m \u001b[0;34m>\u001b[0m \u001b[0marray_priority\u001b[0m\u001b[0;34m]\u001b[0m\u001b[0;34m\u001b[0m\u001b[0;34m\u001b[0m\u001b[0m\n\u001b[0m\u001b[1;32m    264\u001b[0m   \u001b[0;32mreturn\u001b[0m \u001b[0mcanonicalize_dtype\u001b[0m\u001b[0;34m(\u001b[0m\u001b[0mfunctools\u001b[0m\u001b[0;34m.\u001b[0m\u001b[0mreduce\u001b[0m\u001b[0;34m(\u001b[0m\u001b[0mpromote_types\u001b[0m\u001b[0;34m,\u001b[0m \u001b[0mdtypes\u001b[0m\u001b[0;34m)\u001b[0m\u001b[0;34m)\u001b[0m\u001b[0;34m\u001b[0m\u001b[0;34m\u001b[0m\u001b[0m\n",
      "\u001b[0;32m~/.local/lib/python3.8/site-packages/jax/dtypes.py\u001b[0m in \u001b[0;36m<listcomp>\u001b[0;34m(.0)\u001b[0m\n\u001b[1;32m    261\u001b[0m     \u001b[0;34m(\u001b[0m\u001b[0mscalars\u001b[0m \u001b[0;32mif\u001b[0m \u001b[0mis_python_scalar\u001b[0m\u001b[0;34m(\u001b[0m\u001b[0mx\u001b[0m\u001b[0;34m)\u001b[0m \u001b[0;32melse\u001b[0m \u001b[0mdtypes\u001b[0m\u001b[0;34m)\u001b[0m\u001b[0;34m.\u001b[0m\u001b[0mappend\u001b[0m\u001b[0;34m(\u001b[0m\u001b[0mdtype\u001b[0m\u001b[0;34m(\u001b[0m\u001b[0mx\u001b[0m\u001b[0;34m)\u001b[0m\u001b[0;34m)\u001b[0m\u001b[0;34m\u001b[0m\u001b[0;34m\u001b[0m\u001b[0m\n\u001b[1;32m    262\u001b[0m   \u001b[0marray_priority\u001b[0m \u001b[0;34m=\u001b[0m \u001b[0mmax\u001b[0m\u001b[0;34m(\u001b[0m\u001b[0mmap\u001b[0m\u001b[0;34m(\u001b[0m\u001b[0m_dtype_priority\u001b[0m\u001b[0;34m,\u001b[0m \u001b[0mdtypes\u001b[0m\u001b[0;34m)\u001b[0m\u001b[0;34m)\u001b[0m \u001b[0;32mif\u001b[0m \u001b[0mdtypes\u001b[0m \u001b[0;32melse\u001b[0m \u001b[0;34m-\u001b[0m\u001b[0;36m1\u001b[0m\u001b[0;34m\u001b[0m\u001b[0;34m\u001b[0m\u001b[0m\n\u001b[0;32m--> 263\u001b[0;31m   \u001b[0mdtypes\u001b[0m \u001b[0;34m+=\u001b[0m \u001b[0;34m[\u001b[0m\u001b[0mx\u001b[0m \u001b[0;32mfor\u001b[0m \u001b[0mx\u001b[0m \u001b[0;32min\u001b[0m \u001b[0mscalars\u001b[0m \u001b[0;32mif\u001b[0m \u001b[0m_dtype_priority\u001b[0m\u001b[0;34m(\u001b[0m\u001b[0mx\u001b[0m\u001b[0;34m)\u001b[0m \u001b[0;34m>\u001b[0m \u001b[0marray_priority\u001b[0m\u001b[0;34m]\u001b[0m\u001b[0;34m\u001b[0m\u001b[0;34m\u001b[0m\u001b[0m\n\u001b[0m\u001b[1;32m    264\u001b[0m   \u001b[0;32mreturn\u001b[0m \u001b[0mcanonicalize_dtype\u001b[0m\u001b[0;34m(\u001b[0m\u001b[0mfunctools\u001b[0m\u001b[0;34m.\u001b[0m\u001b[0mreduce\u001b[0m\u001b[0;34m(\u001b[0m\u001b[0mpromote_types\u001b[0m\u001b[0;34m,\u001b[0m \u001b[0mdtypes\u001b[0m\u001b[0;34m)\u001b[0m\u001b[0;34m)\u001b[0m\u001b[0;34m\u001b[0m\u001b[0;34m\u001b[0m\u001b[0m\n",
      "\u001b[0;32m~/.local/lib/python3.8/site-packages/jax/dtypes.py\u001b[0m in \u001b[0;36m_dtype_priority\u001b[0;34m(dtype)\u001b[0m\n\u001b[1;32m    237\u001b[0m   \u001b[0;32mif\u001b[0m \u001b[0missubdtype\u001b[0m\u001b[0;34m(\u001b[0m\u001b[0mdtype\u001b[0m\u001b[0;34m,\u001b[0m \u001b[0mnp\u001b[0m\u001b[0;34m.\u001b[0m\u001b[0mbool_\u001b[0m\u001b[0;34m)\u001b[0m\u001b[0;34m:\u001b[0m\u001b[0;34m\u001b[0m\u001b[0;34m\u001b[0m\u001b[0m\n\u001b[1;32m    238\u001b[0m     \u001b[0;32mreturn\u001b[0m \u001b[0;36m0\u001b[0m\u001b[0;34m\u001b[0m\u001b[0;34m\u001b[0m\u001b[0m\n\u001b[0;32m--> 239\u001b[0;31m   \u001b[0;32melif\u001b[0m \u001b[0missubdtype\u001b[0m\u001b[0;34m(\u001b[0m\u001b[0mdtype\u001b[0m\u001b[0;34m,\u001b[0m \u001b[0mnp\u001b[0m\u001b[0;34m.\u001b[0m\u001b[0minteger\u001b[0m\u001b[0;34m)\u001b[0m\u001b[0;34m:\u001b[0m\u001b[0;34m\u001b[0m\u001b[0;34m\u001b[0m\u001b[0m\n\u001b[0m\u001b[1;32m    240\u001b[0m     \u001b[0;32mreturn\u001b[0m \u001b[0;36m1\u001b[0m\u001b[0;34m\u001b[0m\u001b[0;34m\u001b[0m\u001b[0m\n\u001b[1;32m    241\u001b[0m   \u001b[0;32melif\u001b[0m \u001b[0missubdtype\u001b[0m\u001b[0;34m(\u001b[0m\u001b[0mdtype\u001b[0m\u001b[0;34m,\u001b[0m \u001b[0mnp\u001b[0m\u001b[0;34m.\u001b[0m\u001b[0mfloating\u001b[0m\u001b[0;34m)\u001b[0m\u001b[0;34m:\u001b[0m\u001b[0;34m\u001b[0m\u001b[0;34m\u001b[0m\u001b[0m\n",
      "\u001b[0;32m~/.local/lib/python3.8/site-packages/jax/dtypes.py\u001b[0m in \u001b[0;36missubdtype\u001b[0;34m(a, b)\u001b[0m\n\u001b[1;32m    155\u001b[0m     \u001b[0;31m# explicitly cast the second argument to a NumPy type object.\u001b[0m\u001b[0;34m\u001b[0m\u001b[0;34m\u001b[0m\u001b[0;34m\u001b[0m\u001b[0m\n\u001b[1;32m    156\u001b[0m     \u001b[0mb\u001b[0m \u001b[0;34m=\u001b[0m \u001b[0mnp\u001b[0m\u001b[0;34m.\u001b[0m\u001b[0mdtype\u001b[0m\u001b[0;34m(\u001b[0m\u001b[0mb\u001b[0m\u001b[0;34m)\u001b[0m\u001b[0;34m.\u001b[0m\u001b[0mtype\u001b[0m\u001b[0;34m\u001b[0m\u001b[0;34m\u001b[0m\u001b[0m\n\u001b[0;32m--> 157\u001b[0;31m   \u001b[0;32mreturn\u001b[0m \u001b[0mnp\u001b[0m\u001b[0;34m.\u001b[0m\u001b[0missubdtype\u001b[0m\u001b[0;34m(\u001b[0m\u001b[0ma\u001b[0m\u001b[0;34m,\u001b[0m \u001b[0mb\u001b[0m\u001b[0;34m)\u001b[0m\u001b[0;34m\u001b[0m\u001b[0;34m\u001b[0m\u001b[0m\n\u001b[0m\u001b[1;32m    158\u001b[0m \u001b[0;34m\u001b[0m\u001b[0m\n\u001b[1;32m    159\u001b[0m \u001b[0mcan_cast\u001b[0m \u001b[0;34m=\u001b[0m \u001b[0mnp\u001b[0m\u001b[0;34m.\u001b[0m\u001b[0mcan_cast\u001b[0m\u001b[0;34m\u001b[0m\u001b[0;34m\u001b[0m\u001b[0m\n",
      "\u001b[0;32m~/.local/lib/python3.8/site-packages/numpy/core/numerictypes.py\u001b[0m in \u001b[0;36missubdtype\u001b[0;34m(arg1, arg2)\u001b[0m\n\u001b[1;32m    385\u001b[0m \u001b[0;34m\u001b[0m\u001b[0m\n\u001b[1;32m    386\u001b[0m     \"\"\"\n\u001b[0;32m--> 387\u001b[0;31m     \u001b[0;32mif\u001b[0m \u001b[0;32mnot\u001b[0m \u001b[0missubclass_\u001b[0m\u001b[0;34m(\u001b[0m\u001b[0marg1\u001b[0m\u001b[0;34m,\u001b[0m \u001b[0mgeneric\u001b[0m\u001b[0;34m)\u001b[0m\u001b[0;34m:\u001b[0m\u001b[0;34m\u001b[0m\u001b[0;34m\u001b[0m\u001b[0m\n\u001b[0m\u001b[1;32m    388\u001b[0m         \u001b[0marg1\u001b[0m \u001b[0;34m=\u001b[0m \u001b[0mdtype\u001b[0m\u001b[0;34m(\u001b[0m\u001b[0marg1\u001b[0m\u001b[0;34m)\u001b[0m\u001b[0;34m.\u001b[0m\u001b[0mtype\u001b[0m\u001b[0;34m\u001b[0m\u001b[0;34m\u001b[0m\u001b[0m\n\u001b[1;32m    389\u001b[0m     \u001b[0;32mif\u001b[0m \u001b[0;32mnot\u001b[0m \u001b[0missubclass_\u001b[0m\u001b[0;34m(\u001b[0m\u001b[0marg2\u001b[0m\u001b[0;34m,\u001b[0m \u001b[0mgeneric\u001b[0m\u001b[0;34m)\u001b[0m\u001b[0;34m:\u001b[0m\u001b[0;34m\u001b[0m\u001b[0;34m\u001b[0m\u001b[0m\n",
      "\u001b[0;31mKeyboardInterrupt\u001b[0m: "
     ]
    }
   ],
   "source": [
    "def callback(y_pred, y_true):\n",
    "    \n",
    "    plt.figure(figsize=(10, 8))\n",
    "    #plt.plot(shuffler.undo_shuffle(np.squeeze(y_pred))[100:600], linestyle=\"dotted\")\n",
    "    #plt.plot(shuffler.undo_shuffle(np.squeeze(y_true))[100:600])\n",
    "    plt.plot(y_pred)\n",
    "    plt.plot(y_true)\n",
    "    plt.show()\n",
    "\n",
    "\n",
    "train(params, q, freqs, f, batch_size=2, optimizer=adam, step_size=1e2, epochs=40, callback=None, batch_forward_pass=batch_forward_pass)"
   ]
  },
  {
   "cell_type": "code",
   "execution_count": null,
   "metadata": {},
   "outputs": [],
   "source": []
  },
  {
   "cell_type": "code",
   "execution_count": null,
   "metadata": {},
   "outputs": [],
   "source": []
  }
 ],
 "metadata": {
  "kernelspec": {
   "display_name": "Python 3",
   "language": "python",
   "name": "python3"
  },
  "language_info": {
   "codemirror_mode": {
    "name": "ipython",
    "version": 3
   },
   "file_extension": ".py",
   "mimetype": "text/x-python",
   "name": "python",
   "nbconvert_exporter": "python",
   "pygments_lexer": "ipython3",
   "version": "3.8.2"
  }
 },
 "nbformat": 4,
 "nbformat_minor": 4
}
